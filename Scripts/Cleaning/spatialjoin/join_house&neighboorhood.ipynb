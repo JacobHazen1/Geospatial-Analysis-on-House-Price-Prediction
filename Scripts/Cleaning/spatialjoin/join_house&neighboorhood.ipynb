{
 "metadata": {
  "language_info": {
   "codemirror_mode": {
    "name": "ipython",
    "version": 3
   },
   "file_extension": ".py",
   "mimetype": "text/x-python",
   "name": "python",
   "nbconvert_exporter": "python",
   "pygments_lexer": "ipython3",
   "version": "3.8.5-final"
  },
  "orig_nbformat": 2,
  "kernelspec": {
   "name": "python3",
   "display_name": "Python 3",
   "language": "python"
  }
 },
 "nbformat": 4,
 "nbformat_minor": 2,
 "cells": [
  {
   "cell_type": "code",
   "execution_count": 1,
   "metadata": {},
   "outputs": [],
   "source": [
    "import pandas as pd \n",
    "import geopandas as gp\n"
   ]
  },
  {
   "cell_type": "code",
   "execution_count": 5,
   "metadata": {},
   "outputs": [],
   "source": [
    "def spatialjoin(df, dflat, dflong):\n",
    "    df_nei = gp.read_file('/home/semipro321/Documents/Workspace/Geospatial-Analysis-on-House-Price-Prediction/Inputs/Airbnb/neighbourhoods.geojson')\n",
    "    gdp = gp.GeoDataFrame(df,\n",
    "                           geometry = gp.points_from_xy(dflong, dflat),\n",
    "                            crs=\"EPSG:4326\")\n",
    "    \n",
    "    hjoins = gp.sjoin(gdp, df_nei, how='left',op='within')\n",
    "    return hjoins.drop(columns=['index_right','neighbourhood_group'])"
   ]
  },
  {
   "cell_type": "code",
   "execution_count": 7,
   "metadata": {},
   "outputs": [],
   "source": [
    "df_school = pd.read_csv('/home/semipro321/Documents/Workspace/Geospatial-Analysis-on-House-Price-Prediction/Inputs/School/Schools.csv')\n",
    "df_school.head()\n",
    "\n",
    "df_school_neigh = spatialjoin(df_school, df_school.LATITUDE, df_school.LONGITUDE)"
   ]
  },
  {
   "cell_type": "code",
   "execution_count": 8,
   "metadata": {},
   "outputs": [],
   "source": [
    "df_school_neigh.to_csv('Schools_with_neigh.csv', index=False)"
   ]
  },
  {
   "cell_type": "code",
   "execution_count": 13,
   "metadata": {},
   "outputs": [],
   "source": [
    "df_house = pd.read_csv('/home/semipro321/Documents/Workspace/Geospatial-Analysis-on-House-Price-Prediction/Inputs/House/housev2.csv')\n",
    "\n",
    "df_house_neigh = spatialjoin(df_house, df_house.lat, df_house.long)"
   ]
  },
  {
   "cell_type": "code",
   "execution_count": 14,
   "metadata": {},
   "outputs": [],
   "source": [
    "df_house_neigh.to_csv('house_with_neigh.csv', index=False)"
   ]
  },
  {
   "cell_type": "code",
   "execution_count": 32,
   "metadata": {},
   "outputs": [],
   "source": [
    "df_stop = pd.read_csv('/home/semipro321/Documents/Workspace/Geospatial-Analysis-on-House-Price-Prediction/Inputs/Stops.csv')\n",
    "df_stop.head()\n",
    "\n",
    "df_stop_neigh = spatialjoin(df_stop, df_stop.stop_lat, df_stop.stop_lon)"
   ]
  },
  {
   "cell_type": "code",
   "execution_count": 36,
   "metadata": {},
   "outputs": [],
   "source": [
    "df_stop_neigh.to_csv('Stops_with_neigh.csv', index=False)"
   ]
  },
  {
   "cell_type": "code",
   "execution_count": 38,
   "metadata": {},
   "outputs": [],
   "source": [
    "df_hos = pd.read_csv('/home/semipro321/Documents/Workspace/Geospatial-Analysis-on-House-Price-Prediction/Inputs/Hospitals.csv')\n",
    "df_hos.columns\n",
    "\n",
    "df_hos_neigh = spatialjoin(df_hos, df_hos.Lat, df_hos.Long)"
   ]
  },
  {
   "cell_type": "code",
   "execution_count": 39,
   "metadata": {},
   "outputs": [
    {
     "output_type": "execute_result",
     "data": {
      "text/plain": [
       "(2254, 11)"
      ]
     },
     "metadata": {},
     "execution_count": 39
    }
   ],
   "source": [
    "df_hos.shape"
   ]
  },
  {
   "cell_type": "code",
   "execution_count": 40,
   "metadata": {},
   "outputs": [
    {
     "output_type": "execute_result",
     "data": {
      "text/plain": [
       "(2254, 12)"
      ]
     },
     "metadata": {},
     "execution_count": 40
    }
   ],
   "source": [
    "df_hos_neigh.shape"
   ]
  },
  {
   "cell_type": "code",
   "execution_count": 41,
   "metadata": {},
   "outputs": [],
   "source": [
    "df_hos_neigh.to_csv('Hosptials_with_neigh.csv',index=False)"
   ]
  },
  {
   "cell_type": "code",
   "execution_count": 48,
   "metadata": {},
   "outputs": [],
   "source": [
    "df_crime = pd.read_csv('/home/semipro321/Documents/Workspace/Geospatial-Analysis-on-House-Price-Prediction/Inputs/Crime/crime.csv')\n",
    "df_crime.columns\n",
    "\n",
    "df_crime_neigh = spatialjoin(df_crime, df_crime.Lat, df_crime.Long)"
   ]
  },
  {
   "cell_type": "code",
   "execution_count": 52,
   "metadata": {},
   "outputs": [
    {
     "output_type": "execute_result",
     "data": {
      "text/plain": [
       "(179765, 30)"
      ]
     },
     "metadata": {},
     "execution_count": 52
    }
   ],
   "source": [
    "df_crime.shape"
   ]
  },
  {
   "cell_type": "code",
   "execution_count": 53,
   "metadata": {},
   "outputs": [
    {
     "output_type": "execute_result",
     "data": {
      "text/plain": [
       "(179765, 31)"
      ]
     },
     "metadata": {},
     "execution_count": 53
    }
   ],
   "source": [
    "df_crime_neigh.shape"
   ]
  },
  {
   "cell_type": "code",
   "execution_count": 54,
   "metadata": {},
   "outputs": [],
   "source": [
    "df_crime_neigh.to_csv('crime_with_neigh.csv',index=False)"
   ]
  },
  {
   "cell_type": "code",
   "execution_count": 43,
   "metadata": {},
   "outputs": [
    {
     "output_type": "execute_result",
     "data": {
      "text/plain": [
       "Long                    0\n",
       "Lat                     0\n",
       "OGF_ID                  0\n",
       "ENGLISH_NAME            0\n",
       "ADDRESS_LINE_1          0\n",
       "ADDRESS_LINE_2        685\n",
       "ADDRESS_DESCRIPTOR    571\n",
       "COMMUNITY               0\n",
       "POSTAL_CODE             0\n",
       "OBJECTID                0\n",
       "geometry                0\n",
       "neighbourhood           0\n",
       "dtype: int64"
      ]
     },
     "metadata": {},
     "execution_count": 43
    }
   ],
   "source": [
    "df_hos_neigh.isna().sum()"
   ]
  },
  {
   "cell_type": "code",
   "execution_count": 44,
   "metadata": {},
   "outputs": [
    {
     "output_type": "execute_result",
     "data": {
      "text/plain": [
       "stop_id                  0\n",
       "stop_name                0\n",
       "stop_lat                 0\n",
       "stop_lon                 0\n",
       "zone_id                  0\n",
       "stop_url                 0\n",
       "location_type            0\n",
       "wheelchair_boarding      0\n",
       "geometry                 0\n",
       "neighbourhood          110\n",
       "dtype: int64"
      ]
     },
     "metadata": {},
     "execution_count": 44
    }
   ],
   "source": [
    "df_stop_neigh.isna().sum()\n"
   ]
  },
  {
   "cell_type": "code",
   "execution_count": 45,
   "metadata": {},
   "outputs": [
    {
     "output_type": "execute_result",
     "data": {
      "text/plain": [
       "_id                   0\n",
       "OBJECTID              0\n",
       "GEO_ID                0\n",
       "NAME                  0\n",
       "BOARD_NAME          342\n",
       "SOURCE_ADDRESS        0\n",
       "SCHOOL_TYPE_DESC     16\n",
       "ADDRESS_POINT_ID      0\n",
       "ADDRESS_NUMBER        0\n",
       "LINEAR_NAME_FULL      0\n",
       "ADDRESS_FULL          0\n",
       "POSTAL_CODE           6\n",
       "MUNICIPALITY          0\n",
       "CITY                  0\n",
       "PLACE_NAME          317\n",
       "LATITUDE              0\n",
       "LONGITUDE             0\n",
       "geometry              0\n",
       "neighbourhood         0\n",
       "dtype: int64"
      ]
     },
     "metadata": {},
     "execution_count": 45
    }
   ],
   "source": [
    "df_school_neigh.isna().sum()"
   ]
  },
  {
   "cell_type": "code",
   "execution_count": 55,
   "metadata": {},
   "outputs": [
    {
     "output_type": "execute_result",
     "data": {
      "text/plain": [
       "X                        0\n",
       "Y                        0\n",
       "Index_                   0\n",
       "event_unique_id          0\n",
       "occurrencedate           0\n",
       "reporteddate             0\n",
       "premisetype              0\n",
       "ucr_code                 0\n",
       "ucr_ext                  0\n",
       "offence                  0\n",
       "reportedyear             0\n",
       "reportedmonth            0\n",
       "reportedday              0\n",
       "reporteddayofyear        0\n",
       "reporteddayofweek        0\n",
       "reportedhour             0\n",
       "occurrenceyear           0\n",
       "occurrencemonth          0\n",
       "occurrenceday            0\n",
       "occurrencedayofyear      0\n",
       "occurrencedayofweek      0\n",
       "occurrencehour           0\n",
       "MCI                      0\n",
       "Division                 0\n",
       "Hood_ID                  0\n",
       "Neighbourhood            0\n",
       "Lat                      0\n",
       "Long                     0\n",
       "ObjectId                 0\n",
       "geometry                 0\n",
       "neighbourhood          345\n",
       "dtype: int64"
      ]
     },
     "metadata": {},
     "execution_count": 55
    }
   ],
   "source": [
    "df_crime_neigh.isna().sum()"
   ]
  },
  {
   "cell_type": "code",
   "execution_count": null,
   "metadata": {},
   "outputs": [],
   "source": []
  }
 ]
}