{
 "metadata": {
  "language_info": {
   "codemirror_mode": {
    "name": "ipython",
    "version": 3
   },
   "file_extension": ".py",
   "mimetype": "text/x-python",
   "name": "python",
   "nbconvert_exporter": "python",
   "pygments_lexer": "ipython3",
   "version": "3.8.5-final"
  },
  "orig_nbformat": 2,
  "kernelspec": {
   "name": "python3",
   "display_name": "Python 3",
   "language": "python"
  }
 },
 "nbformat": 4,
 "nbformat_minor": 2,
 "cells": [
  {
   "cell_type": "code",
   "execution_count": 1,
   "metadata": {},
   "outputs": [],
   "source": [
    "import pandas as pd \n",
    "import geopandas as gp\n"
   ]
  },
  {
   "cell_type": "code",
   "execution_count": 2,
   "metadata": {},
   "outputs": [],
   "source": [
    "df_house = pd.read_csv('/home/semipro321/Documents/Workspace/Geospatial-Analysis-on-House-Price-Prediction/Inputs/housev2.csv')"
   ]
  },
  {
   "cell_type": "code",
   "execution_count": 3,
   "metadata": {},
   "outputs": [
    {
     "output_type": "execute_result",
     "data": {
      "text/plain": [
       "(15234, 20)"
      ]
     },
     "metadata": {},
     "execution_count": 3
    }
   ],
   "source": [
    "df_house.shape"
   ]
  },
  {
   "cell_type": "code",
   "execution_count": 4,
   "metadata": {},
   "outputs": [],
   "source": [
    "gdp_house = gp.GeoDataFrame(df_house,\n",
    "                           geometry = gp.points_from_xy(df_house.long,df_house.lat),\n",
    "                            crs=\"EPSG:4326\")"
   ]
  },
  {
   "cell_type": "code",
   "execution_count": 5,
   "metadata": {},
   "outputs": [
    {
     "output_type": "execute_result",
     "data": {
      "text/plain": [
       "         lat       long   sqft  parking  mean_district_income  bedrooms_bg  \\\n",
       "0  43.661896 -79.385748  850.0        1                 56526            1   \n",
       "1  43.646982 -79.530356    NaN        6                 52787            0   \n",
       "2  43.708472 -79.397498  550.0        0                 57039            0   \n",
       "3  43.638399 -79.414448  650.0        1                 70623            1   \n",
       "4  43.597096 -79.509612    NaN        1                 44101            0   \n",
       "\n",
       "   bedrooms_ag  bathrooms  final_price  type_Att/Row/Twnhouse  ...  \\\n",
       "0            2          2       855000                      0  ...   \n",
       "1            3          2       885000                      0  ...   \n",
       "2            1          1       550000                      0  ...   \n",
       "3            1          1       665000                      0  ...   \n",
       "4            2          2       825513                      0  ...   \n",
       "\n",
       "   type_Co-Ownership Apt  type_Comm Element Condo  type_Condo Apt  \\\n",
       "0                      0                        0               1   \n",
       "1                      0                        0               0   \n",
       "2                      0                        0               1   \n",
       "3                      0                        0               1   \n",
       "4                      0                        0               0   \n",
       "\n",
       "   type_Condo Townhouse  type_Detached  type_Link  type_Plex  \\\n",
       "0                     0              0          0          0   \n",
       "1                     0              0          0          0   \n",
       "2                     0              0          0          0   \n",
       "3                     0              0          0          0   \n",
       "4                     0              1          0          0   \n",
       "\n",
       "   type_Semi-Detached  type_Store W/Apt/Offc                    geometry  \n",
       "0                   0                      0  POINT (-79.38575 43.66190)  \n",
       "1                   1                      0  POINT (-79.53036 43.64698)  \n",
       "2                   0                      0  POINT (-79.39750 43.70847)  \n",
       "3                   0                      0  POINT (-79.41445 43.63840)  \n",
       "4                   0                      0  POINT (-79.50961 43.59710)  \n",
       "\n",
       "[5 rows x 21 columns]"
      ],
      "text/html": "<div>\n<style scoped>\n    .dataframe tbody tr th:only-of-type {\n        vertical-align: middle;\n    }\n\n    .dataframe tbody tr th {\n        vertical-align: top;\n    }\n\n    .dataframe thead th {\n        text-align: right;\n    }\n</style>\n<table border=\"1\" class=\"dataframe\">\n  <thead>\n    <tr style=\"text-align: right;\">\n      <th></th>\n      <th>lat</th>\n      <th>long</th>\n      <th>sqft</th>\n      <th>parking</th>\n      <th>mean_district_income</th>\n      <th>bedrooms_bg</th>\n      <th>bedrooms_ag</th>\n      <th>bathrooms</th>\n      <th>final_price</th>\n      <th>type_Att/Row/Twnhouse</th>\n      <th>...</th>\n      <th>type_Co-Ownership Apt</th>\n      <th>type_Comm Element Condo</th>\n      <th>type_Condo Apt</th>\n      <th>type_Condo Townhouse</th>\n      <th>type_Detached</th>\n      <th>type_Link</th>\n      <th>type_Plex</th>\n      <th>type_Semi-Detached</th>\n      <th>type_Store W/Apt/Offc</th>\n      <th>geometry</th>\n    </tr>\n  </thead>\n  <tbody>\n    <tr>\n      <th>0</th>\n      <td>43.661896</td>\n      <td>-79.385748</td>\n      <td>850.0</td>\n      <td>1</td>\n      <td>56526</td>\n      <td>1</td>\n      <td>2</td>\n      <td>2</td>\n      <td>855000</td>\n      <td>0</td>\n      <td>...</td>\n      <td>0</td>\n      <td>0</td>\n      <td>1</td>\n      <td>0</td>\n      <td>0</td>\n      <td>0</td>\n      <td>0</td>\n      <td>0</td>\n      <td>0</td>\n      <td>POINT (-79.38575 43.66190)</td>\n    </tr>\n    <tr>\n      <th>1</th>\n      <td>43.646982</td>\n      <td>-79.530356</td>\n      <td>NaN</td>\n      <td>6</td>\n      <td>52787</td>\n      <td>0</td>\n      <td>3</td>\n      <td>2</td>\n      <td>885000</td>\n      <td>0</td>\n      <td>...</td>\n      <td>0</td>\n      <td>0</td>\n      <td>0</td>\n      <td>0</td>\n      <td>0</td>\n      <td>0</td>\n      <td>0</td>\n      <td>1</td>\n      <td>0</td>\n      <td>POINT (-79.53036 43.64698)</td>\n    </tr>\n    <tr>\n      <th>2</th>\n      <td>43.708472</td>\n      <td>-79.397498</td>\n      <td>550.0</td>\n      <td>0</td>\n      <td>57039</td>\n      <td>0</td>\n      <td>1</td>\n      <td>1</td>\n      <td>550000</td>\n      <td>0</td>\n      <td>...</td>\n      <td>0</td>\n      <td>0</td>\n      <td>1</td>\n      <td>0</td>\n      <td>0</td>\n      <td>0</td>\n      <td>0</td>\n      <td>0</td>\n      <td>0</td>\n      <td>POINT (-79.39750 43.70847)</td>\n    </tr>\n    <tr>\n      <th>3</th>\n      <td>43.638399</td>\n      <td>-79.414448</td>\n      <td>650.0</td>\n      <td>1</td>\n      <td>70623</td>\n      <td>1</td>\n      <td>1</td>\n      <td>1</td>\n      <td>665000</td>\n      <td>0</td>\n      <td>...</td>\n      <td>0</td>\n      <td>0</td>\n      <td>1</td>\n      <td>0</td>\n      <td>0</td>\n      <td>0</td>\n      <td>0</td>\n      <td>0</td>\n      <td>0</td>\n      <td>POINT (-79.41445 43.63840)</td>\n    </tr>\n    <tr>\n      <th>4</th>\n      <td>43.597096</td>\n      <td>-79.509612</td>\n      <td>NaN</td>\n      <td>1</td>\n      <td>44101</td>\n      <td>0</td>\n      <td>2</td>\n      <td>2</td>\n      <td>825513</td>\n      <td>0</td>\n      <td>...</td>\n      <td>0</td>\n      <td>0</td>\n      <td>0</td>\n      <td>0</td>\n      <td>1</td>\n      <td>0</td>\n      <td>0</td>\n      <td>0</td>\n      <td>0</td>\n      <td>POINT (-79.50961 43.59710)</td>\n    </tr>\n  </tbody>\n</table>\n<p>5 rows × 21 columns</p>\n</div>"
     },
     "metadata": {},
     "execution_count": 5
    }
   ],
   "source": [
    "gdp_house.head()"
   ]
  },
  {
   "cell_type": "code",
   "execution_count": 6,
   "metadata": {},
   "outputs": [],
   "source": []
  },
  {
   "cell_type": "code",
   "execution_count": 7,
   "metadata": {},
   "outputs": [],
   "source": [
    "hjoins = gp.sjoin(gdp_house, df_nei, how='right',op='within')"
   ]
  },
  {
   "cell_type": "code",
   "execution_count": 8,
   "metadata": {},
   "outputs": [
    {
     "output_type": "execute_result",
     "data": {
      "text/plain": [
       "   index_left        lat       long    sqft  parking  mean_district_income  \\\n",
       "0        6922  43.753182 -79.507053     NaN        4                 29958   \n",
       "0        7643  43.753090 -79.491536  1300.0        1                 29958   \n",
       "0        5373  43.753090 -79.491536  1300.0        3                 29958   \n",
       "0       13300  43.753177 -79.490821   950.0        1                 29958   \n",
       "0        5767  43.753177 -79.490821   650.0        1                 29958   \n",
       "\n",
       "   bedrooms_bg  bedrooms_ag  bathrooms  final_price  ...  type_Condo Apt  \\\n",
       "0            1            3          2       930000  ...               0   \n",
       "0            0            3          3       413000  ...               0   \n",
       "0            1            3          2       400000  ...               0   \n",
       "0            0            2          1       343000  ...               1   \n",
       "0            0            1          1       318000  ...               1   \n",
       "\n",
       "   type_Condo Townhouse  type_Detached  type_Link  type_Plex  \\\n",
       "0                     0              1          0          0   \n",
       "0                     1              0          0          0   \n",
       "0                     1              0          0          0   \n",
       "0                     0              0          0          0   \n",
       "0                     0              0          0          0   \n",
       "\n",
       "   type_Semi-Detached  type_Store W/Apt/Offc            neighbourhood  \\\n",
       "0                   0                      0  York University Heights   \n",
       "0                   0                      0  York University Heights   \n",
       "0                   0                      0  York University Heights   \n",
       "0                   0                      0  York University Heights   \n",
       "0                   0                      0  York University Heights   \n",
       "\n",
       "   neighbourhood_group                                           geometry  \n",
       "0                 None  MULTIPOLYGON (((-79.50529 43.75987, -79.50488 ...  \n",
       "0                 None  MULTIPOLYGON (((-79.50529 43.75987, -79.50488 ...  \n",
       "0                 None  MULTIPOLYGON (((-79.50529 43.75987, -79.50488 ...  \n",
       "0                 None  MULTIPOLYGON (((-79.50529 43.75987, -79.50488 ...  \n",
       "0                 None  MULTIPOLYGON (((-79.50529 43.75987, -79.50488 ...  \n",
       "\n",
       "[5 rows x 24 columns]"
      ],
      "text/html": "<div>\n<style scoped>\n    .dataframe tbody tr th:only-of-type {\n        vertical-align: middle;\n    }\n\n    .dataframe tbody tr th {\n        vertical-align: top;\n    }\n\n    .dataframe thead th {\n        text-align: right;\n    }\n</style>\n<table border=\"1\" class=\"dataframe\">\n  <thead>\n    <tr style=\"text-align: right;\">\n      <th></th>\n      <th>index_left</th>\n      <th>lat</th>\n      <th>long</th>\n      <th>sqft</th>\n      <th>parking</th>\n      <th>mean_district_income</th>\n      <th>bedrooms_bg</th>\n      <th>bedrooms_ag</th>\n      <th>bathrooms</th>\n      <th>final_price</th>\n      <th>...</th>\n      <th>type_Condo Apt</th>\n      <th>type_Condo Townhouse</th>\n      <th>type_Detached</th>\n      <th>type_Link</th>\n      <th>type_Plex</th>\n      <th>type_Semi-Detached</th>\n      <th>type_Store W/Apt/Offc</th>\n      <th>neighbourhood</th>\n      <th>neighbourhood_group</th>\n      <th>geometry</th>\n    </tr>\n  </thead>\n  <tbody>\n    <tr>\n      <th>0</th>\n      <td>6922</td>\n      <td>43.753182</td>\n      <td>-79.507053</td>\n      <td>NaN</td>\n      <td>4</td>\n      <td>29958</td>\n      <td>1</td>\n      <td>3</td>\n      <td>2</td>\n      <td>930000</td>\n      <td>...</td>\n      <td>0</td>\n      <td>0</td>\n      <td>1</td>\n      <td>0</td>\n      <td>0</td>\n      <td>0</td>\n      <td>0</td>\n      <td>York University Heights</td>\n      <td>None</td>\n      <td>MULTIPOLYGON (((-79.50529 43.75987, -79.50488 ...</td>\n    </tr>\n    <tr>\n      <th>0</th>\n      <td>7643</td>\n      <td>43.753090</td>\n      <td>-79.491536</td>\n      <td>1300.0</td>\n      <td>1</td>\n      <td>29958</td>\n      <td>0</td>\n      <td>3</td>\n      <td>3</td>\n      <td>413000</td>\n      <td>...</td>\n      <td>0</td>\n      <td>1</td>\n      <td>0</td>\n      <td>0</td>\n      <td>0</td>\n      <td>0</td>\n      <td>0</td>\n      <td>York University Heights</td>\n      <td>None</td>\n      <td>MULTIPOLYGON (((-79.50529 43.75987, -79.50488 ...</td>\n    </tr>\n    <tr>\n      <th>0</th>\n      <td>5373</td>\n      <td>43.753090</td>\n      <td>-79.491536</td>\n      <td>1300.0</td>\n      <td>3</td>\n      <td>29958</td>\n      <td>1</td>\n      <td>3</td>\n      <td>2</td>\n      <td>400000</td>\n      <td>...</td>\n      <td>0</td>\n      <td>1</td>\n      <td>0</td>\n      <td>0</td>\n      <td>0</td>\n      <td>0</td>\n      <td>0</td>\n      <td>York University Heights</td>\n      <td>None</td>\n      <td>MULTIPOLYGON (((-79.50529 43.75987, -79.50488 ...</td>\n    </tr>\n    <tr>\n      <th>0</th>\n      <td>13300</td>\n      <td>43.753177</td>\n      <td>-79.490821</td>\n      <td>950.0</td>\n      <td>1</td>\n      <td>29958</td>\n      <td>0</td>\n      <td>2</td>\n      <td>1</td>\n      <td>343000</td>\n      <td>...</td>\n      <td>1</td>\n      <td>0</td>\n      <td>0</td>\n      <td>0</td>\n      <td>0</td>\n      <td>0</td>\n      <td>0</td>\n      <td>York University Heights</td>\n      <td>None</td>\n      <td>MULTIPOLYGON (((-79.50529 43.75987, -79.50488 ...</td>\n    </tr>\n    <tr>\n      <th>0</th>\n      <td>5767</td>\n      <td>43.753177</td>\n      <td>-79.490821</td>\n      <td>650.0</td>\n      <td>1</td>\n      <td>29958</td>\n      <td>0</td>\n      <td>1</td>\n      <td>1</td>\n      <td>318000</td>\n      <td>...</td>\n      <td>1</td>\n      <td>0</td>\n      <td>0</td>\n      <td>0</td>\n      <td>0</td>\n      <td>0</td>\n      <td>0</td>\n      <td>York University Heights</td>\n      <td>None</td>\n      <td>MULTIPOLYGON (((-79.50529 43.75987, -79.50488 ...</td>\n    </tr>\n  </tbody>\n</table>\n<p>5 rows × 24 columns</p>\n</div>"
     },
     "metadata": {},
     "execution_count": 8
    }
   ],
   "source": [
    "hjoins.head()"
   ]
  },
  {
   "cell_type": "code",
   "execution_count": 9,
   "metadata": {},
   "outputs": [],
   "source": [
    "hjoins.drop(columns=['index_left','neighbourhood_group'], inplace=True)"
   ]
  },
  {
   "cell_type": "code",
   "execution_count": 25,
   "metadata": {},
   "outputs": [],
   "source": [
    "def spatialjoin(df, dflat, dflong):\n",
    "    df_nei = gp.read_file('/home/semipro321/Documents/Workspace/Geospatial-Analysis-on-House-Price-Prediction/Inputs/Airbnb/neighbourhoods.geojson')\n",
    "    gdp = gp.GeoDataFrame(df,\n",
    "                           geometry = gp.points_from_xy(dflong, dflat),\n",
    "                            crs=\"EPSG:4326\")\n",
    "    \n",
    "    hjoins = gp.sjoin(gdp, df_nei, how='left',op='within')\n",
    "    return hjoins.drop(columns=['index_right','neighbourhood_group'])"
   ]
  },
  {
   "cell_type": "code",
   "execution_count": 26,
   "metadata": {},
   "outputs": [],
   "source": [
    "df_school = pd.read_csv('/home/semipro321/Documents/Workspace/Geospatial-Analysis-on-House-Price-Prediction/Inputs/Schools.csv')\n",
    "df_school.head()\n",
    "\n",
    "df_school_neigh = spatialjoin(df_school, df_school.LATITUDE, df_school.LONGITUDE)"
   ]
  },
  {
   "cell_type": "code",
   "execution_count": 28,
   "metadata": {},
   "outputs": [],
   "source": [
    "df_school_neigh.to_csv('Schools_with_neigh.csv', index=False)"
   ]
  },
  {
   "cell_type": "code",
   "execution_count": 32,
   "metadata": {},
   "outputs": [],
   "source": [
    "df_stop = pd.read_csv('/home/semipro321/Documents/Workspace/Geospatial-Analysis-on-House-Price-Prediction/Inputs/Stops.csv')\n",
    "df_stop.head()\n",
    "\n",
    "df_stop_neigh = spatialjoin(df_stop, df_stop.stop_lat, df_stop.stop_lon)"
   ]
  },
  {
   "cell_type": "code",
   "execution_count": 36,
   "metadata": {},
   "outputs": [],
   "source": [
    "df_stop_neigh.to_csv('Stops_with_neigh.csv', index=False)"
   ]
  },
  {
   "cell_type": "code",
   "execution_count": 38,
   "metadata": {},
   "outputs": [],
   "source": [
    "df_hos = pd.read_csv('/home/semipro321/Documents/Workspace/Geospatial-Analysis-on-House-Price-Prediction/Inputs/Hospitals.csv')\n",
    "df_hos.columns\n",
    "\n",
    "df_hos_neigh = spatialjoin(df_hos, df_hos.Lat, df_hos.Long)"
   ]
  },
  {
   "cell_type": "code",
   "execution_count": 39,
   "metadata": {},
   "outputs": [
    {
     "output_type": "execute_result",
     "data": {
      "text/plain": [
       "(2254, 11)"
      ]
     },
     "metadata": {},
     "execution_count": 39
    }
   ],
   "source": [
    "df_hos.shape"
   ]
  },
  {
   "cell_type": "code",
   "execution_count": 40,
   "metadata": {},
   "outputs": [
    {
     "output_type": "execute_result",
     "data": {
      "text/plain": [
       "(2254, 12)"
      ]
     },
     "metadata": {},
     "execution_count": 40
    }
   ],
   "source": [
    "df_hos_neigh.shape"
   ]
  },
  {
   "cell_type": "code",
   "execution_count": 41,
   "metadata": {},
   "outputs": [],
   "source": [
    "df_hos_neigh.to_csv('Hosptials_with_neigh.csv',index=False)"
   ]
  },
  {
   "cell_type": "code",
   "execution_count": 48,
   "metadata": {},
   "outputs": [],
   "source": [
    "df_crime = pd.read_csv('/home/semipro321/Documents/Workspace/Geospatial-Analysis-on-House-Price-Prediction/Inputs/Crime/crime.csv')\n",
    "df_crime.columns\n",
    "\n",
    "df_crime_neigh = spatialjoin(df_crime, df_crime.Lat, df_crime.Long)"
   ]
  },
  {
   "cell_type": "code",
   "execution_count": 52,
   "metadata": {},
   "outputs": [
    {
     "output_type": "execute_result",
     "data": {
      "text/plain": [
       "(179765, 30)"
      ]
     },
     "metadata": {},
     "execution_count": 52
    }
   ],
   "source": [
    "df_crime.shape"
   ]
  },
  {
   "cell_type": "code",
   "execution_count": 53,
   "metadata": {},
   "outputs": [
    {
     "output_type": "execute_result",
     "data": {
      "text/plain": [
       "(179765, 31)"
      ]
     },
     "metadata": {},
     "execution_count": 53
    }
   ],
   "source": [
    "df_crime_neigh.shape"
   ]
  },
  {
   "cell_type": "code",
   "execution_count": 54,
   "metadata": {},
   "outputs": [],
   "source": [
    "df_crime_neigh.to_csv('crime_with_neigh.csv',index=False)"
   ]
  },
  {
   "cell_type": "code",
   "execution_count": 43,
   "metadata": {},
   "outputs": [
    {
     "output_type": "execute_result",
     "data": {
      "text/plain": [
       "Long                    0\n",
       "Lat                     0\n",
       "OGF_ID                  0\n",
       "ENGLISH_NAME            0\n",
       "ADDRESS_LINE_1          0\n",
       "ADDRESS_LINE_2        685\n",
       "ADDRESS_DESCRIPTOR    571\n",
       "COMMUNITY               0\n",
       "POSTAL_CODE             0\n",
       "OBJECTID                0\n",
       "geometry                0\n",
       "neighbourhood           0\n",
       "dtype: int64"
      ]
     },
     "metadata": {},
     "execution_count": 43
    }
   ],
   "source": [
    "df_hos_neigh.isna().sum()"
   ]
  },
  {
   "cell_type": "code",
   "execution_count": 44,
   "metadata": {},
   "outputs": [
    {
     "output_type": "execute_result",
     "data": {
      "text/plain": [
       "stop_id                  0\n",
       "stop_name                0\n",
       "stop_lat                 0\n",
       "stop_lon                 0\n",
       "zone_id                  0\n",
       "stop_url                 0\n",
       "location_type            0\n",
       "wheelchair_boarding      0\n",
       "geometry                 0\n",
       "neighbourhood          110\n",
       "dtype: int64"
      ]
     },
     "metadata": {},
     "execution_count": 44
    }
   ],
   "source": [
    "df_stop_neigh.isna().sum()\n"
   ]
  },
  {
   "cell_type": "code",
   "execution_count": 45,
   "metadata": {},
   "outputs": [
    {
     "output_type": "execute_result",
     "data": {
      "text/plain": [
       "_id                   0\n",
       "OBJECTID              0\n",
       "GEO_ID                0\n",
       "NAME                  0\n",
       "BOARD_NAME          342\n",
       "SOURCE_ADDRESS        0\n",
       "SCHOOL_TYPE_DESC     16\n",
       "ADDRESS_POINT_ID      0\n",
       "ADDRESS_NUMBER        0\n",
       "LINEAR_NAME_FULL      0\n",
       "ADDRESS_FULL          0\n",
       "POSTAL_CODE           6\n",
       "MUNICIPALITY          0\n",
       "CITY                  0\n",
       "PLACE_NAME          317\n",
       "LATITUDE              0\n",
       "LONGITUDE             0\n",
       "geometry              0\n",
       "neighbourhood         0\n",
       "dtype: int64"
      ]
     },
     "metadata": {},
     "execution_count": 45
    }
   ],
   "source": [
    "df_school_neigh.isna().sum()"
   ]
  },
  {
   "cell_type": "code",
   "execution_count": 55,
   "metadata": {},
   "outputs": [
    {
     "output_type": "execute_result",
     "data": {
      "text/plain": [
       "X                        0\n",
       "Y                        0\n",
       "Index_                   0\n",
       "event_unique_id          0\n",
       "occurrencedate           0\n",
       "reporteddate             0\n",
       "premisetype              0\n",
       "ucr_code                 0\n",
       "ucr_ext                  0\n",
       "offence                  0\n",
       "reportedyear             0\n",
       "reportedmonth            0\n",
       "reportedday              0\n",
       "reporteddayofyear        0\n",
       "reporteddayofweek        0\n",
       "reportedhour             0\n",
       "occurrenceyear           0\n",
       "occurrencemonth          0\n",
       "occurrenceday            0\n",
       "occurrencedayofyear      0\n",
       "occurrencedayofweek      0\n",
       "occurrencehour           0\n",
       "MCI                      0\n",
       "Division                 0\n",
       "Hood_ID                  0\n",
       "Neighbourhood            0\n",
       "Lat                      0\n",
       "Long                     0\n",
       "ObjectId                 0\n",
       "geometry                 0\n",
       "neighbourhood          345\n",
       "dtype: int64"
      ]
     },
     "metadata": {},
     "execution_count": 55
    }
   ],
   "source": [
    "df_crime_neigh.isna().sum()"
   ]
  },
  {
   "cell_type": "code",
   "execution_count": null,
   "metadata": {},
   "outputs": [],
   "source": []
  }
 ]
}