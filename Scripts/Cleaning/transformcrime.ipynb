{
 "metadata": {
  "language_info": {
   "codemirror_mode": {
    "name": "ipython",
    "version": 3
   },
   "file_extension": ".py",
   "mimetype": "text/x-python",
   "name": "python",
   "nbconvert_exporter": "python",
   "pygments_lexer": "ipython3",
   "version": 3
  },
  "orig_nbformat": 2
 },
 "nbformat": 4,
 "nbformat_minor": 2,
 "cells": [
  {
   "cell_type": "code",
   "execution_count": null,
   "metadata": {},
   "outputs": [],
   "source": [
    "df_crime = pd.read_csv(path + 'Crime/crime_with_neigh.csv')\n",
    "df_crime['MCI'] = df_crime['MCI'].astype('category')\n",
    "df_crime[\"datetime\"] = pd.to_datetime(df_crime[\"occurrencedate\"])\n",
    "crime_col = ['event_unique_id', 'datetime', 'MCI', 'Lat', 'Long']\n",
    "df_crime2 =  df_crime[crime_col]\n",
    "df_crime2 = pd.get_dummies(df_crime2, prefix='Category_', columns= ['MCI'])\n",
    "df_crime2.to_csv('crime_transformed_030521.csv', index=False)"
   ]
  }
 ]
}