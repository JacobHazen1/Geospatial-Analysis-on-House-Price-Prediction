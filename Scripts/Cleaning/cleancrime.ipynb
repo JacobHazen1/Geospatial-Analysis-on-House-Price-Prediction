{
 "metadata": {
  "language_info": {
   "codemirror_mode": {
    "name": "ipython",
    "version": 3
   },
   "file_extension": ".py",
   "mimetype": "text/x-python",
   "name": "python",
   "nbconvert_exporter": "python",
   "pygments_lexer": "ipython3",
   "version": "3.8.5-final"
  },
  "orig_nbformat": 2,
  "kernelspec": {
   "name": "python38564bitdataenvconda53f1babb020347299e77ec3ee808749a",
   "display_name": "Python 3.8.5 64-bit ('dataenv': conda)",
   "language": "python"
  }
 },
 "nbformat": 4,
 "nbformat_minor": 2,
 "cells": [
  {
   "source": [
    "# Jacob Notes\n",
    "\n",
    "- For the major crime indicators:\n",
    "    - Give weight to the types of crimes happening in the area\n",
    "\n",
    "Check list:  \n",
    "- Remove duplicates (On event unique id)\n",
    "- Remove dates not needed\n",
    "- Remove Uneccessary info\n",
    "- MCI -> label encode\n",
    "- Offense\n",
    "\n",
    "Data:  \n",
    "- Dates -> look at previous years -> create a column for 2017 2018 2019\n",
    "- PCI maybe?    "
   ],
   "cell_type": "markdown",
   "metadata": {}
  },
  {
   "source": [
    "# Data Information - TPS Crime Statistics - Major Crime Indicators\n",
    "\n",
    "In this datasets it contains:\n",
    "\n",
    "- **Incident:** An incident is the set of connected events which usually constitute an\n",
    "    occurrence report.\n",
    "- **Occurrence:** A written document that reflects an occurrence, unusual problem, incident, deviation from standard practice, or situation that requires follow-up action.\n",
    "- **Offence:** A violation against the Criminal Code of Canada or other federal statute, provincial act, or municipal by-law. Offences are counted in the year they are reported to police rather than the year the offence occurred. Please note that this map shows the number of offences and some occurrences may have multiple offences.\n",
    "- **Violent Crime**: Involve the use or threatened use of violence against a person, including homicide, attempted murder, nonsexual assault, sexual assault, abduction and robbery. Robbery is considered a violent crime because, unlike other theft offences, it involves the use or threat of violence. These are counted by the number of victims.\n",
    "- **Property Crime**: Includes unlawful acts committed for the purpose of attaining or interfering with the use of property, but does not involve the use or threat of violence against an individual. Property crime includes actual and attempted motor vehicle theft, other theft, actual and attempted break and enters, possession of stolen property, mischief and fraud etc. These are counted by the number of occurrences.\n",
    "- **Assault**: The direct or indirect application of force to another person, or the attempt or threat to apply force to another person, without that person’s consent.\n",
    "- **Auto Theft**: The act of taking another person's vehicle (not including attempts). Auto Theft figures represent the number of vehicles stolen.\n",
    "- **Break and Enter**: The act of entering a place with the intent to commit an indictable offence therein.\n",
    "- **Homicide/Murder Occurrence**: The homicide category includes the offences of First Degree Murder, Second Degree Murder, and Manslaughter. A homicide occurs when a person directly or indirectly, by any means, causes the death of another human being. Deaths caused by criminal negligence, suicide, or accidental or justifiable homicide (i.e self-defence) are not included. Homicide data is compiled based on the Homicide Squad Case List Log. Count is based on offence (i.e each deceased victim) Victim: Any deceased person where the offence of First or Second Degree Murder or Manslaughter was committed. Type: Homicides are categorized into three types:\n",
    "    - **Stabbing**: Where the cause of death was as a result of an edged weapon (such as a knife or other blade).\n",
    "    - **Shooting**: Where the cause of death was as a result of being shot with a firearm.\n",
    "    - **Other**: Where the cause of death was as a result of other methods such as blunt force trauma or strangulation.\n",
    "- **Robbery**: The act of taking property from another person or business by the use of force or intimidation in the presence of the victim.\n",
    "- **Sexual Violation**: A wide range of offences fall under the Sexual Assault category, including sexual assault (s. 271), sexual assault with a weapon, threats to a third party or causing bodily harm (s. 272), aggravated sexual assault (s. 273), administering drugs for sex (s. 212), indecent assault (s. 141, 149, 148, 156) sexual interference (s. 151), invitation to sexual touching (s. 152), and sexual exploitation (s. 153). It refers to any type of sexual activity that is not consented to. Behaviours may range in severity from gestures, verbal assaults and attempts, to forced penetration, disfigurement and endangerment of life. More so than with any other type of crime, sexual assaults (including child abuse) are often reported to police long after the incident has taken place, if they are reported at all.\n",
    "- **Shooting/Firearm Discharge**\n",
    "    - **Shooting Event/Occurrence**: Any incident in which a projectile is discharged from a firearm (as defined under the Criminal Code of Canada) and injures a person. This excludes events such as suicide and police involved firearm discharges.\n",
    "    - **Firearm Discharge**: Any incident where evidence exists that a projectile was discharged from a firearm (as defined under the Criminal Code of Canada) including accidental discharge (non-police), celebratory fire, drive-by etc.\n",
    "    - **Persons Injured** (previously classified as “victims”): A person who was struck by a bullet(s) as a result of the discharge of a firearm (as defined under the Criminal Code of Canada). This excludes events such as suicide, police-involved event or where the weapon used was not a real firearm (such as pellet gun, air pistol, “sim-munition” etc.)\n",
    "    - **Injury Levels**\n",
    "        - **Death**: Where the injured person (as defined above) has died as a result of injuries sustained from a bullet(s).\n",
    "        - **Injuries:** Where the injured person (as defined above) has nonfatal physical injuries as a result of a bullet(s).\n",
    "- **Theft Over**: The act of stealing property in excess of $5,000 (excluding auto theft).\n",
    "\n",
    "# Meta\n",
    "\n",
    "| Fields | Field_Description | ObjectId |\n",
    "| --- | --- | --- |\n",
    "| Index | Record Unique Identifier | 1   |\n",
    "| event\\_unique\\_id | Event Unique Identifier | 2   |\n",
    "| occurrencedate | Date of occurrence | 3   |\n",
    "| reporteddate | Date occurrence was reported | 4   |\n",
    "| premisetype | Premise where occurrence took place | 5   |\n",
    "| ucr_code | URC Code | 6   |\n",
    "| ucr_ext | URC Code Extension | 7   |\n",
    "| offence | Offence related to the occurrence | 8   |\n",
    "| reportedyear | Year occurrence was reported | 9   |\n",
    "| reportedmonth | Month occurrence was reported | 10  |\n",
    "| reportedday | Day occurrence was reported | 11  |\n",
    "| reporteddayofyear | Day of week occurrence was reported | 12  |\n",
    "| reporteddayofweek | Day of year Occurrence was reported | 13  |\n",
    "| reportedhour | Hour occurrence was reported | 14  |\n",
    "| occurrenceyear | Occurrence year | 15  |\n",
    "| occurrencemonth | Occurrence month | 16  |\n",
    "| occurrenceday | Occurrence day | 17  |\n",
    "| occurrencedayofyear | Occurrence day of year | 18  |\n",
    "| occurrencedayofweek | Occurrence day of week | 19  |\n",
    "| occurrencehour | Occurrence hour | 20  |\n",
    "| MCI | Major Crime Indicator related to the offence | 21  |\n",
    "| Division | Division where event occurred | 22  |\n",
    "| Hood_ID | Neighbourhood Name | 23  |\n",
    "| Neighbourhood | Neighbourhood Identificator | 24  |\n",
    "| Long | Longitude of point extracted after offsetting X and & Coordinates to nearest intersection node | 25  |\n",
    "| Lat | Latitude of point extracted after offsetting X and & Coordinates to nearest intersection node | 26  |"
   ],
   "cell_type": "markdown",
   "metadata": {}
  },
  {
   "cell_type": "code",
   "execution_count": 1,
   "metadata": {},
   "outputs": [],
   "source": [
    "import pandas as pd\n",
    "import os\n",
    "\n",
    "os.chdir('../../Inputs')\n",
    "pathfile = 'MCI_2014_to_2019.csv'\n",
    "pd.set_option('display.max_columns', None)"
   ]
  },
  {
   "cell_type": "code",
   "execution_count": 2,
   "metadata": {},
   "outputs": [
    {
     "output_type": "execute_result",
     "data": {
      "text/plain": [
       "               X             Y  Index_ event_unique_id  \\\n",
       "0  -8.840549e+06  5.431712e+06     201  GO-20141301077   \n",
       "1  -8.840549e+06  5.431712e+06     202  GO-20141301077   \n",
       "2  -8.840549e+06  5.431712e+06     203  GO-20141301077   \n",
       "3  -8.840549e+06  5.431712e+06     204  GO-20141301077   \n",
       "4  -8.839881e+06  5.413806e+06     205  GO-20141300854   \n",
       "5  -8.853350e+06  5.410832e+06     206  GO-20141310106   \n",
       "6  -8.845669e+06  5.413515e+06     207  GO-20141351494   \n",
       "7  -8.836652e+06  5.412521e+06     208  GO-20141351916   \n",
       "8  -8.818062e+06  5.425964e+06     209  GO-20141356006   \n",
       "9  -8.856467e+06  5.426614e+06     210  GO-20141356758   \n",
       "10 -8.832088e+06  5.415539e+06     211  GO-20141366233   \n",
       "11 -8.835094e+06  5.412842e+06     212  GO-20141367443   \n",
       "12 -8.831198e+06  5.416283e+06     213  GO-20141369117   \n",
       "13 -8.831198e+06  5.416283e+06     214  GO-20141369117   \n",
       "14 -8.832534e+06  5.420285e+06     215  GO-20141396823   \n",
       "15 -8.824073e+06  5.436743e+06     216  GO-20141404789   \n",
       "16 -8.828192e+06  5.415905e+06     217  GO-20141483732   \n",
       "17 -8.839769e+06  5.412396e+06     218  GO-20141292722   \n",
       "18 -8.850790e+06  5.412890e+06     219  GO-20141293358   \n",
       "19 -8.830419e+06  5.421005e+06     220  GO-20141339440   \n",
       "\n",
       "            occurrencedate            reporteddate premisetype  ucr_code  \\\n",
       "0   2014/01/07 05:00:00+00  2014/01/07 05:00:00+00       Other      1420   \n",
       "1   2014/01/07 05:00:00+00  2014/01/07 05:00:00+00       Other      1420   \n",
       "2   2014/01/07 05:00:00+00  2014/01/07 05:00:00+00       Other      1420   \n",
       "3   2014/01/07 05:00:00+00  2014/01/07 05:00:00+00       Other      1420   \n",
       "4   2014/01/07 05:00:00+00  2014/01/07 05:00:00+00  Commercial      2120   \n",
       "5   2014/01/09 05:00:00+00  2014/01/09 05:00:00+00   Apartment      2120   \n",
       "6   2014/01/16 05:00:00+00  2014/01/16 05:00:00+00   Apartment      1430   \n",
       "7   2014/01/16 05:00:00+00  2014/01/16 05:00:00+00  Commercial      1430   \n",
       "8   2014/01/16 05:00:00+00  2014/01/16 05:00:00+00   Apartment      2120   \n",
       "9   2014/01/16 05:00:00+00  2014/01/16 05:00:00+00  Commercial      1610   \n",
       "10  2014/01/18 05:00:00+00  2014/01/18 05:00:00+00   Apartment      1430   \n",
       "11  2014/01/18 05:00:00+00  2014/01/18 05:00:00+00       House      1430   \n",
       "12  2014/01/18 05:00:00+00  2014/01/18 05:00:00+00  Commercial      1420   \n",
       "13  2014/01/18 05:00:00+00  2014/01/18 05:00:00+00  Commercial      1420   \n",
       "14  2014/01/23 05:00:00+00  2014/01/23 05:00:00+00  Commercial      1480   \n",
       "15  2014/01/24 05:00:00+00  2014/01/24 05:00:00+00     Outside      1610   \n",
       "16  2014/02/07 05:00:00+00  2014/02/07 05:00:00+00       House      1430   \n",
       "17  2014/01/06 05:00:00+00  2014/01/06 05:00:00+00       Other      1610   \n",
       "18  2014/01/06 05:00:00+00  2014/01/06 05:00:00+00       House      2120   \n",
       "19  2014/01/14 05:00:00+00  2014/01/14 05:00:00+00       House      2120   \n",
       "\n",
       "    ucr_ext                         offence  reportedyear reportedmonth  \\\n",
       "0       100             Assault With Weapon          2014       January   \n",
       "1       100             Assault With Weapon          2014       January   \n",
       "2       100             Assault With Weapon          2014       January   \n",
       "3       100             Assault With Weapon          2014       January   \n",
       "4       200                             B&E          2014       January   \n",
       "5       200                             B&E          2014       January   \n",
       "6       100                         Assault          2014       January   \n",
       "7       100                         Assault          2014       January   \n",
       "8       200                             B&E          2014       January   \n",
       "9       210              Robbery - Business          2014       January   \n",
       "10      100                         Assault          2014       January   \n",
       "11      100                         Assault          2014       January   \n",
       "12      100             Assault With Weapon          2014       January   \n",
       "13      100             Assault With Weapon          2014       January   \n",
       "14      100  Assault - Resist/ Prevent Seiz          2014       January   \n",
       "15      100             Robbery With Weapon          2014       January   \n",
       "16      100                         Assault          2014      February   \n",
       "17      220                 Robbery - Other          2014       January   \n",
       "18      200                             B&E          2014       January   \n",
       "19      200                             B&E          2014       January   \n",
       "\n",
       "    reportedday  reporteddayofyear reporteddayofweek  reportedhour  \\\n",
       "0             7                  7        Tuesday               22   \n",
       "1             7                  7        Tuesday               22   \n",
       "2             7                  7        Tuesday               22   \n",
       "3             7                  7        Tuesday               22   \n",
       "4             7                  7        Tuesday               21   \n",
       "5             9                  9        Thursday              11   \n",
       "6            16                 16        Thursday               0   \n",
       "7            16                 16        Thursday               2   \n",
       "8            16                 16        Thursday              17   \n",
       "9            16                 16        Thursday              19   \n",
       "10           18                 18        Saturday              10   \n",
       "11           18                 18        Saturday              14   \n",
       "12           18                 18        Saturday              19   \n",
       "13           18                 18        Saturday              19   \n",
       "14           23                 23        Thursday              14   \n",
       "15           24                 24        Friday                20   \n",
       "16            7                 38        Friday                 3   \n",
       "17            6                  6        Monday                16   \n",
       "18            6                  6        Monday                17   \n",
       "19           14                 14        Tuesday                2   \n",
       "\n",
       "    occurrenceyear occurrencemonth  occurrenceday  occurrencedayofyear  \\\n",
       "0           2014.0         January            7.0                  7.0   \n",
       "1           2014.0         January            7.0                  7.0   \n",
       "2           2014.0         January            7.0                  7.0   \n",
       "3           2014.0         January            7.0                  7.0   \n",
       "4           2014.0         January            7.0                  7.0   \n",
       "5           2014.0         January            9.0                  9.0   \n",
       "6           2014.0         January           16.0                 16.0   \n",
       "7           2014.0         January           16.0                 16.0   \n",
       "8           2014.0         January           16.0                 16.0   \n",
       "9           2014.0         January           16.0                 16.0   \n",
       "10          2014.0         January           18.0                 18.0   \n",
       "11          2014.0         January           18.0                 18.0   \n",
       "12          2014.0         January           18.0                 18.0   \n",
       "13          2014.0         January           18.0                 18.0   \n",
       "14          2014.0         January           23.0                 23.0   \n",
       "15          2014.0         January           24.0                 24.0   \n",
       "16          2014.0        February            7.0                 38.0   \n",
       "17          2014.0         January            6.0                  6.0   \n",
       "18          2014.0         January            6.0                  6.0   \n",
       "19          2014.0         January           14.0                 14.0   \n",
       "\n",
       "   occurrencedayofweek  occurrencehour              MCI Division  Hood_ID  \\\n",
       "0           Tuesday                 22          Assault      D32       36   \n",
       "1           Tuesday                 22          Assault      D32       36   \n",
       "2           Tuesday                 22          Assault      D32       36   \n",
       "3           Tuesday                 22          Assault      D32       36   \n",
       "4           Tuesday                 21  Break and Enter      D14       79   \n",
       "5           Thursday                11  Break and Enter      D22       14   \n",
       "6           Thursday                 0          Assault      D11       90   \n",
       "7           Thursday                 2          Assault      D52       76   \n",
       "8           Thursday                17  Break and Enter      D43      139   \n",
       "9           Thursday                19          Robbery      D31       21   \n",
       "10          Saturday                10          Assault      D55       69   \n",
       "11          Saturday                 3          Assault      D51       73   \n",
       "12          Saturday                18          Assault      D54       66   \n",
       "13          Saturday                18          Assault      D54       66   \n",
       "14          Thursday                14          Assault      D53       55   \n",
       "15          Friday                  20          Robbery      D42      129   \n",
       "16          Friday                   3          Assault      D55       62   \n",
       "17          Monday                  15          Robbery      D14       80   \n",
       "18          Monday                   7  Break and Enter      D22       15   \n",
       "19          Tuesday                  2  Break and Enter      D54       44   \n",
       "\n",
       "                      Neighbourhood        Lat    Long  ObjectId  \n",
       "0             Newtonbrook West (36)  43.781639 -79.416         1  \n",
       "1             Newtonbrook West (36)  43.781639 -79.416         2  \n",
       "2             Newtonbrook West (36)  43.781639 -79.416         3  \n",
       "3             Newtonbrook West (36)  43.781639 -79.416         4  \n",
       "4                   University (79)  43.665390 -79.410         5  \n",
       "5   Islington-City Centre West (14)  43.646061 -79.531         6  \n",
       "6                Junction Area (90)  43.663498 -79.462         7  \n",
       "7          Bay Street Corridor (76)  43.657040 -79.381         8  \n",
       "8         Scarborough Village (139)  43.744343 -79.214         9  \n",
       "9                Humber Summit (21)  43.748562 -79.559        10  \n",
       "10                 Blake-Jones (69)  43.676651 -79.340        11  \n",
       "11                   Moss Park (73)  43.659126 -79.367        12  \n",
       "12                    Danforth (66)  43.681484 -79.332        13  \n",
       "13                    Danforth (66)  43.681484 -79.332        14  \n",
       "14            Thorncliffe Park (55)  43.707478 -79.344        15  \n",
       "15            Agincourt North (129)  43.814259 -79.268        16  \n",
       "16           East End-Danforth (62)  43.679028 -79.305        17  \n",
       "17     Palmerston-Little Italy (80)  43.656231 -79.409        18  \n",
       "18              Kingsway South (15)  43.659439 -79.508        19  \n",
       "19             Flemingdon Park (44)  43.712154 -79.325        20  "
      ],
      "text/html": "<div>\n<style scoped>\n    .dataframe tbody tr th:only-of-type {\n        vertical-align: middle;\n    }\n\n    .dataframe tbody tr th {\n        vertical-align: top;\n    }\n\n    .dataframe thead th {\n        text-align: right;\n    }\n</style>\n<table border=\"1\" class=\"dataframe\">\n  <thead>\n    <tr style=\"text-align: right;\">\n      <th></th>\n      <th>X</th>\n      <th>Y</th>\n      <th>Index_</th>\n      <th>event_unique_id</th>\n      <th>occurrencedate</th>\n      <th>reporteddate</th>\n      <th>premisetype</th>\n      <th>ucr_code</th>\n      <th>ucr_ext</th>\n      <th>offence</th>\n      <th>reportedyear</th>\n      <th>reportedmonth</th>\n      <th>reportedday</th>\n      <th>reporteddayofyear</th>\n      <th>reporteddayofweek</th>\n      <th>reportedhour</th>\n      <th>occurrenceyear</th>\n      <th>occurrencemonth</th>\n      <th>occurrenceday</th>\n      <th>occurrencedayofyear</th>\n      <th>occurrencedayofweek</th>\n      <th>occurrencehour</th>\n      <th>MCI</th>\n      <th>Division</th>\n      <th>Hood_ID</th>\n      <th>Neighbourhood</th>\n      <th>Lat</th>\n      <th>Long</th>\n      <th>ObjectId</th>\n    </tr>\n  </thead>\n  <tbody>\n    <tr>\n      <th>0</th>\n      <td>-8.840549e+06</td>\n      <td>5.431712e+06</td>\n      <td>201</td>\n      <td>GO-20141301077</td>\n      <td>2014/01/07 05:00:00+00</td>\n      <td>2014/01/07 05:00:00+00</td>\n      <td>Other</td>\n      <td>1420</td>\n      <td>100</td>\n      <td>Assault With Weapon</td>\n      <td>2014</td>\n      <td>January</td>\n      <td>7</td>\n      <td>7</td>\n      <td>Tuesday</td>\n      <td>22</td>\n      <td>2014.0</td>\n      <td>January</td>\n      <td>7.0</td>\n      <td>7.0</td>\n      <td>Tuesday</td>\n      <td>22</td>\n      <td>Assault</td>\n      <td>D32</td>\n      <td>36</td>\n      <td>Newtonbrook West (36)</td>\n      <td>43.781639</td>\n      <td>-79.416</td>\n      <td>1</td>\n    </tr>\n    <tr>\n      <th>1</th>\n      <td>-8.840549e+06</td>\n      <td>5.431712e+06</td>\n      <td>202</td>\n      <td>GO-20141301077</td>\n      <td>2014/01/07 05:00:00+00</td>\n      <td>2014/01/07 05:00:00+00</td>\n      <td>Other</td>\n      <td>1420</td>\n      <td>100</td>\n      <td>Assault With Weapon</td>\n      <td>2014</td>\n      <td>January</td>\n      <td>7</td>\n      <td>7</td>\n      <td>Tuesday</td>\n      <td>22</td>\n      <td>2014.0</td>\n      <td>January</td>\n      <td>7.0</td>\n      <td>7.0</td>\n      <td>Tuesday</td>\n      <td>22</td>\n      <td>Assault</td>\n      <td>D32</td>\n      <td>36</td>\n      <td>Newtonbrook West (36)</td>\n      <td>43.781639</td>\n      <td>-79.416</td>\n      <td>2</td>\n    </tr>\n    <tr>\n      <th>2</th>\n      <td>-8.840549e+06</td>\n      <td>5.431712e+06</td>\n      <td>203</td>\n      <td>GO-20141301077</td>\n      <td>2014/01/07 05:00:00+00</td>\n      <td>2014/01/07 05:00:00+00</td>\n      <td>Other</td>\n      <td>1420</td>\n      <td>100</td>\n      <td>Assault With Weapon</td>\n      <td>2014</td>\n      <td>January</td>\n      <td>7</td>\n      <td>7</td>\n      <td>Tuesday</td>\n      <td>22</td>\n      <td>2014.0</td>\n      <td>January</td>\n      <td>7.0</td>\n      <td>7.0</td>\n      <td>Tuesday</td>\n      <td>22</td>\n      <td>Assault</td>\n      <td>D32</td>\n      <td>36</td>\n      <td>Newtonbrook West (36)</td>\n      <td>43.781639</td>\n      <td>-79.416</td>\n      <td>3</td>\n    </tr>\n    <tr>\n      <th>3</th>\n      <td>-8.840549e+06</td>\n      <td>5.431712e+06</td>\n      <td>204</td>\n      <td>GO-20141301077</td>\n      <td>2014/01/07 05:00:00+00</td>\n      <td>2014/01/07 05:00:00+00</td>\n      <td>Other</td>\n      <td>1420</td>\n      <td>100</td>\n      <td>Assault With Weapon</td>\n      <td>2014</td>\n      <td>January</td>\n      <td>7</td>\n      <td>7</td>\n      <td>Tuesday</td>\n      <td>22</td>\n      <td>2014.0</td>\n      <td>January</td>\n      <td>7.0</td>\n      <td>7.0</td>\n      <td>Tuesday</td>\n      <td>22</td>\n      <td>Assault</td>\n      <td>D32</td>\n      <td>36</td>\n      <td>Newtonbrook West (36)</td>\n      <td>43.781639</td>\n      <td>-79.416</td>\n      <td>4</td>\n    </tr>\n    <tr>\n      <th>4</th>\n      <td>-8.839881e+06</td>\n      <td>5.413806e+06</td>\n      <td>205</td>\n      <td>GO-20141300854</td>\n      <td>2014/01/07 05:00:00+00</td>\n      <td>2014/01/07 05:00:00+00</td>\n      <td>Commercial</td>\n      <td>2120</td>\n      <td>200</td>\n      <td>B&amp;E</td>\n      <td>2014</td>\n      <td>January</td>\n      <td>7</td>\n      <td>7</td>\n      <td>Tuesday</td>\n      <td>21</td>\n      <td>2014.0</td>\n      <td>January</td>\n      <td>7.0</td>\n      <td>7.0</td>\n      <td>Tuesday</td>\n      <td>21</td>\n      <td>Break and Enter</td>\n      <td>D14</td>\n      <td>79</td>\n      <td>University (79)</td>\n      <td>43.665390</td>\n      <td>-79.410</td>\n      <td>5</td>\n    </tr>\n    <tr>\n      <th>5</th>\n      <td>-8.853350e+06</td>\n      <td>5.410832e+06</td>\n      <td>206</td>\n      <td>GO-20141310106</td>\n      <td>2014/01/09 05:00:00+00</td>\n      <td>2014/01/09 05:00:00+00</td>\n      <td>Apartment</td>\n      <td>2120</td>\n      <td>200</td>\n      <td>B&amp;E</td>\n      <td>2014</td>\n      <td>January</td>\n      <td>9</td>\n      <td>9</td>\n      <td>Thursday</td>\n      <td>11</td>\n      <td>2014.0</td>\n      <td>January</td>\n      <td>9.0</td>\n      <td>9.0</td>\n      <td>Thursday</td>\n      <td>11</td>\n      <td>Break and Enter</td>\n      <td>D22</td>\n      <td>14</td>\n      <td>Islington-City Centre West (14)</td>\n      <td>43.646061</td>\n      <td>-79.531</td>\n      <td>6</td>\n    </tr>\n    <tr>\n      <th>6</th>\n      <td>-8.845669e+06</td>\n      <td>5.413515e+06</td>\n      <td>207</td>\n      <td>GO-20141351494</td>\n      <td>2014/01/16 05:00:00+00</td>\n      <td>2014/01/16 05:00:00+00</td>\n      <td>Apartment</td>\n      <td>1430</td>\n      <td>100</td>\n      <td>Assault</td>\n      <td>2014</td>\n      <td>January</td>\n      <td>16</td>\n      <td>16</td>\n      <td>Thursday</td>\n      <td>0</td>\n      <td>2014.0</td>\n      <td>January</td>\n      <td>16.0</td>\n      <td>16.0</td>\n      <td>Thursday</td>\n      <td>0</td>\n      <td>Assault</td>\n      <td>D11</td>\n      <td>90</td>\n      <td>Junction Area (90)</td>\n      <td>43.663498</td>\n      <td>-79.462</td>\n      <td>7</td>\n    </tr>\n    <tr>\n      <th>7</th>\n      <td>-8.836652e+06</td>\n      <td>5.412521e+06</td>\n      <td>208</td>\n      <td>GO-20141351916</td>\n      <td>2014/01/16 05:00:00+00</td>\n      <td>2014/01/16 05:00:00+00</td>\n      <td>Commercial</td>\n      <td>1430</td>\n      <td>100</td>\n      <td>Assault</td>\n      <td>2014</td>\n      <td>January</td>\n      <td>16</td>\n      <td>16</td>\n      <td>Thursday</td>\n      <td>2</td>\n      <td>2014.0</td>\n      <td>January</td>\n      <td>16.0</td>\n      <td>16.0</td>\n      <td>Thursday</td>\n      <td>2</td>\n      <td>Assault</td>\n      <td>D52</td>\n      <td>76</td>\n      <td>Bay Street Corridor (76)</td>\n      <td>43.657040</td>\n      <td>-79.381</td>\n      <td>8</td>\n    </tr>\n    <tr>\n      <th>8</th>\n      <td>-8.818062e+06</td>\n      <td>5.425964e+06</td>\n      <td>209</td>\n      <td>GO-20141356006</td>\n      <td>2014/01/16 05:00:00+00</td>\n      <td>2014/01/16 05:00:00+00</td>\n      <td>Apartment</td>\n      <td>2120</td>\n      <td>200</td>\n      <td>B&amp;E</td>\n      <td>2014</td>\n      <td>January</td>\n      <td>16</td>\n      <td>16</td>\n      <td>Thursday</td>\n      <td>17</td>\n      <td>2014.0</td>\n      <td>January</td>\n      <td>16.0</td>\n      <td>16.0</td>\n      <td>Thursday</td>\n      <td>17</td>\n      <td>Break and Enter</td>\n      <td>D43</td>\n      <td>139</td>\n      <td>Scarborough Village (139)</td>\n      <td>43.744343</td>\n      <td>-79.214</td>\n      <td>9</td>\n    </tr>\n    <tr>\n      <th>9</th>\n      <td>-8.856467e+06</td>\n      <td>5.426614e+06</td>\n      <td>210</td>\n      <td>GO-20141356758</td>\n      <td>2014/01/16 05:00:00+00</td>\n      <td>2014/01/16 05:00:00+00</td>\n      <td>Commercial</td>\n      <td>1610</td>\n      <td>210</td>\n      <td>Robbery - Business</td>\n      <td>2014</td>\n      <td>January</td>\n      <td>16</td>\n      <td>16</td>\n      <td>Thursday</td>\n      <td>19</td>\n      <td>2014.0</td>\n      <td>January</td>\n      <td>16.0</td>\n      <td>16.0</td>\n      <td>Thursday</td>\n      <td>19</td>\n      <td>Robbery</td>\n      <td>D31</td>\n      <td>21</td>\n      <td>Humber Summit (21)</td>\n      <td>43.748562</td>\n      <td>-79.559</td>\n      <td>10</td>\n    </tr>\n    <tr>\n      <th>10</th>\n      <td>-8.832088e+06</td>\n      <td>5.415539e+06</td>\n      <td>211</td>\n      <td>GO-20141366233</td>\n      <td>2014/01/18 05:00:00+00</td>\n      <td>2014/01/18 05:00:00+00</td>\n      <td>Apartment</td>\n      <td>1430</td>\n      <td>100</td>\n      <td>Assault</td>\n      <td>2014</td>\n      <td>January</td>\n      <td>18</td>\n      <td>18</td>\n      <td>Saturday</td>\n      <td>10</td>\n      <td>2014.0</td>\n      <td>January</td>\n      <td>18.0</td>\n      <td>18.0</td>\n      <td>Saturday</td>\n      <td>10</td>\n      <td>Assault</td>\n      <td>D55</td>\n      <td>69</td>\n      <td>Blake-Jones (69)</td>\n      <td>43.676651</td>\n      <td>-79.340</td>\n      <td>11</td>\n    </tr>\n    <tr>\n      <th>11</th>\n      <td>-8.835094e+06</td>\n      <td>5.412842e+06</td>\n      <td>212</td>\n      <td>GO-20141367443</td>\n      <td>2014/01/18 05:00:00+00</td>\n      <td>2014/01/18 05:00:00+00</td>\n      <td>House</td>\n      <td>1430</td>\n      <td>100</td>\n      <td>Assault</td>\n      <td>2014</td>\n      <td>January</td>\n      <td>18</td>\n      <td>18</td>\n      <td>Saturday</td>\n      <td>14</td>\n      <td>2014.0</td>\n      <td>January</td>\n      <td>18.0</td>\n      <td>18.0</td>\n      <td>Saturday</td>\n      <td>3</td>\n      <td>Assault</td>\n      <td>D51</td>\n      <td>73</td>\n      <td>Moss Park (73)</td>\n      <td>43.659126</td>\n      <td>-79.367</td>\n      <td>12</td>\n    </tr>\n    <tr>\n      <th>12</th>\n      <td>-8.831198e+06</td>\n      <td>5.416283e+06</td>\n      <td>213</td>\n      <td>GO-20141369117</td>\n      <td>2014/01/18 05:00:00+00</td>\n      <td>2014/01/18 05:00:00+00</td>\n      <td>Commercial</td>\n      <td>1420</td>\n      <td>100</td>\n      <td>Assault With Weapon</td>\n      <td>2014</td>\n      <td>January</td>\n      <td>18</td>\n      <td>18</td>\n      <td>Saturday</td>\n      <td>19</td>\n      <td>2014.0</td>\n      <td>January</td>\n      <td>18.0</td>\n      <td>18.0</td>\n      <td>Saturday</td>\n      <td>18</td>\n      <td>Assault</td>\n      <td>D54</td>\n      <td>66</td>\n      <td>Danforth (66)</td>\n      <td>43.681484</td>\n      <td>-79.332</td>\n      <td>13</td>\n    </tr>\n    <tr>\n      <th>13</th>\n      <td>-8.831198e+06</td>\n      <td>5.416283e+06</td>\n      <td>214</td>\n      <td>GO-20141369117</td>\n      <td>2014/01/18 05:00:00+00</td>\n      <td>2014/01/18 05:00:00+00</td>\n      <td>Commercial</td>\n      <td>1420</td>\n      <td>100</td>\n      <td>Assault With Weapon</td>\n      <td>2014</td>\n      <td>January</td>\n      <td>18</td>\n      <td>18</td>\n      <td>Saturday</td>\n      <td>19</td>\n      <td>2014.0</td>\n      <td>January</td>\n      <td>18.0</td>\n      <td>18.0</td>\n      <td>Saturday</td>\n      <td>18</td>\n      <td>Assault</td>\n      <td>D54</td>\n      <td>66</td>\n      <td>Danforth (66)</td>\n      <td>43.681484</td>\n      <td>-79.332</td>\n      <td>14</td>\n    </tr>\n    <tr>\n      <th>14</th>\n      <td>-8.832534e+06</td>\n      <td>5.420285e+06</td>\n      <td>215</td>\n      <td>GO-20141396823</td>\n      <td>2014/01/23 05:00:00+00</td>\n      <td>2014/01/23 05:00:00+00</td>\n      <td>Commercial</td>\n      <td>1480</td>\n      <td>100</td>\n      <td>Assault - Resist/ Prevent Seiz</td>\n      <td>2014</td>\n      <td>January</td>\n      <td>23</td>\n      <td>23</td>\n      <td>Thursday</td>\n      <td>14</td>\n      <td>2014.0</td>\n      <td>January</td>\n      <td>23.0</td>\n      <td>23.0</td>\n      <td>Thursday</td>\n      <td>14</td>\n      <td>Assault</td>\n      <td>D53</td>\n      <td>55</td>\n      <td>Thorncliffe Park (55)</td>\n      <td>43.707478</td>\n      <td>-79.344</td>\n      <td>15</td>\n    </tr>\n    <tr>\n      <th>15</th>\n      <td>-8.824073e+06</td>\n      <td>5.436743e+06</td>\n      <td>216</td>\n      <td>GO-20141404789</td>\n      <td>2014/01/24 05:00:00+00</td>\n      <td>2014/01/24 05:00:00+00</td>\n      <td>Outside</td>\n      <td>1610</td>\n      <td>100</td>\n      <td>Robbery With Weapon</td>\n      <td>2014</td>\n      <td>January</td>\n      <td>24</td>\n      <td>24</td>\n      <td>Friday</td>\n      <td>20</td>\n      <td>2014.0</td>\n      <td>January</td>\n      <td>24.0</td>\n      <td>24.0</td>\n      <td>Friday</td>\n      <td>20</td>\n      <td>Robbery</td>\n      <td>D42</td>\n      <td>129</td>\n      <td>Agincourt North (129)</td>\n      <td>43.814259</td>\n      <td>-79.268</td>\n      <td>16</td>\n    </tr>\n    <tr>\n      <th>16</th>\n      <td>-8.828192e+06</td>\n      <td>5.415905e+06</td>\n      <td>217</td>\n      <td>GO-20141483732</td>\n      <td>2014/02/07 05:00:00+00</td>\n      <td>2014/02/07 05:00:00+00</td>\n      <td>House</td>\n      <td>1430</td>\n      <td>100</td>\n      <td>Assault</td>\n      <td>2014</td>\n      <td>February</td>\n      <td>7</td>\n      <td>38</td>\n      <td>Friday</td>\n      <td>3</td>\n      <td>2014.0</td>\n      <td>February</td>\n      <td>7.0</td>\n      <td>38.0</td>\n      <td>Friday</td>\n      <td>3</td>\n      <td>Assault</td>\n      <td>D55</td>\n      <td>62</td>\n      <td>East End-Danforth (62)</td>\n      <td>43.679028</td>\n      <td>-79.305</td>\n      <td>17</td>\n    </tr>\n    <tr>\n      <th>17</th>\n      <td>-8.839769e+06</td>\n      <td>5.412396e+06</td>\n      <td>218</td>\n      <td>GO-20141292722</td>\n      <td>2014/01/06 05:00:00+00</td>\n      <td>2014/01/06 05:00:00+00</td>\n      <td>Other</td>\n      <td>1610</td>\n      <td>220</td>\n      <td>Robbery - Other</td>\n      <td>2014</td>\n      <td>January</td>\n      <td>6</td>\n      <td>6</td>\n      <td>Monday</td>\n      <td>16</td>\n      <td>2014.0</td>\n      <td>January</td>\n      <td>6.0</td>\n      <td>6.0</td>\n      <td>Monday</td>\n      <td>15</td>\n      <td>Robbery</td>\n      <td>D14</td>\n      <td>80</td>\n      <td>Palmerston-Little Italy (80)</td>\n      <td>43.656231</td>\n      <td>-79.409</td>\n      <td>18</td>\n    </tr>\n    <tr>\n      <th>18</th>\n      <td>-8.850790e+06</td>\n      <td>5.412890e+06</td>\n      <td>219</td>\n      <td>GO-20141293358</td>\n      <td>2014/01/06 05:00:00+00</td>\n      <td>2014/01/06 05:00:00+00</td>\n      <td>House</td>\n      <td>2120</td>\n      <td>200</td>\n      <td>B&amp;E</td>\n      <td>2014</td>\n      <td>January</td>\n      <td>6</td>\n      <td>6</td>\n      <td>Monday</td>\n      <td>17</td>\n      <td>2014.0</td>\n      <td>January</td>\n      <td>6.0</td>\n      <td>6.0</td>\n      <td>Monday</td>\n      <td>7</td>\n      <td>Break and Enter</td>\n      <td>D22</td>\n      <td>15</td>\n      <td>Kingsway South (15)</td>\n      <td>43.659439</td>\n      <td>-79.508</td>\n      <td>19</td>\n    </tr>\n    <tr>\n      <th>19</th>\n      <td>-8.830419e+06</td>\n      <td>5.421005e+06</td>\n      <td>220</td>\n      <td>GO-20141339440</td>\n      <td>2014/01/14 05:00:00+00</td>\n      <td>2014/01/14 05:00:00+00</td>\n      <td>House</td>\n      <td>2120</td>\n      <td>200</td>\n      <td>B&amp;E</td>\n      <td>2014</td>\n      <td>January</td>\n      <td>14</td>\n      <td>14</td>\n      <td>Tuesday</td>\n      <td>2</td>\n      <td>2014.0</td>\n      <td>January</td>\n      <td>14.0</td>\n      <td>14.0</td>\n      <td>Tuesday</td>\n      <td>2</td>\n      <td>Break and Enter</td>\n      <td>D54</td>\n      <td>44</td>\n      <td>Flemingdon Park (44)</td>\n      <td>43.712154</td>\n      <td>-79.325</td>\n      <td>20</td>\n    </tr>\n  </tbody>\n</table>\n</div>"
     },
     "metadata": {},
     "execution_count": 2
    }
   ],
   "source": [
    "crime_df = pd.read_csv(pathfile)\n",
    "crime_df.head(20)"
   ]
  },
  {
   "source": [
    "**Note**: Duplicates i.e 0-3"
   ],
   "cell_type": "markdown",
   "metadata": {}
  },
  {
   "cell_type": "code",
   "execution_count": 3,
   "metadata": {},
   "outputs": [
    {
     "output_type": "stream",
     "name": "stdout",
     "text": [
      "<class 'pandas.core.frame.DataFrame'>\nRangeIndex: 206435 entries, 0 to 206434\nData columns (total 29 columns):\n #   Column               Non-Null Count   Dtype  \n---  ------               --------------   -----  \n 0   X                    206435 non-null  float64\n 1   Y                    206435 non-null  float64\n 2   Index_               206435 non-null  int64  \n 3   event_unique_id      206435 non-null  object \n 4   occurrencedate       206435 non-null  object \n 5   reporteddate         206435 non-null  object \n 6   premisetype          206435 non-null  object \n 7   ucr_code             206435 non-null  int64  \n 8   ucr_ext              206435 non-null  int64  \n 9   offence              206435 non-null  object \n 10  reportedyear         206435 non-null  int64  \n 11  reportedmonth        206435 non-null  object \n 12  reportedday          206435 non-null  int64  \n 13  reporteddayofyear    206435 non-null  int64  \n 14  reporteddayofweek    206435 non-null  object \n 15  reportedhour         206435 non-null  int64  \n 16  occurrenceyear       206376 non-null  float64\n 17  occurrencemonth      206376 non-null  object \n 18  occurrenceday        206376 non-null  float64\n 19  occurrencedayofyear  206376 non-null  float64\n 20  occurrencedayofweek  206376 non-null  object \n 21  occurrencehour       206435 non-null  int64  \n 22  MCI                  206435 non-null  object \n 23  Division             206435 non-null  object \n 24  Hood_ID              206435 non-null  int64  \n 25  Neighbourhood        206435 non-null  object \n 26  Lat                  206435 non-null  float64\n 27  Long                 206435 non-null  float64\n 28  ObjectId             206435 non-null  int64  \ndtypes: float64(7), int64(10), object(12)\nmemory usage: 45.7+ MB\n"
     ]
    },
    {
     "output_type": "execute_result",
     "data": {
      "text/plain": [
       "(206435, 29)"
      ]
     },
     "metadata": {},
     "execution_count": 3
    }
   ],
   "source": [
    "crime_df.info();\n",
    "crime_df.shape"
   ]
  },
  {
   "source": [
    "Check occurence"
   ],
   "cell_type": "markdown",
   "metadata": {}
  },
  {
   "cell_type": "code",
   "execution_count": 8,
   "metadata": {},
   "outputs": [
    {
     "output_type": "execute_result",
     "data": {
      "text/plain": [
       "X                      0\n",
       "Y                      0\n",
       "Index_                 0\n",
       "event_unique_id        0\n",
       "occurrencedate         0\n",
       "reporteddate           0\n",
       "premisetype            0\n",
       "ucr_code               0\n",
       "ucr_ext                0\n",
       "offence                0\n",
       "reportedyear           0\n",
       "reportedmonth          0\n",
       "reportedday            0\n",
       "reporteddayofyear      0\n",
       "reporteddayofweek      0\n",
       "reportedhour           0\n",
       "occurrenceyear         0\n",
       "occurrencemonth        0\n",
       "occurrenceday          0\n",
       "occurrencedayofyear    0\n",
       "occurrencedayofweek    0\n",
       "occurrencehour         0\n",
       "MCI                    0\n",
       "Division               0\n",
       "Hood_ID                0\n",
       "Neighbourhood          0\n",
       "Lat                    0\n",
       "Long                   0\n",
       "ObjectId               0\n",
       "dtype: int64"
      ]
     },
     "metadata": {},
     "execution_count": 8
    }
   ],
   "source": [
    "crime_df.isna().sum()"
   ]
  },
  {
   "source": [
    "Occurence -> when it happened vs reported-> when it is reported  \n",
    "* Just drop, since we dont know what date the incident happened"
   ],
   "cell_type": "markdown",
   "metadata": {}
  },
  {
   "cell_type": "code",
   "execution_count": 7,
   "metadata": {},
   "outputs": [],
   "source": [
    "crime_df.dropna(axis=0, inplace=True)"
   ]
  },
  {
   "source": [
    "Convert into correct datatypes\n",
    "Note we can get rid of the day/month/year/hour columns for "
   ],
   "cell_type": "markdown",
   "metadata": {}
  },
  {
   "cell_type": "code",
   "execution_count": 6,
   "metadata": {},
   "outputs": [
    {
     "output_type": "execute_result",
     "data": {
      "text/plain": [
       "Assault                           76095\n",
       "B&E                               36304\n",
       "Theft Of Motor Vehicle            23377\n",
       "Assault With Weapon               18154\n",
       "Robbery - Mugging                  6847\n",
       "B&E W'Intent                       5630\n",
       "Assault Bodily Harm                5100\n",
       "Theft Over                         3903\n",
       "Assault Peace Officer              3581\n",
       "Robbery With Weapon                3578\n",
       "Robbery - Other                    3533\n",
       "Robbery - Business                 2434\n",
       "Assault - Resist/ Prevent Seiz     2376\n",
       "Robbery - Swarming                 1947\n",
       "Aggravated Assault                 1863\n",
       "Theft From Motor Vehicle Over      1590\n",
       "Discharge Firearm With Intent      1369\n",
       "Unlawfully In Dwelling-House       1272\n",
       "Discharge Firearm - Recklessly      896\n",
       "Robbery - Purse Snatch              835\n",
       "Robbery - Home Invasion             830\n",
       "Pointing A Firearm                  737\n",
       "Theft From Mail / Bag / Key         699\n",
       "Robbery - Financial Institute       643\n",
       "Theft Over - Shoplifting            384\n",
       "Robbery - Vehicle Jacking           343\n",
       "Assault Peace Officer Wpn/Cbh       319\n",
       "Administering Noxious Thing         294\n",
       "Assault - Force/Thrt/Impede         257\n",
       "Robbery - Taxi                      228\n",
       "Robbery - Delivery Person           215\n",
       "Use Firearm / Immit Commit Off      118\n",
       "Theft Over - Bicycle                 89\n",
       "Theft Over - Distraction             88\n",
       "Crim Negligence Bodily Harm          82\n",
       "B&E Out                              78\n",
       "Robbery - Atm                        76\n",
       "Disarming Peace/Public Officer       72\n",
       "Robbery - Armoured Car               32\n",
       "Theft - Misapprop Funds Over         27\n",
       "Air Gun Or Pistol: Bodily Harm       20\n",
       "Aggravated Assault Avails Pros       13\n",
       "Unlawfully Causing Bodily Harm       13\n",
       "Aggravated Aslt Peace Officer        12\n",
       "B&E - To Steal Firearm                9\n",
       "B&E - M/Veh To Steal Firearm          8\n",
       "Theft Of Utilities Over               4\n",
       "Traps Likely Cause Bodily Harm        1\n",
       "Set/Place Trap/Intend Death/Bh        1\n",
       "Name: offence, dtype: int64"
      ]
     },
     "metadata": {},
     "execution_count": 6
    }
   ],
   "source": [
    "crime_df['offence'].value_counts()"
   ]
  },
  {
   "source": [
    "Group like terms:\n",
    "- B&E - To Steal Firearm & B&E - M/Veh To Steal Firearm \n",
    "- Theft Over - Bicycle & Theft Over - Distraction \n",
    "- Aggravated Assault Avails Pros &  Aggravated Aslt Peace Officer ->\n",
    "- Air Gun Or Pistol: Bodily Harm & Unlawfully Causing Bodily Harm & Crim Negligence Bodily Harm \n",
    "- Theft Of Utilities Over & Theft - Misapprop Funds Over \n",
    "- Traps Likely Cause Bodily Harm & Set/Place Trap/Intend Death/Bh "
   ],
   "cell_type": "markdown",
   "metadata": {}
  },
  {
   "cell_type": "code",
   "execution_count": 5,
   "metadata": {},
   "outputs": [
    {
     "output_type": "execute_result",
     "data": {
      "text/plain": [
       "Assault            111423\n",
       "Break and Enter     43302\n",
       "Auto Theft          23380\n",
       "Robbery             21543\n",
       "Theft Over           6787\n",
       "Name: MCI, dtype: int64"
      ]
     },
     "metadata": {},
     "execution_count": 5
    }
   ],
   "source": [
    "crime_df['MCI'].value_counts()"
   ]
  },
  {
   "source": [
    "- Where are Homicides?"
   ],
   "cell_type": "markdown",
   "metadata": {}
  },
  {
   "source": [
    "Removing duplicates below"
   ],
   "cell_type": "markdown",
   "metadata": {}
  },
  {
   "cell_type": "code",
   "execution_count": 8,
   "metadata": {},
   "outputs": [],
   "source": [
    "crime_df_dup = crime_df.drop_duplicates(subset='event_unique_id')"
   ]
  },
  {
   "cell_type": "code",
   "execution_count": 10,
   "metadata": {},
   "outputs": [
    {
     "output_type": "stream",
     "name": "stdout",
     "text": [
      "<class 'pandas.core.frame.DataFrame'>\nInt64Index: 179765 entries, 0 to 206433\nData columns (total 29 columns):\n #   Column               Non-Null Count   Dtype  \n---  ------               --------------   -----  \n 0   X                    179765 non-null  float64\n 1   Y                    179765 non-null  float64\n 2   Index_               179765 non-null  int64  \n 3   event_unique_id      179765 non-null  object \n 4   occurrencedate       179765 non-null  object \n 5   reporteddate         179765 non-null  object \n 6   premisetype          179765 non-null  object \n 7   ucr_code             179765 non-null  int64  \n 8   ucr_ext              179765 non-null  int64  \n 9   offence              179765 non-null  object \n 10  reportedyear         179765 non-null  int64  \n 11  reportedmonth        179765 non-null  object \n 12  reportedday          179765 non-null  int64  \n 13  reporteddayofyear    179765 non-null  int64  \n 14  reporteddayofweek    179765 non-null  object \n 15  reportedhour         179765 non-null  int64  \n 16  occurrenceyear       179765 non-null  float64\n 17  occurrencemonth      179765 non-null  object \n 18  occurrenceday        179765 non-null  float64\n 19  occurrencedayofyear  179765 non-null  float64\n 20  occurrencedayofweek  179765 non-null  object \n 21  occurrencehour       179765 non-null  int64  \n 22  MCI                  179765 non-null  object \n 23  Division             179765 non-null  object \n 24  Hood_ID              179765 non-null  int64  \n 25  Neighbourhood        179765 non-null  object \n 26  Lat                  179765 non-null  float64\n 27  Long                 179765 non-null  float64\n 28  ObjectId             179765 non-null  int64  \ndtypes: float64(7), int64(10), object(12)\nmemory usage: 46.1+ MB\n"
     ]
    },
    {
     "output_type": "execute_result",
     "data": {
      "text/plain": [
       "(179765, 29)"
      ]
     },
     "metadata": {},
     "execution_count": 10
    }
   ],
   "source": [
    "crime_df_dup.info();\n",
    "crime_df_dup.shape"
   ]
  },
  {
   "cell_type": "code",
   "execution_count": 11,
   "metadata": {},
   "outputs": [],
   "source": [
    "crime_df_dup.to_csv('../Outputs/crime.csv', sep='\\t', encoding='utf-8', index=False)"
   ]
  },
  {
   "cell_type": "code",
   "execution_count": null,
   "metadata": {},
   "outputs": [],
   "source": []
  }
 ]
}