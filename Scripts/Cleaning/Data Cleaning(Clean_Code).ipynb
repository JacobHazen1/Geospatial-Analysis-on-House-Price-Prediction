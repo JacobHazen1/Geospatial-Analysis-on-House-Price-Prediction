{
 "cells": [
  {
   "cell_type": "markdown",
   "metadata": {},
   "source": [
    "### Import All the required libraries"
   ]
  },
  {
   "cell_type": "code",
   "execution_count": 1,
   "metadata": {},
   "outputs": [],
   "source": [
    "import pandas as pd\n",
    "import folium\n",
    "import geopandas as gp"
   ]
  },
  {
   "cell_type": "markdown",
   "metadata": {},
   "source": [
    "### Initiate a map on any location in Toronto"
   ]
  },
  {
   "cell_type": "code",
   "execution_count": 2,
   "metadata": {},
   "outputs": [],
   "source": [
    "map = folium.Map(location=[43.266775,-79.866222], zoom_start=10, prefer_canvas=True)"
   ]
  },
  {
   "cell_type": "markdown",
   "metadata": {},
   "source": [
    "---\n",
    "---\n",
    "## Hospital Dataset"
   ]
  },
  {
   "cell_type": "code",
   "execution_count": 4,
   "metadata": {},
   "outputs": [],
   "source": [
    "df_hospitals = pd.read_csv('../Data/Ministry_of_Health_Service_Provider_Locations.csv')"
   ]
  },
  {
   "cell_type": "markdown",
   "metadata": {},
   "source": [
    "### Checking the dataset"
   ]
  },
  {
   "cell_type": "code",
   "execution_count": 6,
   "metadata": {},
   "outputs": [
    {
     "data": {
      "text/html": [
       "<div>\n",
       "<style scoped>\n",
       "    .dataframe tbody tr th:only-of-type {\n",
       "        vertical-align: middle;\n",
       "    }\n",
       "\n",
       "    .dataframe tbody tr th {\n",
       "        vertical-align: top;\n",
       "    }\n",
       "\n",
       "    .dataframe thead th {\n",
       "        text-align: right;\n",
       "    }\n",
       "</style>\n",
       "<table border=\"1\" class=\"dataframe\">\n",
       "  <thead>\n",
       "    <tr style=\"text-align: right;\">\n",
       "      <th></th>\n",
       "      <th>X</th>\n",
       "      <th>Y</th>\n",
       "      <th>OGF_ID</th>\n",
       "      <th>MOH_SERVICE_PROVIDER_IDENT</th>\n",
       "      <th>SERVICE_TYPE</th>\n",
       "      <th>SERVICE_TYPE_DETAIL</th>\n",
       "      <th>ENGLISH_NAME</th>\n",
       "      <th>FRENCH_NAME</th>\n",
       "      <th>ENGLISH_NAME_ALT</th>\n",
       "      <th>FRENCH_NAME_ALT</th>\n",
       "      <th>ADDRESS_LINE_1</th>\n",
       "      <th>ADDRESS_LINE_2</th>\n",
       "      <th>ADDRESS_DESCRIPTOR</th>\n",
       "      <th>COMMUNITY</th>\n",
       "      <th>POSTAL_CODE</th>\n",
       "      <th>GEOMETRY_UPDATE_DATETIME</th>\n",
       "      <th>EFFECTIVE_DATETIME</th>\n",
       "      <th>SYSTEM_DATETIME</th>\n",
       "      <th>OBJECTID</th>\n",
       "    </tr>\n",
       "  </thead>\n",
       "  <tbody>\n",
       "    <tr>\n",
       "      <th>0</th>\n",
       "      <td>-79.369347</td>\n",
       "      <td>43.649813</td>\n",
       "      <td>127907976</td>\n",
       "      <td>9999999990</td>\n",
       "      <td>AIDS Bureau</td>\n",
       "      <td>CBAESP</td>\n",
       "      <td>2-Spirited People of the 1st Nations</td>\n",
       "      <td>NaN</td>\n",
       "      <td>NaN</td>\n",
       "      <td>NaN</td>\n",
       "      <td>145 Front Street East</td>\n",
       "      <td>Unit 105</td>\n",
       "      <td>Practice Location</td>\n",
       "      <td>Toronto</td>\n",
       "      <td>M5A1E3</td>\n",
       "      <td>1970/01/01 00:00:00+00</td>\n",
       "      <td>2020/04/03 20:42:44+00</td>\n",
       "      <td>2020/04/03 20:42:44+00</td>\n",
       "      <td>753601</td>\n",
       "    </tr>\n",
       "    <tr>\n",
       "      <th>1</th>\n",
       "      <td>-79.384047</td>\n",
       "      <td>43.664337</td>\n",
       "      <td>127907977</td>\n",
       "      <td>9999999991</td>\n",
       "      <td>AIDS Bureau</td>\n",
       "      <td>CBAESP</td>\n",
       "      <td>Action Positive VIH-SIDA</td>\n",
       "      <td>NaN</td>\n",
       "      <td>NaN</td>\n",
       "      <td>NaN</td>\n",
       "      <td>543 Yonge Street</td>\n",
       "      <td>4th floor</td>\n",
       "      <td>Practice Location</td>\n",
       "      <td>Toronto</td>\n",
       "      <td>M4Y1Y5</td>\n",
       "      <td>1970/01/01 00:00:00+00</td>\n",
       "      <td>2020/04/03 20:42:44+00</td>\n",
       "      <td>2020/04/03 20:42:44+00</td>\n",
       "      <td>753602</td>\n",
       "    </tr>\n",
       "    <tr>\n",
       "      <th>2</th>\n",
       "      <td>-79.377200</td>\n",
       "      <td>43.649990</td>\n",
       "      <td>127907978</td>\n",
       "      <td>9999999992</td>\n",
       "      <td>AIDS Bureau</td>\n",
       "      <td>CBAESP</td>\n",
       "      <td>African and Caribbean Council on HIV/AIDS in O...</td>\n",
       "      <td>NaN</td>\n",
       "      <td>NaN</td>\n",
       "      <td>NaN</td>\n",
       "      <td>20 Victoria Street</td>\n",
       "      <td>4th floor</td>\n",
       "      <td>Practice Location</td>\n",
       "      <td>Toronto</td>\n",
       "      <td>M5C2N8</td>\n",
       "      <td>1970/01/01 00:00:00+00</td>\n",
       "      <td>2020/04/03 20:42:44+00</td>\n",
       "      <td>2020/04/03 20:42:44+00</td>\n",
       "      <td>753603</td>\n",
       "    </tr>\n",
       "    <tr>\n",
       "      <th>3</th>\n",
       "      <td>-79.364552</td>\n",
       "      <td>43.654664</td>\n",
       "      <td>127907979</td>\n",
       "      <td>9999999993</td>\n",
       "      <td>AIDS Bureau</td>\n",
       "      <td>CBAESP</td>\n",
       "      <td>Africans in Partnership Against AIDS</td>\n",
       "      <td>NaN</td>\n",
       "      <td>NaN</td>\n",
       "      <td>NaN</td>\n",
       "      <td>526 Richmond Street East</td>\n",
       "      <td>2nd Floor</td>\n",
       "      <td>Practice Location</td>\n",
       "      <td>Toronto</td>\n",
       "      <td>M5A1R3</td>\n",
       "      <td>1970/01/01 00:00:00+00</td>\n",
       "      <td>2020/04/03 20:42:44+00</td>\n",
       "      <td>2020/04/03 20:42:44+00</td>\n",
       "      <td>753604</td>\n",
       "    </tr>\n",
       "    <tr>\n",
       "      <th>4</th>\n",
       "      <td>-79.375083</td>\n",
       "      <td>43.667650</td>\n",
       "      <td>127907980</td>\n",
       "      <td>9999999994</td>\n",
       "      <td>AIDS Bureau</td>\n",
       "      <td>CBAESP</td>\n",
       "      <td>AIDS Bereavement &amp; Resiliency Project of Ontar...</td>\n",
       "      <td>NaN</td>\n",
       "      <td>NaN</td>\n",
       "      <td>NaN</td>\n",
       "      <td>490 Sherbourne Street</td>\n",
       "      <td>2nd Floor</td>\n",
       "      <td>Practice Location</td>\n",
       "      <td>Toronto</td>\n",
       "      <td>M4X1K9</td>\n",
       "      <td>1970/01/01 00:00:00+00</td>\n",
       "      <td>2020/04/03 20:42:44+00</td>\n",
       "      <td>2020/04/03 20:42:44+00</td>\n",
       "      <td>753605</td>\n",
       "    </tr>\n",
       "  </tbody>\n",
       "</table>\n",
       "</div>"
      ],
      "text/plain": [
       "           X          Y     OGF_ID MOH_SERVICE_PROVIDER_IDENT SERVICE_TYPE  \\\n",
       "0 -79.369347  43.649813  127907976                 9999999990  AIDS Bureau   \n",
       "1 -79.384047  43.664337  127907977                 9999999991  AIDS Bureau   \n",
       "2 -79.377200  43.649990  127907978                 9999999992  AIDS Bureau   \n",
       "3 -79.364552  43.654664  127907979                 9999999993  AIDS Bureau   \n",
       "4 -79.375083  43.667650  127907980                 9999999994  AIDS Bureau   \n",
       "\n",
       "  SERVICE_TYPE_DETAIL                                       ENGLISH_NAME  \\\n",
       "0              CBAESP               2-Spirited People of the 1st Nations   \n",
       "1              CBAESP                           Action Positive VIH-SIDA   \n",
       "2              CBAESP  African and Caribbean Council on HIV/AIDS in O...   \n",
       "3              CBAESP               Africans in Partnership Against AIDS   \n",
       "4              CBAESP  AIDS Bereavement & Resiliency Project of Ontar...   \n",
       "\n",
       "  FRENCH_NAME ENGLISH_NAME_ALT FRENCH_NAME_ALT            ADDRESS_LINE_1  \\\n",
       "0         NaN              NaN             NaN     145 Front Street East   \n",
       "1         NaN              NaN             NaN          543 Yonge Street   \n",
       "2         NaN              NaN             NaN        20 Victoria Street   \n",
       "3         NaN              NaN             NaN  526 Richmond Street East   \n",
       "4         NaN              NaN             NaN     490 Sherbourne Street   \n",
       "\n",
       "  ADDRESS_LINE_2 ADDRESS_DESCRIPTOR COMMUNITY POSTAL_CODE  \\\n",
       "0       Unit 105  Practice Location   Toronto      M5A1E3   \n",
       "1      4th floor  Practice Location   Toronto      M4Y1Y5   \n",
       "2      4th floor  Practice Location   Toronto      M5C2N8   \n",
       "3      2nd Floor  Practice Location   Toronto      M5A1R3   \n",
       "4      2nd Floor  Practice Location   Toronto      M4X1K9   \n",
       "\n",
       "  GEOMETRY_UPDATE_DATETIME      EFFECTIVE_DATETIME         SYSTEM_DATETIME  \\\n",
       "0   1970/01/01 00:00:00+00  2020/04/03 20:42:44+00  2020/04/03 20:42:44+00   \n",
       "1   1970/01/01 00:00:00+00  2020/04/03 20:42:44+00  2020/04/03 20:42:44+00   \n",
       "2   1970/01/01 00:00:00+00  2020/04/03 20:42:44+00  2020/04/03 20:42:44+00   \n",
       "3   1970/01/01 00:00:00+00  2020/04/03 20:42:44+00  2020/04/03 20:42:44+00   \n",
       "4   1970/01/01 00:00:00+00  2020/04/03 20:42:44+00  2020/04/03 20:42:44+00   \n",
       "\n",
       "   OBJECTID  \n",
       "0    753601  \n",
       "1    753602  \n",
       "2    753603  \n",
       "3    753604  \n",
       "4    753605  "
      ]
     },
     "execution_count": 6,
     "metadata": {},
     "output_type": "execute_result"
    }
   ],
   "source": [
    "df_hospitals.head()"
   ]
  },
  {
   "cell_type": "code",
   "execution_count": 5,
   "metadata": {},
   "outputs": [
    {
     "name": "stdout",
     "output_type": "stream",
     "text": [
      "<class 'pandas.core.frame.DataFrame'>\n",
      "RangeIndex: 11246 entries, 0 to 11245\n",
      "Data columns (total 19 columns):\n",
      " #   Column                      Non-Null Count  Dtype  \n",
      "---  ------                      --------------  -----  \n",
      " 0   X                           11246 non-null  float64\n",
      " 1   Y                           11246 non-null  float64\n",
      " 2   OGF_ID                      11246 non-null  int64  \n",
      " 3   MOH_SERVICE_PROVIDER_IDENT  11246 non-null  object \n",
      " 4   SERVICE_TYPE                11246 non-null  object \n",
      " 5   SERVICE_TYPE_DETAIL         9975 non-null   object \n",
      " 6   ENGLISH_NAME                11246 non-null  object \n",
      " 7   FRENCH_NAME                 5729 non-null   object \n",
      " 8   ENGLISH_NAME_ALT            7223 non-null   object \n",
      " 9   FRENCH_NAME_ALT             5395 non-null   object \n",
      " 10  ADDRESS_LINE_1              11246 non-null  object \n",
      " 11  ADDRESS_LINE_2              7511 non-null   object \n",
      " 12  ADDRESS_DESCRIPTOR          7782 non-null   object \n",
      " 13  COMMUNITY                   11246 non-null  object \n",
      " 14  POSTAL_CODE                 11246 non-null  object \n",
      " 15  GEOMETRY_UPDATE_DATETIME    11246 non-null  object \n",
      " 16  EFFECTIVE_DATETIME          11246 non-null  object \n",
      " 17  SYSTEM_DATETIME             11246 non-null  object \n",
      " 18  OBJECTID                    11246 non-null  int64  \n",
      "dtypes: float64(2), int64(2), object(15)\n",
      "memory usage: 1.6+ MB\n"
     ]
    }
   ],
   "source": [
    "df_hospitals.info()"
   ]
  },
  {
   "cell_type": "code",
   "execution_count": 6,
   "metadata": {},
   "outputs": [
    {
     "data": {
      "text/plain": [
       "Toronto        2301\n",
       "Ottawa          684\n",
       "Hamilton        472\n",
       "Mississauga     447\n",
       "London          310\n",
       "               ... \n",
       "Berwick           1\n",
       "Bonfield          1\n",
       "Newington         1\n",
       "Lombardy          1\n",
       "Alliston          1\n",
       "Name: COMMUNITY, Length: 521, dtype: int64"
      ]
     },
     "execution_count": 6,
     "metadata": {},
     "output_type": "execute_result"
    }
   ],
   "source": [
    "df_hospitals.COMMUNITY.value_counts()"
   ]
  },
  {
   "cell_type": "code",
   "execution_count": 7,
   "metadata": {},
   "outputs": [
    {
     "data": {
      "text/plain": [
       "Index(['X', 'Y', 'OGF_ID', 'MOH_SERVICE_PROVIDER_IDENT', 'SERVICE_TYPE',\n",
       "       'SERVICE_TYPE_DETAIL', 'ENGLISH_NAME', 'FRENCH_NAME',\n",
       "       'ENGLISH_NAME_ALT', 'FRENCH_NAME_ALT', 'ADDRESS_LINE_1',\n",
       "       'ADDRESS_LINE_2', 'ADDRESS_DESCRIPTOR', 'COMMUNITY', 'POSTAL_CODE',\n",
       "       'GEOMETRY_UPDATE_DATETIME', 'EFFECTIVE_DATETIME', 'SYSTEM_DATETIME',\n",
       "       'OBJECTID'],\n",
       "      dtype='object')"
      ]
     },
     "execution_count": 7,
     "metadata": {},
     "output_type": "execute_result"
    }
   ],
   "source": [
    "df_hospitals.columns"
   ]
  },
  {
   "cell_type": "markdown",
   "metadata": {},
   "source": [
    "*Dropping unwanted columns*"
   ]
  },
  {
   "cell_type": "code",
   "execution_count": 8,
   "metadata": {},
   "outputs": [],
   "source": [
    "df_hospitals.drop(columns=['MOH_SERVICE_PROVIDER_IDENT', 'SERVICE_TYPE','SERVICE_TYPE_DETAIL', 'FRENCH_NAME',\n",
    "                           'ENGLISH_NAME_ALT', 'FRENCH_NAME_ALT', 'GEOMETRY_UPDATE_DATETIME', 'EFFECTIVE_DATETIME', \n",
    "                           'SYSTEM_DATETIME'], inplace=True)"
   ]
  },
  {
   "cell_type": "markdown",
   "metadata": {},
   "source": [
    "*Changing names of the columns*"
   ]
  },
  {
   "cell_type": "code",
   "execution_count": 9,
   "metadata": {},
   "outputs": [],
   "source": [
    "df_hospitals.rename(columns={'X':'Long','Y':'Lat'}, inplace=True)"
   ]
  },
  {
   "cell_type": "code",
   "execution_count": 10,
   "metadata": {},
   "outputs": [
    {
     "data": {
      "text/plain": [
       "Long                     0\n",
       "Lat                      0\n",
       "OGF_ID                   0\n",
       "ENGLISH_NAME             0\n",
       "ADDRESS_LINE_1           0\n",
       "ADDRESS_LINE_2        3735\n",
       "ADDRESS_DESCRIPTOR    3464\n",
       "COMMUNITY                0\n",
       "POSTAL_CODE              0\n",
       "OBJECTID                 0\n",
       "dtype: int64"
      ]
     },
     "execution_count": 10,
     "metadata": {},
     "output_type": "execute_result"
    }
   ],
   "source": [
    "df_hospitals.isna().sum()"
   ]
  },
  {
   "cell_type": "markdown",
   "metadata": {},
   "source": [
    "*Drop the rows where the Community is not Toronto*"
   ]
  },
  {
   "cell_type": "code",
   "execution_count": 11,
   "metadata": {},
   "outputs": [],
   "source": [
    "df_hospitals.drop(df_hospitals[df_hospitals.COMMUNITY != 'Toronto'].index, inplace=True)"
   ]
  },
  {
   "cell_type": "markdown",
   "metadata": {},
   "source": [
    "*Reset index for simplicty*"
   ]
  },
  {
   "cell_type": "code",
   "execution_count": 12,
   "metadata": {},
   "outputs": [],
   "source": [
    "df_hospitals.reset_index(drop=True, inplace=True)"
   ]
  },
  {
   "cell_type": "code",
   "execution_count": 13,
   "metadata": {},
   "outputs": [
    {
     "data": {
      "text/plain": [
       "Toronto    2301\n",
       "Name: COMMUNITY, dtype: int64"
      ]
     },
     "execution_count": 13,
     "metadata": {},
     "output_type": "execute_result"
    }
   ],
   "source": [
    "df_hospitals.COMMUNITY.value_counts()"
   ]
  },
  {
   "cell_type": "markdown",
   "metadata": {},
   "source": [
    "*work on dummy data*"
   ]
  },
  {
   "cell_type": "code",
   "execution_count": 14,
   "metadata": {},
   "outputs": [],
   "source": [
    "dummy_hosp = df_hospitals.copy()\n",
    "\n",
    "dummy_hosp =  dummy_hosp[(dummy_hosp['Lat'].between(43.45000,43.84000))\n",
    "                          & (dummy_hosp['Long'].between(-79.70000,-79.20000))]\n",
    "\n",
    "dummy_hosp.reset_index(drop=True,inplace=True)"
   ]
  },
  {
   "cell_type": "code",
   "execution_count": 15,
   "metadata": {},
   "outputs": [],
   "source": [
    "hlocations = dummy_hosp[['Lat', 'Long']]\n",
    "hlocationlist = hlocations.values.tolist()\n",
    "\n",
    "for point in range(0, len(hlocationlist)):\n",
    "    folium.Marker(hlocationlist[point], popup=dummy_hosp['ENGLISH_NAME'][point],\n",
    "                 icon=folium.Icon(color='red', icon_color='black', icon='h-square', prefix='fa')).add_to(map)"
   ]
  },
  {
   "cell_type": "code",
   "execution_count": 17,
   "metadata": {},
   "outputs": [],
   "source": [
    "dummy_hosp.to_csv('../Data/Cleaned/Hospitals.csv', index=False)"
   ]
  },
  {
   "cell_type": "markdown",
   "metadata": {},
   "source": [
    "*create a list for mapping data*"
   ]
  },
  {
   "cell_type": "code",
   "execution_count": 61,
   "metadata": {},
   "outputs": [],
   "source": [
    "#locations = df_hospitals[['Lat', 'Long']]\n",
    "#locationlist = locations.values.tolist()"
   ]
  },
  {
   "cell_type": "code",
   "execution_count": 66,
   "metadata": {},
   "outputs": [],
   "source": [
    "#for point in range(0, len(locationlist)):\n",
    "#    folium.Marker(locationlist[point], popup=df_hospitals['ENGLISH_NAME'][point],\n",
    "#                 icon=folium.Icon(color='red', icon_color='black', icon='h-square', prefix='fa')).add_to(map)"
   ]
  },
  {
   "cell_type": "markdown",
   "metadata": {},
   "source": [
    "---\n",
    "---\n",
    "## School Dataset"
   ]
  },
  {
   "cell_type": "code",
   "execution_count": 18,
   "metadata": {},
   "outputs": [],
   "source": [
    "df_schools = pd.read_csv('../Data/School locations-all types data.csv')"
   ]
  },
  {
   "cell_type": "code",
   "execution_count": 22,
   "metadata": {},
   "outputs": [
    {
     "data": {
      "text/html": [
       "<div>\n",
       "<style scoped>\n",
       "    .dataframe tbody tr th:only-of-type {\n",
       "        vertical-align: middle;\n",
       "    }\n",
       "\n",
       "    .dataframe tbody tr th {\n",
       "        vertical-align: top;\n",
       "    }\n",
       "\n",
       "    .dataframe thead th {\n",
       "        text-align: right;\n",
       "    }\n",
       "</style>\n",
       "<table border=\"1\" class=\"dataframe\">\n",
       "  <thead>\n",
       "    <tr style=\"text-align: right;\">\n",
       "      <th></th>\n",
       "      <th>_id</th>\n",
       "      <th>OBJECTID</th>\n",
       "      <th>GEO_ID</th>\n",
       "      <th>NAME</th>\n",
       "      <th>BOARD_NAME</th>\n",
       "      <th>SOURCE_ADDRESS</th>\n",
       "      <th>SCHOOL_TYPE_DESC</th>\n",
       "      <th>ADDRESS_POINT_ID</th>\n",
       "      <th>ADDRESS_NUMBER</th>\n",
       "      <th>LINEAR_NAME_FULL</th>\n",
       "      <th>ADDRESS_FULL</th>\n",
       "      <th>POSTAL_CODE</th>\n",
       "      <th>MUNICIPALITY</th>\n",
       "      <th>CITY</th>\n",
       "      <th>PLACE_NAME</th>\n",
       "      <th>GENERAL_USE_CODE</th>\n",
       "      <th>CENTRELINE_ID</th>\n",
       "      <th>LATITUDE</th>\n",
       "      <th>LONGITUDE</th>\n",
       "      <th>geometry</th>\n",
       "    </tr>\n",
       "  </thead>\n",
       "  <tbody>\n",
       "    <tr>\n",
       "      <th>0</th>\n",
       "      <td>28977</td>\n",
       "      <td>1</td>\n",
       "      <td>330677</td>\n",
       "      <td>A PLUS ACADEMY OF ADVANCEMENT</td>\n",
       "      <td>NaN</td>\n",
       "      <td>2425 EGLINTON AVE E</td>\n",
       "      <td>Private</td>\n",
       "      <td>330677</td>\n",
       "      <td>2425</td>\n",
       "      <td>Eglinton Ave E</td>\n",
       "      <td>2425 Eglinton Ave E</td>\n",
       "      <td>M1K 5G8</td>\n",
       "      <td>Scarborough</td>\n",
       "      <td>Toronto</td>\n",
       "      <td>NaN</td>\n",
       "      <td>104008</td>\n",
       "      <td>111254</td>\n",
       "      <td>NaN</td>\n",
       "      <td>NaN</td>\n",
       "      <td>{u'type': u'Point', u'coordinates': (-79.26710...</td>\n",
       "    </tr>\n",
       "    <tr>\n",
       "      <th>1</th>\n",
       "      <td>28978</td>\n",
       "      <td>2</td>\n",
       "      <td>524780</td>\n",
       "      <td>A R S ARMENIAN PRIVATE SCHOOL</td>\n",
       "      <td>NaN</td>\n",
       "      <td>50 HALLCROWN PL</td>\n",
       "      <td>Private</td>\n",
       "      <td>524780</td>\n",
       "      <td>50</td>\n",
       "      <td>Hallcrown Pl</td>\n",
       "      <td>50 Hallcrown Pl</td>\n",
       "      <td>M2J 1P7</td>\n",
       "      <td>North York</td>\n",
       "      <td>Toronto</td>\n",
       "      <td>NaN</td>\n",
       "      <td>104008</td>\n",
       "      <td>438652</td>\n",
       "      <td>NaN</td>\n",
       "      <td>NaN</td>\n",
       "      <td>{u'type': u'Point', u'coordinates': (-79.32315...</td>\n",
       "    </tr>\n",
       "    <tr>\n",
       "      <th>2</th>\n",
       "      <td>28979</td>\n",
       "      <td>3</td>\n",
       "      <td>20258267</td>\n",
       "      <td>A Y J GLOBAL ACADEMY</td>\n",
       "      <td>NaN</td>\n",
       "      <td>4 LANSING SQ</td>\n",
       "      <td>Private</td>\n",
       "      <td>20258267</td>\n",
       "      <td>4</td>\n",
       "      <td>Lansing Sq</td>\n",
       "      <td>4 Lansing Sq</td>\n",
       "      <td>M2J 5A2</td>\n",
       "      <td>North York</td>\n",
       "      <td>Toronto</td>\n",
       "      <td>NaN</td>\n",
       "      <td>104008</td>\n",
       "      <td>438287</td>\n",
       "      <td>NaN</td>\n",
       "      <td>NaN</td>\n",
       "      <td>{u'type': u'Point', u'coordinates': (-79.32521...</td>\n",
       "    </tr>\n",
       "    <tr>\n",
       "      <th>3</th>\n",
       "      <td>28980</td>\n",
       "      <td>4</td>\n",
       "      <td>517961</td>\n",
       "      <td>A Y JACKSON SECONDARY SCHOOL</td>\n",
       "      <td>Toronto District School Board</td>\n",
       "      <td>50 FRANCINE DR</td>\n",
       "      <td>English Public</td>\n",
       "      <td>517961</td>\n",
       "      <td>50</td>\n",
       "      <td>Francine Dr</td>\n",
       "      <td>50 Francine Dr</td>\n",
       "      <td>M2H 2G6</td>\n",
       "      <td>North York</td>\n",
       "      <td>Toronto</td>\n",
       "      <td>A. Y. Jackson Secondary School</td>\n",
       "      <td>102002</td>\n",
       "      <td>436260</td>\n",
       "      <td>NaN</td>\n",
       "      <td>NaN</td>\n",
       "      <td>{u'type': u'Point', u'coordinates': (-79.36655...</td>\n",
       "    </tr>\n",
       "    <tr>\n",
       "      <th>4</th>\n",
       "      <td>28981</td>\n",
       "      <td>5</td>\n",
       "      <td>13967401</td>\n",
       "      <td>ABACUS MONTESSORI LEARNING CENTRE</td>\n",
       "      <td>NaN</td>\n",
       "      <td>4 CREDIT UNION DR</td>\n",
       "      <td>Private</td>\n",
       "      <td>13967401</td>\n",
       "      <td>4</td>\n",
       "      <td>Credit Union Dr</td>\n",
       "      <td>4 Credit Union Dr</td>\n",
       "      <td>M4A 2N8</td>\n",
       "      <td>North York</td>\n",
       "      <td>Toronto</td>\n",
       "      <td>Latvian Canadian Centre</td>\n",
       "      <td>106007</td>\n",
       "      <td>444179</td>\n",
       "      <td>NaN</td>\n",
       "      <td>NaN</td>\n",
       "      <td>{u'type': u'Point', u'coordinates': (-79.31900...</td>\n",
       "    </tr>\n",
       "  </tbody>\n",
       "</table>\n",
       "</div>"
      ],
      "text/plain": [
       "     _id  OBJECTID    GEO_ID                               NAME  \\\n",
       "0  28977         1    330677      A PLUS ACADEMY OF ADVANCEMENT   \n",
       "1  28978         2    524780      A R S ARMENIAN PRIVATE SCHOOL   \n",
       "2  28979         3  20258267               A Y J GLOBAL ACADEMY   \n",
       "3  28980         4    517961       A Y JACKSON SECONDARY SCHOOL   \n",
       "4  28981         5  13967401  ABACUS MONTESSORI LEARNING CENTRE   \n",
       "\n",
       "                      BOARD_NAME       SOURCE_ADDRESS SCHOOL_TYPE_DESC  \\\n",
       "0                            NaN  2425 EGLINTON AVE E          Private   \n",
       "1                            NaN      50 HALLCROWN PL          Private   \n",
       "2                            NaN         4 LANSING SQ          Private   \n",
       "3  Toronto District School Board       50 FRANCINE DR   English Public   \n",
       "4                            NaN    4 CREDIT UNION DR          Private   \n",
       "\n",
       "   ADDRESS_POINT_ID ADDRESS_NUMBER LINEAR_NAME_FULL         ADDRESS_FULL  \\\n",
       "0            330677           2425   Eglinton Ave E  2425 Eglinton Ave E   \n",
       "1            524780             50     Hallcrown Pl      50 Hallcrown Pl   \n",
       "2          20258267              4       Lansing Sq         4 Lansing Sq   \n",
       "3            517961             50      Francine Dr       50 Francine Dr   \n",
       "4          13967401              4  Credit Union Dr    4 Credit Union Dr   \n",
       "\n",
       "  POSTAL_CODE MUNICIPALITY     CITY                      PLACE_NAME  \\\n",
       "0     M1K 5G8  Scarborough  Toronto                             NaN   \n",
       "1     M2J 1P7   North York  Toronto                             NaN   \n",
       "2     M2J 5A2   North York  Toronto                             NaN   \n",
       "3     M2H 2G6   North York  Toronto  A. Y. Jackson Secondary School   \n",
       "4     M4A 2N8   North York  Toronto         Latvian Canadian Centre   \n",
       "\n",
       "   GENERAL_USE_CODE  CENTRELINE_ID  LATITUDE  LONGITUDE  \\\n",
       "0            104008         111254       NaN        NaN   \n",
       "1            104008         438652       NaN        NaN   \n",
       "2            104008         438287       NaN        NaN   \n",
       "3            102002         436260       NaN        NaN   \n",
       "4            106007         444179       NaN        NaN   \n",
       "\n",
       "                                            geometry  \n",
       "0  {u'type': u'Point', u'coordinates': (-79.26710...  \n",
       "1  {u'type': u'Point', u'coordinates': (-79.32315...  \n",
       "2  {u'type': u'Point', u'coordinates': (-79.32521...  \n",
       "3  {u'type': u'Point', u'coordinates': (-79.36655...  \n",
       "4  {u'type': u'Point', u'coordinates': (-79.31900...  "
      ]
     },
     "execution_count": 22,
     "metadata": {},
     "output_type": "execute_result"
    }
   ],
   "source": [
    "df_schools.head()"
   ]
  },
  {
   "cell_type": "markdown",
   "metadata": {},
   "source": [
    "*Drop unwanted columns*"
   ]
  },
  {
   "cell_type": "code",
   "execution_count": 19,
   "metadata": {},
   "outputs": [
    {
     "data": {
      "text/plain": [
       "Index(['_id', 'OBJECTID', 'GEO_ID', 'NAME', 'SCHOOL_LEVEL', 'SCHOOL_TYPE',\n",
       "       'BOARD_NAME', 'SOURCE_ADDRESS', 'SCHOOL_TYPE_DESC', 'ADDRESS_POINT_ID',\n",
       "       'ADDRESS_NUMBER', 'LINEAR_NAME_FULL', 'ADDRESS_FULL', 'POSTAL_CODE',\n",
       "       'MUNICIPALITY', 'CITY', 'PLACE_NAME', 'GENERAL_USE_CODE',\n",
       "       'CENTRELINE_ID', 'LO_NUM', 'LO_NUM_SUF', 'HI_NUM', 'HI_NUM_SUF',\n",
       "       'LINEAR_NAME_ID', 'X', 'Y', 'LATITUDE', 'LONGITUDE', 'geometry'],\n",
       "      dtype='object')"
      ]
     },
     "execution_count": 19,
     "metadata": {},
     "output_type": "execute_result"
    }
   ],
   "source": [
    "df_schools.columns"
   ]
  },
  {
   "cell_type": "code",
   "execution_count": 20,
   "metadata": {},
   "outputs": [],
   "source": [
    "df_schools.drop(columns=['SCHOOL_LEVEL', 'SCHOOL_TYPE','GENERAL_USE_CODE','CENTRELINE_ID',\n",
    "                           'LO_NUM', 'LO_NUM_SUF', 'HI_NUM', 'HI_NUM_SUF','LINEAR_NAME_ID', 'X', 'Y',], inplace=True)"
   ]
  },
  {
   "cell_type": "markdown",
   "metadata": {},
   "source": [
    "*Change the geometry column to create a new col Lat and Long*"
   ]
  },
  {
   "cell_type": "code",
   "execution_count": 21,
   "metadata": {},
   "outputs": [],
   "source": [
    "def longlat(row):\n",
    "    row = row.split('(')[1].split(')')[0]\n",
    "    long , lat = row.split(',')\n",
    "    return pd.Series([long,lat])"
   ]
  },
  {
   "cell_type": "code",
   "execution_count": 23,
   "metadata": {},
   "outputs": [],
   "source": [
    "df_schools[['LONGITUDE','LATITUDE']] = df_schools.geometry.apply(longlat)"
   ]
  },
  {
   "cell_type": "code",
   "execution_count": 30,
   "metadata": {},
   "outputs": [
    {
     "data": {
      "text/html": [
       "<div>\n",
       "<style scoped>\n",
       "    .dataframe tbody tr th:only-of-type {\n",
       "        vertical-align: middle;\n",
       "    }\n",
       "\n",
       "    .dataframe tbody tr th {\n",
       "        vertical-align: top;\n",
       "    }\n",
       "\n",
       "    .dataframe thead th {\n",
       "        text-align: right;\n",
       "    }\n",
       "</style>\n",
       "<table border=\"1\" class=\"dataframe\">\n",
       "  <thead>\n",
       "    <tr style=\"text-align: right;\">\n",
       "      <th></th>\n",
       "      <th>_id</th>\n",
       "      <th>OBJECTID</th>\n",
       "      <th>GEO_ID</th>\n",
       "      <th>NAME</th>\n",
       "      <th>BOARD_NAME</th>\n",
       "      <th>SOURCE_ADDRESS</th>\n",
       "      <th>SCHOOL_TYPE_DESC</th>\n",
       "      <th>ADDRESS_POINT_ID</th>\n",
       "      <th>ADDRESS_NUMBER</th>\n",
       "      <th>LINEAR_NAME_FULL</th>\n",
       "      <th>ADDRESS_FULL</th>\n",
       "      <th>POSTAL_CODE</th>\n",
       "      <th>MUNICIPALITY</th>\n",
       "      <th>CITY</th>\n",
       "      <th>PLACE_NAME</th>\n",
       "      <th>LATITUDE</th>\n",
       "      <th>LONGITUDE</th>\n",
       "      <th>geometry</th>\n",
       "    </tr>\n",
       "  </thead>\n",
       "  <tbody>\n",
       "    <tr>\n",
       "      <th>0</th>\n",
       "      <td>28977</td>\n",
       "      <td>1</td>\n",
       "      <td>330677</td>\n",
       "      <td>A PLUS ACADEMY OF ADVANCEMENT</td>\n",
       "      <td>NaN</td>\n",
       "      <td>2425 EGLINTON AVE E</td>\n",
       "      <td>Private</td>\n",
       "      <td>330677</td>\n",
       "      <td>2425</td>\n",
       "      <td>Eglinton Ave E</td>\n",
       "      <td>2425 Eglinton Ave E</td>\n",
       "      <td>M1K 5G8</td>\n",
       "      <td>Scarborough</td>\n",
       "      <td>Toronto</td>\n",
       "      <td>NaN</td>\n",
       "      <td>43.732081946</td>\n",
       "      <td>-79.2671039369</td>\n",
       "      <td>{u'type': u'Point', u'coordinates': (-79.26710...</td>\n",
       "    </tr>\n",
       "    <tr>\n",
       "      <th>1</th>\n",
       "      <td>28978</td>\n",
       "      <td>2</td>\n",
       "      <td>524780</td>\n",
       "      <td>A R S ARMENIAN PRIVATE SCHOOL</td>\n",
       "      <td>NaN</td>\n",
       "      <td>50 HALLCROWN PL</td>\n",
       "      <td>Private</td>\n",
       "      <td>524780</td>\n",
       "      <td>50</td>\n",
       "      <td>Hallcrown Pl</td>\n",
       "      <td>50 Hallcrown Pl</td>\n",
       "      <td>M2J 1P7</td>\n",
       "      <td>North York</td>\n",
       "      <td>Toronto</td>\n",
       "      <td>NaN</td>\n",
       "      <td>43.7700530625</td>\n",
       "      <td>-79.3231561477</td>\n",
       "      <td>{u'type': u'Point', u'coordinates': (-79.32315...</td>\n",
       "    </tr>\n",
       "    <tr>\n",
       "      <th>2</th>\n",
       "      <td>28979</td>\n",
       "      <td>3</td>\n",
       "      <td>20258267</td>\n",
       "      <td>A Y J GLOBAL ACADEMY</td>\n",
       "      <td>NaN</td>\n",
       "      <td>4 LANSING SQ</td>\n",
       "      <td>Private</td>\n",
       "      <td>20258267</td>\n",
       "      <td>4</td>\n",
       "      <td>Lansing Sq</td>\n",
       "      <td>4 Lansing Sq</td>\n",
       "      <td>M2J 5A2</td>\n",
       "      <td>North York</td>\n",
       "      <td>Toronto</td>\n",
       "      <td>NaN</td>\n",
       "      <td>43.7740825707</td>\n",
       "      <td>-79.3252164121</td>\n",
       "      <td>{u'type': u'Point', u'coordinates': (-79.32521...</td>\n",
       "    </tr>\n",
       "    <tr>\n",
       "      <th>3</th>\n",
       "      <td>28980</td>\n",
       "      <td>4</td>\n",
       "      <td>517961</td>\n",
       "      <td>A Y JACKSON SECONDARY SCHOOL</td>\n",
       "      <td>Toronto District School Board</td>\n",
       "      <td>50 FRANCINE DR</td>\n",
       "      <td>English Public</td>\n",
       "      <td>517961</td>\n",
       "      <td>50</td>\n",
       "      <td>Francine Dr</td>\n",
       "      <td>50 Francine Dr</td>\n",
       "      <td>M2H 2G6</td>\n",
       "      <td>North York</td>\n",
       "      <td>Toronto</td>\n",
       "      <td>A. Y. Jackson Secondary School</td>\n",
       "      <td>43.8052613014</td>\n",
       "      <td>-79.3665552934</td>\n",
       "      <td>{u'type': u'Point', u'coordinates': (-79.36655...</td>\n",
       "    </tr>\n",
       "    <tr>\n",
       "      <th>4</th>\n",
       "      <td>28981</td>\n",
       "      <td>5</td>\n",
       "      <td>13967401</td>\n",
       "      <td>ABACUS MONTESSORI LEARNING CENTRE</td>\n",
       "      <td>NaN</td>\n",
       "      <td>4 CREDIT UNION DR</td>\n",
       "      <td>Private</td>\n",
       "      <td>13967401</td>\n",
       "      <td>4</td>\n",
       "      <td>Credit Union Dr</td>\n",
       "      <td>4 Credit Union Dr</td>\n",
       "      <td>M4A 2N8</td>\n",
       "      <td>North York</td>\n",
       "      <td>Toronto</td>\n",
       "      <td>Latvian Canadian Centre</td>\n",
       "      <td>43.7254322328</td>\n",
       "      <td>-79.3190099774</td>\n",
       "      <td>{u'type': u'Point', u'coordinates': (-79.31900...</td>\n",
       "    </tr>\n",
       "  </tbody>\n",
       "</table>\n",
       "</div>"
      ],
      "text/plain": [
       "     _id  OBJECTID    GEO_ID                               NAME  \\\n",
       "0  28977         1    330677      A PLUS ACADEMY OF ADVANCEMENT   \n",
       "1  28978         2    524780      A R S ARMENIAN PRIVATE SCHOOL   \n",
       "2  28979         3  20258267               A Y J GLOBAL ACADEMY   \n",
       "3  28980         4    517961       A Y JACKSON SECONDARY SCHOOL   \n",
       "4  28981         5  13967401  ABACUS MONTESSORI LEARNING CENTRE   \n",
       "\n",
       "                      BOARD_NAME       SOURCE_ADDRESS SCHOOL_TYPE_DESC  \\\n",
       "0                            NaN  2425 EGLINTON AVE E          Private   \n",
       "1                            NaN      50 HALLCROWN PL          Private   \n",
       "2                            NaN         4 LANSING SQ          Private   \n",
       "3  Toronto District School Board       50 FRANCINE DR   English Public   \n",
       "4                            NaN    4 CREDIT UNION DR          Private   \n",
       "\n",
       "   ADDRESS_POINT_ID ADDRESS_NUMBER LINEAR_NAME_FULL         ADDRESS_FULL  \\\n",
       "0            330677           2425   Eglinton Ave E  2425 Eglinton Ave E   \n",
       "1            524780             50     Hallcrown Pl      50 Hallcrown Pl   \n",
       "2          20258267              4       Lansing Sq         4 Lansing Sq   \n",
       "3            517961             50      Francine Dr       50 Francine Dr   \n",
       "4          13967401              4  Credit Union Dr    4 Credit Union Dr   \n",
       "\n",
       "  POSTAL_CODE MUNICIPALITY     CITY                      PLACE_NAME  \\\n",
       "0     M1K 5G8  Scarborough  Toronto                             NaN   \n",
       "1     M2J 1P7   North York  Toronto                             NaN   \n",
       "2     M2J 5A2   North York  Toronto                             NaN   \n",
       "3     M2H 2G6   North York  Toronto  A. Y. Jackson Secondary School   \n",
       "4     M4A 2N8   North York  Toronto         Latvian Canadian Centre   \n",
       "\n",
       "         LATITUDE       LONGITUDE  \\\n",
       "0    43.732081946  -79.2671039369   \n",
       "1   43.7700530625  -79.3231561477   \n",
       "2   43.7740825707  -79.3252164121   \n",
       "3   43.8052613014  -79.3665552934   \n",
       "4   43.7254322328  -79.3190099774   \n",
       "\n",
       "                                            geometry  \n",
       "0  {u'type': u'Point', u'coordinates': (-79.26710...  \n",
       "1  {u'type': u'Point', u'coordinates': (-79.32315...  \n",
       "2  {u'type': u'Point', u'coordinates': (-79.32521...  \n",
       "3  {u'type': u'Point', u'coordinates': (-79.36655...  \n",
       "4  {u'type': u'Point', u'coordinates': (-79.31900...  "
      ]
     },
     "execution_count": 30,
     "metadata": {},
     "output_type": "execute_result"
    }
   ],
   "source": [
    "df_schools.head()"
   ]
  },
  {
   "cell_type": "markdown",
   "metadata": {},
   "source": [
    "*Including schools only in toronto*"
   ]
  },
  {
   "cell_type": "code",
   "execution_count": 24,
   "metadata": {},
   "outputs": [],
   "source": [
    "dummy_schools = df_schools.copy() \n",
    "\n",
    "dummy_schools = dummy_schools.astype({'LATITUDE': 'float64', 'LONGITUDE':'float64'})\n",
    "\n",
    "dummy_schools =  dummy_schools[(dummy_schools['LATITUDE'].between(43.45000,43.84000))\n",
    "                          & (dummy_schools['LONGITUDE'].between(-79.70000,-79.20000))]\n",
    "\n",
    "dummy_schools.reset_index(drop=True,inplace=True)"
   ]
  },
  {
   "cell_type": "code",
   "execution_count": 25,
   "metadata": {},
   "outputs": [],
   "source": [
    "dschool_locations = dummy_schools[['LATITUDE','LONGITUDE']]\n",
    "dschool_locationslist = dschool_locations.values.tolist()\n",
    "\n",
    "for point in range(0, len(dschool_locationslist)):\n",
    "    folium.Marker(dschool_locationslist[point], popup=dummy_schools['NAME'][point],\n",
    "                 icon=folium.Icon(color='lightgray', icon_color='black', icon='graduation-cap', prefix='fa')).add_to(map)\n"
   ]
  },
  {
   "cell_type": "code",
   "execution_count": 26,
   "metadata": {},
   "outputs": [],
   "source": [
    "dummy_schools.to_csv('../Data/Cleaned/Schools.csv', index=False)"
   ]
  },
  {
   "cell_type": "markdown",
   "metadata": {},
   "source": [
    "*create a list for mapping data*"
   ]
  },
  {
   "cell_type": "code",
   "execution_count": 71,
   "metadata": {},
   "outputs": [],
   "source": [
    "#school_locations = df_schools[['LATITUDE','LONGITUDE']]\n",
    "#school_locationslist = school_locations.values.tolist()"
   ]
  },
  {
   "cell_type": "code",
   "execution_count": 72,
   "metadata": {},
   "outputs": [],
   "source": [
    "#for point in range(0, len(school_locationslist)):\n",
    "#    folium.Marker(school_locationslist[point], popup=df_schools['NAME'][point],\n",
    "#                 icon=folium.Icon(color='lightgray', icon_color='black', icon='graduation-cap', prefix='fa')).add_to(map)"
   ]
  },
  {
   "cell_type": "markdown",
   "metadata": {},
   "source": [
    "---\n",
    "---\n",
    "## Park Dataset"
   ]
  },
  {
   "cell_type": "code",
   "execution_count": 27,
   "metadata": {},
   "outputs": [],
   "source": [
    "df_park = gp.read_file('../Data/CITY_GREEN_SPACE_WGS84.geojson')"
   ]
  },
  {
   "cell_type": "code",
   "execution_count": 37,
   "metadata": {},
   "outputs": [
    {
     "data": {
      "text/html": [
       "<div>\n",
       "<style scoped>\n",
       "    .dataframe tbody tr th:only-of-type {\n",
       "        vertical-align: middle;\n",
       "    }\n",
       "\n",
       "    .dataframe tbody tr th {\n",
       "        vertical-align: top;\n",
       "    }\n",
       "\n",
       "    .dataframe thead th {\n",
       "        text-align: right;\n",
       "    }\n",
       "</style>\n",
       "<table border=\"1\" class=\"dataframe\">\n",
       "  <thead>\n",
       "    <tr style=\"text-align: right;\">\n",
       "      <th></th>\n",
       "      <th>OBJECTID</th>\n",
       "      <th>GEO_ID</th>\n",
       "      <th>TYPE_DESC</th>\n",
       "      <th>SCODE_NAME</th>\n",
       "      <th>LCODE_NAME</th>\n",
       "      <th>NAME</th>\n",
       "      <th>geometry</th>\n",
       "    </tr>\n",
       "  </thead>\n",
       "  <tbody>\n",
       "    <tr>\n",
       "      <th>0</th>\n",
       "      <td>180</td>\n",
       "      <td>180</td>\n",
       "      <td>CGSP</td>\n",
       "      <td>None</td>\n",
       "      <td>3017</td>\n",
       "      <td>CITY WIDE OPEN SPACE</td>\n",
       "      <td>POLYGON ((-79.22672 43.80698, -79.22690 43.806...</td>\n",
       "    </tr>\n",
       "    <tr>\n",
       "      <th>1</th>\n",
       "      <td>193</td>\n",
       "      <td>193</td>\n",
       "      <td>CGSP</td>\n",
       "      <td>None</td>\n",
       "      <td>3050</td>\n",
       "      <td>PUBLIC ACCESS PROPERTY</td>\n",
       "      <td>POLYGON ((-79.20123 43.80354, -79.20121 43.803...</td>\n",
       "    </tr>\n",
       "    <tr>\n",
       "      <th>2</th>\n",
       "      <td>325</td>\n",
       "      <td>325</td>\n",
       "      <td>CGSP</td>\n",
       "      <td>None</td>\n",
       "      <td>3017</td>\n",
       "      <td>CITY WIDE OPEN SPACE</td>\n",
       "      <td>POLYGON ((-79.24170 43.77960, -79.24184 43.779...</td>\n",
       "    </tr>\n",
       "    <tr>\n",
       "      <th>3</th>\n",
       "      <td>327</td>\n",
       "      <td>327</td>\n",
       "      <td>CGSP</td>\n",
       "      <td>None</td>\n",
       "      <td>3024</td>\n",
       "      <td>EAST HIGHLAND CREEK WATERCOURSE</td>\n",
       "      <td>POLYGON ((-79.23614 43.77942, -79.23617 43.779...</td>\n",
       "    </tr>\n",
       "    <tr>\n",
       "      <th>4</th>\n",
       "      <td>328</td>\n",
       "      <td>328</td>\n",
       "      <td>CGSP</td>\n",
       "      <td>None</td>\n",
       "      <td>3017</td>\n",
       "      <td>CITY WIDE OPEN SPACE</td>\n",
       "      <td>POLYGON ((-79.41225 43.77916, -79.41228 43.779...</td>\n",
       "    </tr>\n",
       "  </tbody>\n",
       "</table>\n",
       "</div>"
      ],
      "text/plain": [
       "   OBJECTID  GEO_ID TYPE_DESC SCODE_NAME LCODE_NAME  \\\n",
       "0       180     180      CGSP       None       3017   \n",
       "1       193     193      CGSP       None       3050   \n",
       "2       325     325      CGSP       None       3017   \n",
       "3       327     327      CGSP       None       3024   \n",
       "4       328     328      CGSP       None       3017   \n",
       "\n",
       "                              NAME  \\\n",
       "0             CITY WIDE OPEN SPACE   \n",
       "1           PUBLIC ACCESS PROPERTY   \n",
       "2             CITY WIDE OPEN SPACE   \n",
       "3  EAST HIGHLAND CREEK WATERCOURSE   \n",
       "4             CITY WIDE OPEN SPACE   \n",
       "\n",
       "                                            geometry  \n",
       "0  POLYGON ((-79.22672 43.80698, -79.22690 43.806...  \n",
       "1  POLYGON ((-79.20123 43.80354, -79.20121 43.803...  \n",
       "2  POLYGON ((-79.24170 43.77960, -79.24184 43.779...  \n",
       "3  POLYGON ((-79.23614 43.77942, -79.23617 43.779...  \n",
       "4  POLYGON ((-79.41225 43.77916, -79.41228 43.779...  "
      ]
     },
     "execution_count": 37,
     "metadata": {},
     "output_type": "execute_result"
    }
   ],
   "source": [
    "df_park.head()"
   ]
  },
  {
   "cell_type": "markdown",
   "metadata": {},
   "source": [
    "*Add parks to map*"
   ]
  },
  {
   "cell_type": "code",
   "execution_count": 28,
   "metadata": {},
   "outputs": [
    {
     "data": {
      "text/plain": [
       "<folium.features.GeoJson at 0x7fe95fd15460>"
      ]
     },
     "execution_count": 28,
     "metadata": {},
     "output_type": "execute_result"
    }
   ],
   "source": [
    "style = {'fillColor': '#1a6310', 'color': '#1a6310'}\n",
    "folium.GeoJson(df_park, name=\"geojson\", style_function = lambda x:style).add_to(map)"
   ]
  },
  {
   "cell_type": "markdown",
   "metadata": {},
   "source": [
    "---\n",
    "---\n",
    "## Transit Data"
   ]
  },
  {
   "cell_type": "code",
   "execution_count": 29,
   "metadata": {},
   "outputs": [],
   "source": [
    "df_stops = pd.read_csv('../Data/GO_GTFS/stops.txt')"
   ]
  },
  {
   "cell_type": "code",
   "execution_count": 39,
   "metadata": {},
   "outputs": [
    {
     "data": {
      "text/html": [
       "<div>\n",
       "<style scoped>\n",
       "    .dataframe tbody tr th:only-of-type {\n",
       "        vertical-align: middle;\n",
       "    }\n",
       "\n",
       "    .dataframe tbody tr th {\n",
       "        vertical-align: top;\n",
       "    }\n",
       "\n",
       "    .dataframe thead th {\n",
       "        text-align: right;\n",
       "    }\n",
       "</style>\n",
       "<table border=\"1\" class=\"dataframe\">\n",
       "  <thead>\n",
       "    <tr style=\"text-align: right;\">\n",
       "      <th></th>\n",
       "      <th>stop_id</th>\n",
       "      <th>stop_name</th>\n",
       "      <th>stop_lat</th>\n",
       "      <th>stop_lon</th>\n",
       "      <th>zone_id</th>\n",
       "      <th>stop_url</th>\n",
       "      <th>location_type</th>\n",
       "      <th>parent_station</th>\n",
       "      <th>wheelchair_boarding</th>\n",
       "      <th>stop_code</th>\n",
       "    </tr>\n",
       "  </thead>\n",
       "  <tbody>\n",
       "    <tr>\n",
       "      <th>0</th>\n",
       "      <td>WR</td>\n",
       "      <td>West Harbour GO</td>\n",
       "      <td>43.266775</td>\n",
       "      <td>-79.866222</td>\n",
       "      <td>18</td>\n",
       "      <td>https://www.gotransit.com/en/stations-stops-pa...</td>\n",
       "      <td>0</td>\n",
       "      <td>NaN</td>\n",
       "      <td>1</td>\n",
       "      <td>NaN</td>\n",
       "    </tr>\n",
       "    <tr>\n",
       "      <th>1</th>\n",
       "      <td>WH</td>\n",
       "      <td>Whitby GO</td>\n",
       "      <td>43.864840</td>\n",
       "      <td>-78.938180</td>\n",
       "      <td>93</td>\n",
       "      <td>https://www.gotransit.com/en/stations-stops-pa...</td>\n",
       "      <td>0</td>\n",
       "      <td>NaN</td>\n",
       "      <td>1</td>\n",
       "      <td>NaN</td>\n",
       "    </tr>\n",
       "    <tr>\n",
       "      <th>2</th>\n",
       "      <td>WE</td>\n",
       "      <td>Weston GO</td>\n",
       "      <td>43.700220</td>\n",
       "      <td>-79.514671</td>\n",
       "      <td>4</td>\n",
       "      <td>https://www.gotransit.com/en/stations-stops-pa...</td>\n",
       "      <td>0</td>\n",
       "      <td>NaN</td>\n",
       "      <td>1</td>\n",
       "      <td>NaN</td>\n",
       "    </tr>\n",
       "    <tr>\n",
       "      <th>3</th>\n",
       "      <td>UN</td>\n",
       "      <td>Union Station</td>\n",
       "      <td>43.645195</td>\n",
       "      <td>-79.380600</td>\n",
       "      <td>2</td>\n",
       "      <td>https://www.gotransit.com/en/stations-stops-pa...</td>\n",
       "      <td>0</td>\n",
       "      <td>NaN</td>\n",
       "      <td>1</td>\n",
       "      <td>NaN</td>\n",
       "    </tr>\n",
       "    <tr>\n",
       "      <th>4</th>\n",
       "      <td>UI</td>\n",
       "      <td>Unionville GO</td>\n",
       "      <td>43.851689</td>\n",
       "      <td>-79.314332</td>\n",
       "      <td>71</td>\n",
       "      <td>https://www.gotransit.com/en/stations-stops-pa...</td>\n",
       "      <td>0</td>\n",
       "      <td>NaN</td>\n",
       "      <td>1</td>\n",
       "      <td>NaN</td>\n",
       "    </tr>\n",
       "  </tbody>\n",
       "</table>\n",
       "</div>"
      ],
      "text/plain": [
       "  stop_id        stop_name   stop_lat   stop_lon  zone_id  \\\n",
       "0      WR  West Harbour GO  43.266775 -79.866222       18   \n",
       "1      WH        Whitby GO  43.864840 -78.938180       93   \n",
       "2      WE        Weston GO  43.700220 -79.514671        4   \n",
       "3      UN    Union Station  43.645195 -79.380600        2   \n",
       "4      UI    Unionville GO  43.851689 -79.314332       71   \n",
       "\n",
       "                                            stop_url  location_type  \\\n",
       "0  https://www.gotransit.com/en/stations-stops-pa...              0   \n",
       "1  https://www.gotransit.com/en/stations-stops-pa...              0   \n",
       "2  https://www.gotransit.com/en/stations-stops-pa...              0   \n",
       "3  https://www.gotransit.com/en/stations-stops-pa...              0   \n",
       "4  https://www.gotransit.com/en/stations-stops-pa...              0   \n",
       "\n",
       "   parent_station  wheelchair_boarding  stop_code  \n",
       "0             NaN                    1        NaN  \n",
       "1             NaN                    1        NaN  \n",
       "2             NaN                    1        NaN  \n",
       "3             NaN                    1        NaN  \n",
       "4             NaN                    1        NaN  "
      ]
     },
     "execution_count": 39,
     "metadata": {},
     "output_type": "execute_result"
    }
   ],
   "source": [
    "df_stops.head()"
   ]
  },
  {
   "cell_type": "code",
   "execution_count": 40,
   "metadata": {},
   "outputs": [
    {
     "data": {
      "text/plain": [
       "stop_id                   0\n",
       "stop_name                 0\n",
       "stop_lat                  0\n",
       "stop_lon                  0\n",
       "zone_id                   0\n",
       "stop_url                  0\n",
       "location_type             0\n",
       "parent_station         1048\n",
       "wheelchair_boarding       0\n",
       "stop_code                66\n",
       "dtype: int64"
      ]
     },
     "execution_count": 40,
     "metadata": {},
     "output_type": "execute_result"
    }
   ],
   "source": [
    "df_stops.isna().sum()"
   ]
  },
  {
   "cell_type": "code",
   "execution_count": 41,
   "metadata": {},
   "outputs": [
    {
     "data": {
      "text/plain": [
       "(1048, 10)"
      ]
     },
     "execution_count": 41,
     "metadata": {},
     "output_type": "execute_result"
    }
   ],
   "source": [
    "df_stops.shape"
   ]
  },
  {
   "cell_type": "markdown",
   "metadata": {},
   "source": [
    "*Drop unwanted columns*"
   ]
  },
  {
   "cell_type": "code",
   "execution_count": 30,
   "metadata": {},
   "outputs": [],
   "source": [
    "df_stops.drop(columns=['parent_station','stop_code'], axis=1,inplace=True)"
   ]
  },
  {
   "cell_type": "markdown",
   "metadata": {},
   "source": [
    "*creating a dummy for filtering stops as per the refion of toronto*"
   ]
  },
  {
   "cell_type": "code",
   "execution_count": 32,
   "metadata": {},
   "outputs": [
    {
     "name": "stdout",
     "output_type": "stream",
     "text": [
      "<class 'pandas.core.frame.DataFrame'>\n",
      "Int64Index: 162 entries, 2 to 1046\n",
      "Data columns (total 8 columns):\n",
      " #   Column               Non-Null Count  Dtype  \n",
      "---  ------               --------------  -----  \n",
      " 0   stop_id              162 non-null    object \n",
      " 1   stop_name            162 non-null    object \n",
      " 2   stop_lat             162 non-null    float64\n",
      " 3   stop_lon             162 non-null    float64\n",
      " 4   zone_id              162 non-null    int64  \n",
      " 5   stop_url             162 non-null    object \n",
      " 6   location_type        162 non-null    int64  \n",
      " 7   wheelchair_boarding  162 non-null    int64  \n",
      "dtypes: float64(2), int64(3), object(3)\n",
      "memory usage: 11.4+ KB\n"
     ]
    }
   ],
   "source": [
    "dummy_stops = df_stops.copy()\n",
    "\n",
    "#*_**north south east west** boundaries for toronto region* \n",
    "\n",
    "dummy_stops = dummy_stops[(dummy_stops['stop_lat'].between(43.45000,43.84000))\n",
    "                          & (dummy_stops['stop_lon'].between(-79.70000,-79.20000))]\n",
    "\n",
    "dummy_stops.info()\n",
    "\n",
    "dummy_stops.reset_index(drop=True,inplace=True)"
   ]
  },
  {
   "cell_type": "code",
   "execution_count": 33,
   "metadata": {},
   "outputs": [],
   "source": [
    "dlocations = dummy_stops[['stop_lat', 'stop_lon']]\n",
    "dlocationlist = dlocations.values.tolist()\n",
    "\n",
    "for point in range(0, len(dlocationlist)):\n",
    "    folium.Marker(dlocationlist[point], popup=dummy_stops['stop_name'][point],\n",
    "                icon=folium.Icon(color='cadetblue', icon_color='black', icon='bus', prefix='fa')).add_to(map) "
   ]
  },
  {
   "cell_type": "code",
   "execution_count": 34,
   "metadata": {},
   "outputs": [],
   "source": [
    "dummy_stops.to_csv('../Data/Cleaned/Stops.csv', index=False)"
   ]
  },
  {
   "cell_type": "markdown",
   "metadata": {},
   "source": [
    "*create a list for mapping data*"
   ]
  },
  {
   "cell_type": "code",
   "execution_count": 68,
   "metadata": {},
   "outputs": [],
   "source": [
    "#locations = df_stops[['stop_lat', 'stop_lon']]\n",
    "#locationlist = locations.values.tolist()"
   ]
  },
  {
   "cell_type": "code",
   "execution_count": 73,
   "metadata": {},
   "outputs": [],
   "source": [
    "#for point in range(0, len(locationlist)):\n",
    "#    folium.Marker(locationlist[point], popup=df_stops['stop_name'][point],\n",
    "#                icon=folium.Icon(color='cadetblue', icon_color='black', icon='bus', prefix='fa')).add_to(map) "
   ]
  },
  {
   "cell_type": "markdown",
   "metadata": {},
   "source": [
    "---\n",
    "---\n",
    "---\n",
    "## Folium Map"
   ]
  },
  {
   "cell_type": "code",
   "execution_count": null,
   "metadata": {},
   "outputs": [],
   "source": []
  }
 ],
 "metadata": {
  "kernelspec": {
   "display_name": "Python 3",
   "language": "python",
   "name": "python3"
  },
  "language_info": {
   "codemirror_mode": {
    "name": "ipython",
    "version": 3
   },
   "file_extension": ".py",
   "mimetype": "text/x-python",
   "name": "python",
   "nbconvert_exporter": "python",
   "pygments_lexer": "ipython3",
   "version": "3.8.3"
  }
 },
 "nbformat": 4,
 "nbformat_minor": 4
}
