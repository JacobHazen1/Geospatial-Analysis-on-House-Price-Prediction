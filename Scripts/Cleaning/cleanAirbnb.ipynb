{
 "metadata": {
  "language_info": {
   "codemirror_mode": {
    "name": "ipython",
    "version": 3
   },
   "file_extension": ".py",
   "mimetype": "text/x-python",
   "name": "python",
   "nbconvert_exporter": "python",
   "pygments_lexer": "ipython3",
   "version": "3.8.5-final"
  },
  "orig_nbformat": 2,
  "kernelspec": {
   "name": "python38564bitdataenvconda53f1babb020347299e77ec3ee808749a",
   "display_name": "Python 3.8.5 64-bit ('dataenv': conda)",
   "language": "python"
  }
 },
 "nbformat": 4,
 "nbformat_minor": 2,
 "cells": [
  {
   "cell_type": "code",
   "execution_count": 1,
   "metadata": {},
   "outputs": [],
   "source": [
    "import pandas as pd\n",
    "import os\n",
    "\n",
    "os.chdir('../../Inputs/Airbnb')\n",
    "pathfile = 'airbnb_master_listings.csv'\n",
    "pd.set_option('display.max_columns', None)"
   ]
  },
  {
   "cell_type": "code",
   "execution_count": 2,
   "metadata": {},
   "outputs": [],
   "source": [
    "df = pd.read_csv(pathfile)"
   ]
  },
  {
   "cell_type": "code",
   "execution_count": 3,
   "metadata": {},
   "outputs": [
    {
     "output_type": "execute_result",
     "data": {
      "text/plain": [
       "      id                                             name  host_id  \\\n",
       "0   1419                  Beautiful home in amazing area!     1565   \n",
       "1   8077               Downtown Harbourfront Private Room    22795   \n",
       "2  12604                   Seaton Village Parlour Bedroom    48239   \n",
       "3  23691                  Queen Bedroom close to downtown    93825   \n",
       "4  26654  World Class downtown@ CN Tower! Jays, TIFF, ACC   113345   \n",
       "\n",
       "        host_name  neighbourhood_group                      neighbourhood  \\\n",
       "0       Alexandra                  NaN                    Little Portugal   \n",
       "1  Kathie & Larry                  NaN  Waterfront Communities-The Island   \n",
       "2            Rona                  NaN                              Annex   \n",
       "3   Yohan & Sarah                  NaN               Briar Hill-Belgravia   \n",
       "4           Adela                  NaN  Waterfront Communities-The Island   \n",
       "\n",
       "   latitude  longitude        room_type  price  minimum_nights  \\\n",
       "0  43.64617  -79.42451  Entire home/apt    468               4   \n",
       "1  43.64105  -79.37628     Private room    100             180   \n",
       "2  43.66724  -79.41598     Private room     67               1   \n",
       "3  43.69602  -79.45468     Private room     72               1   \n",
       "4  43.64530  -79.38940  Entire home/apt    199               4   \n",
       "\n",
       "   number_of_reviews last_review  reviews_per_month  \\\n",
       "0                  7  2017-12-04               0.15   \n",
       "1                169  2013-08-27               1.42   \n",
       "2                  0         NaN                NaN   \n",
       "3                209  2019-04-23               1.90   \n",
       "4                 37  2019-05-14               0.36   \n",
       "\n",
       "   calculated_host_listings_count  availability_365                     file  \n",
       "0                               1                 0  04june2019_listings.csv  \n",
       "1                               2                 0  04june2019_listings.csv  \n",
       "2                               1                 0  04june2019_listings.csv  \n",
       "3                               2               223  04june2019_listings.csv  \n",
       "4                               7               321  04june2019_listings.csv  "
      ],
      "text/html": "<div>\n<style scoped>\n    .dataframe tbody tr th:only-of-type {\n        vertical-align: middle;\n    }\n\n    .dataframe tbody tr th {\n        vertical-align: top;\n    }\n\n    .dataframe thead th {\n        text-align: right;\n    }\n</style>\n<table border=\"1\" class=\"dataframe\">\n  <thead>\n    <tr style=\"text-align: right;\">\n      <th></th>\n      <th>id</th>\n      <th>name</th>\n      <th>host_id</th>\n      <th>host_name</th>\n      <th>neighbourhood_group</th>\n      <th>neighbourhood</th>\n      <th>latitude</th>\n      <th>longitude</th>\n      <th>room_type</th>\n      <th>price</th>\n      <th>minimum_nights</th>\n      <th>number_of_reviews</th>\n      <th>last_review</th>\n      <th>reviews_per_month</th>\n      <th>calculated_host_listings_count</th>\n      <th>availability_365</th>\n      <th>file</th>\n    </tr>\n  </thead>\n  <tbody>\n    <tr>\n      <th>0</th>\n      <td>1419</td>\n      <td>Beautiful home in amazing area!</td>\n      <td>1565</td>\n      <td>Alexandra</td>\n      <td>NaN</td>\n      <td>Little Portugal</td>\n      <td>43.64617</td>\n      <td>-79.42451</td>\n      <td>Entire home/apt</td>\n      <td>468</td>\n      <td>4</td>\n      <td>7</td>\n      <td>2017-12-04</td>\n      <td>0.15</td>\n      <td>1</td>\n      <td>0</td>\n      <td>04june2019_listings.csv</td>\n    </tr>\n    <tr>\n      <th>1</th>\n      <td>8077</td>\n      <td>Downtown Harbourfront Private Room</td>\n      <td>22795</td>\n      <td>Kathie &amp; Larry</td>\n      <td>NaN</td>\n      <td>Waterfront Communities-The Island</td>\n      <td>43.64105</td>\n      <td>-79.37628</td>\n      <td>Private room</td>\n      <td>100</td>\n      <td>180</td>\n      <td>169</td>\n      <td>2013-08-27</td>\n      <td>1.42</td>\n      <td>2</td>\n      <td>0</td>\n      <td>04june2019_listings.csv</td>\n    </tr>\n    <tr>\n      <th>2</th>\n      <td>12604</td>\n      <td>Seaton Village Parlour Bedroom</td>\n      <td>48239</td>\n      <td>Rona</td>\n      <td>NaN</td>\n      <td>Annex</td>\n      <td>43.66724</td>\n      <td>-79.41598</td>\n      <td>Private room</td>\n      <td>67</td>\n      <td>1</td>\n      <td>0</td>\n      <td>NaN</td>\n      <td>NaN</td>\n      <td>1</td>\n      <td>0</td>\n      <td>04june2019_listings.csv</td>\n    </tr>\n    <tr>\n      <th>3</th>\n      <td>23691</td>\n      <td>Queen Bedroom close to downtown</td>\n      <td>93825</td>\n      <td>Yohan &amp; Sarah</td>\n      <td>NaN</td>\n      <td>Briar Hill-Belgravia</td>\n      <td>43.69602</td>\n      <td>-79.45468</td>\n      <td>Private room</td>\n      <td>72</td>\n      <td>1</td>\n      <td>209</td>\n      <td>2019-04-23</td>\n      <td>1.90</td>\n      <td>2</td>\n      <td>223</td>\n      <td>04june2019_listings.csv</td>\n    </tr>\n    <tr>\n      <th>4</th>\n      <td>26654</td>\n      <td>World Class downtown@ CN Tower! Jays, TIFF, ACC</td>\n      <td>113345</td>\n      <td>Adela</td>\n      <td>NaN</td>\n      <td>Waterfront Communities-The Island</td>\n      <td>43.64530</td>\n      <td>-79.38940</td>\n      <td>Entire home/apt</td>\n      <td>199</td>\n      <td>4</td>\n      <td>37</td>\n      <td>2019-05-14</td>\n      <td>0.36</td>\n      <td>7</td>\n      <td>321</td>\n      <td>04june2019_listings.csv</td>\n    </tr>\n  </tbody>\n</table>\n</div>"
     },
     "metadata": {},
     "execution_count": 3
    }
   ],
   "source": [
    "df.head()"
   ]
  },
  {
   "cell_type": "code",
   "execution_count": 4,
   "metadata": {},
   "outputs": [
    {
     "output_type": "execute_result",
     "data": {
      "text/plain": [
       "              id                                            name    host_id  \\\n",
       "142096  34449599                                 Convenience Hub  121442022   \n",
       "142097  34449766     Cozy condo with amazing view of CN Tower <3  260067997   \n",
       "142098  34450478        R2: Queen Size Bed Upstairs, Scarborough  109012911   \n",
       "142099  34450621      Modern condo in heart of Toronto downtown!  260067997   \n",
       "142100  34450758  Fully Furnished 4 Bedroom Upstairs of Bungalow    6110142   \n",
       "\n",
       "       host_name  neighbourhood_group           neighbourhood  latitude  \\\n",
       "142096    Birkan                  NaN     Mount Pleasant West  43.71277   \n",
       "142097    Sherry                  NaN                 Niagara  43.63760   \n",
       "142098     Iouri                  NaN  Tam O'Shanter-Sullivan  43.77689   \n",
       "142099    Sherry                  NaN     Bay Street Corridor  43.66689   \n",
       "142100     Yusuf                  NaN        Newtonbrook West  43.78661   \n",
       "\n",
       "        longitude        room_type  price  minimum_nights  number_of_reviews  \\\n",
       "142096  -79.39591     Private room     81               2                  0   \n",
       "142097  -79.40648  Entire home/apt    119               2                  0   \n",
       "142098  -79.29251     Private room     34               1                  0   \n",
       "142099  -79.38622  Entire home/apt     99               2                  0   \n",
       "142100  -79.42913  Entire home/apt    119               1                  0   \n",
       "\n",
       "       last_review  reviews_per_month  calculated_host_listings_count  \\\n",
       "142096         NaN                NaN                               1   \n",
       "142097         NaN                NaN                               2   \n",
       "142098         NaN                NaN                               1   \n",
       "142099         NaN                NaN                               2   \n",
       "142100         NaN                NaN                               2   \n",
       "\n",
       "        availability_365                    file  \n",
       "142096               365  06may2019_listings.csv  \n",
       "142097                17  06may2019_listings.csv  \n",
       "142098               176  06may2019_listings.csv  \n",
       "142099                14  06may2019_listings.csv  \n",
       "142100               165  06may2019_listings.csv  "
      ],
      "text/html": "<div>\n<style scoped>\n    .dataframe tbody tr th:only-of-type {\n        vertical-align: middle;\n    }\n\n    .dataframe tbody tr th {\n        vertical-align: top;\n    }\n\n    .dataframe thead th {\n        text-align: right;\n    }\n</style>\n<table border=\"1\" class=\"dataframe\">\n  <thead>\n    <tr style=\"text-align: right;\">\n      <th></th>\n      <th>id</th>\n      <th>name</th>\n      <th>host_id</th>\n      <th>host_name</th>\n      <th>neighbourhood_group</th>\n      <th>neighbourhood</th>\n      <th>latitude</th>\n      <th>longitude</th>\n      <th>room_type</th>\n      <th>price</th>\n      <th>minimum_nights</th>\n      <th>number_of_reviews</th>\n      <th>last_review</th>\n      <th>reviews_per_month</th>\n      <th>calculated_host_listings_count</th>\n      <th>availability_365</th>\n      <th>file</th>\n    </tr>\n  </thead>\n  <tbody>\n    <tr>\n      <th>142096</th>\n      <td>34449599</td>\n      <td>Convenience Hub</td>\n      <td>121442022</td>\n      <td>Birkan</td>\n      <td>NaN</td>\n      <td>Mount Pleasant West</td>\n      <td>43.71277</td>\n      <td>-79.39591</td>\n      <td>Private room</td>\n      <td>81</td>\n      <td>2</td>\n      <td>0</td>\n      <td>NaN</td>\n      <td>NaN</td>\n      <td>1</td>\n      <td>365</td>\n      <td>06may2019_listings.csv</td>\n    </tr>\n    <tr>\n      <th>142097</th>\n      <td>34449766</td>\n      <td>Cozy condo with amazing view of CN Tower &lt;3</td>\n      <td>260067997</td>\n      <td>Sherry</td>\n      <td>NaN</td>\n      <td>Niagara</td>\n      <td>43.63760</td>\n      <td>-79.40648</td>\n      <td>Entire home/apt</td>\n      <td>119</td>\n      <td>2</td>\n      <td>0</td>\n      <td>NaN</td>\n      <td>NaN</td>\n      <td>2</td>\n      <td>17</td>\n      <td>06may2019_listings.csv</td>\n    </tr>\n    <tr>\n      <th>142098</th>\n      <td>34450478</td>\n      <td>R2: Queen Size Bed Upstairs, Scarborough</td>\n      <td>109012911</td>\n      <td>Iouri</td>\n      <td>NaN</td>\n      <td>Tam O'Shanter-Sullivan</td>\n      <td>43.77689</td>\n      <td>-79.29251</td>\n      <td>Private room</td>\n      <td>34</td>\n      <td>1</td>\n      <td>0</td>\n      <td>NaN</td>\n      <td>NaN</td>\n      <td>1</td>\n      <td>176</td>\n      <td>06may2019_listings.csv</td>\n    </tr>\n    <tr>\n      <th>142099</th>\n      <td>34450621</td>\n      <td>Modern condo in heart of Toronto downtown!</td>\n      <td>260067997</td>\n      <td>Sherry</td>\n      <td>NaN</td>\n      <td>Bay Street Corridor</td>\n      <td>43.66689</td>\n      <td>-79.38622</td>\n      <td>Entire home/apt</td>\n      <td>99</td>\n      <td>2</td>\n      <td>0</td>\n      <td>NaN</td>\n      <td>NaN</td>\n      <td>2</td>\n      <td>14</td>\n      <td>06may2019_listings.csv</td>\n    </tr>\n    <tr>\n      <th>142100</th>\n      <td>34450758</td>\n      <td>Fully Furnished 4 Bedroom Upstairs of Bungalow</td>\n      <td>6110142</td>\n      <td>Yusuf</td>\n      <td>NaN</td>\n      <td>Newtonbrook West</td>\n      <td>43.78661</td>\n      <td>-79.42913</td>\n      <td>Entire home/apt</td>\n      <td>119</td>\n      <td>1</td>\n      <td>0</td>\n      <td>NaN</td>\n      <td>NaN</td>\n      <td>2</td>\n      <td>165</td>\n      <td>06may2019_listings.csv</td>\n    </tr>\n  </tbody>\n</table>\n</div>"
     },
     "metadata": {},
     "execution_count": 4
    }
   ],
   "source": [
    "df.tail()"
   ]
  },
  {
   "cell_type": "code",
   "execution_count": 5,
   "metadata": {},
   "outputs": [
    {
     "output_type": "execute_result",
     "data": {
      "text/plain": [
       "Series([], Name: neighbourhood_group, dtype: int64)"
      ]
     },
     "metadata": {},
     "execution_count": 5
    }
   ],
   "source": [
    "df['neighbourhood_group'].value_counts()"
   ]
  },
  {
   "cell_type": "code",
   "execution_count": 6,
   "metadata": {},
   "outputs": [
    {
     "output_type": "execute_result",
     "data": {
      "text/plain": [
       "Waterfront Communities-The Island    25516\n",
       "Niagara                               6316\n",
       "Annex                                 5659\n",
       "Church-Yonge Corridor                 4737\n",
       "Bay Street Corridor                   4022\n",
       "                                     ...  \n",
       "Beechborough-Greenbrook                 80\n",
       "Rustic                                  74\n",
       "Humber Summit                           70\n",
       "Elms-Old Rexdale                        64\n",
       "Markland Wood                           45\n",
       "Name: neighbourhood, Length: 140, dtype: int64"
      ]
     },
     "metadata": {},
     "execution_count": 6
    }
   ],
   "source": [
    "df['neighbourhood'].value_counts()"
   ]
  },
  {
   "cell_type": "code",
   "execution_count": 9,
   "metadata": {},
   "outputs": [
    {
     "output_type": "execute_result",
     "data": {
      "text/plain": [
       "id                                0\n",
       "host_id                           0\n",
       "neighbourhood                     0\n",
       "latitude                          0\n",
       "longitude                         0\n",
       "room_type                         0\n",
       "price                             0\n",
       "calculated_host_listings_count    0\n",
       "availability_365                  0\n",
       "file                              0\n",
       "dtype: int64"
      ]
     },
     "metadata": {},
     "execution_count": 9
    }
   ],
   "source": [
    "df.isna().sum()"
   ]
  },
  {
   "source": [
    "- Columns we need\n",
    "    - Id, name, host_id, neighbourhood, lat, long, room_type, price, availability, cacl host listing count, file "
   ],
   "cell_type": "markdown",
   "metadata": {}
  },
  {
   "cell_type": "code",
   "execution_count": 8,
   "metadata": {},
   "outputs": [],
   "source": [
    "df.drop(columns=['neighbourhood_group', 'minimum_nights', 'number_of_reviews', 'last_review', 'reviews_per_month', 'host_name', 'name'], inplace=True)"
   ]
  },
  {
   "cell_type": "code",
   "execution_count": 11,
   "metadata": {},
   "outputs": [],
   "source": [
    "df.to_csv('../../Outputs/airbnb_master_listing_reduced.csv', index=False)"
   ]
  },
  {
   "cell_type": "code",
   "execution_count": null,
   "metadata": {},
   "outputs": [],
   "source": []
  }
 ]
}