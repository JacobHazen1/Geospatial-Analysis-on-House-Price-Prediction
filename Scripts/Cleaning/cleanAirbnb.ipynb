{
 "metadata": {
  "language_info": {
   "codemirror_mode": {
    "name": "ipython",
    "version": 3
   },
   "file_extension": ".py",
   "mimetype": "text/x-python",
   "name": "python",
   "nbconvert_exporter": "python",
   "pygments_lexer": "ipython3",
   "version": "3.8.5-final"
  },
  "orig_nbformat": 2,
  "kernelspec": {
   "name": "python38564bitdataenvconda53f1babb020347299e77ec3ee808749a",
   "display_name": "Python 3.8.5 64-bit ('dataenv': conda)",
   "language": "python"
  }
 },
 "nbformat": 4,
 "nbformat_minor": 2,
 "cells": [
  {
   "cell_type": "code",
   "execution_count": 1,
   "metadata": {},
   "outputs": [],
   "source": [
    "import pandas as pd\n",
    "import os, glob\n",
    "\n",
    "def merge(whichfile):\n",
    "    all_files = glob.glob(os.path.join('../../Inputs/Airbnb', f\"*_{whichfile}\"))\n",
    "    all_df = []\n",
    "    for f in all_files:\n",
    "        df = pd.read_csv(f, sep=',')\n",
    "        df['file'] = f.split('/')[-1]\n",
    "        all_df.append(df)\n",
    "        \n",
    "\n",
    "    merged_df = pd.concat(all_df, ignore_index=True)\n",
    "\n",
    "    merged_df.to_csv(f'../../Outputs/airbnb_master_{whichfile}', index=False, sep='\\t')"
   ]
  },
  {
   "cell_type": "code",
   "execution_count": 2,
   "metadata": {},
   "outputs": [],
   "source": [
    "merge('listings.csv')\n",
    "merge('reviews.csv')"
   ]
  }
 ]
}