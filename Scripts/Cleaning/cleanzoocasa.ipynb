{
 "metadata": {
  "language_info": {
   "codemirror_mode": {
    "name": "ipython",
    "version": 3
   },
   "file_extension": ".py",
   "mimetype": "text/x-python",
   "name": "python",
   "nbconvert_exporter": "python",
   "pygments_lexer": "ipython3",
   "version": "3.8.5-final"
  },
  "orig_nbformat": 2,
  "kernelspec": {
   "name": "python38564bitdataenvconda53f1babb020347299e77ec3ee808749a",
   "display_name": "Python 3.8.5 64-bit ('dataenv': conda)",
   "language": "python"
  }
 },
 "nbformat": 4,
 "nbformat_minor": 2,
 "cells": [
  {
   "cell_type": "code",
   "execution_count": 1,
   "metadata": {},
   "outputs": [],
   "source": [
    "import pandas as pd\n",
    "import os\n",
    "\n",
    "os.chdir('../../Inputs')\n",
    "pathfile = 'houseedit.csv'"
   ]
  },
  {
   "cell_type": "code",
   "execution_count": null,
   "metadata": {},
   "outputs": [],
   "source": [
    "df = pd.read_csv(pathfile)\n",
    "pd.set_option('display.max_columns', None)"
   ]
  },
  {
   "cell_type": "code",
   "execution_count": 4,
   "metadata": {},
   "outputs": [
    {
     "output_type": "execute_result",
     "data": {
      "text/plain": [
       "       index                                              title  final_price  \\\n",
       "15224  17533  403 - 311 Richmond St E, Toronto (C4327812) | ...       615000   \n",
       "15225  17534  430 - 1091 Kingston Rd, Toronto (E4328315) | Z...       630000   \n",
       "15226  17535       27 Harfleur Rd, Toronto (E4330570) | Zoocasa      1050000   \n",
       "15227  17537  1020 - 21 Grand Magazine St, Toronto (C4326957...       565000   \n",
       "15228  17538  3107 - 23 Hollywood Ave, Toronto (C4327620) | ...       670000   \n",
       "15229  17539  1802 - 125 Peter St, Toronto (C4327974) | Zoocasa       785000   \n",
       "15230  17540      179 Raleigh Ave, Toronto (E4327933) | Zoocasa      1025000   \n",
       "15231  17541   68 Stagecoach Circ, Toronto (E4327881) | Zoocasa       681000   \n",
       "15232  17542  1706 - 365 Church St, Toronto (C4330888) | Zoo...       590000   \n",
       "15233  17543        43 Kalmar Ave, Toronto (E4331128) | Zoocasa       530000   \n",
       "\n",
       "       list_price    bedrooms  bathrooms    sqft  parking  \\\n",
       "15224      599900  3 + 1 beds          2   950.0        0   \n",
       "15225      619900      2 beds          2  1100.0        1   \n",
       "15226     1098000  5 + 2 beds          4     NaN        4   \n",
       "15227      559980  1 + 1 beds          1   750.0        1   \n",
       "15228      688000  2 + 1 beds          2   850.0        1   \n",
       "15229      799000      2 beds          2   750.0        1   \n",
       "15230      998888      5 beds          5  3250.0        2   \n",
       "15231      650000      3 beds          3     NaN        1   \n",
       "15232      590000      1 beds          1   550.0        0   \n",
       "15233      530000  2 + 1 beds          2     NaN        4   \n",
       "\n",
       "                                             description       mls  \\\n",
       "15224  Amazing 3Br+Den Corner Unit Condo In The Heart...  C4327812   \n",
       "15225  Henley Gardens South Facing Unit Overlooking C...  E4328315   \n",
       "15226  L'amoreaux Community | Near Huntingwood And Bi...  E4330570   \n",
       "15227  1 Bed Rm + Den Condo , 9Ft Ceilings, South Exp...  C4326957   \n",
       "15228  Very Bright Suite With Unobstructed View, Grea...  C4327620   \n",
       "15229  Tableau Condo - Right In The Middle Of The Ent...  C4327974   \n",
       "15230  New Years Special. Brand New House. Beautiful ...  E4327933   \n",
       "15231  Absolutely Beautiful **Freehold ** **End Unit*...  E4327881   \n",
       "15232  One Year New Luxury Condo Built By Menkes. Hig...  C4330888   \n",
       "15233  Great Builder Lot In Birchcliff Village. Can B...  E4331128   \n",
       "\n",
       "                   type                                          full_link  \\\n",
       "15224         Condo Apt  https://www.zoocasa.com/toronto-on-real-estate...   \n",
       "15225         Condo Apt  https://www.zoocasa.com/toronto-on-real-estate...   \n",
       "15226          Detached  https://www.zoocasa.com/toronto-on-real-estate...   \n",
       "15227         Condo Apt  https://www.zoocasa.com/toronto-on-real-estate...   \n",
       "15228         Condo Apt  https://www.zoocasa.com/toronto-on-real-estate...   \n",
       "15229         Condo Apt  https://www.zoocasa.com/toronto-on-real-estate...   \n",
       "15230          Detached  https://www.zoocasa.com/toronto-on-real-estate...   \n",
       "15231  Att/Row/Twnhouse  https://www.zoocasa.com/toronto-on-real-estate...   \n",
       "15232         Condo Apt  https://www.zoocasa.com/toronto-on-real-estate...   \n",
       "15233          Detached  https://www.zoocasa.com/toronto-on-real-estate...   \n",
       "\n",
       "                                           full_address        lat       long  \\\n",
       "15224      311 Richmond St E, Toronto , Ontario, Canada  43.653125 -79.369479   \n",
       "15225       1091 Kingston Rd, Toronto , Ontario, Canada  43.680856 -79.282310   \n",
       "15226         27 Harfleur Rd, Toronto , Ontario, Canada  43.793412 -79.300010   \n",
       "15227   21 Grand Magazine St, Toronto , Ontario, Canada  43.636410 -79.402003   \n",
       "15228       23 Hollywood Ave, Toronto , Ontario, Canada  43.765563 -79.410892   \n",
       "15229           125 Peter St, Toronto , Ontario, Canada  43.648317 -79.393065   \n",
       "15230        179 Raleigh Ave, Toronto , Ontario, Canada  43.706338 -79.262789   \n",
       "15231      68 Stagecoach Cir, Toronto , Ontario, Canada  43.788258 -79.160342   \n",
       "15232          365 Church St, Toronto , Ontario, Canada  43.660846 -79.378756   \n",
       "15233          43 Kalmar Ave, Toronto , Ontario, Canada  43.691296 -79.268417   \n",
       "\n",
       "                           city_district  mean_district_income  district_code  \\\n",
       "15224                          Moss Park                 58915             73   \n",
       "15225              Birchcliffe-Cliffside                 54360            122   \n",
       "15226                         L'Amoreaux                 31826            117   \n",
       "15227                            Niagara                 70623             82   \n",
       "15228                    Willowdale East                 45326             51   \n",
       "15229  Waterfront Communities-The Island                 70600             77   \n",
       "15230                Clairlea-Birchmount                 36232            120   \n",
       "15231             Centennial Scarborough                 54045            133   \n",
       "15232              Church-Yonge Corridor                 53583             75   \n",
       "15233              Birchcliffe-Cliffside                 54360            122   \n",
       "\n",
       "       final_price_transformed  final_price_log  bedrooms_ag  bedrooms_bg  \n",
       "15224                 2.390496        13.329378            3            1  \n",
       "15225                 2.390588        13.353475            2            0  \n",
       "15226                 2.392351        13.864301            5            2  \n",
       "15227                 2.390162        13.244581            1            1  \n",
       "15228                 2.390821        13.415033            2            1  \n",
       "15229                 2.391394        13.573439            2            0  \n",
       "15230                 2.392276        13.840203            5            0  \n",
       "15231                 2.390882        13.431318            3            0  \n",
       "15232                 2.390334        13.287878            1            0  \n",
       "15233                 2.389902        13.180632            2            1  "
      ],
      "text/html": "<div>\n<style scoped>\n    .dataframe tbody tr th:only-of-type {\n        vertical-align: middle;\n    }\n\n    .dataframe tbody tr th {\n        vertical-align: top;\n    }\n\n    .dataframe thead th {\n        text-align: right;\n    }\n</style>\n<table border=\"1\" class=\"dataframe\">\n  <thead>\n    <tr style=\"text-align: right;\">\n      <th></th>\n      <th>index</th>\n      <th>title</th>\n      <th>final_price</th>\n      <th>list_price</th>\n      <th>bedrooms</th>\n      <th>bathrooms</th>\n      <th>sqft</th>\n      <th>parking</th>\n      <th>description</th>\n      <th>mls</th>\n      <th>type</th>\n      <th>full_link</th>\n      <th>full_address</th>\n      <th>lat</th>\n      <th>long</th>\n      <th>city_district</th>\n      <th>mean_district_income</th>\n      <th>district_code</th>\n      <th>final_price_transformed</th>\n      <th>final_price_log</th>\n      <th>bedrooms_ag</th>\n      <th>bedrooms_bg</th>\n    </tr>\n  </thead>\n  <tbody>\n    <tr>\n      <th>15224</th>\n      <td>17533</td>\n      <td>403 - 311 Richmond St E, Toronto (C4327812) | ...</td>\n      <td>615000</td>\n      <td>599900</td>\n      <td>3 + 1 beds</td>\n      <td>2</td>\n      <td>950.0</td>\n      <td>0</td>\n      <td>Amazing 3Br+Den Corner Unit Condo In The Heart...</td>\n      <td>C4327812</td>\n      <td>Condo Apt</td>\n      <td>https://www.zoocasa.com/toronto-on-real-estate...</td>\n      <td>311 Richmond St E, Toronto , Ontario, Canada</td>\n      <td>43.653125</td>\n      <td>-79.369479</td>\n      <td>Moss Park</td>\n      <td>58915</td>\n      <td>73</td>\n      <td>2.390496</td>\n      <td>13.329378</td>\n      <td>3</td>\n      <td>1</td>\n    </tr>\n    <tr>\n      <th>15225</th>\n      <td>17534</td>\n      <td>430 - 1091 Kingston Rd, Toronto (E4328315) | Z...</td>\n      <td>630000</td>\n      <td>619900</td>\n      <td>2 beds</td>\n      <td>2</td>\n      <td>1100.0</td>\n      <td>1</td>\n      <td>Henley Gardens South Facing Unit Overlooking C...</td>\n      <td>E4328315</td>\n      <td>Condo Apt</td>\n      <td>https://www.zoocasa.com/toronto-on-real-estate...</td>\n      <td>1091 Kingston Rd, Toronto , Ontario, Canada</td>\n      <td>43.680856</td>\n      <td>-79.282310</td>\n      <td>Birchcliffe-Cliffside</td>\n      <td>54360</td>\n      <td>122</td>\n      <td>2.390588</td>\n      <td>13.353475</td>\n      <td>2</td>\n      <td>0</td>\n    </tr>\n    <tr>\n      <th>15226</th>\n      <td>17535</td>\n      <td>27 Harfleur Rd, Toronto (E4330570) | Zoocasa</td>\n      <td>1050000</td>\n      <td>1098000</td>\n      <td>5 + 2 beds</td>\n      <td>4</td>\n      <td>NaN</td>\n      <td>4</td>\n      <td>L'amoreaux Community | Near Huntingwood And Bi...</td>\n      <td>E4330570</td>\n      <td>Detached</td>\n      <td>https://www.zoocasa.com/toronto-on-real-estate...</td>\n      <td>27 Harfleur Rd, Toronto , Ontario, Canada</td>\n      <td>43.793412</td>\n      <td>-79.300010</td>\n      <td>L'Amoreaux</td>\n      <td>31826</td>\n      <td>117</td>\n      <td>2.392351</td>\n      <td>13.864301</td>\n      <td>5</td>\n      <td>2</td>\n    </tr>\n    <tr>\n      <th>15227</th>\n      <td>17537</td>\n      <td>1020 - 21 Grand Magazine St, Toronto (C4326957...</td>\n      <td>565000</td>\n      <td>559980</td>\n      <td>1 + 1 beds</td>\n      <td>1</td>\n      <td>750.0</td>\n      <td>1</td>\n      <td>1 Bed Rm + Den Condo , 9Ft Ceilings, South Exp...</td>\n      <td>C4326957</td>\n      <td>Condo Apt</td>\n      <td>https://www.zoocasa.com/toronto-on-real-estate...</td>\n      <td>21 Grand Magazine St, Toronto , Ontario, Canada</td>\n      <td>43.636410</td>\n      <td>-79.402003</td>\n      <td>Niagara</td>\n      <td>70623</td>\n      <td>82</td>\n      <td>2.390162</td>\n      <td>13.244581</td>\n      <td>1</td>\n      <td>1</td>\n    </tr>\n    <tr>\n      <th>15228</th>\n      <td>17538</td>\n      <td>3107 - 23 Hollywood Ave, Toronto (C4327620) | ...</td>\n      <td>670000</td>\n      <td>688000</td>\n      <td>2 + 1 beds</td>\n      <td>2</td>\n      <td>850.0</td>\n      <td>1</td>\n      <td>Very Bright Suite With Unobstructed View, Grea...</td>\n      <td>C4327620</td>\n      <td>Condo Apt</td>\n      <td>https://www.zoocasa.com/toronto-on-real-estate...</td>\n      <td>23 Hollywood Ave, Toronto , Ontario, Canada</td>\n      <td>43.765563</td>\n      <td>-79.410892</td>\n      <td>Willowdale East</td>\n      <td>45326</td>\n      <td>51</td>\n      <td>2.390821</td>\n      <td>13.415033</td>\n      <td>2</td>\n      <td>1</td>\n    </tr>\n    <tr>\n      <th>15229</th>\n      <td>17539</td>\n      <td>1802 - 125 Peter St, Toronto (C4327974) | Zoocasa</td>\n      <td>785000</td>\n      <td>799000</td>\n      <td>2 beds</td>\n      <td>2</td>\n      <td>750.0</td>\n      <td>1</td>\n      <td>Tableau Condo - Right In The Middle Of The Ent...</td>\n      <td>C4327974</td>\n      <td>Condo Apt</td>\n      <td>https://www.zoocasa.com/toronto-on-real-estate...</td>\n      <td>125 Peter St, Toronto , Ontario, Canada</td>\n      <td>43.648317</td>\n      <td>-79.393065</td>\n      <td>Waterfront Communities-The Island</td>\n      <td>70600</td>\n      <td>77</td>\n      <td>2.391394</td>\n      <td>13.573439</td>\n      <td>2</td>\n      <td>0</td>\n    </tr>\n    <tr>\n      <th>15230</th>\n      <td>17540</td>\n      <td>179 Raleigh Ave, Toronto (E4327933) | Zoocasa</td>\n      <td>1025000</td>\n      <td>998888</td>\n      <td>5 beds</td>\n      <td>5</td>\n      <td>3250.0</td>\n      <td>2</td>\n      <td>New Years Special. Brand New House. Beautiful ...</td>\n      <td>E4327933</td>\n      <td>Detached</td>\n      <td>https://www.zoocasa.com/toronto-on-real-estate...</td>\n      <td>179 Raleigh Ave, Toronto , Ontario, Canada</td>\n      <td>43.706338</td>\n      <td>-79.262789</td>\n      <td>Clairlea-Birchmount</td>\n      <td>36232</td>\n      <td>120</td>\n      <td>2.392276</td>\n      <td>13.840203</td>\n      <td>5</td>\n      <td>0</td>\n    </tr>\n    <tr>\n      <th>15231</th>\n      <td>17541</td>\n      <td>68 Stagecoach Circ, Toronto (E4327881) | Zoocasa</td>\n      <td>681000</td>\n      <td>650000</td>\n      <td>3 beds</td>\n      <td>3</td>\n      <td>NaN</td>\n      <td>1</td>\n      <td>Absolutely Beautiful **Freehold ** **End Unit*...</td>\n      <td>E4327881</td>\n      <td>Att/Row/Twnhouse</td>\n      <td>https://www.zoocasa.com/toronto-on-real-estate...</td>\n      <td>68 Stagecoach Cir, Toronto , Ontario, Canada</td>\n      <td>43.788258</td>\n      <td>-79.160342</td>\n      <td>Centennial Scarborough</td>\n      <td>54045</td>\n      <td>133</td>\n      <td>2.390882</td>\n      <td>13.431318</td>\n      <td>3</td>\n      <td>0</td>\n    </tr>\n    <tr>\n      <th>15232</th>\n      <td>17542</td>\n      <td>1706 - 365 Church St, Toronto (C4330888) | Zoo...</td>\n      <td>590000</td>\n      <td>590000</td>\n      <td>1 beds</td>\n      <td>1</td>\n      <td>550.0</td>\n      <td>0</td>\n      <td>One Year New Luxury Condo Built By Menkes. Hig...</td>\n      <td>C4330888</td>\n      <td>Condo Apt</td>\n      <td>https://www.zoocasa.com/toronto-on-real-estate...</td>\n      <td>365 Church St, Toronto , Ontario, Canada</td>\n      <td>43.660846</td>\n      <td>-79.378756</td>\n      <td>Church-Yonge Corridor</td>\n      <td>53583</td>\n      <td>75</td>\n      <td>2.390334</td>\n      <td>13.287878</td>\n      <td>1</td>\n      <td>0</td>\n    </tr>\n    <tr>\n      <th>15233</th>\n      <td>17543</td>\n      <td>43 Kalmar Ave, Toronto (E4331128) | Zoocasa</td>\n      <td>530000</td>\n      <td>530000</td>\n      <td>2 + 1 beds</td>\n      <td>2</td>\n      <td>NaN</td>\n      <td>4</td>\n      <td>Great Builder Lot In Birchcliff Village. Can B...</td>\n      <td>E4331128</td>\n      <td>Detached</td>\n      <td>https://www.zoocasa.com/toronto-on-real-estate...</td>\n      <td>43 Kalmar Ave, Toronto , Ontario, Canada</td>\n      <td>43.691296</td>\n      <td>-79.268417</td>\n      <td>Birchcliffe-Cliffside</td>\n      <td>54360</td>\n      <td>122</td>\n      <td>2.389902</td>\n      <td>13.180632</td>\n      <td>2</td>\n      <td>1</td>\n    </tr>\n  </tbody>\n</table>\n</div>"
     },
     "metadata": {},
     "execution_count": 4
    }
   ],
   "source": [
    "df.tail(10)"
   ]
  },
  {
   "source": [
    "### Notes  \n",
    "- sqft some null values\n",
    "- MLS??? do we need?\n",
    "- Final price transformed??? -> whats transformed\n",
    "- bedrooms_ag (2+1)\n",
    "- bedrooms_bg (2+1)"
   ],
   "cell_type": "markdown",
   "metadata": {}
  },
  {
   "cell_type": "code",
   "execution_count": 3,
   "metadata": {},
   "outputs": [
    {
     "output_type": "stream",
     "name": "stdout",
     "text": [
      "<class 'pandas.core.frame.DataFrame'>\nRangeIndex: 15234 entries, 0 to 15233\nData columns (total 22 columns):\n #   Column                   Non-Null Count  Dtype  \n---  ------                   --------------  -----  \n 0   index                    15234 non-null  int64  \n 1   title                    15234 non-null  object \n 2   final_price              15234 non-null  int64  \n 3   list_price               15234 non-null  int64  \n 4   bedrooms                 15234 non-null  object \n 5   bathrooms                15234 non-null  int64  \n 6   sqft                     10713 non-null  float64\n 7   parking                  15234 non-null  int64  \n 8   description              15185 non-null  object \n 9   mls                      15234 non-null  object \n 10  type                     15234 non-null  object \n 11  full_link                15234 non-null  object \n 12  full_address             15234 non-null  object \n 13  lat                      15234 non-null  float64\n 14  long                     15234 non-null  float64\n 15  city_district            15234 non-null  object \n 16  mean_district_income     15234 non-null  int64  \n 17  district_code            15234 non-null  int64  \n 18  final_price_transformed  15234 non-null  float64\n 19  final_price_log          15234 non-null  float64\n 20  bedrooms_ag              15234 non-null  int64  \n 21  bedrooms_bg              15234 non-null  int64  \ndtypes: float64(5), int64(9), object(8)\nmemory usage: 2.6+ MB\n"
     ]
    }
   ],
   "source": [
    "df.info()"
   ]
  },
  {
   "cell_type": "code",
   "execution_count": 7,
   "metadata": {},
   "outputs": [
    {
     "output_type": "execute_result",
     "data": {
      "text/plain": [
       "(15234, 22)"
      ]
     },
     "metadata": {},
     "execution_count": 7
    }
   ],
   "source": [
    "df.shape"
   ]
  },
  {
   "cell_type": "code",
   "execution_count": 9,
   "metadata": {},
   "outputs": [
    {
     "output_type": "execute_result",
     "data": {
      "text/plain": [
       "              index   final_price    list_price     bathrooms          sqft  \\\n",
       "count  15234.000000  1.523400e+04  1.523400e+04  15234.000000  10713.000000   \n",
       "mean    9519.960943  8.827136e+05  8.750930e+05      2.122227   1116.469336   \n",
       "std     4882.263253  6.189336e+05  6.358072e+05      1.128122    691.331305   \n",
       "min        0.000000  1.030000e+05  1.049000e+05      1.000000    250.000000   \n",
       "25%     5677.500000  5.350000e+05  5.290000e+05      1.000000    650.000000   \n",
       "50%     9803.500000  7.150000e+05  6.999000e+05      2.000000    900.000000   \n",
       "75%    13667.750000  9.890000e+05  9.699000e+05      3.000000   1300.000000   \n",
       "max    17543.000000  1.318000e+07  1.318000e+07     14.000000   4374.000000   \n",
       "\n",
       "            parking           lat          long  mean_district_income  \\\n",
       "count  15234.000000  15234.000000  15234.000000          15234.000000   \n",
       "mean       1.559144     43.702658    -79.394666          56065.642576   \n",
       "std        1.345642      0.056806      0.095425          32547.705435   \n",
       "min        0.000000     43.588176    -79.621693          25989.000000   \n",
       "25%        1.000000     43.652058    -79.454611          34904.000000   \n",
       "50%        1.000000     43.690963    -79.395589          50580.000000   \n",
       "75%        2.000000     43.755905    -79.335266          67757.000000   \n",
       "max       11.000000     43.839372    -79.124094         308010.000000   \n",
       "\n",
       "       district_code  final_price_transformed  final_price_log   bedrooms_ag  \\\n",
       "count   15234.000000             15234.000000     15234.000000  15234.000000   \n",
       "mean       71.300643                 2.391101        13.542090      2.335500   \n",
       "std        38.673608                 0.001729         0.507854      1.136062   \n",
       "min         1.000000                 2.380227        11.542484      0.000000   \n",
       "25%        39.000000                 2.389940        13.190022      1.000000   \n",
       "50%        76.000000                 2.391061        13.480038      2.000000   \n",
       "75%       101.000000                 2.392164        13.804450      3.000000   \n",
       "max       140.000000                 2.397194        16.394211      9.000000   \n",
       "\n",
       "        bedrooms_bg  \n",
       "count  15234.000000  \n",
       "mean       0.539583  \n",
       "std        0.667572  \n",
       "min        0.000000  \n",
       "25%        0.000000  \n",
       "50%        0.000000  \n",
       "75%        1.000000  \n",
       "max        6.000000  "
      ],
      "text/html": "<div>\n<style scoped>\n    .dataframe tbody tr th:only-of-type {\n        vertical-align: middle;\n    }\n\n    .dataframe tbody tr th {\n        vertical-align: top;\n    }\n\n    .dataframe thead th {\n        text-align: right;\n    }\n</style>\n<table border=\"1\" class=\"dataframe\">\n  <thead>\n    <tr style=\"text-align: right;\">\n      <th></th>\n      <th>index</th>\n      <th>final_price</th>\n      <th>list_price</th>\n      <th>bathrooms</th>\n      <th>sqft</th>\n      <th>parking</th>\n      <th>lat</th>\n      <th>long</th>\n      <th>mean_district_income</th>\n      <th>district_code</th>\n      <th>final_price_transformed</th>\n      <th>final_price_log</th>\n      <th>bedrooms_ag</th>\n      <th>bedrooms_bg</th>\n    </tr>\n  </thead>\n  <tbody>\n    <tr>\n      <th>count</th>\n      <td>15234.000000</td>\n      <td>1.523400e+04</td>\n      <td>1.523400e+04</td>\n      <td>15234.000000</td>\n      <td>10713.000000</td>\n      <td>15234.000000</td>\n      <td>15234.000000</td>\n      <td>15234.000000</td>\n      <td>15234.000000</td>\n      <td>15234.000000</td>\n      <td>15234.000000</td>\n      <td>15234.000000</td>\n      <td>15234.000000</td>\n      <td>15234.000000</td>\n    </tr>\n    <tr>\n      <th>mean</th>\n      <td>9519.960943</td>\n      <td>8.827136e+05</td>\n      <td>8.750930e+05</td>\n      <td>2.122227</td>\n      <td>1116.469336</td>\n      <td>1.559144</td>\n      <td>43.702658</td>\n      <td>-79.394666</td>\n      <td>56065.642576</td>\n      <td>71.300643</td>\n      <td>2.391101</td>\n      <td>13.542090</td>\n      <td>2.335500</td>\n      <td>0.539583</td>\n    </tr>\n    <tr>\n      <th>std</th>\n      <td>4882.263253</td>\n      <td>6.189336e+05</td>\n      <td>6.358072e+05</td>\n      <td>1.128122</td>\n      <td>691.331305</td>\n      <td>1.345642</td>\n      <td>0.056806</td>\n      <td>0.095425</td>\n      <td>32547.705435</td>\n      <td>38.673608</td>\n      <td>0.001729</td>\n      <td>0.507854</td>\n      <td>1.136062</td>\n      <td>0.667572</td>\n    </tr>\n    <tr>\n      <th>min</th>\n      <td>0.000000</td>\n      <td>1.030000e+05</td>\n      <td>1.049000e+05</td>\n      <td>1.000000</td>\n      <td>250.000000</td>\n      <td>0.000000</td>\n      <td>43.588176</td>\n      <td>-79.621693</td>\n      <td>25989.000000</td>\n      <td>1.000000</td>\n      <td>2.380227</td>\n      <td>11.542484</td>\n      <td>0.000000</td>\n      <td>0.000000</td>\n    </tr>\n    <tr>\n      <th>25%</th>\n      <td>5677.500000</td>\n      <td>5.350000e+05</td>\n      <td>5.290000e+05</td>\n      <td>1.000000</td>\n      <td>650.000000</td>\n      <td>1.000000</td>\n      <td>43.652058</td>\n      <td>-79.454611</td>\n      <td>34904.000000</td>\n      <td>39.000000</td>\n      <td>2.389940</td>\n      <td>13.190022</td>\n      <td>1.000000</td>\n      <td>0.000000</td>\n    </tr>\n    <tr>\n      <th>50%</th>\n      <td>9803.500000</td>\n      <td>7.150000e+05</td>\n      <td>6.999000e+05</td>\n      <td>2.000000</td>\n      <td>900.000000</td>\n      <td>1.000000</td>\n      <td>43.690963</td>\n      <td>-79.395589</td>\n      <td>50580.000000</td>\n      <td>76.000000</td>\n      <td>2.391061</td>\n      <td>13.480038</td>\n      <td>2.000000</td>\n      <td>0.000000</td>\n    </tr>\n    <tr>\n      <th>75%</th>\n      <td>13667.750000</td>\n      <td>9.890000e+05</td>\n      <td>9.699000e+05</td>\n      <td>3.000000</td>\n      <td>1300.000000</td>\n      <td>2.000000</td>\n      <td>43.755905</td>\n      <td>-79.335266</td>\n      <td>67757.000000</td>\n      <td>101.000000</td>\n      <td>2.392164</td>\n      <td>13.804450</td>\n      <td>3.000000</td>\n      <td>1.000000</td>\n    </tr>\n    <tr>\n      <th>max</th>\n      <td>17543.000000</td>\n      <td>1.318000e+07</td>\n      <td>1.318000e+07</td>\n      <td>14.000000</td>\n      <td>4374.000000</td>\n      <td>11.000000</td>\n      <td>43.839372</td>\n      <td>-79.124094</td>\n      <td>308010.000000</td>\n      <td>140.000000</td>\n      <td>2.397194</td>\n      <td>16.394211</td>\n      <td>9.000000</td>\n      <td>6.000000</td>\n    </tr>\n  </tbody>\n</table>\n</div>"
     },
     "metadata": {},
     "execution_count": 9
    }
   ],
   "source": [
    "df.describe()"
   ]
  },
  {
   "source": [
    "missing_values_count = df.isnull().sum()"
   ],
   "cell_type": "code",
   "metadata": {},
   "execution_count": null,
   "outputs": []
  },
  {
   "cell_type": "code",
   "execution_count": 14,
   "metadata": {},
   "outputs": [
    {
     "output_type": "execute_result",
     "data": {
      "text/plain": [
       "index                         0\n",
       "title                         0\n",
       "final_price                   0\n",
       "list_price                    0\n",
       "bedrooms                      0\n",
       "bathrooms                     0\n",
       "sqft                       4521\n",
       "parking                       0\n",
       "description                  49\n",
       "mls                           0\n",
       "type                          0\n",
       "full_link                     0\n",
       "full_address                  0\n",
       "lat                           0\n",
       "long                          0\n",
       "city_district                 0\n",
       "mean_district_income          0\n",
       "district_code                 0\n",
       "final_price_transformed       0\n",
       "final_price_log               0\n",
       "bedrooms_ag                   0\n",
       "bedrooms_bg                   0\n",
       "dtype: int64"
      ]
     },
     "metadata": {},
     "execution_count": 14
    }
   ],
   "source": [
    "missing_values_count"
   ]
  },
  {
   "cell_type": "code",
   "execution_count": null,
   "metadata": {},
   "outputs": [],
   "source": []
  }
 ]
}