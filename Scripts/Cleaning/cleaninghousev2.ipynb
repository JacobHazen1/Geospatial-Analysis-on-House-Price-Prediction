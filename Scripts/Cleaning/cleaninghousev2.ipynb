{
 "metadata": {
  "language_info": {
   "codemirror_mode": {
    "name": "ipython",
    "version": 3
   },
   "file_extension": ".py",
   "mimetype": "text/x-python",
   "name": "python",
   "nbconvert_exporter": "python",
   "pygments_lexer": "ipython3",
   "version": "3.8.5-final"
  },
  "orig_nbformat": 2,
  "kernelspec": {
   "name": "python3",
   "display_name": "Python 3",
   "language": "python"
  }
 },
 "nbformat": 4,
 "nbformat_minor": 2,
 "cells": [
  {
   "cell_type": "code",
   "execution_count": 1,
   "metadata": {},
   "outputs": [],
   "source": [
    "import pandas as pd "
   ]
  },
  {
   "cell_type": "code",
   "execution_count": 2,
   "metadata": {},
   "outputs": [],
   "source": [
    "abpath = '/home/semipro321/Documents/Workspace/Geospatial-Analysis-on-House-Price-Prediction/Inputs/'"
   ]
  },
  {
   "cell_type": "code",
   "execution_count": 3,
   "metadata": {},
   "outputs": [],
   "source": [
    "df_house = pd.read_csv(abpath + 'houseedit.csv')\n",
    "\n"
   ]
  },
  {
   "cell_type": "code",
   "execution_count": 4,
   "metadata": {},
   "outputs": [
    {
     "output_type": "stream",
     "name": "stdout",
     "text": [
      "<class 'pandas.core.frame.DataFrame'>\nRangeIndex: 15234 entries, 0 to 15233\nData columns (total 22 columns):\n #   Column                   Non-Null Count  Dtype  \n---  ------                   --------------  -----  \n 0   index                    15234 non-null  int64  \n 1   title                    15234 non-null  object \n 2   final_price              15234 non-null  int64  \n 3   list_price               15234 non-null  int64  \n 4   bedrooms                 15234 non-null  object \n 5   bathrooms                15234 non-null  int64  \n 6   sqft                     10713 non-null  float64\n 7   parking                  15234 non-null  int64  \n 8   description              15185 non-null  object \n 9   mls                      15234 non-null  object \n 10  type                     15234 non-null  object \n 11  full_link                15234 non-null  object \n 12  full_address             15234 non-null  object \n 13  lat                      15234 non-null  float64\n 14  long                     15234 non-null  float64\n 15  city_district            15234 non-null  object \n 16  mean_district_income     15234 non-null  int64  \n 17  district_code            15234 non-null  int64  \n 18  final_price_transformed  15234 non-null  float64\n 19  final_price_log          15234 non-null  float64\n 20  bedrooms_ag              15234 non-null  int64  \n 21  bedrooms_bg              15234 non-null  int64  \ndtypes: float64(5), int64(9), object(8)\nmemory usage: 2.6+ MB\n"
     ]
    }
   ],
   "source": [
    "df_house.info()"
   ]
  },
  {
   "cell_type": "code",
   "execution_count": 5,
   "metadata": {},
   "outputs": [
    {
     "output_type": "execute_result",
     "data": {
      "text/plain": [
       "index                         0\n",
       "title                         0\n",
       "final_price                   0\n",
       "list_price                    0\n",
       "bedrooms                      0\n",
       "bathrooms                     0\n",
       "sqft                       4521\n",
       "parking                       0\n",
       "description                  49\n",
       "mls                           0\n",
       "type                          0\n",
       "full_link                     0\n",
       "full_address                  0\n",
       "lat                           0\n",
       "long                          0\n",
       "city_district                 0\n",
       "mean_district_income          0\n",
       "district_code                 0\n",
       "final_price_transformed       0\n",
       "final_price_log               0\n",
       "bedrooms_ag                   0\n",
       "bedrooms_bg                   0\n",
       "dtype: int64"
      ]
     },
     "metadata": {},
     "execution_count": 5
    }
   ],
   "source": [
    "df_house.isna().sum()"
   ]
  },
  {
   "cell_type": "code",
   "execution_count": 6,
   "metadata": {},
   "outputs": [
    {
     "output_type": "execute_result",
     "data": {
      "text/plain": [
       "Index(['index', 'title', 'final_price', 'list_price', 'bedrooms', 'bathrooms',\n",
       "       'sqft', 'parking', 'description', 'mls', 'type', 'full_link',\n",
       "       'full_address', 'lat', 'long', 'city_district', 'mean_district_income',\n",
       "       'district_code', 'final_price_transformed', 'final_price_log',\n",
       "       'bedrooms_ag', 'bedrooms_bg'],\n",
       "      dtype='object')"
      ]
     },
     "metadata": {},
     "execution_count": 6
    }
   ],
   "source": [
    "df_house.columns"
   ]
  },
  {
   "cell_type": "code",
   "execution_count": 20,
   "metadata": {},
   "outputs": [],
   "source": [
    "colsneeded = ['lat', 'long', 'sqft', 'parking' , 'mean_district_income', 'bedrooms_bg', 'bedrooms_ag', 'bathrooms', 'type', 'final_price']\n",
    "df_house_dum = pd.get_dummies(df_house[colsneeded])\n",
    "predictors = df_house_dum.drop('final_price', axis=1).columns"
   ]
  },
  {
   "cell_type": "code",
   "execution_count": 8,
   "metadata": {},
   "outputs": [
    {
     "output_type": "execute_result",
     "data": {
      "text/plain": [
       "    sqft  parking  mean_district_income  bedrooms_bg  bedrooms_ag  bathrooms  \\\n",
       "0  850.0        1                 56526            1            2          2   \n",
       "1    NaN        6                 52787            0            3          2   \n",
       "2  550.0        0                 57039            0            1          1   \n",
       "3  650.0        1                 70623            1            1          1   \n",
       "4    NaN        1                 44101            0            2          2   \n",
       "\n",
       "   final_price  type_Att/Row/Twnhouse  type_Co-Op Apt  type_Co-Ownership Apt  \\\n",
       "0       855000                      0               0                      0   \n",
       "1       885000                      0               0                      0   \n",
       "2       550000                      0               0                      0   \n",
       "3       665000                      0               0                      0   \n",
       "4       825513                      0               0                      0   \n",
       "\n",
       "   type_Comm Element Condo  type_Condo Apt  type_Condo Townhouse  \\\n",
       "0                        0               1                     0   \n",
       "1                        0               0                     0   \n",
       "2                        0               1                     0   \n",
       "3                        0               1                     0   \n",
       "4                        0               0                     0   \n",
       "\n",
       "   type_Detached  type_Link  type_Plex  type_Semi-Detached  \\\n",
       "0              0          0          0                   0   \n",
       "1              0          0          0                   1   \n",
       "2              0          0          0                   0   \n",
       "3              0          0          0                   0   \n",
       "4              1          0          0                   0   \n",
       "\n",
       "   type_Store W/Apt/Offc  \n",
       "0                      0  \n",
       "1                      0  \n",
       "2                      0  \n",
       "3                      0  \n",
       "4                      0  "
      ],
      "text/html": "<div>\n<style scoped>\n    .dataframe tbody tr th:only-of-type {\n        vertical-align: middle;\n    }\n\n    .dataframe tbody tr th {\n        vertical-align: top;\n    }\n\n    .dataframe thead th {\n        text-align: right;\n    }\n</style>\n<table border=\"1\" class=\"dataframe\">\n  <thead>\n    <tr style=\"text-align: right;\">\n      <th></th>\n      <th>sqft</th>\n      <th>parking</th>\n      <th>mean_district_income</th>\n      <th>bedrooms_bg</th>\n      <th>bedrooms_ag</th>\n      <th>bathrooms</th>\n      <th>final_price</th>\n      <th>type_Att/Row/Twnhouse</th>\n      <th>type_Co-Op Apt</th>\n      <th>type_Co-Ownership Apt</th>\n      <th>type_Comm Element Condo</th>\n      <th>type_Condo Apt</th>\n      <th>type_Condo Townhouse</th>\n      <th>type_Detached</th>\n      <th>type_Link</th>\n      <th>type_Plex</th>\n      <th>type_Semi-Detached</th>\n      <th>type_Store W/Apt/Offc</th>\n    </tr>\n  </thead>\n  <tbody>\n    <tr>\n      <th>0</th>\n      <td>850.0</td>\n      <td>1</td>\n      <td>56526</td>\n      <td>1</td>\n      <td>2</td>\n      <td>2</td>\n      <td>855000</td>\n      <td>0</td>\n      <td>0</td>\n      <td>0</td>\n      <td>0</td>\n      <td>1</td>\n      <td>0</td>\n      <td>0</td>\n      <td>0</td>\n      <td>0</td>\n      <td>0</td>\n      <td>0</td>\n    </tr>\n    <tr>\n      <th>1</th>\n      <td>NaN</td>\n      <td>6</td>\n      <td>52787</td>\n      <td>0</td>\n      <td>3</td>\n      <td>2</td>\n      <td>885000</td>\n      <td>0</td>\n      <td>0</td>\n      <td>0</td>\n      <td>0</td>\n      <td>0</td>\n      <td>0</td>\n      <td>0</td>\n      <td>0</td>\n      <td>0</td>\n      <td>1</td>\n      <td>0</td>\n    </tr>\n    <tr>\n      <th>2</th>\n      <td>550.0</td>\n      <td>0</td>\n      <td>57039</td>\n      <td>0</td>\n      <td>1</td>\n      <td>1</td>\n      <td>550000</td>\n      <td>0</td>\n      <td>0</td>\n      <td>0</td>\n      <td>0</td>\n      <td>1</td>\n      <td>0</td>\n      <td>0</td>\n      <td>0</td>\n      <td>0</td>\n      <td>0</td>\n      <td>0</td>\n    </tr>\n    <tr>\n      <th>3</th>\n      <td>650.0</td>\n      <td>1</td>\n      <td>70623</td>\n      <td>1</td>\n      <td>1</td>\n      <td>1</td>\n      <td>665000</td>\n      <td>0</td>\n      <td>0</td>\n      <td>0</td>\n      <td>0</td>\n      <td>1</td>\n      <td>0</td>\n      <td>0</td>\n      <td>0</td>\n      <td>0</td>\n      <td>0</td>\n      <td>0</td>\n    </tr>\n    <tr>\n      <th>4</th>\n      <td>NaN</td>\n      <td>1</td>\n      <td>44101</td>\n      <td>0</td>\n      <td>2</td>\n      <td>2</td>\n      <td>825513</td>\n      <td>0</td>\n      <td>0</td>\n      <td>0</td>\n      <td>0</td>\n      <td>0</td>\n      <td>0</td>\n      <td>1</td>\n      <td>0</td>\n      <td>0</td>\n      <td>0</td>\n      <td>0</td>\n    </tr>\n  </tbody>\n</table>\n</div>"
     },
     "metadata": {},
     "execution_count": 8
    }
   ],
   "source": [
    "df_house_dum.head()"
   ]
  },
  {
   "cell_type": "code",
   "execution_count": null,
   "metadata": {},
   "outputs": [],
   "source": []
  }
 ]
}