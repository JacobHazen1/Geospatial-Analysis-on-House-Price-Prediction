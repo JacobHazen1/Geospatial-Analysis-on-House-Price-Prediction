{
 "metadata": {
  "language_info": {
   "codemirror_mode": {
    "name": "ipython",
    "version": 3
   },
   "file_extension": ".py",
   "mimetype": "text/x-python",
   "name": "python",
   "nbconvert_exporter": "python",
   "pygments_lexer": "ipython3",
   "version": "3.8.5-final"
  },
  "orig_nbformat": 2,
  "kernelspec": {
   "name": "python3",
   "display_name": "Python 3",
   "language": "python"
  }
 },
 "nbformat": 4,
 "nbformat_minor": 2,
 "cells": [
  {
   "cell_type": "code",
   "execution_count": 1,
   "metadata": {},
   "outputs": [],
   "source": [
    "import pandas as pd \n",
    "import geopandas as gp\n",
    "from shapely.ops import nearest_points\n",
    "from shapely.geometry import Point\n",
    "import numpy as np\n",
    "from scipy.spatial import cKDTree"
   ]
  },
  {
   "cell_type": "code",
   "execution_count": 2,
   "metadata": {},
   "outputs": [],
   "source": [
    "path = r'/home/semipro321/Documents/Workspace/Geospatial-Analysis-on-House-Price-Prediction/Inputs/'"
   ]
  },
  {
   "cell_type": "code",
   "execution_count": 3,
   "metadata": {},
   "outputs": [],
   "source": [
    "df_house = pd.read_csv(path + 'House/house_with_neigh.csv')\n",
    "df_school = pd.read_csv(path + 'City/Schools_with_neigh.csv')\n",
    "gpf_house = gp.GeoDataFrame(df_house, crs=\"EPSG:4326\", geometry=gp.points_from_xy(df_house.long,df_house.lat))\n",
    "gpf_school= gp.GeoDataFrame(df_school, crs=\"EPSG:4326\", geometry=gp.points_from_xy(df_school.LONGITUDE,df_school.LATITUDE))\n"
   ]
  },
  {
   "cell_type": "code",
   "execution_count": 4,
   "metadata": {},
   "outputs": [],
   "source": [
    "def ckdnearest(gdA, gdB, distcol):\n",
    "    gdA['geometry'] = gdA.geometry.to_crs('EPSG:5234')\n",
    "    gdB['geometry'] = gdB.geometry.to_crs('EPSG:5234')\n",
    "\n",
    "    nA = np.array(list(gdA.geometry.apply(lambda x: (x.x, x.y))))\n",
    "    nB = np.array(list(gdB.geometry.apply(lambda x: (x.x, x.y))))\n",
    "    btree = cKDTree(nB)\n",
    "    dist, idx = btree.query(nA, k=1)\n",
    "    #If you want other features from B\n",
    "    #gdB_nearest = gdB.iloc[idx].drop(columns=\"geometry\").reset_index(drop=True)\n",
    "    gdf = pd.concat(\n",
    "        [\n",
    "            gdA.reset_index(drop=True),\n",
    "            #If you want other features from B\n",
    "            #gdB_nearest,\n",
    "            pd.Series(dist, name=distcol)\n",
    "        ], \n",
    "        axis=1)\n",
    "\n",
    "    return gdf"
   ]
  },
  {
   "cell_type": "code",
   "execution_count": 5,
   "metadata": {},
   "outputs": [],
   "source": [
    "gpf_house = ckdnearest(gpf_house, gpf_school, 'dist_nearest_school' )"
   ]
  },
  {
   "cell_type": "code",
   "execution_count": 6,
   "metadata": {},
   "outputs": [],
   "source": [
    "df_ttc = pd.read_csv(path + 'Transit/Stops.csv')\n",
    "gpf_ttc = gp.GeoDataFrame(df_ttc, crs=\"EPSG:4326\", geometry=gp.points_from_xy(df_ttc.stop_lon,df_ttc.stop_lat))\n",
    "gpf_house = ckdnearest(gpf_house, gpf_ttc, 'dist_nearest_ttc')"
   ]
  },
  {
   "cell_type": "code",
   "execution_count": 7,
   "metadata": {},
   "outputs": [],
   "source": [
    "def ckdprox(gdA, gdB, distcol, meters):\n",
    "    gdA['geometry'] = gdA.geometry.to_crs('EPSG:5234')\n",
    "    gdB['geometry'] = gdB.geometry.to_crs('EPSG:5234')\n",
    "\n",
    "    nA = np.array(list(gdA.geometry.apply(lambda x: (x.x, x.y))))\n",
    "    nB = np.array(list(gdB.geometry.apply(lambda x: (x.x, x.y))))   \n",
    "    btree = cKDTree(nB)\n",
    "    x = btree.query_ball_point(nA, meters)\n",
    "    #If you want other features from B\n",
    "    #gdB_nearest = gdB.iloc[idx].drop(columns=\"geometry\").reset_index(drop=True)\n",
    "    gdf = pd.concat(\n",
    "        [\n",
    "            gdA.reset_index(drop=True),\n",
    "            #If you want other features from B\n",
    "            #gdB_nearest,\n",
    "            pd.Series(x, name=distcol)\n",
    "        ], \n",
    "        axis=1)\n",
    "    gdf[distcol] = gdf[distcol].apply(lambda x: len(x))\n",
    "\n",
    "    return gdf"
   ]
  },
  {
   "cell_type": "code",
   "execution_count": 8,
   "metadata": {},
   "outputs": [],
   "source": [
    "df_crime = pd.read_csv(path + 'Crime/crime_transformed_030521.csv')\n",
    "gpf_crime = gp.GeoDataFrame(df_crime, crs=\"EPSG:4326\", geometry=gp.points_from_xy(df_crime.Long ,df_crime.Lat))"
   ]
  },
  {
   "cell_type": "code",
   "execution_count": 9,
   "metadata": {},
   "outputs": [],
   "source": [
    "gpf_house = ckdprox(gpf_house, gpf_crime[(gpf_crime['Category__Assault'] == 1) &( gpf_crime['datetime'] >= '2014-01-01') & (gpf_crime['datetime'] <= '2014-12-31')], \"Assault_2014_500m\", 500)\n",
    "gpf_house = ckdprox(gpf_house, gpf_crime[(gpf_crime['Category__Assault'] == 1) &( gpf_crime['datetime'] >= '2015-01-01') & (gpf_crime['datetime'] <= '2015-12-31')], \"Assault_2015_500m\", 500)\n",
    "gpf_house = ckdprox(gpf_house, gpf_crime[(gpf_crime['Category__Assault'] == 1) &( gpf_crime['datetime'] >= '2016-01-01') & (gpf_crime['datetime'] <= '2016-12-31')], \"Assault_2016_500m\", 500)\n",
    "gpf_house = ckdprox(gpf_house, gpf_crime[(gpf_crime['Category__Assault'] == 1) &( gpf_crime['datetime'] >= '2017-01-01') & (gpf_crime['datetime'] <= '2017-12-31')], \"Assault_2017_500m\", 500)\n",
    "gpf_house = ckdprox(gpf_house, gpf_crime[(gpf_crime['Category__Assault'] == 1) &( gpf_crime['datetime'] >= '2018-01-01') & (gpf_crime['datetime'] <= '2018-12-31')], \"Assault_2018_500m\", 500)\n",
    "gpf_house = ckdprox(gpf_house, gpf_crime[(gpf_crime['Category__Assault'] == 1) &( gpf_crime['datetime'] >= '2019-01-01') & (gpf_crime['datetime'] <= '2019-12-31')], \"Assault_2019_500m\", 500)"
   ]
  },
  {
   "cell_type": "code",
   "execution_count": 10,
   "metadata": {},
   "outputs": [],
   "source": [
    "gpf_house = ckdprox(gpf_house, gpf_crime[(gpf_crime['Category__Auto Theft'] == 1) &( gpf_crime['datetime'] >= '2014-01-01') & (gpf_crime['datetime'] <= '2014-12-31')], \"Auto Theft_2014_500m\", 500)\n",
    "gpf_house = ckdprox(gpf_house, gpf_crime[(gpf_crime['Category__Auto Theft'] == 1) &( gpf_crime['datetime'] >= '2015-01-01') & (gpf_crime['datetime'] <= '2015-12-31')], \"Auto Theft_2015_500m\", 500)\n",
    "gpf_house = ckdprox(gpf_house, gpf_crime[(gpf_crime['Category__Auto Theft'] == 1) &( gpf_crime['datetime'] >= '2016-01-01') & (gpf_crime['datetime'] <= '2016-12-31')], \"Auto Theft_2016_500m\", 500)\n",
    "gpf_house = ckdprox(gpf_house, gpf_crime[(gpf_crime['Category__Auto Theft'] == 1) &( gpf_crime['datetime'] >= '2017-01-01') & (gpf_crime['datetime'] <= '2017-12-31')], \"Auto Theft_2017_500m\", 500)\n",
    "gpf_house = ckdprox(gpf_house, gpf_crime[(gpf_crime['Category__Auto Theft'] == 1) &( gpf_crime['datetime'] >= '2018-01-01') & (gpf_crime['datetime'] <= '2018-12-31')], \"Auto Theft_2018_500m\", 500)\n",
    "gpf_house = ckdprox(gpf_house, gpf_crime[(gpf_crime['Category__Auto Theft'] == 1) &( gpf_crime['datetime'] >= '2019-01-01') & (gpf_crime['datetime'] <= '2019-12-31')], \"Auto Theft_2019_500m\", 500)"
   ]
  },
  {
   "cell_type": "code",
   "execution_count": 11,
   "metadata": {},
   "outputs": [],
   "source": [
    "gpf_house = ckdprox(gpf_house, gpf_crime[(gpf_crime['Category__Break and Enter'] == 1) &( gpf_crime['datetime'] >= '2014-01-01') & (gpf_crime['datetime'] <= '2014-12-31')], \"Break and Enter_2014_500m\", 500)\n",
    "gpf_house = ckdprox(gpf_house, gpf_crime[(gpf_crime['Category__Break and Enter'] == 1) &( gpf_crime['datetime'] >= '2015-01-01') & (gpf_crime['datetime'] <= '2015-12-31')], \"Break and Enter_2015_500m\", 500)\n",
    "gpf_house = ckdprox(gpf_house, gpf_crime[(gpf_crime['Category__Break and Enter'] == 1) &( gpf_crime['datetime'] >= '2016-01-01') & (gpf_crime['datetime'] <= '2016-12-31')], \"Break and Enter_2016_500m\", 500)\n",
    "gpf_house = ckdprox(gpf_house, gpf_crime[(gpf_crime['Category__Break and Enter'] == 1) &( gpf_crime['datetime'] >= '2017-01-01') & (gpf_crime['datetime'] <= '2017-12-31')], \"Break and Enter_2017_500m\", 500)\n",
    "gpf_house = ckdprox(gpf_house, gpf_crime[(gpf_crime['Category__Break and Enter'] == 1) &( gpf_crime['datetime'] >= '2018-01-01') & (gpf_crime['datetime'] <= '2018-12-31')], \"Break and Enter_2018_500m\", 500)\n",
    "gpf_house = ckdprox(gpf_house, gpf_crime[(gpf_crime['Category__Break and Enter'] == 1) &( gpf_crime['datetime'] >= '2019-01-01') & (gpf_crime['datetime'] <= '2019-12-31')], \"Break and Enter_2019_500m\", 500)"
   ]
  },
  {
   "cell_type": "code",
   "execution_count": 12,
   "metadata": {},
   "outputs": [],
   "source": [
    "gpf_house = ckdprox(gpf_house, gpf_crime[(gpf_crime['Category__Robbery'] == 1) &( gpf_crime['datetime'] >= '2014-01-01') & (gpf_crime['datetime'] <= '2014-12-31')], \"Robbery_2014_500m\", 500)\n",
    "gpf_house = ckdprox(gpf_house, gpf_crime[(gpf_crime['Category__Robbery'] == 1) &( gpf_crime['datetime'] >= '2015-01-01') & (gpf_crime['datetime'] <= '2015-12-31')], \"Robbery_2015_500m\", 500)\n",
    "gpf_house = ckdprox(gpf_house, gpf_crime[(gpf_crime['Category__Robbery'] == 1) &( gpf_crime['datetime'] >= '2016-01-01') & (gpf_crime['datetime'] <= '2016-12-31')], \"Robbery_2016_500m\", 500)\n",
    "gpf_house = ckdprox(gpf_house, gpf_crime[(gpf_crime['Category__Robbery'] == 1) &( gpf_crime['datetime'] >= '2017-01-01') & (gpf_crime['datetime'] <= '2017-12-31')], \"Robbery_2017_500m\", 500)\n",
    "gpf_house = ckdprox(gpf_house, gpf_crime[(gpf_crime['Category__Robbery'] == 1) &( gpf_crime['datetime'] >= '2018-01-01') & (gpf_crime['datetime'] <= '2018-12-31')], \"Robbery_2018_500m\", 500)\n",
    "gpf_house = ckdprox(gpf_house, gpf_crime[(gpf_crime['Category__Robbery'] == 1) &( gpf_crime['datetime'] >= '2019-01-01') & (gpf_crime['datetime'] <= '2019-12-31')], \"Robbery_2019_500m\", 500)"
   ]
  },
  {
   "cell_type": "code",
   "execution_count": 13,
   "metadata": {},
   "outputs": [],
   "source": [
    "gpf_house = ckdprox(gpf_house, gpf_crime[(gpf_crime['Category__Theft Over'] == 1) &( gpf_crime['datetime'] >= '2014-01-01') & (gpf_crime['datetime'] <= '2014-12-31')], \"Theft Over_2014_500m\", 500)\n",
    "gpf_house = ckdprox(gpf_house, gpf_crime[(gpf_crime['Category__Theft Over'] == 1) &( gpf_crime['datetime'] >= '2015-01-01') & (gpf_crime['datetime'] <= '2015-12-31')], \"Theft Over_2015_500m\", 500)\n",
    "gpf_house = ckdprox(gpf_house, gpf_crime[(gpf_crime['Category__Theft Over'] == 1) &( gpf_crime['datetime'] >= '2016-01-01') & (gpf_crime['datetime'] <= '2016-12-31')], \"Theft Over_2016_500m\", 500)\n",
    "gpf_house = ckdprox(gpf_house, gpf_crime[(gpf_crime['Category__Theft Over'] == 1) &( gpf_crime['datetime'] >= '2017-01-01') & (gpf_crime['datetime'] <= '2017-12-31')], \"Theft Over_2017_500m\", 500)\n",
    "gpf_house = ckdprox(gpf_house, gpf_crime[(gpf_crime['Category__Theft Over'] == 1) &( gpf_crime['datetime'] >= '2018-01-01') & (gpf_crime['datetime'] <= '2018-12-31')], \"Theft Over_2018_500m\", 500)\n",
    "gpf_house = ckdprox(gpf_house, gpf_crime[(gpf_crime['Category__Theft Over'] == 1) &( gpf_crime['datetime'] >= '2019-01-01') & (gpf_crime['datetime'] <= '2019-12-31')], \"Theft Over_2019_500m\", 500)"
   ]
  },
  {
   "cell_type": "code",
   "execution_count": 14,
   "metadata": {},
   "outputs": [],
   "source": [
    "gpf_house = ckdprox(gpf_house, gpf_crime[(gpf_crime['Category__Assault'] == 1) &( gpf_crime['datetime'] >= '2014-01-01') & (gpf_crime['datetime'] <= '2014-12-31')], \"Assault_2014_1000m\", 1000)\n",
    "gpf_house = ckdprox(gpf_house, gpf_crime[(gpf_crime['Category__Assault'] == 1) &( gpf_crime['datetime'] >= '2015-01-01') & (gpf_crime['datetime'] <= '2015-12-31')], \"Assault_2015_1000m\", 1000)\n",
    "gpf_house = ckdprox(gpf_house, gpf_crime[(gpf_crime['Category__Assault'] == 1) &( gpf_crime['datetime'] >= '2016-01-01') & (gpf_crime['datetime'] <= '2016-12-31')], \"Assault_2016_1000m\", 1000)\n",
    "gpf_house = ckdprox(gpf_house, gpf_crime[(gpf_crime['Category__Assault'] == 1) &( gpf_crime['datetime'] >= '2017-01-01') & (gpf_crime['datetime'] <= '2017-12-31')], \"Assault_2017_1000m\", 1000)\n",
    "gpf_house = ckdprox(gpf_house, gpf_crime[(gpf_crime['Category__Assault'] == 1) &( gpf_crime['datetime'] >= '2018-01-01') & (gpf_crime['datetime'] <= '2018-12-31')], \"Assault_2018_1000m\", 1000)\n",
    "gpf_house = ckdprox(gpf_house, gpf_crime[(gpf_crime['Category__Assault'] == 1) &( gpf_crime['datetime'] >= '2019-01-01') & (gpf_crime['datetime'] <= '2019-12-31')], \"Assault_2019_1000m\", 1000)\n",
    "\n",
    "\n",
    "gpf_house = ckdprox(gpf_house, gpf_crime[(gpf_crime['Category__Auto Theft'] == 1) &( gpf_crime['datetime'] >= '2014-01-01') & (gpf_crime['datetime'] <= '2014-12-31')], \"Auto Theft_2014_1000m\", 1000)\n",
    "gpf_house = ckdprox(gpf_house, gpf_crime[(gpf_crime['Category__Auto Theft'] == 1) &( gpf_crime['datetime'] >= '2015-01-01') & (gpf_crime['datetime'] <= '2015-12-31')], \"Auto Theft_2015_1000m\", 1000)\n",
    "gpf_house = ckdprox(gpf_house, gpf_crime[(gpf_crime['Category__Auto Theft'] == 1) &( gpf_crime['datetime'] >= '2016-01-01') & (gpf_crime['datetime'] <= '2016-12-31')], \"Auto Theft_2016_1000m\", 1000)\n",
    "gpf_house = ckdprox(gpf_house, gpf_crime[(gpf_crime['Category__Auto Theft'] == 1) &( gpf_crime['datetime'] >= '2017-01-01') & (gpf_crime['datetime'] <= '2017-12-31')], \"Auto Theft_2017_1000m\", 1000)\n",
    "gpf_house = ckdprox(gpf_house, gpf_crime[(gpf_crime['Category__Auto Theft'] == 1) &( gpf_crime['datetime'] >= '2018-01-01') & (gpf_crime['datetime'] <= '2018-12-31')], \"Auto Theft_2018_1000m\", 1000)\n",
    "gpf_house = ckdprox(gpf_house, gpf_crime[(gpf_crime['Category__Auto Theft'] == 1) &( gpf_crime['datetime'] >= '2019-01-01') & (gpf_crime['datetime'] <= '2019-12-31')], \"Auto Theft_2019_1000m\", 1000)\n",
    "\n",
    "\n",
    "\n",
    "gpf_house = ckdprox(gpf_house, gpf_crime[(gpf_crime['Category__Break and Enter'] == 1) &( gpf_crime['datetime'] >= '2014-01-01') & (gpf_crime['datetime'] <= '2014-12-31')], \"Break and Enter_2014_1000m\", 1000)\n",
    "gpf_house = ckdprox(gpf_house, gpf_crime[(gpf_crime['Category__Break and Enter'] == 1) &( gpf_crime['datetime'] >= '2015-01-01') & (gpf_crime['datetime'] <= '2015-12-31')], \"Break and Enter_2015_1000m\", 1000)\n",
    "gpf_house = ckdprox(gpf_house, gpf_crime[(gpf_crime['Category__Break and Enter'] == 1) &( gpf_crime['datetime'] >= '2016-01-01') & (gpf_crime['datetime'] <= '2016-12-31')], \"Break and Enter_2016_1000m\", 1000)\n",
    "gpf_house = ckdprox(gpf_house, gpf_crime[(gpf_crime['Category__Break and Enter'] == 1) &( gpf_crime['datetime'] >= '2017-01-01') & (gpf_crime['datetime'] <= '2017-12-31')], \"Break and Enter_2017_1000m\", 1000)\n",
    "gpf_house = ckdprox(gpf_house, gpf_crime[(gpf_crime['Category__Break and Enter'] == 1) &( gpf_crime['datetime'] >= '2018-01-01') & (gpf_crime['datetime'] <= '2018-12-31')], \"Break and Enter_2018_1000m\", 1000)\n",
    "gpf_house = ckdprox(gpf_house, gpf_crime[(gpf_crime['Category__Break and Enter'] == 1) &( gpf_crime['datetime'] >= '2019-01-01') & (gpf_crime['datetime'] <= '2019-12-31')], \"Break and Enter_2019_1000m\", 1000)\n",
    "\n",
    "\n",
    "\n",
    "gpf_house = ckdprox(gpf_house, gpf_crime[(gpf_crime['Category__Robbery'] == 1) &( gpf_crime['datetime'] >= '2014-01-01') & (gpf_crime['datetime'] <= '2014-12-31')], \"Robbery_2014_1000m\", 1000)\n",
    "gpf_house = ckdprox(gpf_house, gpf_crime[(gpf_crime['Category__Robbery'] == 1) &( gpf_crime['datetime'] >= '2015-01-01') & (gpf_crime['datetime'] <= '2015-12-31')], \"Robbery_2015_1000m\", 1000)\n",
    "gpf_house = ckdprox(gpf_house, gpf_crime[(gpf_crime['Category__Robbery'] == 1) &( gpf_crime['datetime'] >= '2016-01-01') & (gpf_crime['datetime'] <= '2016-12-31')], \"Robbery_2016_1000m\", 1000)\n",
    "gpf_house = ckdprox(gpf_house, gpf_crime[(gpf_crime['Category__Robbery'] == 1) &( gpf_crime['datetime'] >= '2017-01-01') & (gpf_crime['datetime'] <= '2017-12-31')], \"Robbery_2017_1000m\", 1000)\n",
    "gpf_house = ckdprox(gpf_house, gpf_crime[(gpf_crime['Category__Robbery'] == 1) &( gpf_crime['datetime'] >= '2018-01-01') & (gpf_crime['datetime'] <= '2018-12-31')], \"Robbery_2018_1000m\", 1000)\n",
    "gpf_house = ckdprox(gpf_house, gpf_crime[(gpf_crime['Category__Robbery'] == 1) &( gpf_crime['datetime'] >= '2019-01-01') & (gpf_crime['datetime'] <= '2019-12-31')], \"Robbery_2019_1000m\", 1000)\n",
    "\n",
    "\n",
    "\n",
    "gpf_house = ckdprox(gpf_house, gpf_crime[(gpf_crime['Category__Theft Over'] == 1) &( gpf_crime['datetime'] >= '2014-01-01') & (gpf_crime['datetime'] <= '2014-12-31')], \"Theft Over_2014_1000m\", 1000)\n",
    "gpf_house = ckdprox(gpf_house, gpf_crime[(gpf_crime['Category__Theft Over'] == 1) &( gpf_crime['datetime'] >= '2015-01-01') & (gpf_crime['datetime'] <= '2015-12-31')], \"Theft Over_2015_1000m\", 1000)\n",
    "gpf_house = ckdprox(gpf_house, gpf_crime[(gpf_crime['Category__Theft Over'] == 1) &( gpf_crime['datetime'] >= '2016-01-01') & (gpf_crime['datetime'] <= '2016-12-31')], \"Theft Over_2016_1000m\", 1000)\n",
    "gpf_house = ckdprox(gpf_house, gpf_crime[(gpf_crime['Category__Theft Over'] == 1) &( gpf_crime['datetime'] >= '2017-01-01') & (gpf_crime['datetime'] <= '2017-12-31')], \"Theft Over_2017_1000m\", 1000)\n",
    "gpf_house = ckdprox(gpf_house, gpf_crime[(gpf_crime['Category__Theft Over'] == 1) &( gpf_crime['datetime'] >= '2018-01-01') & (gpf_crime['datetime'] <= '2018-12-31')], \"Theft Over_2018_1000m\", 1000)\n",
    "gpf_house = ckdprox(gpf_house, gpf_crime[(gpf_crime['Category__Theft Over'] == 1) &( gpf_crime['datetime'] >= '2019-01-01') & (gpf_crime['datetime'] <= '2019-12-31')], \"Theft Over_2019_1000m\", 1000)\n",
    "\n"
   ]
  },
  {
   "cell_type": "code",
   "execution_count": 16,
   "metadata": {},
   "outputs": [],
   "source": [
    "col_sub1000 = []\n",
    "for i in range(2014, 2020):\n",
    "    col_sub1000.append(f'Assault_{i}_1000m')\n",
    "    col_sub1000.append(f'Auto Theft_{i}_1000m')\n",
    "    col_sub1000.append(f'Break and Enter_{i}_1000m')\n",
    "    col_sub1000.append(f'Robbery_{i}_1000m')\n",
    "    col_sub1000.append(f'Theft Over_{i}_1000m')\n",
    "\n",
    "col_sub500 = []\n",
    "for i in range(2014, 2020):\n",
    "    col_sub500.append(f'Assault_{i}_500m')\n",
    "    col_sub500.append(f'Auto Theft_{i}_500m')\n",
    "    col_sub500.append(f'Break and Enter_{i}_500m')\n",
    "    col_sub500.append(f'Robbery_{i}_500m')\n",
    "    col_sub500.append(f'Theft Over_{i}_500m')\n",
    "\n",
    "\n"
   ]
  },
  {
   "cell_type": "code",
   "execution_count": 17,
   "metadata": {},
   "outputs": [],
   "source": [
    "for i, j in zip(col_sub1000,col_sub500):\n",
    "    gpf_house[i] = gpf_house[i] - gpf_house[j] "
   ]
  },
  {
   "cell_type": "code",
   "execution_count": 18,
   "metadata": {},
   "outputs": [
    {
     "output_type": "execute_result",
     "data": {
      "text/plain": [
       "             lat       long    sqft  parking  mean_district_income  \\\n",
       "0      43.661896 -79.385748   850.0        1                 56526   \n",
       "1      43.646982 -79.530356     NaN        6                 52787   \n",
       "2      43.708472 -79.397498   550.0        0                 57039   \n",
       "3      43.638399 -79.414448   650.0        1                 70623   \n",
       "4      43.597096 -79.509612     NaN        1                 44101   \n",
       "...          ...        ...     ...      ...                   ...   \n",
       "15229  43.648317 -79.393065   750.0        1                 70600   \n",
       "15230  43.706338 -79.262789  3250.0        2                 36232   \n",
       "15231  43.788258 -79.160342     NaN        1                 54045   \n",
       "15232  43.660846 -79.378756   550.0        0                 53583   \n",
       "15233  43.691296 -79.268417     NaN        4                 54360   \n",
       "\n",
       "       bedrooms_bg  bedrooms_ag  bathrooms  final_price  \\\n",
       "0                1            2          2       855000   \n",
       "1                0            3          2       885000   \n",
       "2                0            1          1       550000   \n",
       "3                1            1          1       665000   \n",
       "4                0            2          2       825513   \n",
       "...            ...          ...        ...          ...   \n",
       "15229            0            2          2       785000   \n",
       "15230            0            5          5      1025000   \n",
       "15231            0            3          3       681000   \n",
       "15232            0            1          1       590000   \n",
       "15233            1            2          2       530000   \n",
       "\n",
       "       type_Att/Row/Twnhouse  ...  Robbery_2016_1000m  Robbery_2017_1000m  \\\n",
       "0                          0  ...                 133                 132   \n",
       "1                          0  ...                   9                  12   \n",
       "2                          0  ...                   9                   6   \n",
       "3                          0  ...                  13                   8   \n",
       "4                          0  ...                   8                   7   \n",
       "...                      ...  ...                 ...                 ...   \n",
       "15229                      0  ...                  60                  54   \n",
       "15230                      0  ...                  11                  12   \n",
       "15231                      1  ...                   3                   3   \n",
       "15232                      0  ...                 170                 202   \n",
       "15233                      0  ...                  11                   9   \n",
       "\n",
       "       Robbery_2018_1000m  Robbery_2019_1000m  Theft Over_2014_1000m  \\\n",
       "0                     166                 134                     30   \n",
       "1                      11                   5                      3   \n",
       "2                      13                   7                      6   \n",
       "3                       8                  15                      4   \n",
       "4                       6                   9                      0   \n",
       "...                   ...                 ...                    ...   \n",
       "15229                  59                  53                     41   \n",
       "15230                   5                   9                      0   \n",
       "15231                   0                   1                      1   \n",
       "15232                 228                 213                     38   \n",
       "15233                   5                   6                      1   \n",
       "\n",
       "       Theft Over_2015_1000m  Theft Over_2016_1000m  Theft Over_2017_1000m  \\\n",
       "0                         42                     29                     38   \n",
       "1                          0                      1                      2   \n",
       "2                          1                      4                      3   \n",
       "3                         12                     14                      7   \n",
       "4                          3                      2                      0   \n",
       "...                      ...                    ...                    ...   \n",
       "15229                     41                     39                     40   \n",
       "15230                      2                      1                      1   \n",
       "15231                      0                      1                      2   \n",
       "15232                     37                     43                     30   \n",
       "15233                      1                      6                      1   \n",
       "\n",
       "       Theft Over_2018_1000m  Theft Over_2019_1000m  \n",
       "0                         46                     48  \n",
       "1                          3                      6  \n",
       "2                          6                      7  \n",
       "3                         11                     20  \n",
       "4                          0                      0  \n",
       "...                      ...                    ...  \n",
       "15229                     46                     66  \n",
       "15230                      4                      2  \n",
       "15231                      4                      1  \n",
       "15232                     62                     59  \n",
       "15233                      3                      3  \n",
       "\n",
       "[15234 rows x 84 columns]"
      ],
      "text/html": "<div>\n<style scoped>\n    .dataframe tbody tr th:only-of-type {\n        vertical-align: middle;\n    }\n\n    .dataframe tbody tr th {\n        vertical-align: top;\n    }\n\n    .dataframe thead th {\n        text-align: right;\n    }\n</style>\n<table border=\"1\" class=\"dataframe\">\n  <thead>\n    <tr style=\"text-align: right;\">\n      <th></th>\n      <th>lat</th>\n      <th>long</th>\n      <th>sqft</th>\n      <th>parking</th>\n      <th>mean_district_income</th>\n      <th>bedrooms_bg</th>\n      <th>bedrooms_ag</th>\n      <th>bathrooms</th>\n      <th>final_price</th>\n      <th>type_Att/Row/Twnhouse</th>\n      <th>...</th>\n      <th>Robbery_2016_1000m</th>\n      <th>Robbery_2017_1000m</th>\n      <th>Robbery_2018_1000m</th>\n      <th>Robbery_2019_1000m</th>\n      <th>Theft Over_2014_1000m</th>\n      <th>Theft Over_2015_1000m</th>\n      <th>Theft Over_2016_1000m</th>\n      <th>Theft Over_2017_1000m</th>\n      <th>Theft Over_2018_1000m</th>\n      <th>Theft Over_2019_1000m</th>\n    </tr>\n  </thead>\n  <tbody>\n    <tr>\n      <th>0</th>\n      <td>43.661896</td>\n      <td>-79.385748</td>\n      <td>850.0</td>\n      <td>1</td>\n      <td>56526</td>\n      <td>1</td>\n      <td>2</td>\n      <td>2</td>\n      <td>855000</td>\n      <td>0</td>\n      <td>...</td>\n      <td>133</td>\n      <td>132</td>\n      <td>166</td>\n      <td>134</td>\n      <td>30</td>\n      <td>42</td>\n      <td>29</td>\n      <td>38</td>\n      <td>46</td>\n      <td>48</td>\n    </tr>\n    <tr>\n      <th>1</th>\n      <td>43.646982</td>\n      <td>-79.530356</td>\n      <td>NaN</td>\n      <td>6</td>\n      <td>52787</td>\n      <td>0</td>\n      <td>3</td>\n      <td>2</td>\n      <td>885000</td>\n      <td>0</td>\n      <td>...</td>\n      <td>9</td>\n      <td>12</td>\n      <td>11</td>\n      <td>5</td>\n      <td>3</td>\n      <td>0</td>\n      <td>1</td>\n      <td>2</td>\n      <td>3</td>\n      <td>6</td>\n    </tr>\n    <tr>\n      <th>2</th>\n      <td>43.708472</td>\n      <td>-79.397498</td>\n      <td>550.0</td>\n      <td>0</td>\n      <td>57039</td>\n      <td>0</td>\n      <td>1</td>\n      <td>1</td>\n      <td>550000</td>\n      <td>0</td>\n      <td>...</td>\n      <td>9</td>\n      <td>6</td>\n      <td>13</td>\n      <td>7</td>\n      <td>6</td>\n      <td>1</td>\n      <td>4</td>\n      <td>3</td>\n      <td>6</td>\n      <td>7</td>\n    </tr>\n    <tr>\n      <th>3</th>\n      <td>43.638399</td>\n      <td>-79.414448</td>\n      <td>650.0</td>\n      <td>1</td>\n      <td>70623</td>\n      <td>1</td>\n      <td>1</td>\n      <td>1</td>\n      <td>665000</td>\n      <td>0</td>\n      <td>...</td>\n      <td>13</td>\n      <td>8</td>\n      <td>8</td>\n      <td>15</td>\n      <td>4</td>\n      <td>12</td>\n      <td>14</td>\n      <td>7</td>\n      <td>11</td>\n      <td>20</td>\n    </tr>\n    <tr>\n      <th>4</th>\n      <td>43.597096</td>\n      <td>-79.509612</td>\n      <td>NaN</td>\n      <td>1</td>\n      <td>44101</td>\n      <td>0</td>\n      <td>2</td>\n      <td>2</td>\n      <td>825513</td>\n      <td>0</td>\n      <td>...</td>\n      <td>8</td>\n      <td>7</td>\n      <td>6</td>\n      <td>9</td>\n      <td>0</td>\n      <td>3</td>\n      <td>2</td>\n      <td>0</td>\n      <td>0</td>\n      <td>0</td>\n    </tr>\n    <tr>\n      <th>...</th>\n      <td>...</td>\n      <td>...</td>\n      <td>...</td>\n      <td>...</td>\n      <td>...</td>\n      <td>...</td>\n      <td>...</td>\n      <td>...</td>\n      <td>...</td>\n      <td>...</td>\n      <td>...</td>\n      <td>...</td>\n      <td>...</td>\n      <td>...</td>\n      <td>...</td>\n      <td>...</td>\n      <td>...</td>\n      <td>...</td>\n      <td>...</td>\n      <td>...</td>\n      <td>...</td>\n    </tr>\n    <tr>\n      <th>15229</th>\n      <td>43.648317</td>\n      <td>-79.393065</td>\n      <td>750.0</td>\n      <td>1</td>\n      <td>70600</td>\n      <td>0</td>\n      <td>2</td>\n      <td>2</td>\n      <td>785000</td>\n      <td>0</td>\n      <td>...</td>\n      <td>60</td>\n      <td>54</td>\n      <td>59</td>\n      <td>53</td>\n      <td>41</td>\n      <td>41</td>\n      <td>39</td>\n      <td>40</td>\n      <td>46</td>\n      <td>66</td>\n    </tr>\n    <tr>\n      <th>15230</th>\n      <td>43.706338</td>\n      <td>-79.262789</td>\n      <td>3250.0</td>\n      <td>2</td>\n      <td>36232</td>\n      <td>0</td>\n      <td>5</td>\n      <td>5</td>\n      <td>1025000</td>\n      <td>0</td>\n      <td>...</td>\n      <td>11</td>\n      <td>12</td>\n      <td>5</td>\n      <td>9</td>\n      <td>0</td>\n      <td>2</td>\n      <td>1</td>\n      <td>1</td>\n      <td>4</td>\n      <td>2</td>\n    </tr>\n    <tr>\n      <th>15231</th>\n      <td>43.788258</td>\n      <td>-79.160342</td>\n      <td>NaN</td>\n      <td>1</td>\n      <td>54045</td>\n      <td>0</td>\n      <td>3</td>\n      <td>3</td>\n      <td>681000</td>\n      <td>1</td>\n      <td>...</td>\n      <td>3</td>\n      <td>3</td>\n      <td>0</td>\n      <td>1</td>\n      <td>1</td>\n      <td>0</td>\n      <td>1</td>\n      <td>2</td>\n      <td>4</td>\n      <td>1</td>\n    </tr>\n    <tr>\n      <th>15232</th>\n      <td>43.660846</td>\n      <td>-79.378756</td>\n      <td>550.0</td>\n      <td>0</td>\n      <td>53583</td>\n      <td>0</td>\n      <td>1</td>\n      <td>1</td>\n      <td>590000</td>\n      <td>0</td>\n      <td>...</td>\n      <td>170</td>\n      <td>202</td>\n      <td>228</td>\n      <td>213</td>\n      <td>38</td>\n      <td>37</td>\n      <td>43</td>\n      <td>30</td>\n      <td>62</td>\n      <td>59</td>\n    </tr>\n    <tr>\n      <th>15233</th>\n      <td>43.691296</td>\n      <td>-79.268417</td>\n      <td>NaN</td>\n      <td>4</td>\n      <td>54360</td>\n      <td>1</td>\n      <td>2</td>\n      <td>2</td>\n      <td>530000</td>\n      <td>0</td>\n      <td>...</td>\n      <td>11</td>\n      <td>9</td>\n      <td>5</td>\n      <td>6</td>\n      <td>1</td>\n      <td>1</td>\n      <td>6</td>\n      <td>1</td>\n      <td>3</td>\n      <td>3</td>\n    </tr>\n  </tbody>\n</table>\n<p>15234 rows × 84 columns</p>\n</div>"
     },
     "metadata": {},
     "execution_count": 18
    }
   ],
   "source": [
    "gpf_house"
   ]
  }
 ]
}