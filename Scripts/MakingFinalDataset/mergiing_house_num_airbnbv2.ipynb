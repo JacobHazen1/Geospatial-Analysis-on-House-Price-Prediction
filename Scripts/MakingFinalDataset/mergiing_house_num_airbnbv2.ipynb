{
 "metadata": {
  "language_info": {
   "codemirror_mode": {
    "name": "ipython",
    "version": 3
   },
   "file_extension": ".py",
   "mimetype": "text/x-python",
   "name": "python",
   "nbconvert_exporter": "python",
   "pygments_lexer": "ipython3",
   "version": "3.8.5-final"
  },
  "orig_nbformat": 2,
  "kernelspec": {
   "name": "python3",
   "display_name": "Python 3",
   "language": "python"
  }
 },
 "nbformat": 4,
 "nbformat_minor": 2,
 "cells": [
  {
   "cell_type": "code",
   "execution_count": 1,
   "metadata": {},
   "outputs": [],
   "source": [
    "import pandas as pd "
   ]
  },
  {
   "cell_type": "code",
   "execution_count": 2,
   "metadata": {},
   "outputs": [],
   "source": [
    "dforg = pd.read_csv('/home/semipro321/Documents/Workspace/Geospatial-Analysis-on-House-Price-Prediction/Inputs/mastermodel_filledv2.csv')\n",
    "dfnew = pd.read_csv('/home/semipro321/Documents/Workspace/Geospatial-Analysis-on-House-Price-Prediction/Inputs/Airbnb/House_num_airbnbv2.csv')"
   ]
  },
  {
   "cell_type": "code",
   "execution_count": 3,
   "metadata": {},
   "outputs": [
    {
     "output_type": "execute_result",
     "data": {
      "text/plain": [
       "          sqft  parking  mean_district_income  bedrooms_bg  bedrooms_ag  \\\n",
       "0   850.000000        1                 56526            1            2   \n",
       "1  1295.319092        6                 52787            0            3   \n",
       "2   550.000000        0                 57039            0            1   \n",
       "3   650.000000        1                 70623            1            1   \n",
       "4   977.184326        1                 44101            0            2   \n",
       "\n",
       "   bathrooms  final_price  type_Att/Row/Twnhouse  type_Co-Op Apt  \\\n",
       "0          2       855000                      0               0   \n",
       "1          2       885000                      0               0   \n",
       "2          1       550000                      0               0   \n",
       "3          1       665000                      0               0   \n",
       "4          2       825513                      0               0   \n",
       "\n",
       "   type_Co-Ownership Apt  ...  neighbourhood_Woodbine-Lumsden  \\\n",
       "0                      0  ...                               0   \n",
       "1                      0  ...                               0   \n",
       "2                      0  ...                               0   \n",
       "3                      0  ...                               0   \n",
       "4                      0  ...                               0   \n",
       "\n",
       "   neighbourhood_Wychwood  neighbourhood_Yonge-Eglinton  \\\n",
       "0                       0                             0   \n",
       "1                       0                             0   \n",
       "2                       0                             0   \n",
       "3                       0                             0   \n",
       "4                       0                             0   \n",
       "\n",
       "   neighbourhood_Yonge-St.Clair  neighbourhood_York University Heights  \\\n",
       "0                             0                                      0   \n",
       "1                             0                                      0   \n",
       "2                             0                                      0   \n",
       "3                             0                                      0   \n",
       "4                             0                                      0   \n",
       "\n",
       "   neighbourhood_Yorkdale-Glen Park  Auto Theft500m  Auto Theft1000m  \\\n",
       "0                                 0              55              230   \n",
       "1                                 0              40               61   \n",
       "2                                 0              29               63   \n",
       "3                                 0              37               82   \n",
       "4                                 0              19               37   \n",
       "\n",
       "   violent_crime1000m  violent_crime500m  \n",
       "0                7409               2994  \n",
       "1                 381                570  \n",
       "2                 830               1241  \n",
       "3                1732                683  \n",
       "4                 642                215  \n",
       "\n",
       "[5 rows x 166 columns]"
      ],
      "text/html": "<div>\n<style scoped>\n    .dataframe tbody tr th:only-of-type {\n        vertical-align: middle;\n    }\n\n    .dataframe tbody tr th {\n        vertical-align: top;\n    }\n\n    .dataframe thead th {\n        text-align: right;\n    }\n</style>\n<table border=\"1\" class=\"dataframe\">\n  <thead>\n    <tr style=\"text-align: right;\">\n      <th></th>\n      <th>sqft</th>\n      <th>parking</th>\n      <th>mean_district_income</th>\n      <th>bedrooms_bg</th>\n      <th>bedrooms_ag</th>\n      <th>bathrooms</th>\n      <th>final_price</th>\n      <th>type_Att/Row/Twnhouse</th>\n      <th>type_Co-Op Apt</th>\n      <th>type_Co-Ownership Apt</th>\n      <th>...</th>\n      <th>neighbourhood_Woodbine-Lumsden</th>\n      <th>neighbourhood_Wychwood</th>\n      <th>neighbourhood_Yonge-Eglinton</th>\n      <th>neighbourhood_Yonge-St.Clair</th>\n      <th>neighbourhood_York University Heights</th>\n      <th>neighbourhood_Yorkdale-Glen Park</th>\n      <th>Auto Theft500m</th>\n      <th>Auto Theft1000m</th>\n      <th>violent_crime1000m</th>\n      <th>violent_crime500m</th>\n    </tr>\n  </thead>\n  <tbody>\n    <tr>\n      <th>0</th>\n      <td>850.000000</td>\n      <td>1</td>\n      <td>56526</td>\n      <td>1</td>\n      <td>2</td>\n      <td>2</td>\n      <td>855000</td>\n      <td>0</td>\n      <td>0</td>\n      <td>0</td>\n      <td>...</td>\n      <td>0</td>\n      <td>0</td>\n      <td>0</td>\n      <td>0</td>\n      <td>0</td>\n      <td>0</td>\n      <td>55</td>\n      <td>230</td>\n      <td>7409</td>\n      <td>2994</td>\n    </tr>\n    <tr>\n      <th>1</th>\n      <td>1295.319092</td>\n      <td>6</td>\n      <td>52787</td>\n      <td>0</td>\n      <td>3</td>\n      <td>2</td>\n      <td>885000</td>\n      <td>0</td>\n      <td>0</td>\n      <td>0</td>\n      <td>...</td>\n      <td>0</td>\n      <td>0</td>\n      <td>0</td>\n      <td>0</td>\n      <td>0</td>\n      <td>0</td>\n      <td>40</td>\n      <td>61</td>\n      <td>381</td>\n      <td>570</td>\n    </tr>\n    <tr>\n      <th>2</th>\n      <td>550.000000</td>\n      <td>0</td>\n      <td>57039</td>\n      <td>0</td>\n      <td>1</td>\n      <td>1</td>\n      <td>550000</td>\n      <td>0</td>\n      <td>0</td>\n      <td>0</td>\n      <td>...</td>\n      <td>0</td>\n      <td>0</td>\n      <td>0</td>\n      <td>0</td>\n      <td>0</td>\n      <td>0</td>\n      <td>29</td>\n      <td>63</td>\n      <td>830</td>\n      <td>1241</td>\n    </tr>\n    <tr>\n      <th>3</th>\n      <td>650.000000</td>\n      <td>1</td>\n      <td>70623</td>\n      <td>1</td>\n      <td>1</td>\n      <td>1</td>\n      <td>665000</td>\n      <td>0</td>\n      <td>0</td>\n      <td>0</td>\n      <td>...</td>\n      <td>0</td>\n      <td>0</td>\n      <td>0</td>\n      <td>0</td>\n      <td>0</td>\n      <td>0</td>\n      <td>37</td>\n      <td>82</td>\n      <td>1732</td>\n      <td>683</td>\n    </tr>\n    <tr>\n      <th>4</th>\n      <td>977.184326</td>\n      <td>1</td>\n      <td>44101</td>\n      <td>0</td>\n      <td>2</td>\n      <td>2</td>\n      <td>825513</td>\n      <td>0</td>\n      <td>0</td>\n      <td>0</td>\n      <td>...</td>\n      <td>0</td>\n      <td>0</td>\n      <td>0</td>\n      <td>0</td>\n      <td>0</td>\n      <td>0</td>\n      <td>19</td>\n      <td>37</td>\n      <td>642</td>\n      <td>215</td>\n    </tr>\n  </tbody>\n</table>\n<p>5 rows × 166 columns</p>\n</div>"
     },
     "metadata": {},
     "execution_count": 3
    }
   ],
   "source": [
    "dforg.head()"
   ]
  },
  {
   "cell_type": "code",
   "execution_count": 6,
   "metadata": {},
   "outputs": [
    {
     "output_type": "execute_result",
     "data": {
      "text/plain": [
       "         lat       long    sqft  parking  mean_district_income  bedrooms_bg  \\\n",
       "0  43.753182 -79.507053     NaN        4                 29958            1   \n",
       "1  43.753090 -79.491536  1300.0        1                 29958            0   \n",
       "2  43.753090 -79.491536  1300.0        3                 29958            1   \n",
       "3  43.753177 -79.490821   950.0        1                 29958            0   \n",
       "4  43.753177 -79.490821   650.0        1                 29958            0   \n",
       "\n",
       "   bedrooms_ag  bathrooms  final_price  type_Att/Row/Twnhouse  ...  \\\n",
       "0            3          2       930000                      0  ...   \n",
       "1            3          3       413000                      0  ...   \n",
       "2            3          2       400000                      0  ...   \n",
       "3            2          1       343000                      0  ...   \n",
       "4            1          1       318000                      0  ...   \n",
       "\n",
       "   type_Semi-Detached  type_Store W/Apt/Offc            neighbourhood  \\\n",
       "0                   0                      0  York University Heights   \n",
       "1                   0                      0  York University Heights   \n",
       "2                   0                      0  York University Heights   \n",
       "3                   0                      0  York University Heights   \n",
       "4                   0                      0  York University Heights   \n",
       "\n",
       "                                       geometry  Airbnb19_500m  \\\n",
       "0  POINT (-1388957.608410053 14388213.36723943)             26   \n",
       "1   POINT (-1390210.682081771 14387913.3911967)             12   \n",
       "2   POINT (-1390210.682081771 14387913.3911967)             12   \n",
       "3  POINT (-1390265.891542583 14387889.37642985)             11   \n",
       "4  POINT (-1390265.891542583 14387889.37642985)             11   \n",
       "\n",
       "   Airbnb19_1000m  Airbnb15_500m  Airbnb15_1000m  Airbnb500m_YOY1519  \\\n",
       "0              19              0               0                  26   \n",
       "1              19              2               1                  10   \n",
       "2              19              2               1                  10   \n",
       "3              17              2               1                   9   \n",
       "4              17              2               1                   9   \n",
       "\n",
       "   Airbnb1000m_YOY1519  \n",
       "0                   19  \n",
       "1                   18  \n",
       "2                   18  \n",
       "3                   16  \n",
       "4                   16  \n",
       "\n",
       "[5 rows x 28 columns]"
      ],
      "text/html": "<div>\n<style scoped>\n    .dataframe tbody tr th:only-of-type {\n        vertical-align: middle;\n    }\n\n    .dataframe tbody tr th {\n        vertical-align: top;\n    }\n\n    .dataframe thead th {\n        text-align: right;\n    }\n</style>\n<table border=\"1\" class=\"dataframe\">\n  <thead>\n    <tr style=\"text-align: right;\">\n      <th></th>\n      <th>lat</th>\n      <th>long</th>\n      <th>sqft</th>\n      <th>parking</th>\n      <th>mean_district_income</th>\n      <th>bedrooms_bg</th>\n      <th>bedrooms_ag</th>\n      <th>bathrooms</th>\n      <th>final_price</th>\n      <th>type_Att/Row/Twnhouse</th>\n      <th>...</th>\n      <th>type_Semi-Detached</th>\n      <th>type_Store W/Apt/Offc</th>\n      <th>neighbourhood</th>\n      <th>geometry</th>\n      <th>Airbnb19_500m</th>\n      <th>Airbnb19_1000m</th>\n      <th>Airbnb15_500m</th>\n      <th>Airbnb15_1000m</th>\n      <th>Airbnb500m_YOY1519</th>\n      <th>Airbnb1000m_YOY1519</th>\n    </tr>\n  </thead>\n  <tbody>\n    <tr>\n      <th>0</th>\n      <td>43.753182</td>\n      <td>-79.507053</td>\n      <td>NaN</td>\n      <td>4</td>\n      <td>29958</td>\n      <td>1</td>\n      <td>3</td>\n      <td>2</td>\n      <td>930000</td>\n      <td>0</td>\n      <td>...</td>\n      <td>0</td>\n      <td>0</td>\n      <td>York University Heights</td>\n      <td>POINT (-1388957.608410053 14388213.36723943)</td>\n      <td>26</td>\n      <td>19</td>\n      <td>0</td>\n      <td>0</td>\n      <td>26</td>\n      <td>19</td>\n    </tr>\n    <tr>\n      <th>1</th>\n      <td>43.753090</td>\n      <td>-79.491536</td>\n      <td>1300.0</td>\n      <td>1</td>\n      <td>29958</td>\n      <td>0</td>\n      <td>3</td>\n      <td>3</td>\n      <td>413000</td>\n      <td>0</td>\n      <td>...</td>\n      <td>0</td>\n      <td>0</td>\n      <td>York University Heights</td>\n      <td>POINT (-1390210.682081771 14387913.3911967)</td>\n      <td>12</td>\n      <td>19</td>\n      <td>2</td>\n      <td>1</td>\n      <td>10</td>\n      <td>18</td>\n    </tr>\n    <tr>\n      <th>2</th>\n      <td>43.753090</td>\n      <td>-79.491536</td>\n      <td>1300.0</td>\n      <td>3</td>\n      <td>29958</td>\n      <td>1</td>\n      <td>3</td>\n      <td>2</td>\n      <td>400000</td>\n      <td>0</td>\n      <td>...</td>\n      <td>0</td>\n      <td>0</td>\n      <td>York University Heights</td>\n      <td>POINT (-1390210.682081771 14387913.3911967)</td>\n      <td>12</td>\n      <td>19</td>\n      <td>2</td>\n      <td>1</td>\n      <td>10</td>\n      <td>18</td>\n    </tr>\n    <tr>\n      <th>3</th>\n      <td>43.753177</td>\n      <td>-79.490821</td>\n      <td>950.0</td>\n      <td>1</td>\n      <td>29958</td>\n      <td>0</td>\n      <td>2</td>\n      <td>1</td>\n      <td>343000</td>\n      <td>0</td>\n      <td>...</td>\n      <td>0</td>\n      <td>0</td>\n      <td>York University Heights</td>\n      <td>POINT (-1390265.891542583 14387889.37642985)</td>\n      <td>11</td>\n      <td>17</td>\n      <td>2</td>\n      <td>1</td>\n      <td>9</td>\n      <td>16</td>\n    </tr>\n    <tr>\n      <th>4</th>\n      <td>43.753177</td>\n      <td>-79.490821</td>\n      <td>650.0</td>\n      <td>1</td>\n      <td>29958</td>\n      <td>0</td>\n      <td>1</td>\n      <td>1</td>\n      <td>318000</td>\n      <td>0</td>\n      <td>...</td>\n      <td>0</td>\n      <td>0</td>\n      <td>York University Heights</td>\n      <td>POINT (-1390265.891542583 14387889.37642985)</td>\n      <td>11</td>\n      <td>17</td>\n      <td>2</td>\n      <td>1</td>\n      <td>9</td>\n      <td>16</td>\n    </tr>\n  </tbody>\n</table>\n<p>5 rows × 28 columns</p>\n</div>"
     },
     "metadata": {},
     "execution_count": 6
    }
   ],
   "source": [
    "dfnew.head()"
   ]
  },
  {
   "cell_type": "code",
   "execution_count": 8,
   "metadata": {},
   "outputs": [
    {
     "output_type": "execute_result",
     "data": {
      "text/plain": [
       "(15234, 166)"
      ]
     },
     "metadata": {},
     "execution_count": 8
    }
   ],
   "source": [
    "dforg.shape"
   ]
  },
  {
   "cell_type": "code",
   "execution_count": 9,
   "metadata": {},
   "outputs": [
    {
     "output_type": "execute_result",
     "data": {
      "text/plain": [
       "(15234, 28)"
      ]
     },
     "metadata": {},
     "execution_count": 9
    }
   ],
   "source": [
    "dfnew.shape"
   ]
  },
  {
   "cell_type": "code",
   "execution_count": 11,
   "metadata": {},
   "outputs": [],
   "source": [
    "dfnew = dfnew[['Airbnb500m_YOY1519', 'Airbnb1000m_YOY1519']]"
   ]
  },
  {
   "cell_type": "code",
   "execution_count": 16,
   "metadata": {},
   "outputs": [],
   "source": [
    "df = dforg.merge(dfnew, left_index=True, right_index=True)"
   ]
  },
  {
   "cell_type": "code",
   "execution_count": 18,
   "metadata": {},
   "outputs": [],
   "source": [
    "df.drop(columns=['Airbnb_500m', 'Airbnb_1000m'], inplace=True)"
   ]
  },
  {
   "cell_type": "code",
   "execution_count": 19,
   "metadata": {},
   "outputs": [],
   "source": [
    "df.to_csv('mastermodel_filled_Airbnbfix.csv', index=False)"
   ]
  },
  {
   "cell_type": "code",
   "execution_count": null,
   "metadata": {},
   "outputs": [],
   "source": []
  }
 ]
}