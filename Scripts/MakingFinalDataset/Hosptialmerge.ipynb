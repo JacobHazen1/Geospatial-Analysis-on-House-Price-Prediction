{
 "metadata": {
  "language_info": {
   "codemirror_mode": {
    "name": "ipython",
    "version": 3
   },
   "file_extension": ".py",
   "mimetype": "text/x-python",
   "name": "python",
   "nbconvert_exporter": "python",
   "pygments_lexer": "ipython3",
   "version": "3.8.5"
  },
  "orig_nbformat": 2,
  "kernelspec": {
   "name": "python3",
   "display_name": "Python 3",
   "language": "python"
  }
 },
 "nbformat": 4,
 "nbformat_minor": 2,
 "cells": [
  {
   "cell_type": "code",
   "execution_count": 5,
   "metadata": {},
   "outputs": [],
   "source": [
    "import pandas as pd \n",
    "import geopandas as gp\n",
    "from shapely.ops import nearest_points\n",
    "from shapely.geometry import Point\n",
    "import numpy as np\n",
    "from scipy.spatial import cKDTree\n",
    "path = r'/home/semipro321/Documents/Workspace/Geospatial-Analysis-on-House-Price-Prediction/'\n",
    "df_house = pd.read_csv(path + 'Inputs/House/house_with_neigh.csv')\n",
    "df_hospital = pd.read_csv(path + 'Inputs/Hospitals/Hosptials_with_neigh.csv')\n",
    "gpf_house = gp.GeoDataFrame(df_house, crs=\"EPSG:4326\", geometry=gp.points_from_xy(df_house.long,df_house.lat))\n",
    "gpf_hosptial = gp.GeoDataFrame(df_hospital, crs=\"EPSG:4326\", geometry=gp.points_from_xy(df_hospital.Long,df_hospital.Lat))\n"
   ]
  },
  {
   "cell_type": "code",
   "execution_count": 7,
   "metadata": {},
   "outputs": [],
   "source": [
    "def ckdnearest(gdA, gdB, distcol):\n",
    "    gdA['geometry'] = gdA.geometry.to_crs('EPSG:5234')\n",
    "    gdB['geometry'] = gdB.geometry.to_crs('EPSG:5234')\n",
    "\n",
    "    nA = np.array(list(gdA.geometry.apply(lambda x: (x.x, x.y))))\n",
    "    nB = np.array(list(gdB.geometry.apply(lambda x: (x.x, x.y))))\n",
    "    btree = cKDTree(nB)\n",
    "    dist, idx = btree.query(nA, k=1)\n",
    "    #If you want other features from B\n",
    "    #gdB_nearest = gdB.iloc[idx].drop(columns=\"geometry\").reset_index(drop=True)\n",
    "    gdf = pd.concat(\n",
    "        [\n",
    "            gdA.reset_index(drop=True),\n",
    "            #If you want other features from B\n",
    "            #gdB_nearest,\n",
    "            pd.Series(dist, name=distcol)\n",
    "        ], \n",
    "        axis=1)\n",
    "\n",
    "    return gdf"
   ]
  },
  {
   "cell_type": "code",
   "execution_count": 8,
   "metadata": {},
   "outputs": [],
   "source": [
    "gpf_house = ckdnearest(gpf_house, gpf_hosptial, 'dist_nearest_hospital')"
   ]
  },
  {
   "cell_type": "code",
   "execution_count": 11,
   "metadata": {},
   "outputs": [
    {
     "output_type": "execute_result",
     "data": {
      "text/plain": [
       "0         130.779836\n",
       "1          53.767077\n",
       "2          62.007656\n",
       "3         310.202984\n",
       "4         349.138636\n",
       "            ...     \n",
       "15229     216.857563\n",
       "15230     572.164590\n",
       "15231    3612.816247\n",
       "15232      54.586746\n",
       "15233     323.830583\n",
       "Name: dist_nearest_hospital, Length: 15234, dtype: float64"
      ]
     },
     "metadata": {},
     "execution_count": 11
    }
   ],
   "source": [
    "gpf_house['dist_nearest_hospital']"
   ]
  },
  {
   "cell_type": "code",
   "execution_count": 12,
   "metadata": {},
   "outputs": [],
   "source": [
    "df_master = pd.read_csv(path + 'Inputs/mastermodel_filledv3.csv')"
   ]
  },
  {
   "cell_type": "code",
   "execution_count": 14,
   "metadata": {},
   "outputs": [],
   "source": [
    "df_master = pd.merge(df_master, gpf_house['dist_nearest_hospital'], left_index=True, right_index=True)"
   ]
  },
  {
   "cell_type": "code",
   "execution_count": 16,
   "metadata": {},
   "outputs": [],
   "source": [
    "df_master.to_csv('mastermodel_filledv4.csv', index=False)"
   ]
  },
  {
   "cell_type": "code",
   "execution_count": null,
   "metadata": {},
   "outputs": [],
   "source": []
  }
 ]
}