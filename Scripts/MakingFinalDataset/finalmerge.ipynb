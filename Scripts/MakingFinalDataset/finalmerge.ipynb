{
 "metadata": {
  "language_info": {
   "codemirror_mode": {
    "name": "ipython",
    "version": 3
   },
   "file_extension": ".py",
   "mimetype": "text/x-python",
   "name": "python",
   "nbconvert_exporter": "python",
   "pygments_lexer": "ipython3",
   "version": "3.8.5-final"
  },
  "orig_nbformat": 2,
  "kernelspec": {
   "name": "python3",
   "display_name": "Python 3",
   "language": "python"
  }
 },
 "nbformat": 4,
 "nbformat_minor": 2,
 "cells": [
  {
   "cell_type": "code",
   "execution_count": 1,
   "metadata": {},
   "outputs": [],
   "source": [
    "import pandas as pd "
   ]
  },
  {
   "cell_type": "code",
   "execution_count": 3,
   "metadata": {},
   "outputs": [],
   "source": [
    "abspath = '/home/semipro321/Documents/Workspace/Geospatial-Analysis-on-House-Price-Prediction/Inputs/'"
   ]
  },
  {
   "cell_type": "code",
   "execution_count": 5,
   "metadata": {},
   "outputs": [],
   "source": [
    "df_airbnb = pd.read_csv(abspath + 'House/House_num_airbnb.csv')\n",
    "df = pd.read_csv('output.csv')"
   ]
  },
  {
   "cell_type": "code",
   "execution_count": 8,
   "metadata": {},
   "outputs": [
    {
     "output_type": "execute_result",
     "data": {
      "text/plain": [
       "Index(['lat', 'long', 'sqft', 'parking', 'mean_district_income', 'bedrooms_bg',\n",
       "       'bedrooms_ag', 'bathrooms', 'final_price', 'type_Att/Row/Twnhouse',\n",
       "       'type_Co-Op Apt', 'type_Co-Ownership Apt', 'type_Comm Element Condo',\n",
       "       'type_Condo Apt', 'type_Condo Townhouse', 'type_Detached', 'type_Link',\n",
       "       'type_Plex', 'type_Semi-Detached', 'type_Store W/Apt/Offc', 'geometry',\n",
       "       'neighbourhood', 'dist_nearest_school', 'dist_nearest_ttc',\n",
       "       'Assault_2014_500m', 'Assault_2015_500m', 'Assault_2016_500m',\n",
       "       'Assault_2017_500m', 'Assault_2018_500m', 'Assault_2019_500m',\n",
       "       'Auto Theft_2014_500m', 'Auto Theft_2015_500m', 'Auto Theft_2016_500m',\n",
       "       'Auto Theft_2017_500m', 'Auto Theft_2018_500m', 'Auto Theft_2019_500m',\n",
       "       'Break and Enter_2014_500m', 'Break and Enter_2015_500m',\n",
       "       'Break and Enter_2016_500m', 'Break and Enter_2017_500m',\n",
       "       'Break and Enter_2018_500m', 'Break and Enter_2019_500m',\n",
       "       'Robbery_2014_500m', 'Robbery_2015_500m', 'Robbery_2016_500m',\n",
       "       'Robbery_2017_500m', 'Robbery_2018_500m', 'Robbery_2019_500m',\n",
       "       'Theft Over_2014_500m', 'Theft Over_2015_500m', 'Theft Over_2016_500m',\n",
       "       'Theft Over_2017_500m', 'Theft Over_2018_500m', 'Theft Over_2019_500m',\n",
       "       'Assault_2014_1000m', 'Assault_2015_1000m', 'Assault_2016_1000m',\n",
       "       'Assault_2017_1000m', 'Assault_2018_1000m', 'Assault_2019_1000m',\n",
       "       'Auto Theft_2014_1000m', 'Auto Theft_2015_1000m',\n",
       "       'Auto Theft_2016_1000m', 'Auto Theft_2017_1000m',\n",
       "       'Auto Theft_2018_1000m', 'Auto Theft_2019_1000m',\n",
       "       'Break and Enter_2014_1000m', 'Break and Enter_2015_1000m',\n",
       "       'Break and Enter_2016_1000m', 'Break and Enter_2017_1000m',\n",
       "       'Break and Enter_2018_1000m', 'Break and Enter_2019_1000m',\n",
       "       'Robbery_2014_1000m', 'Robbery_2015_1000m', 'Robbery_2016_1000m',\n",
       "       'Robbery_2017_1000m', 'Robbery_2018_1000m', 'Robbery_2019_1000m',\n",
       "       'Theft Over_2014_1000m', 'Theft Over_2015_1000m',\n",
       "       'Theft Over_2016_1000m', 'Theft Over_2017_1000m',\n",
       "       'Theft Over_2018_1000m', 'Theft Over_2019_1000m'],\n",
       "      dtype='object')"
      ]
     },
     "metadata": {},
     "execution_count": 8
    }
   ],
   "source": [
    "df.columns"
   ]
  },
  {
   "cell_type": "code",
   "execution_count": 9,
   "metadata": {},
   "outputs": [],
   "source": [
    "df_airbnb.rename(columns={'within_500_m':'Airbnb_500m', 'within_500_1km':'Airbnb_1000m' },inplace = True)"
   ]
  },
  {
   "cell_type": "code",
   "execution_count": 10,
   "metadata": {},
   "outputs": [],
   "source": [
    "select_col_airbnb = ['Airbnb_500m','Airbnb_1000m']\n",
    "df_airbnb = df_airbnb[select_col_airbnb]"
   ]
  },
  {
   "cell_type": "code",
   "execution_count": 11,
   "metadata": {},
   "outputs": [
    {
     "output_type": "execute_result",
     "data": {
      "text/plain": [
       "15234"
      ]
     },
     "metadata": {},
     "execution_count": 11
    }
   ],
   "source": [
    "len(df_airbnb)"
   ]
  },
  {
   "cell_type": "code",
   "execution_count": null,
   "metadata": {},
   "outputs": [],
   "source": []
  }
 ]
}