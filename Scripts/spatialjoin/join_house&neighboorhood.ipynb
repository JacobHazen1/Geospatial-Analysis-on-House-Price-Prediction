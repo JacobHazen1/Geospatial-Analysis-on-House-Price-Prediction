{
 "metadata": {
  "language_info": {
   "codemirror_mode": {
    "name": "ipython",
    "version": 3
   },
   "file_extension": ".py",
   "mimetype": "text/x-python",
   "name": "python",
   "nbconvert_exporter": "python",
   "pygments_lexer": "ipython3",
   "version": "3.8.5-final"
  },
  "orig_nbformat": 2,
  "kernelspec": {
   "name": "python3",
   "display_name": "Python 3",
   "language": "python"
  }
 },
 "nbformat": 4,
 "nbformat_minor": 2,
 "cells": [
  {
   "cell_type": "code",
   "execution_count": 10,
   "metadata": {},
   "outputs": [],
   "source": [
    "import pandas as pd \n",
    "import geopandas as gp\n"
   ]
  },
  {
   "cell_type": "code",
   "execution_count": 3,
   "metadata": {},
   "outputs": [
    {
     "output_type": "stream",
     "name": "stdout",
     "text": [
      "Collecting geopandas\n",
      "  Downloading geopandas-0.8.2-py2.py3-none-any.whl (962 kB)\n",
      "\u001b[K     |████████████████████████████████| 962 kB 2.3 MB/s \n",
      "\u001b[?25hRequirement already satisfied: pandas>=0.23.0 in /home/semipro321/anaconda3/lib/python3.8/site-packages (from geopandas) (1.0.5)\n",
      "Collecting shapely\n",
      "  Downloading Shapely-1.7.1-cp38-cp38-manylinux1_x86_64.whl (1.0 MB)\n",
      "\u001b[K     |████████████████████████████████| 1.0 MB 2.5 MB/s \n",
      "\u001b[?25hCollecting pyproj>=2.2.0\n",
      "  Downloading pyproj-3.0.0.post1-cp38-cp38-manylinux2010_x86_64.whl (6.5 MB)\n",
      "\u001b[K     |████████████████████████████████| 6.5 MB 1.7 MB/s \n",
      "\u001b[?25hCollecting fiona\n",
      "  Downloading Fiona-1.8.18-cp38-cp38-manylinux1_x86_64.whl (14.7 MB)\n",
      "\u001b[K     |████████████████████████████████| 14.7 MB 1.7 MB/s \n",
      "\u001b[?25hRequirement already satisfied: numpy>=1.13.3 in /home/semipro321/anaconda3/lib/python3.8/site-packages (from pandas>=0.23.0->geopandas) (1.18.5)\n",
      "Requirement already satisfied: python-dateutil>=2.6.1 in /home/semipro321/anaconda3/lib/python3.8/site-packages (from pandas>=0.23.0->geopandas) (2.8.1)\n",
      "Requirement already satisfied: pytz>=2017.2 in /home/semipro321/anaconda3/lib/python3.8/site-packages (from pandas>=0.23.0->geopandas) (2020.1)\n",
      "Requirement already satisfied: certifi in /home/semipro321/anaconda3/lib/python3.8/site-packages (from pyproj>=2.2.0->geopandas) (2020.6.20)\n",
      "Requirement already satisfied: six>=1.7 in /home/semipro321/anaconda3/lib/python3.8/site-packages (from fiona->geopandas) (1.15.0)\n",
      "Collecting click-plugins>=1.0\n",
      "  Downloading click_plugins-1.1.1-py2.py3-none-any.whl (7.5 kB)\n",
      "Requirement already satisfied: click<8,>=4.0 in /home/semipro321/anaconda3/lib/python3.8/site-packages (from fiona->geopandas) (7.1.2)\n",
      "Requirement already satisfied: attrs>=17 in /home/semipro321/anaconda3/lib/python3.8/site-packages (from fiona->geopandas) (19.3.0)\n",
      "Collecting munch\n",
      "  Downloading munch-2.5.0-py2.py3-none-any.whl (10 kB)\n",
      "Collecting cligj>=0.5\n",
      "  Downloading cligj-0.7.1-py3-none-any.whl (7.1 kB)\n",
      "Installing collected packages: shapely, pyproj, click-plugins, munch, cligj, fiona, geopandas\n",
      "Successfully installed click-plugins-1.1.1 cligj-0.7.1 fiona-1.8.18 geopandas-0.8.2 munch-2.5.0 pyproj-3.0.0.post1 shapely-1.7.1\n",
      "Note: you may need to restart the kernel to use updated packages.\n"
     ]
    }
   ],
   "source": [
    "%pip install geopandas"
   ]
  },
  {
   "cell_type": "code",
   "execution_count": 7,
   "metadata": {},
   "outputs": [],
   "source": [
    "df_house = pd.read_csv('/home/semipro321/Documents/Workspace/Geospatial-Analysis-on-House-Price-Prediction/Inputs/housev2.csv')"
   ]
  },
  {
   "cell_type": "code",
   "execution_count": 23,
   "metadata": {},
   "outputs": [
    {
     "output_type": "execute_result",
     "data": {
      "text/plain": [
       "(15234, 21)"
      ]
     },
     "metadata": {},
     "execution_count": 23
    }
   ],
   "source": [
    "df_house.shape"
   ]
  },
  {
   "cell_type": "code",
   "execution_count": 12,
   "metadata": {},
   "outputs": [],
   "source": [
    "gdp_house = gp.GeoDataFrame(df_house,\n",
    "                           geometry = gp.points_from_xy(df_house.long,df_house.lat),\n",
    "                            crs=\"EPSG:4326\")"
   ]
  },
  {
   "cell_type": "code",
   "execution_count": 13,
   "metadata": {},
   "outputs": [
    {
     "output_type": "execute_result",
     "data": {
      "text/plain": [
       "         lat       long   sqft  parking  mean_district_income  bedrooms_bg  \\\n",
       "0  43.661896 -79.385748  850.0        1                 56526            1   \n",
       "1  43.646982 -79.530356    NaN        6                 52787            0   \n",
       "2  43.708472 -79.397498  550.0        0                 57039            0   \n",
       "3  43.638399 -79.414448  650.0        1                 70623            1   \n",
       "4  43.597096 -79.509612    NaN        1                 44101            0   \n",
       "\n",
       "   bedrooms_ag  bathrooms  final_price  type_Att/Row/Twnhouse  ...  \\\n",
       "0            2          2       855000                      0  ...   \n",
       "1            3          2       885000                      0  ...   \n",
       "2            1          1       550000                      0  ...   \n",
       "3            1          1       665000                      0  ...   \n",
       "4            2          2       825513                      0  ...   \n",
       "\n",
       "   type_Co-Ownership Apt  type_Comm Element Condo  type_Condo Apt  \\\n",
       "0                      0                        0               1   \n",
       "1                      0                        0               0   \n",
       "2                      0                        0               1   \n",
       "3                      0                        0               1   \n",
       "4                      0                        0               0   \n",
       "\n",
       "   type_Condo Townhouse  type_Detached  type_Link  type_Plex  \\\n",
       "0                     0              0          0          0   \n",
       "1                     0              0          0          0   \n",
       "2                     0              0          0          0   \n",
       "3                     0              0          0          0   \n",
       "4                     0              1          0          0   \n",
       "\n",
       "   type_Semi-Detached  type_Store W/Apt/Offc                    geometry  \n",
       "0                   0                      0  POINT (-79.38575 43.66190)  \n",
       "1                   1                      0  POINT (-79.53036 43.64698)  \n",
       "2                   0                      0  POINT (-79.39750 43.70847)  \n",
       "3                   0                      0  POINT (-79.41445 43.63840)  \n",
       "4                   0                      0  POINT (-79.50961 43.59710)  \n",
       "\n",
       "[5 rows x 21 columns]"
      ],
      "text/html": "<div>\n<style scoped>\n    .dataframe tbody tr th:only-of-type {\n        vertical-align: middle;\n    }\n\n    .dataframe tbody tr th {\n        vertical-align: top;\n    }\n\n    .dataframe thead th {\n        text-align: right;\n    }\n</style>\n<table border=\"1\" class=\"dataframe\">\n  <thead>\n    <tr style=\"text-align: right;\">\n      <th></th>\n      <th>lat</th>\n      <th>long</th>\n      <th>sqft</th>\n      <th>parking</th>\n      <th>mean_district_income</th>\n      <th>bedrooms_bg</th>\n      <th>bedrooms_ag</th>\n      <th>bathrooms</th>\n      <th>final_price</th>\n      <th>type_Att/Row/Twnhouse</th>\n      <th>...</th>\n      <th>type_Co-Ownership Apt</th>\n      <th>type_Comm Element Condo</th>\n      <th>type_Condo Apt</th>\n      <th>type_Condo Townhouse</th>\n      <th>type_Detached</th>\n      <th>type_Link</th>\n      <th>type_Plex</th>\n      <th>type_Semi-Detached</th>\n      <th>type_Store W/Apt/Offc</th>\n      <th>geometry</th>\n    </tr>\n  </thead>\n  <tbody>\n    <tr>\n      <th>0</th>\n      <td>43.661896</td>\n      <td>-79.385748</td>\n      <td>850.0</td>\n      <td>1</td>\n      <td>56526</td>\n      <td>1</td>\n      <td>2</td>\n      <td>2</td>\n      <td>855000</td>\n      <td>0</td>\n      <td>...</td>\n      <td>0</td>\n      <td>0</td>\n      <td>1</td>\n      <td>0</td>\n      <td>0</td>\n      <td>0</td>\n      <td>0</td>\n      <td>0</td>\n      <td>0</td>\n      <td>POINT (-79.38575 43.66190)</td>\n    </tr>\n    <tr>\n      <th>1</th>\n      <td>43.646982</td>\n      <td>-79.530356</td>\n      <td>NaN</td>\n      <td>6</td>\n      <td>52787</td>\n      <td>0</td>\n      <td>3</td>\n      <td>2</td>\n      <td>885000</td>\n      <td>0</td>\n      <td>...</td>\n      <td>0</td>\n      <td>0</td>\n      <td>0</td>\n      <td>0</td>\n      <td>0</td>\n      <td>0</td>\n      <td>0</td>\n      <td>1</td>\n      <td>0</td>\n      <td>POINT (-79.53036 43.64698)</td>\n    </tr>\n    <tr>\n      <th>2</th>\n      <td>43.708472</td>\n      <td>-79.397498</td>\n      <td>550.0</td>\n      <td>0</td>\n      <td>57039</td>\n      <td>0</td>\n      <td>1</td>\n      <td>1</td>\n      <td>550000</td>\n      <td>0</td>\n      <td>...</td>\n      <td>0</td>\n      <td>0</td>\n      <td>1</td>\n      <td>0</td>\n      <td>0</td>\n      <td>0</td>\n      <td>0</td>\n      <td>0</td>\n      <td>0</td>\n      <td>POINT (-79.39750 43.70847)</td>\n    </tr>\n    <tr>\n      <th>3</th>\n      <td>43.638399</td>\n      <td>-79.414448</td>\n      <td>650.0</td>\n      <td>1</td>\n      <td>70623</td>\n      <td>1</td>\n      <td>1</td>\n      <td>1</td>\n      <td>665000</td>\n      <td>0</td>\n      <td>...</td>\n      <td>0</td>\n      <td>0</td>\n      <td>1</td>\n      <td>0</td>\n      <td>0</td>\n      <td>0</td>\n      <td>0</td>\n      <td>0</td>\n      <td>0</td>\n      <td>POINT (-79.41445 43.63840)</td>\n    </tr>\n    <tr>\n      <th>4</th>\n      <td>43.597096</td>\n      <td>-79.509612</td>\n      <td>NaN</td>\n      <td>1</td>\n      <td>44101</td>\n      <td>0</td>\n      <td>2</td>\n      <td>2</td>\n      <td>825513</td>\n      <td>0</td>\n      <td>...</td>\n      <td>0</td>\n      <td>0</td>\n      <td>0</td>\n      <td>0</td>\n      <td>1</td>\n      <td>0</td>\n      <td>0</td>\n      <td>0</td>\n      <td>0</td>\n      <td>POINT (-79.50961 43.59710)</td>\n    </tr>\n  </tbody>\n</table>\n<p>5 rows × 21 columns</p>\n</div>"
     },
     "metadata": {},
     "execution_count": 13
    }
   ],
   "source": [
    "gdp_house.head()"
   ]
  },
  {
   "cell_type": "code",
   "execution_count": 15,
   "metadata": {},
   "outputs": [],
   "source": [
    "df_nei = gp.read_file('/home/semipro321/Documents/Workspace/Geospatial-Analysis-on-House-Price-Prediction/Inputs/Airbnb/neighbourhoods.geojson')"
   ]
  },
  {
   "cell_type": "code",
   "execution_count": 16,
   "metadata": {},
   "outputs": [],
   "source": [
    "hjoins = gp.sjoin(gdp_house, df_nei, how='right',op='within')"
   ]
  },
  {
   "cell_type": "code",
   "execution_count": 24,
   "metadata": {},
   "outputs": [
    {
     "output_type": "execute_result",
     "data": {
      "text/plain": [
       "   index_left        lat       long    sqft  parking  mean_district_income  \\\n",
       "0        6922  43.753182 -79.507053     NaN        4                 29958   \n",
       "0        7643  43.753090 -79.491536  1300.0        1                 29958   \n",
       "0        5373  43.753090 -79.491536  1300.0        3                 29958   \n",
       "0       13300  43.753177 -79.490821   950.0        1                 29958   \n",
       "0        5767  43.753177 -79.490821   650.0        1                 29958   \n",
       "\n",
       "   bedrooms_bg  bedrooms_ag  bathrooms  final_price  ...  type_Condo Apt  \\\n",
       "0            1            3          2       930000  ...               0   \n",
       "0            0            3          3       413000  ...               0   \n",
       "0            1            3          2       400000  ...               0   \n",
       "0            0            2          1       343000  ...               1   \n",
       "0            0            1          1       318000  ...               1   \n",
       "\n",
       "   type_Condo Townhouse  type_Detached  type_Link  type_Plex  \\\n",
       "0                     0              1          0          0   \n",
       "0                     1              0          0          0   \n",
       "0                     1              0          0          0   \n",
       "0                     0              0          0          0   \n",
       "0                     0              0          0          0   \n",
       "\n",
       "   type_Semi-Detached  type_Store W/Apt/Offc            neighbourhood  \\\n",
       "0                   0                      0  York University Heights   \n",
       "0                   0                      0  York University Heights   \n",
       "0                   0                      0  York University Heights   \n",
       "0                   0                      0  York University Heights   \n",
       "0                   0                      0  York University Heights   \n",
       "\n",
       "   neighbourhood_group                                           geometry  \n",
       "0                 None  MULTIPOLYGON (((-79.50529 43.75987, -79.50488 ...  \n",
       "0                 None  MULTIPOLYGON (((-79.50529 43.75987, -79.50488 ...  \n",
       "0                 None  MULTIPOLYGON (((-79.50529 43.75987, -79.50488 ...  \n",
       "0                 None  MULTIPOLYGON (((-79.50529 43.75987, -79.50488 ...  \n",
       "0                 None  MULTIPOLYGON (((-79.50529 43.75987, -79.50488 ...  \n",
       "\n",
       "[5 rows x 24 columns]"
      ],
      "text/html": "<div>\n<style scoped>\n    .dataframe tbody tr th:only-of-type {\n        vertical-align: middle;\n    }\n\n    .dataframe tbody tr th {\n        vertical-align: top;\n    }\n\n    .dataframe thead th {\n        text-align: right;\n    }\n</style>\n<table border=\"1\" class=\"dataframe\">\n  <thead>\n    <tr style=\"text-align: right;\">\n      <th></th>\n      <th>index_left</th>\n      <th>lat</th>\n      <th>long</th>\n      <th>sqft</th>\n      <th>parking</th>\n      <th>mean_district_income</th>\n      <th>bedrooms_bg</th>\n      <th>bedrooms_ag</th>\n      <th>bathrooms</th>\n      <th>final_price</th>\n      <th>...</th>\n      <th>type_Condo Apt</th>\n      <th>type_Condo Townhouse</th>\n      <th>type_Detached</th>\n      <th>type_Link</th>\n      <th>type_Plex</th>\n      <th>type_Semi-Detached</th>\n      <th>type_Store W/Apt/Offc</th>\n      <th>neighbourhood</th>\n      <th>neighbourhood_group</th>\n      <th>geometry</th>\n    </tr>\n  </thead>\n  <tbody>\n    <tr>\n      <th>0</th>\n      <td>6922</td>\n      <td>43.753182</td>\n      <td>-79.507053</td>\n      <td>NaN</td>\n      <td>4</td>\n      <td>29958</td>\n      <td>1</td>\n      <td>3</td>\n      <td>2</td>\n      <td>930000</td>\n      <td>...</td>\n      <td>0</td>\n      <td>0</td>\n      <td>1</td>\n      <td>0</td>\n      <td>0</td>\n      <td>0</td>\n      <td>0</td>\n      <td>York University Heights</td>\n      <td>None</td>\n      <td>MULTIPOLYGON (((-79.50529 43.75987, -79.50488 ...</td>\n    </tr>\n    <tr>\n      <th>0</th>\n      <td>7643</td>\n      <td>43.753090</td>\n      <td>-79.491536</td>\n      <td>1300.0</td>\n      <td>1</td>\n      <td>29958</td>\n      <td>0</td>\n      <td>3</td>\n      <td>3</td>\n      <td>413000</td>\n      <td>...</td>\n      <td>0</td>\n      <td>1</td>\n      <td>0</td>\n      <td>0</td>\n      <td>0</td>\n      <td>0</td>\n      <td>0</td>\n      <td>York University Heights</td>\n      <td>None</td>\n      <td>MULTIPOLYGON (((-79.50529 43.75987, -79.50488 ...</td>\n    </tr>\n    <tr>\n      <th>0</th>\n      <td>5373</td>\n      <td>43.753090</td>\n      <td>-79.491536</td>\n      <td>1300.0</td>\n      <td>3</td>\n      <td>29958</td>\n      <td>1</td>\n      <td>3</td>\n      <td>2</td>\n      <td>400000</td>\n      <td>...</td>\n      <td>0</td>\n      <td>1</td>\n      <td>0</td>\n      <td>0</td>\n      <td>0</td>\n      <td>0</td>\n      <td>0</td>\n      <td>York University Heights</td>\n      <td>None</td>\n      <td>MULTIPOLYGON (((-79.50529 43.75987, -79.50488 ...</td>\n    </tr>\n    <tr>\n      <th>0</th>\n      <td>13300</td>\n      <td>43.753177</td>\n      <td>-79.490821</td>\n      <td>950.0</td>\n      <td>1</td>\n      <td>29958</td>\n      <td>0</td>\n      <td>2</td>\n      <td>1</td>\n      <td>343000</td>\n      <td>...</td>\n      <td>1</td>\n      <td>0</td>\n      <td>0</td>\n      <td>0</td>\n      <td>0</td>\n      <td>0</td>\n      <td>0</td>\n      <td>York University Heights</td>\n      <td>None</td>\n      <td>MULTIPOLYGON (((-79.50529 43.75987, -79.50488 ...</td>\n    </tr>\n    <tr>\n      <th>0</th>\n      <td>5767</td>\n      <td>43.753177</td>\n      <td>-79.490821</td>\n      <td>650.0</td>\n      <td>1</td>\n      <td>29958</td>\n      <td>0</td>\n      <td>1</td>\n      <td>1</td>\n      <td>318000</td>\n      <td>...</td>\n      <td>1</td>\n      <td>0</td>\n      <td>0</td>\n      <td>0</td>\n      <td>0</td>\n      <td>0</td>\n      <td>0</td>\n      <td>York University Heights</td>\n      <td>None</td>\n      <td>MULTIPOLYGON (((-79.50529 43.75987, -79.50488 ...</td>\n    </tr>\n  </tbody>\n</table>\n<p>5 rows × 24 columns</p>\n</div>"
     },
     "metadata": {},
     "execution_count": 24
    }
   ],
   "source": [
    "hjoins.head()"
   ]
  },
  {
   "cell_type": "code",
   "execution_count": 25,
   "metadata": {},
   "outputs": [],
   "source": [
    "hjoins.drop(columns=['index_left','neighbourhood_group'], inplace=True)"
   ]
  },
  {
   "cell_type": "code",
   "execution_count": 26,
   "metadata": {},
   "outputs": [],
   "source": [
    "hjoins.to_csv('house_with_neigh.csv', index=False)"
   ]
  },
  {
   "cell_type": "code",
   "execution_count": null,
   "metadata": {},
   "outputs": [],
   "source": []
  }
 ]
}