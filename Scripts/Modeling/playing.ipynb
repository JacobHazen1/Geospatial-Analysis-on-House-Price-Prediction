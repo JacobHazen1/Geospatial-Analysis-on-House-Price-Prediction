{
 "cells": [
  {
   "cell_type": "code",
   "execution_count": 1,
   "metadata": {},
   "outputs": [],
   "source": [
    "import pandas as pd\n",
    "import geopandas as gp\n",
    "import numpy as np\n",
    "import matplotlib.pyplot as plt"
   ]
  },
  {
   "cell_type": "code",
   "execution_count": 2,
   "metadata": {},
   "outputs": [],
   "source": [
    "pd.options.display.max_columns = None\n",
    "pd.options.display.max_seq_items = None\n",
    "pd.options.display.max_rows = None"
   ]
  },
  {
   "cell_type": "code",
   "execution_count": 3,
   "metadata": {},
   "outputs": [],
   "source": [
    "model_df = pd.read_csv('/home/semipro321/Documents/Workspace/Geospatial-Analysis-on-House-Price-Prediction/Inputs/mastermodel_filledv3.csv')"
   ]
  },
  {
   "cell_type": "code",
   "execution_count": 4,
   "metadata": {},
   "outputs": [
    {
     "output_type": "execute_result",
     "data": {
      "text/plain": [
       "(15234, 167)"
      ]
     },
     "metadata": {},
     "execution_count": 4
    }
   ],
   "source": [
    "model_df.shape"
   ]
  },
  {
   "cell_type": "code",
   "execution_count": 5,
   "metadata": {},
   "outputs": [
    {
     "output_type": "execute_result",
     "data": {
      "text/plain": [
       "          sqft  parking  mean_district_income  bedrooms_bg  bedrooms_ag  \\\n",
       "0   850.000000        1                 56526            1            2   \n",
       "1  1295.319092        6                 52787            0            3   \n",
       "2   550.000000        0                 57039            0            1   \n",
       "3   650.000000        1                 70623            1            1   \n",
       "4   977.184326        1                 44101            0            2   \n",
       "\n",
       "   bathrooms  final_price  type_Att/Row/Twnhouse  type_Co-Op Apt  \\\n",
       "0          2       855000                      0               0   \n",
       "1          2       885000                      0               0   \n",
       "2          1       550000                      0               0   \n",
       "3          1       665000                      0               0   \n",
       "4          2       825513                      0               0   \n",
       "\n",
       "   type_Co-Ownership Apt  ...  neighbourhood_Yonge-St.Clair  \\\n",
       "0                      0  ...                             0   \n",
       "1                      0  ...                             0   \n",
       "2                      0  ...                             0   \n",
       "3                      0  ...                             0   \n",
       "4                      0  ...                             0   \n",
       "\n",
       "   neighbourhood_York University Heights  neighbourhood_Yorkdale-Glen Park  \\\n",
       "0                                      0                                 0   \n",
       "1                                      0                                 0   \n",
       "2                                      0                                 0   \n",
       "3                                      0                                 0   \n",
       "4                                      0                                 0   \n",
       "\n",
       "   Auto Theft500m  Auto Theft1000m  violent_crime1000m  violent_crime500m  \\\n",
       "0              55              230                7409               2994   \n",
       "1              40               61                 381                570   \n",
       "2              29               63                 830               1241   \n",
       "3              37               82                1732                683   \n",
       "4              19               37                 642                215   \n",
       "\n",
       "   Airbnb500m_YOY1519  Airbnb1000m_YOY1519  dist_nearest_park  \n",
       "0                  26                   19             130.27  \n",
       "1                  10                   18             134.63  \n",
       "2                  10                   18             134.63  \n",
       "3                   9                   16             149.17  \n",
       "4                   9                   16             149.17  \n",
       "\n",
       "[5 rows x 167 columns]"
      ],
      "text/html": "<div>\n<style scoped>\n    .dataframe tbody tr th:only-of-type {\n        vertical-align: middle;\n    }\n\n    .dataframe tbody tr th {\n        vertical-align: top;\n    }\n\n    .dataframe thead th {\n        text-align: right;\n    }\n</style>\n<table border=\"1\" class=\"dataframe\">\n  <thead>\n    <tr style=\"text-align: right;\">\n      <th></th>\n      <th>sqft</th>\n      <th>parking</th>\n      <th>mean_district_income</th>\n      <th>bedrooms_bg</th>\n      <th>bedrooms_ag</th>\n      <th>bathrooms</th>\n      <th>final_price</th>\n      <th>type_Att/Row/Twnhouse</th>\n      <th>type_Co-Op Apt</th>\n      <th>type_Co-Ownership Apt</th>\n      <th>...</th>\n      <th>neighbourhood_Yonge-St.Clair</th>\n      <th>neighbourhood_York University Heights</th>\n      <th>neighbourhood_Yorkdale-Glen Park</th>\n      <th>Auto Theft500m</th>\n      <th>Auto Theft1000m</th>\n      <th>violent_crime1000m</th>\n      <th>violent_crime500m</th>\n      <th>Airbnb500m_YOY1519</th>\n      <th>Airbnb1000m_YOY1519</th>\n      <th>dist_nearest_park</th>\n    </tr>\n  </thead>\n  <tbody>\n    <tr>\n      <th>0</th>\n      <td>850.000000</td>\n      <td>1</td>\n      <td>56526</td>\n      <td>1</td>\n      <td>2</td>\n      <td>2</td>\n      <td>855000</td>\n      <td>0</td>\n      <td>0</td>\n      <td>0</td>\n      <td>...</td>\n      <td>0</td>\n      <td>0</td>\n      <td>0</td>\n      <td>55</td>\n      <td>230</td>\n      <td>7409</td>\n      <td>2994</td>\n      <td>26</td>\n      <td>19</td>\n      <td>130.27</td>\n    </tr>\n    <tr>\n      <th>1</th>\n      <td>1295.319092</td>\n      <td>6</td>\n      <td>52787</td>\n      <td>0</td>\n      <td>3</td>\n      <td>2</td>\n      <td>885000</td>\n      <td>0</td>\n      <td>0</td>\n      <td>0</td>\n      <td>...</td>\n      <td>0</td>\n      <td>0</td>\n      <td>0</td>\n      <td>40</td>\n      <td>61</td>\n      <td>381</td>\n      <td>570</td>\n      <td>10</td>\n      <td>18</td>\n      <td>134.63</td>\n    </tr>\n    <tr>\n      <th>2</th>\n      <td>550.000000</td>\n      <td>0</td>\n      <td>57039</td>\n      <td>0</td>\n      <td>1</td>\n      <td>1</td>\n      <td>550000</td>\n      <td>0</td>\n      <td>0</td>\n      <td>0</td>\n      <td>...</td>\n      <td>0</td>\n      <td>0</td>\n      <td>0</td>\n      <td>29</td>\n      <td>63</td>\n      <td>830</td>\n      <td>1241</td>\n      <td>10</td>\n      <td>18</td>\n      <td>134.63</td>\n    </tr>\n    <tr>\n      <th>3</th>\n      <td>650.000000</td>\n      <td>1</td>\n      <td>70623</td>\n      <td>1</td>\n      <td>1</td>\n      <td>1</td>\n      <td>665000</td>\n      <td>0</td>\n      <td>0</td>\n      <td>0</td>\n      <td>...</td>\n      <td>0</td>\n      <td>0</td>\n      <td>0</td>\n      <td>37</td>\n      <td>82</td>\n      <td>1732</td>\n      <td>683</td>\n      <td>9</td>\n      <td>16</td>\n      <td>149.17</td>\n    </tr>\n    <tr>\n      <th>4</th>\n      <td>977.184326</td>\n      <td>1</td>\n      <td>44101</td>\n      <td>0</td>\n      <td>2</td>\n      <td>2</td>\n      <td>825513</td>\n      <td>0</td>\n      <td>0</td>\n      <td>0</td>\n      <td>...</td>\n      <td>0</td>\n      <td>0</td>\n      <td>0</td>\n      <td>19</td>\n      <td>37</td>\n      <td>642</td>\n      <td>215</td>\n      <td>9</td>\n      <td>16</td>\n      <td>149.17</td>\n    </tr>\n  </tbody>\n</table>\n<p>5 rows × 167 columns</p>\n</div>"
     },
     "metadata": {},
     "execution_count": 5
    }
   ],
   "source": [
    "model_df.head()"
   ]
  },
  {
   "cell_type": "markdown",
   "metadata": {},
   "source": [
    "## *Creating an ensemble model* "
   ]
  },
  {
   "cell_type": "code",
   "execution_count": 14,
   "metadata": {},
   "outputs": [],
   "source": [
    "from sklearn.ensemble import RandomForestRegressor, ExtraTreesRegressor\n",
    "from sklearn.pipeline import Pipeline\n",
    "from sklearn.preprocessing import StandardScaler\n",
    "from sklearn.metrics import mean_squared_log_error\n",
    "from sklearn.model_selection import train_test_split, cross_val_score\n",
    "from lightgbm import LGBMRegressor\n",
    "from sklearn.linear_model import LinearRegression"
   ]
  },
  {
   "cell_type": "markdown",
   "metadata": {},
   "source": [
    "*create train test split*"
   ]
  },
  {
   "cell_type": "code",
   "execution_count": 7,
   "metadata": {},
   "outputs": [],
   "source": [
    "predictors = model_df.drop(columns=['final_price'], axis=1).columns"
   ]
  },
  {
   "cell_type": "code",
   "execution_count": 9,
   "metadata": {},
   "outputs": [],
   "source": [
    "X_train, X_test, Y_train, Y_test = train_test_split(model_df[predictors], model_df['final_price'], test_size=0.30, random_state=42)"
   ]
  },
  {
   "cell_type": "markdown",
   "metadata": {},
   "source": [
    "*model function*"
   ]
  },
  {
   "cell_type": "code",
   "execution_count": 44,
   "metadata": {},
   "outputs": [],
   "source": [
    "def modelfit(pip, x_train, y_train, x_test, y_test, predictors, cv_folds=5):\n",
    "    \n",
    "    \n",
    "    #Fit the algorithm on the data\n",
    "    pip.fit(x_train, y_train)\n",
    "    \n",
    "    y_val = y_test.values\n",
    "    \n",
    "    #Perform cross-validation:\n",
    "    #if performCV:\n",
    "    #cv_score = cross_val_score(pip, x_train, y_train, cv=cv_folds, scoring='neg_mean_squared_log_error')\n",
    "    \n",
    "    #Predict test set:\n",
    "    pred = pip.predict(x_test)\n",
    "    #Print model report:\n",
    "    print('Model Report')\n",
    "    print(f'Accuracy : {round(np.sqrt(mean_squared_log_error(y_val, pred)),6)}')\n",
    "    \n",
    "    #if performCV:\n",
    "    #print(f'CV Score : Mean - {np.mean(cv_score)} | Std - {np.std(cv_score)} | Min - {np.min(cv_score)} | Max - {np.max(cv_score)}')\n",
    "                \n",
    "    #Print Feature Importance:\n",
    "    #if printFeatureImportance:\n",
    "    #feat_imp = pd.Series(pip.steps[1][1].feature_importances_, predictors).sort_values(ascending=False)\n",
    "    #feat_imp.head(20).plot(kind='bar', title='Feature Importances')\n",
    "    #plt.ylabel('Feature Importance Score')\n",
    "    data = {'Actual': y_val,\n",
    "           'Predictions': pred}\n",
    "    return pd.DataFrame(data)"
   ]
  },
  {
   "cell_type": "code",
   "execution_count": 11,
   "metadata": {},
   "outputs": [],
   "source": [
    "def create_pipeline(scale, model):\n",
    "    steps = [('std',scale), ('model', model)]\n",
    "    return Pipeline(steps=steps)"
   ]
  },
  {
   "cell_type": "markdown",
   "metadata": {},
   "source": [
    "#### Random Forest Regressor"
   ]
  },
  {
   "cell_type": "code",
   "execution_count": 45,
   "metadata": {},
   "outputs": [
    {
     "output_type": "stream",
     "name": "stdout",
     "text": [
      "Model Report\nAccuracy : 0.142559\n"
     ]
    }
   ],
   "source": [
    "rf = RandomForestRegressor()\n",
    "scale = StandardScaler()\n",
    "\n",
    "pipeline_rf = create_pipeline(scale, rf)\n",
    "\n",
    "op_rf = modelfit(pipeline_rf, X_train, Y_train, X_test, Y_test,predictors)"
   ]
  },
  {
   "cell_type": "code",
   "execution_count": 41,
   "metadata": {},
   "outputs": [
    {
     "output_type": "execute_result",
     "data": {
      "text/plain": [
       "Empty DataFrame\n",
       "Columns: [Actual, Predictions]\n",
       "Index: []"
      ],
      "text/html": "<div>\n<style scoped>\n    .dataframe tbody tr th:only-of-type {\n        vertical-align: middle;\n    }\n\n    .dataframe tbody tr th {\n        vertical-align: top;\n    }\n\n    .dataframe thead th {\n        text-align: right;\n    }\n</style>\n<table border=\"1\" class=\"dataframe\">\n  <thead>\n    <tr style=\"text-align: right;\">\n      <th></th>\n      <th>Actual</th>\n      <th>Predictions</th>\n    </tr>\n  </thead>\n  <tbody>\n  </tbody>\n</table>\n</div>"
     },
     "metadata": {},
     "execution_count": 41
    }
   ],
   "source": [
    "op_rf[op_rf['Predictions'] <= 0]"
   ]
  },
  {
   "cell_type": "code",
   "execution_count": 37,
   "metadata": {},
   "outputs": [],
   "source": [
    "lm = LinearRegression()\n",
    "\n",
    "pipeline_lm = create_pipeline(StandardScaler(), lm)\n",
    "\n",
    "op_lm = modelfit(lm, X_train, Y_train, X_test, Y_test, predictors)"
   ]
  },
  {
   "cell_type": "code",
   "execution_count": 39,
   "metadata": {},
   "outputs": [
    {
     "output_type": "execute_result",
     "data": {
      "text/plain": [
       "      Actual    Predictions\n",
       "305   299000   -2041.760486\n",
       "371   265000  -59695.344250\n",
       "1052  165000 -106126.549783\n",
       "1497  217000  -66166.964646\n",
       "2938  325000  -47760.348314"
      ],
      "text/html": "<div>\n<style scoped>\n    .dataframe tbody tr th:only-of-type {\n        vertical-align: middle;\n    }\n\n    .dataframe tbody tr th {\n        vertical-align: top;\n    }\n\n    .dataframe thead th {\n        text-align: right;\n    }\n</style>\n<table border=\"1\" class=\"dataframe\">\n  <thead>\n    <tr style=\"text-align: right;\">\n      <th></th>\n      <th>Actual</th>\n      <th>Predictions</th>\n    </tr>\n  </thead>\n  <tbody>\n    <tr>\n      <th>305</th>\n      <td>299000</td>\n      <td>-2041.760486</td>\n    </tr>\n    <tr>\n      <th>371</th>\n      <td>265000</td>\n      <td>-59695.344250</td>\n    </tr>\n    <tr>\n      <th>1052</th>\n      <td>165000</td>\n      <td>-106126.549783</td>\n    </tr>\n    <tr>\n      <th>1497</th>\n      <td>217000</td>\n      <td>-66166.964646</td>\n    </tr>\n    <tr>\n      <th>2938</th>\n      <td>325000</td>\n      <td>-47760.348314</td>\n    </tr>\n  </tbody>\n</table>\n</div>"
     },
     "metadata": {},
     "execution_count": 39
    }
   ],
   "source": [
    "op_lm[op_lm['Predictions'] <= 0]"
   ]
  },
  {
   "cell_type": "code",
   "execution_count": 24,
   "metadata": {},
   "outputs": [],
   "source": [
    "scaled = scale.fit_transform(X_train)\n",
    "lm.fit(scaled, Y_train)\n",
    "pred = lm.predict(X_test)"
   ]
  },
  {
   "cell_type": "code",
   "execution_count": 25,
   "metadata": {},
   "outputs": [
    {
     "output_type": "execute_result",
     "data": {
      "text/plain": [
       "array([2.52243327e+21, 1.33113991e+21, 2.51420454e+21, ...,\n",
       "       1.17510161e+21, 2.01298911e+21, 1.90818494e+21])"
      ]
     },
     "metadata": {},
     "execution_count": 25
    }
   ],
   "source": [
    "pred"
   ]
  },
  {
   "cell_type": "markdown",
   "metadata": {},
   "source": [
    "#### Light GBM"
   ]
  },
  {
   "cell_type": "code",
   "execution_count": 13,
   "metadata": {},
   "outputs": [
    {
     "output_type": "stream",
     "name": "stdout",
     "text": [
      "Model Report\nAccuracy : 0.025\n"
     ]
    }
   ],
   "source": [
    "lgb = LGBMRegressor()\n",
    "\n",
    "pipeline_lgb = create_pipeline(scale, lgb)\n",
    "\n",
    "op_lgb = modelfit(pipeline_lgb, X_train, Y_train, X_test, Y_test, predictors)"
   ]
  },
  {
   "cell_type": "markdown",
   "metadata": {},
   "source": [
    "#### ExtraTrees Regressor"
   ]
  },
  {
   "cell_type": "code",
   "execution_count": 46,
   "metadata": {},
   "outputs": [
    {
     "output_type": "stream",
     "name": "stdout",
     "text": [
      "Model Report\nAccuracy : 0.132272\n"
     ]
    }
   ],
   "source": [
    "ext = ExtraTreesRegressor()\n",
    "\n",
    "pipeline_ext = create_pipeline(scale, ext)\n",
    "\n",
    "op_ext = modelfit(ext, X_train, Y_train, X_test, Y_test, predictors)"
   ]
  },
  {
   "cell_type": "markdown",
   "metadata": {},
   "source": [
    "#### *Parameter Tunning in ExtraTreesRegresor*"
   ]
  },
  {
   "cell_type": "code",
   "execution_count": 27,
   "metadata": {},
   "outputs": [
    {
     "data": {
      "text/plain": [
       "{'bootstrap': False,\n",
       " 'ccp_alpha': 0.0,\n",
       " 'criterion': 'mse',\n",
       " 'max_depth': None,\n",
       " 'max_features': 'auto',\n",
       " 'max_leaf_nodes': None,\n",
       " 'max_samples': None,\n",
       " 'min_impurity_decrease': 0.0,\n",
       " 'min_impurity_split': None,\n",
       " 'min_samples_leaf': 1,\n",
       " 'min_samples_split': 2,\n",
       " 'min_weight_fraction_leaf': 0.0,\n",
       " 'n_estimators': 100,\n",
       " 'n_jobs': None,\n",
       " 'oob_score': False,\n",
       " 'random_state': None,\n",
       " 'verbose': 0,\n",
       " 'warm_start': False}"
      ]
     },
     "execution_count": 27,
     "metadata": {},
     "output_type": "execute_result"
    }
   ],
   "source": [
    "ExtraTreesRegressor().get_params()"
   ]
  },
  {
   "cell_type": "code",
   "execution_count": 28,
   "metadata": {},
   "outputs": [],
   "source": [
    "from sklearn.model_selection import GridSearchCV"
   ]
  },
  {
   "cell_type": "code",
   "execution_count": 95,
   "metadata": {},
   "outputs": [],
   "source": [
    "g_ext = ExtraTreesRegressor(n_estimators=140, max_depth=15, min_samples_split=4, criterion = 'mse', random_state = 10)\n",
    "                            \n",
    "\n",
    "pipelineGSV = create_pipeline(scale, g_ext)\n",
    "\n",
    "param_test = {'model__bootstrap':[False, True]}\n",
    "\n",
    "g_search = GridSearchCV(pipelineGSV, param_test,scoring='neg_mean_squared_log_error',n_jobs=None, cv=5,refit=False)"
   ]
  },
  {
   "cell_type": "code",
   "execution_count": 96,
   "metadata": {},
   "outputs": [
    {
     "data": {
      "text/plain": [
       "GridSearchCV(cv=5,\n",
       "             estimator=Pipeline(steps=[('std', StandardScaler()),\n",
       "                                       ('model',\n",
       "                                        ExtraTreesRegressor(max_depth=15,\n",
       "                                                            min_samples_split=4,\n",
       "                                                            n_estimators=140,\n",
       "                                                            random_state=10))]),\n",
       "             param_grid={'model__bootstrap': [False, True]}, refit=False,\n",
       "             scoring='neg_mean_squared_log_error')"
      ]
     },
     "execution_count": 96,
     "metadata": {},
     "output_type": "execute_result"
    }
   ],
   "source": [
    "g_search.fit(X_train, Y_train)"
   ]
  },
  {
   "cell_type": "code",
   "execution_count": 97,
   "metadata": {},
   "outputs": [
    {
     "data": {
      "text/plain": [
       "({'mean_fit_time': array([9.64880872, 7.02350698]),\n",
       "  'std_fit_time': array([0.76887289, 0.53993951]),\n",
       "  'mean_score_time': array([0.07289228, 0.07857413]),\n",
       "  'std_score_time': array([0.00786048, 0.03250506]),\n",
       "  'param_model__bootstrap': masked_array(data=[False, True],\n",
       "               mask=[False, False],\n",
       "         fill_value='?',\n",
       "              dtype=object),\n",
       "  'params': [{'model__bootstrap': False}, {'model__bootstrap': True}],\n",
       "  'split0_test_score': array([-0.0215091 , -0.02183852]),\n",
       "  'split1_test_score': array([-0.0212592 , -0.02200616]),\n",
       "  'split2_test_score': array([-0.01982995, -0.02059338]),\n",
       "  'split3_test_score': array([-0.02065457, -0.02120457]),\n",
       "  'split4_test_score': array([-0.02294893, -0.02371861]),\n",
       "  'mean_test_score': array([-0.02124035, -0.02187225]),\n",
       "  'std_test_score': array([0.00103191, 0.00104971]),\n",
       "  'rank_test_score': array([1, 2], dtype=int32)},\n",
       " {'model__bootstrap': False},\n",
       " -0.021240351507526477)"
      ]
     },
     "execution_count": 97,
     "metadata": {},
     "output_type": "execute_result"
    }
   ],
   "source": [
    "g_search.cv_results_, g_search.best_params_, g_search.best_score_"
   ]
  },
  {
   "cell_type": "markdown",
   "metadata": {},
   "source": [
    "## *Stacking Models*"
   ]
  },
  {
   "cell_type": "code",
   "execution_count": 107,
   "metadata": {},
   "outputs": [],
   "source": [
    "from sklearn.model_selection import RepeatedKFold\n",
    "from sklearn.ensemble import StackingRegressor\n",
    "from sklearn.linear_model import LinearRegression"
   ]
  },
  {
   "cell_type": "code",
   "execution_count": 108,
   "metadata": {},
   "outputs": [],
   "source": [
    "# get a stacking ensemble of models\n",
    "def get_stacking():\n",
    "    # define the base models\n",
    "    level0 = list()\n",
    "    level0.append(('rf', RandomForestRegressor(random_state=10)))\n",
    "    level0.append(('ext', ExtraTreesRegressor(n_estimators=140, max_depth=15, min_samples_split=4, random_state = 10)))\n",
    "    level0.append(('lgb', LGBMRegressor(random_state=10)))\n",
    "    # define meta learner model\n",
    "    level1 = LinearRegression()\n",
    "    # define the stacking ensemble\n",
    "    model = StackingRegressor(estimators=level0, final_estimator=level1, cv=5)\n",
    "    return model"
   ]
  },
  {
   "cell_type": "code",
   "execution_count": 110,
   "metadata": {},
   "outputs": [],
   "source": [
    "# get a list of models to evaluate\n",
    "def get_models():\n",
    "    models = dict()\n",
    "    #models['rf'] = RandomForestRegressor(random_state=10)\n",
    "    #models['ext'] = ExtraTreesRegressor(n_estimators=140, max_depth=15, min_samples_split=4, random_state = 10)\n",
    "    #models['lgb'] = LGBMRegressor(random_state=10)\n",
    "    models['stacking'] = get_stacking()\n",
    "    return models"
   ]
  },
  {
   "cell_type": "code",
   "execution_count": 99,
   "metadata": {},
   "outputs": [],
   "source": [
    "# evaluate a given model using cross-validation\n",
    "def evaluate_model(pipeline, X, y):\n",
    "    cv = RepeatedKFold(n_splits=10, n_repeats=3, random_state=1)\n",
    "    scores = cross_val_score(pipeline, X, y, scoring='neg_mean_squared_log_error', cv=cv, n_jobs=-1, error_score='raise')\n",
    "    return scores"
   ]
  },
  {
   "cell_type": "code",
   "execution_count": 111,
   "metadata": {},
   "outputs": [
    {
     "name": "stdout",
     "output_type": "stream",
     "text": [
      ">stacking -0.021 (0.002)\n"
     ]
    }
   ],
   "source": [
    "models = get_models()\n",
    "# evaluate the models and store results\n",
    "results, names = list(), list()\n",
    "for name, model in models.items():\n",
    "    pip = create_pipeline(scale, model)\n",
    "    scores = evaluate_model(pip, X_train, Y_train)\n",
    "    results.append(scores)\n",
    "    names.append(name)\n",
    "    print('>%s %.3f (%.3f)' % (name, np.mean(scores), np.std(scores)))\n",
    "\n",
    "# plot model performance for comparison\n",
    "#pyplot.boxplot(results, labels=names, showmeans=True)\n",
    "#pyplot.show()"
   ]
  },
  {
   "cell_type": "code",
   "execution_count": null,
   "metadata": {},
   "outputs": [],
   "source": []
  }
 ],
 "metadata": {
  "kernelspec": {
   "display_name": "Python 3",
   "language": "python",
   "name": "python3"
  },
  "language_info": {
   "codemirror_mode": {
    "name": "ipython",
    "version": 3
   },
   "file_extension": ".py",
   "mimetype": "text/x-python",
   "name": "python",
   "nbconvert_exporter": "python",
   "pygments_lexer": "ipython3",
   "version": "3.8.5"
  }
 },
 "nbformat": 4,
 "nbformat_minor": 4
}