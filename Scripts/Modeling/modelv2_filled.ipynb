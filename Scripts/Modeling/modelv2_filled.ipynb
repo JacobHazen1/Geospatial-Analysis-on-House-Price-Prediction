{
 "metadata": {
  "language_info": {
   "codemirror_mode": {
    "name": "ipython",
    "version": 3
   },
   "file_extension": ".py",
   "mimetype": "text/x-python",
   "name": "python",
   "nbconvert_exporter": "python",
   "pygments_lexer": "ipython3",
   "version": "3.8.5-final"
  },
  "orig_nbformat": 2,
  "kernelspec": {
   "name": "python38564bitdataenvconda53f1babb020347299e77ec3ee808749a",
   "display_name": "Python 3.8.5 64-bit ('dataenv': conda)",
   "language": "python"
  }
 },
 "nbformat": 4,
 "nbformat_minor": 2,
 "cells": [
  {
   "source": [
    "To build a good regression model, we checked data for missing values, multicollinearity, outliers, and normality."
   ],
   "cell_type": "markdown",
   "metadata": {}
  },
  {
   "cell_type": "code",
   "execution_count": 1,
   "metadata": {},
   "outputs": [],
   "source": [
    "import pandas as pd \n",
    "import numpy as np \n",
    "import matplotlib.pyplot as plt \n",
    "import seaborn as sns"
   ]
  },
  {
   "cell_type": "code",
   "execution_count": 2,
   "metadata": {},
   "outputs": [],
   "source": [
    "abspath = '/home/semipro321/Documents/Workspace/Geospatial-Analysis-on-House-Price-Prediction/'\n",
    "df = pd.read_csv(abspath + 'Inputs/mastermodel_filled.csv')"
   ]
  },
  {
   "cell_type": "code",
   "execution_count": 3,
   "metadata": {},
   "outputs": [],
   "source": [
    "df_nogeo = df.drop(columns=['lat', 'long', 'geometry'])"
   ]
  },
  {
   "cell_type": "code",
   "execution_count": 4,
   "metadata": {},
   "outputs": [
    {
     "output_type": "stream",
     "name": "stdout",
     "text": [
      "<class 'pandas.core.frame.DataFrame'>\nRangeIndex: 15234 entries, 0 to 15233\nData columns (total 83 columns):\n #   Column                      Non-Null Count  Dtype  \n---  ------                      --------------  -----  \n 0   sqft                        15234 non-null  float64\n 1   parking                     15234 non-null  int64  \n 2   mean_district_income        15234 non-null  int64  \n 3   bedrooms_bg                 15234 non-null  int64  \n 4   bedrooms_ag                 15234 non-null  int64  \n 5   bathrooms                   15234 non-null  int64  \n 6   final_price                 15234 non-null  int64  \n 7   type_Att/Row/Twnhouse       15234 non-null  int64  \n 8   type_Co-Op Apt              15234 non-null  int64  \n 9   type_Co-Ownership Apt       15234 non-null  int64  \n 10  type_Comm Element Condo     15234 non-null  int64  \n 11  type_Condo Apt              15234 non-null  int64  \n 12  type_Condo Townhouse        15234 non-null  int64  \n 13  type_Detached               15234 non-null  int64  \n 14  type_Link                   15234 non-null  int64  \n 15  type_Plex                   15234 non-null  int64  \n 16  type_Semi-Detached          15234 non-null  int64  \n 17  type_Store W/Apt/Offc       15234 non-null  int64  \n 18  neighbourhood               15234 non-null  object \n 19  dist_nearest_school         15234 non-null  float64\n 20  dist_nearest_ttc            15234 non-null  float64\n 21  Assault_2014_500m           15234 non-null  int64  \n 22  Assault_2015_500m           15234 non-null  int64  \n 23  Assault_2016_500m           15234 non-null  int64  \n 24  Assault_2017_500m           15234 non-null  int64  \n 25  Assault_2018_500m           15234 non-null  int64  \n 26  Assault_2019_500m           15234 non-null  int64  \n 27  Auto Theft_2014_500m        15234 non-null  int64  \n 28  Auto Theft_2015_500m        15234 non-null  int64  \n 29  Auto Theft_2016_500m        15234 non-null  int64  \n 30  Auto Theft_2017_500m        15234 non-null  int64  \n 31  Auto Theft_2018_500m        15234 non-null  int64  \n 32  Auto Theft_2019_500m        15234 non-null  int64  \n 33  Break and Enter_2014_500m   15234 non-null  int64  \n 34  Break and Enter_2015_500m   15234 non-null  int64  \n 35  Break and Enter_2016_500m   15234 non-null  int64  \n 36  Break and Enter_2017_500m   15234 non-null  int64  \n 37  Break and Enter_2018_500m   15234 non-null  int64  \n 38  Break and Enter_2019_500m   15234 non-null  int64  \n 39  Robbery_2014_500m           15234 non-null  int64  \n 40  Robbery_2015_500m           15234 non-null  int64  \n 41  Robbery_2016_500m           15234 non-null  int64  \n 42  Robbery_2017_500m           15234 non-null  int64  \n 43  Robbery_2018_500m           15234 non-null  int64  \n 44  Robbery_2019_500m           15234 non-null  int64  \n 45  Theft Over_2014_500m        15234 non-null  int64  \n 46  Theft Over_2015_500m        15234 non-null  int64  \n 47  Theft Over_2016_500m        15234 non-null  int64  \n 48  Theft Over_2017_500m        15234 non-null  int64  \n 49  Theft Over_2018_500m        15234 non-null  int64  \n 50  Theft Over_2019_500m        15234 non-null  int64  \n 51  Assault_2014_1000m          15234 non-null  int64  \n 52  Assault_2015_1000m          15234 non-null  int64  \n 53  Assault_2016_1000m          15234 non-null  int64  \n 54  Assault_2017_1000m          15234 non-null  int64  \n 55  Assault_2018_1000m          15234 non-null  int64  \n 56  Assault_2019_1000m          15234 non-null  int64  \n 57  Auto Theft_2014_1000m       15234 non-null  int64  \n 58  Auto Theft_2015_1000m       15234 non-null  int64  \n 59  Auto Theft_2016_1000m       15234 non-null  int64  \n 60  Auto Theft_2017_1000m       15234 non-null  int64  \n 61  Auto Theft_2018_1000m       15234 non-null  int64  \n 62  Auto Theft_2019_1000m       15234 non-null  int64  \n 63  Break and Enter_2014_1000m  15234 non-null  int64  \n 64  Break and Enter_2015_1000m  15234 non-null  int64  \n 65  Break and Enter_2016_1000m  15234 non-null  int64  \n 66  Break and Enter_2017_1000m  15234 non-null  int64  \n 67  Break and Enter_2018_1000m  15234 non-null  int64  \n 68  Break and Enter_2019_1000m  15234 non-null  int64  \n 69  Robbery_2014_1000m          15234 non-null  int64  \n 70  Robbery_2015_1000m          15234 non-null  int64  \n 71  Robbery_2016_1000m          15234 non-null  int64  \n 72  Robbery_2017_1000m          15234 non-null  int64  \n 73  Robbery_2018_1000m          15234 non-null  int64  \n 74  Robbery_2019_1000m          15234 non-null  int64  \n 75  Theft Over_2014_1000m       15234 non-null  int64  \n 76  Theft Over_2015_1000m       15234 non-null  int64  \n 77  Theft Over_2016_1000m       15234 non-null  int64  \n 78  Theft Over_2017_1000m       15234 non-null  int64  \n 79  Theft Over_2018_1000m       15234 non-null  int64  \n 80  Theft Over_2019_1000m       15234 non-null  int64  \n 81  Airbnb_500m                 15234 non-null  int64  \n 82  Airbnb_1000m                15234 non-null  int64  \ndtypes: float64(3), int64(79), object(1)\nmemory usage: 9.6+ MB\n"
     ]
    }
   ],
   "source": [
    "df_nogeo.info()"
   ]
  },
  {
   "source": [
    "Convert neighboorhood into dummy"
   ],
   "cell_type": "markdown",
   "metadata": {}
  },
  {
   "cell_type": "code",
   "execution_count": 5,
   "metadata": {},
   "outputs": [
    {
     "output_type": "execute_result",
     "data": {
      "text/plain": [
       "(15234, 222)"
      ]
     },
     "metadata": {},
     "execution_count": 5
    }
   ],
   "source": [
    "df_nogeo = pd.get_dummies(df_nogeo, columns=['neighbourhood'])\n",
    "df_nogeo.shape"
   ]
  },
  {
   "source": [
    "Check for multicollinearity -  pearson correlation (r>0.85)"
   ],
   "cell_type": "markdown",
   "metadata": {}
  },
  {
   "cell_type": "code",
   "execution_count": 6,
   "metadata": {},
   "outputs": [
    {
     "output_type": "stream",
     "name": "stdout",
     "text": [
      "Top Absolute Correlations\n",
      "Assault_2015_1000m  Assault_2016_1000m    0.994365\n",
      "Assault_2016_1000m  Assault_2017_1000m    0.994110\n",
      "Assault_2014_1000m  Assault_2015_1000m    0.994056\n",
      "Assault_2015_1000m  Assault_2017_1000m    0.993865\n",
      "Assault_2017_1000m  Assault_2018_1000m    0.993755\n",
      "Assault_2018_1000m  Assault_2019_1000m    0.993489\n",
      "Assault_2014_1000m  Assault_2016_1000m    0.991993\n",
      "Assault_2016_1000m  Assault_2018_1000m    0.990431\n",
      "Assault_2014_1000m  Assault_2017_1000m    0.989653\n",
      "Assault_2016_500m   Assault_2017_500m     0.988411\n",
      "Assault_2015_1000m  Assault_2018_1000m    0.987831\n",
      "Assault_2014_500m   Assault_2015_500m     0.986216\n",
      "Assault_2015_500m   Assault_2016_500m     0.985393\n",
      "Assault_2017_1000m  Assault_2019_1000m    0.985198\n",
      "Assault_2014_1000m  Assault_2018_1000m    0.984653\n",
      "Assault_2018_500m   Assault_2019_500m     0.984619\n",
      "Assault_2014_500m   Assault_2016_500m     0.984575\n",
      "Assault_2017_500m   Assault_2018_500m     0.984567\n",
      "Assault_2015_500m   Assault_2017_500m     0.984185\n",
      "Assault_2016_1000m  Assault_2019_1000m    0.983305\n",
      "Assault_2014_500m   Assault_2017_500m     0.979618\n",
      "Robbery_2018_1000m  Robbery_2019_1000m    0.978665\n",
      "Assault_2015_1000m  Assault_2019_1000m    0.977693\n",
      "Assault_2014_1000m  Assault_2019_1000m    0.977676\n",
      "Assault_2016_500m   Assault_2018_500m     0.974730\n",
      "Robbery_2015_1000m  Robbery_2016_1000m    0.974504\n",
      "Robbery_2014_1000m  Robbery_2015_1000m    0.972840\n",
      "Robbery_2017_1000m  Robbery_2018_1000m    0.972526\n",
      "Robbery_2016_1000m  Robbery_2018_1000m    0.971428\n",
      "Robbery_2017_1000m  Robbery_2019_1000m    0.970403\n",
      "dtype: float64\n"
     ]
    }
   ],
   "source": [
    "def get_redundant_pairs(df):\n",
    "    '''Get diagonal and lower triangular pairs of correlation matrix'''\n",
    "    pairs_to_drop = set()\n",
    "    cols = df.columns\n",
    "    for i in range(0, df.shape[1]):\n",
    "        for j in range(0, i+1):\n",
    "            pairs_to_drop.add((cols[i], cols[j]))\n",
    "    return pairs_to_drop\n",
    "\n",
    "def get_top_abs_correlations(df, n=5):\n",
    "    au_corr = df.corr().abs().unstack()\n",
    "    labels_to_drop = get_redundant_pairs(df)\n",
    "    au_corr = au_corr.drop(labels=labels_to_drop).sort_values(ascending=False)\n",
    "    return au_corr[0:n]\n",
    "\n",
    "print(\"Top Absolute Correlations\")\n",
    "print(get_top_abs_correlations(df_nogeo, 30))"
   ]
  },
  {
   "source": [
    "gotta fix this => Goig to combine them"
   ],
   "cell_type": "markdown",
   "metadata": {}
  },
  {
   "cell_type": "code",
   "execution_count": 7,
   "metadata": {},
   "outputs": [],
   "source": [
    "col_sub1000 = []\n",
    "for i in range(2014, 2020):\n",
    "    col_sub1000.append(f'Assault_{i}_1000m')\n",
    "    col_sub1000.append(f'Auto Theft_{i}_1000m')\n",
    "    col_sub1000.append(f'Break and Enter_{i}_1000m')\n",
    "    col_sub1000.append(f'Robbery_{i}_1000m')\n",
    "    col_sub1000.append(f'Theft Over_{i}_1000m')\n",
    "\n",
    "col_sub500 = []\n",
    "for i in range(2014, 2020):\n",
    "    col_sub500.append(f'Assault_{i}_500m')\n",
    "    col_sub500.append(f'Auto Theft_{i}_500m')\n",
    "    col_sub500.append(f'Break and Enter_{i}_500m')\n",
    "    col_sub500.append(f'Robbery_{i}_500m')\n",
    "    col_sub500.append(f'Theft Over_{i}_500m')\n"
   ]
  },
  {
   "cell_type": "code",
   "execution_count": 8,
   "metadata": {},
   "outputs": [
    {
     "output_type": "execute_result",
     "data": {
      "text/plain": [
       "['Assault_2014_500m',\n",
       " 'Auto Theft_2014_500m',\n",
       " 'Break and Enter_2014_500m',\n",
       " 'Robbery_2014_500m',\n",
       " 'Theft Over_2014_500m',\n",
       " 'Assault_2015_500m',\n",
       " 'Auto Theft_2015_500m',\n",
       " 'Break and Enter_2015_500m',\n",
       " 'Robbery_2015_500m',\n",
       " 'Theft Over_2015_500m',\n",
       " 'Assault_2016_500m',\n",
       " 'Auto Theft_2016_500m',\n",
       " 'Break and Enter_2016_500m',\n",
       " 'Robbery_2016_500m',\n",
       " 'Theft Over_2016_500m',\n",
       " 'Assault_2017_500m',\n",
       " 'Auto Theft_2017_500m',\n",
       " 'Break and Enter_2017_500m',\n",
       " 'Robbery_2017_500m',\n",
       " 'Theft Over_2017_500m',\n",
       " 'Assault_2018_500m',\n",
       " 'Auto Theft_2018_500m',\n",
       " 'Break and Enter_2018_500m',\n",
       " 'Robbery_2018_500m',\n",
       " 'Theft Over_2018_500m',\n",
       " 'Assault_2019_500m',\n",
       " 'Auto Theft_2019_500m',\n",
       " 'Break and Enter_2019_500m',\n",
       " 'Robbery_2019_500m',\n",
       " 'Theft Over_2019_500m']"
      ]
     },
     "metadata": {},
     "execution_count": 8
    }
   ],
   "source": [
    "col_sub500"
   ]
  },
  {
   "cell_type": "code",
   "execution_count": 9,
   "metadata": {},
   "outputs": [],
   "source": [
    "for i in col_sub500:\n",
    "    df_nogeo[i[:-10]+'500m'] = 0\n",
    "for i in col_sub500:\n",
    "    df_nogeo[i[:-10]+'500m'] += df_nogeo[i]"
   ]
  },
  {
   "cell_type": "code",
   "execution_count": 10,
   "metadata": {},
   "outputs": [],
   "source": [
    "for i in col_sub1000:\n",
    "    df_nogeo[i[:-11]+'1000m'] = 0\n",
    "for i in col_sub1000:\n",
    "    df_nogeo[i[:-11]+'1000m'] += df_nogeo[i]"
   ]
  },
  {
   "cell_type": "code",
   "execution_count": 11,
   "metadata": {},
   "outputs": [
    {
     "output_type": "execute_result",
     "data": {
      "text/plain": [
       "Index(['sqft', 'parking', 'mean_district_income', 'bedrooms_bg', 'bedrooms_ag',\n",
       "       'bathrooms', 'final_price', 'type_Att/Row/Twnhouse', 'type_Co-Op Apt',\n",
       "       'type_Co-Ownership Apt',\n",
       "       ...\n",
       "       'Assault500m', 'Auto Theft500m', 'Break and Enter500m', 'Robbery500m',\n",
       "       'Theft Over500m', 'Assault1000m', 'Auto Theft1000m',\n",
       "       'Break and Enter1000m', 'Robbery1000m', 'Theft Over1000m'],\n",
       "      dtype='object', length=232)"
      ]
     },
     "metadata": {},
     "execution_count": 11
    }
   ],
   "source": [
    "df_nogeo.columns"
   ]
  },
  {
   "cell_type": "code",
   "execution_count": 12,
   "metadata": {},
   "outputs": [],
   "source": [
    "df_nogeo.to_csv('output.csv', index = False)"
   ]
  },
  {
   "cell_type": "code",
   "execution_count": 13,
   "metadata": {},
   "outputs": [],
   "source": [
    "df_nogeo.drop(columns=col_sub1000 + col_sub500, inplace=True)"
   ]
  },
  {
   "cell_type": "code",
   "execution_count": 15,
   "metadata": {},
   "outputs": [
    {
     "output_type": "execute_result",
     "data": {
      "text/plain": [
       "(15234, 172)"
      ]
     },
     "metadata": {},
     "execution_count": 15
    }
   ],
   "source": [
    "df_nogeo.shape"
   ]
  },
  {
   "cell_type": "code",
   "execution_count": 16,
   "metadata": {},
   "outputs": [
    {
     "output_type": "stream",
     "name": "stdout",
     "text": [
      "Top Absolute Correlations\n",
      "Assault1000m          Break and Enter1000m    0.958617\n",
      "                      Theft Over1000m         0.946866\n",
      "                      Robbery1000m            0.938862\n",
      "Break and Enter1000m  Theft Over1000m         0.931372\n",
      "Break and Enter500m   Break and Enter1000m    0.921427\n",
      "Assault500m           Break and Enter500m     0.915315\n",
      "                      Robbery500m             0.906231\n",
      "                      Assault1000m            0.898056\n",
      "Break and Enter1000m  Robbery1000m            0.889532\n",
      "Break and Enter500m   Assault1000m            0.889139\n",
      "                      Theft Over1000m         0.886146\n",
      "Assault500m           Break and Enter1000m    0.877721\n",
      "                      Theft Over1000m         0.876778\n",
      "Break and Enter500m   Theft Over500m          0.864586\n",
      "Assault500m           Theft Over500m          0.862525\n",
      "Robbery500m           Robbery1000m            0.857418\n",
      "sqft                  bathrooms               0.851843\n",
      "Assault500m           Robbery1000m            0.846850\n",
      "Theft Over500m        Theft Over1000m         0.844434\n",
      "Airbnb_500m           Airbnb_1000m            0.844417\n",
      "Assault1000m          Auto Theft1000m         0.840890\n",
      "Robbery1000m          Theft Over1000m         0.835447\n",
      "sqft                  bedrooms_ag             0.821701\n",
      "Theft Over500m        Break and Enter1000m    0.818031\n",
      "                      Assault1000m            0.817038\n",
      "Break and Enter500m   Robbery1000m            0.814438\n",
      "Auto Theft1000m       Break and Enter1000m    0.812928\n",
      "Robbery500m           Assault1000m            0.812278\n",
      "Auto Theft1000m       Robbery1000m            0.810765\n",
      "Break and Enter500m   Robbery500m             0.786948\n",
      "dtype: float64\n"
     ]
    }
   ],
   "source": [
    "print(\"Top Absolute Correlations\")\n",
    "print(get_top_abs_correlations(df_nogeo, 30))"
   ]
  },
  {
   "source": [
    "Assault + B&E + Robbery -> High correlated  \n",
    "\n",
    "Theft + Robbery -> High correlated  \n",
    "\n",
    "Should we absorb: Assault + B&E + Robbery + Theft  \n",
    "\n",
    "500m & 1000m High correlated=> Maybe make distance further? Or absorb it?\n"
   ],
   "cell_type": "markdown",
   "metadata": {}
  },
  {
   "cell_type": "code",
   "execution_count": 19,
   "metadata": {},
   "outputs": [
    {
     "output_type": "stream",
     "name": "stderr",
     "text": [
      "/home/semipro321/anaconda3/envs/dataenv/lib/python3.8/site-packages/seaborn/distributions.py:2551: FutureWarning: `distplot` is a deprecated function and will be removed in a future version. Please adapt your code to use either `displot` (a figure-level function with similar flexibility) or `histplot` (an axes-level function for histograms).\n  warnings.warn(msg, FutureWarning)\n"
     ]
    },
    {
     "output_type": "execute_result",
     "data": {
      "text/plain": [
       "<AxesSubplot:xlabel='final_price', ylabel='Density'>"
      ]
     },
     "metadata": {},
     "execution_count": 19
    },
    {
     "output_type": "display_data",
     "data": {
      "text/plain": "<Figure size 432x288 with 1 Axes>",
      "image/svg+xml": "<?xml version=\"1.0\" encoding=\"utf-8\" standalone=\"no\"?>\n<!DOCTYPE svg PUBLIC \"-//W3C//DTD SVG 1.1//EN\"\n  \"http://www.w3.org/Graphics/SVG/1.1/DTD/svg11.dtd\">\n<!-- Created with matplotlib (https://matplotlib.org/) -->\n<svg height=\"273.072812pt\" version=\"1.1\" viewBox=\"0 0 390.795479 273.072812\" width=\"390.795479pt\" xmlns=\"http://www.w3.org/2000/svg\" xmlns:xlink=\"http://www.w3.org/1999/xlink\">\n <metadata>\n  <rdf:RDF xmlns:cc=\"http://creativecommons.org/ns#\" xmlns:dc=\"http://purl.org/dc/elements/1.1/\" xmlns:rdf=\"http://www.w3.org/1999/02/22-rdf-syntax-ns#\">\n   <cc:Work>\n    <dc:type rdf:resource=\"http://purl.org/dc/dcmitype/StillImage\"/>\n    <dc:date>2021-03-06T23:43:40.710818</dc:date>\n    <dc:format>image/svg+xml</dc:format>\n    <dc:creator>\n     <cc:Agent>\n      <dc:title>Matplotlib v3.3.2, https://matplotlib.org/</dc:title>\n     </cc:Agent>\n    </dc:creator>\n   </cc:Work>\n  </rdf:RDF>\n </metadata>\n <defs>\n  <style type=\"text/css\">*{stroke-linecap:butt;stroke-linejoin:round;}</style>\n </defs>\n <g id=\"figure_1\">\n  <g id=\"patch_1\">\n   <path d=\"M 0 273.072812 \nL 390.795479 273.072812 \nL 390.795479 0 \nL 0 0 \nz\n\" style=\"fill:none;\"/>\n  </g>\n  <g id=\"axes_1\">\n   <g id=\"patch_2\">\n    <path d=\"M 43.78125 235.238438 \nL 378.58125 235.238438 \nL 378.58125 17.798438 \nL 43.78125 17.798438 \nz\n\" style=\"fill:#ffffff;\"/>\n   </g>\n   <g id=\"patch_3\">\n    <path clip-path=\"url(#p9ba77e289c)\" d=\"M 65.045605 235.238438 \nL 70.89103 235.238438 \nL 70.89103 213.639499 \nL 65.045605 213.639499 \nz\n\" style=\"fill:#1f77b4;opacity:0.4;\"/>\n   </g>\n   <g id=\"patch_4\">\n    <path clip-path=\"url(#p9ba77e289c)\" d=\"M 70.89103 235.238438 \nL 76.736456 235.238438 \nL 76.736456 38.068304 \nL 70.89103 38.068304 \nz\n\" style=\"fill:#1f77b4;opacity:0.4;\"/>\n   </g>\n   <g id=\"patch_5\">\n    <path clip-path=\"url(#p9ba77e289c)\" d=\"M 76.736456 235.238438 \nL 82.581882 235.238438 \nL 82.581882 62.597185 \nL 76.736456 62.597185 \nz\n\" style=\"fill:#1f77b4;opacity:0.4;\"/>\n   </g>\n   <g id=\"patch_6\">\n    <path clip-path=\"url(#p9ba77e289c)\" d=\"M 82.581882 235.238438 \nL 88.427308 235.238438 \nL 88.427308 164.318793 \nL 82.581882 164.318793 \nz\n\" style=\"fill:#1f77b4;opacity:0.4;\"/>\n   </g>\n   <g id=\"patch_7\">\n    <path clip-path=\"url(#p9ba77e289c)\" d=\"M 88.427308 235.238438 \nL 94.272734 235.238438 \nL 94.272734 191.664927 \nL 88.427308 191.664927 \nz\n\" style=\"fill:#1f77b4;opacity:0.4;\"/>\n   </g>\n   <g id=\"patch_8\">\n    <path clip-path=\"url(#p9ba77e289c)\" d=\"M 94.272734 235.238438 \nL 100.11816 235.238438 \nL 100.11816 212.212091 \nL 94.272734 212.212091 \nz\n\" style=\"fill:#1f77b4;opacity:0.4;\"/>\n   </g>\n   <g id=\"patch_9\">\n    <path clip-path=\"url(#p9ba77e289c)\" d=\"M 100.11816 235.238438 \nL 105.963585 235.238438 \nL 105.963585 222.692272 \nL 100.11816 222.692272 \nz\n\" style=\"fill:#1f77b4;opacity:0.4;\"/>\n   </g>\n   <g id=\"patch_10\">\n    <path clip-path=\"url(#p9ba77e289c)\" d=\"M 105.963585 235.238438 \nL 111.809011 235.238438 \nL 111.809011 227.012059 \nL 105.963585 227.012059 \nz\n\" style=\"fill:#1f77b4;opacity:0.4;\"/>\n   </g>\n   <g id=\"patch_11\">\n    <path clip-path=\"url(#p9ba77e289c)\" d=\"M 111.809011 235.238438 \nL 117.654437 235.238438 \nL 117.654437 228.101397 \nL 111.809011 228.101397 \nz\n\" style=\"fill:#1f77b4;opacity:0.4;\"/>\n   </g>\n   <g id=\"patch_12\">\n    <path clip-path=\"url(#p9ba77e289c)\" d=\"M 117.654437 235.238438 \nL 123.499863 235.238438 \nL 123.499863 230.881086 \nL 117.654437 230.881086 \nz\n\" style=\"fill:#1f77b4;opacity:0.4;\"/>\n   </g>\n   <g id=\"patch_13\">\n    <path clip-path=\"url(#p9ba77e289c)\" d=\"M 123.499863 235.238438 \nL 129.345289 235.238438 \nL 129.345289 232.609002 \nL 123.499863 232.609002 \nz\n\" style=\"fill:#1f77b4;opacity:0.4;\"/>\n   </g>\n   <g id=\"patch_14\">\n    <path clip-path=\"url(#p9ba77e289c)\" d=\"M 129.345289 235.238438 \nL 135.190714 235.238438 \nL 135.190714 233.210015 \nL 129.345289 233.210015 \nz\n\" style=\"fill:#1f77b4;opacity:0.4;\"/>\n   </g>\n   <g id=\"patch_15\">\n    <path clip-path=\"url(#p9ba77e289c)\" d=\"M 135.190714 235.238438 \nL 141.03614 235.238438 \nL 141.03614 233.510522 \nL 135.190714 233.510522 \nz\n\" style=\"fill:#1f77b4;opacity:0.4;\"/>\n   </g>\n   <g id=\"patch_16\">\n    <path clip-path=\"url(#p9ba77e289c)\" d=\"M 141.03614 235.238438 \nL 146.881566 235.238438 \nL 146.881566 234.562297 \nL 141.03614 234.562297 \nz\n\" style=\"fill:#1f77b4;opacity:0.4;\"/>\n   </g>\n   <g id=\"patch_17\">\n    <path clip-path=\"url(#p9ba77e289c)\" d=\"M 146.881566 235.238438 \nL 152.726992 235.238438 \nL 152.726992 234.073973 \nL 146.881566 234.073973 \nz\n\" style=\"fill:#1f77b4;opacity:0.4;\"/>\n   </g>\n   <g id=\"patch_18\">\n    <path clip-path=\"url(#p9ba77e289c)\" d=\"M 152.726992 235.238438 \nL 158.572418 235.238438 \nL 158.572418 234.674987 \nL 152.726992 234.674987 \nz\n\" style=\"fill:#1f77b4;opacity:0.4;\"/>\n   </g>\n   <g id=\"patch_19\">\n    <path clip-path=\"url(#p9ba77e289c)\" d=\"M 158.572418 235.238438 \nL 164.417843 235.238438 \nL 164.417843 234.82524 \nL 158.572418 234.82524 \nz\n\" style=\"fill:#1f77b4;opacity:0.4;\"/>\n   </g>\n   <g id=\"patch_20\">\n    <path clip-path=\"url(#p9ba77e289c)\" d=\"M 164.417843 235.238438 \nL 170.263269 235.238438 \nL 170.263269 234.900367 \nL 164.417843 234.900367 \nz\n\" style=\"fill:#1f77b4;opacity:0.4;\"/>\n   </g>\n   <g id=\"patch_21\">\n    <path clip-path=\"url(#p9ba77e289c)\" d=\"M 170.263269 235.238438 \nL 176.108695 235.238438 \nL 176.108695 234.900367 \nL 170.263269 234.900367 \nz\n\" style=\"fill:#1f77b4;opacity:0.4;\"/>\n   </g>\n   <g id=\"patch_22\">\n    <path clip-path=\"url(#p9ba77e289c)\" d=\"M 176.108695 235.238438 \nL 181.954121 235.238438 \nL 181.954121 234.937931 \nL 176.108695 234.937931 \nz\n\" style=\"fill:#1f77b4;opacity:0.4;\"/>\n   </g>\n   <g id=\"patch_23\">\n    <path clip-path=\"url(#p9ba77e289c)\" d=\"M 181.954121 235.238438 \nL 187.799547 235.238438 \nL 187.799547 235.200874 \nL 181.954121 235.200874 \nz\n\" style=\"fill:#1f77b4;opacity:0.4;\"/>\n   </g>\n   <g id=\"patch_24\">\n    <path clip-path=\"url(#p9ba77e289c)\" d=\"M 187.799547 235.238438 \nL 193.644973 235.238438 \nL 193.644973 234.975494 \nL 187.799547 234.975494 \nz\n\" style=\"fill:#1f77b4;opacity:0.4;\"/>\n   </g>\n   <g id=\"patch_25\">\n    <path clip-path=\"url(#p9ba77e289c)\" d=\"M 193.644973 235.238438 \nL 199.490398 235.238438 \nL 199.490398 235.200874 \nL 193.644973 235.200874 \nz\n\" style=\"fill:#1f77b4;opacity:0.4;\"/>\n   </g>\n   <g id=\"patch_26\">\n    <path clip-path=\"url(#p9ba77e289c)\" d=\"M 199.490398 235.238438 \nL 205.335824 235.238438 \nL 205.335824 235.163311 \nL 199.490398 235.163311 \nz\n\" style=\"fill:#1f77b4;opacity:0.4;\"/>\n   </g>\n   <g id=\"patch_27\">\n    <path clip-path=\"url(#p9ba77e289c)\" d=\"M 205.335824 235.238438 \nL 211.18125 235.238438 \nL 211.18125 235.200874 \nL 205.335824 235.200874 \nz\n\" style=\"fill:#1f77b4;opacity:0.4;\"/>\n   </g>\n   <g id=\"patch_28\">\n    <path clip-path=\"url(#p9ba77e289c)\" d=\"M 211.18125 235.238438 \nL 217.026676 235.238438 \nL 217.026676 235.125747 \nL 211.18125 235.125747 \nz\n\" style=\"fill:#1f77b4;opacity:0.4;\"/>\n   </g>\n   <g id=\"patch_29\">\n    <path clip-path=\"url(#p9ba77e289c)\" d=\"M 217.026676 235.238438 \nL 222.872102 235.238438 \nL 222.872102 235.163311 \nL 217.026676 235.163311 \nz\n\" style=\"fill:#1f77b4;opacity:0.4;\"/>\n   </g>\n   <g id=\"patch_30\">\n    <path clip-path=\"url(#p9ba77e289c)\" d=\"M 222.872102 235.238438 \nL 228.717527 235.238438 \nL 228.717527 235.238438 \nL 222.872102 235.238438 \nz\n\" style=\"fill:#1f77b4;opacity:0.4;\"/>\n   </g>\n   <g id=\"patch_31\">\n    <path clip-path=\"url(#p9ba77e289c)\" d=\"M 228.717527 235.238438 \nL 234.562953 235.238438 \nL 234.562953 235.200874 \nL 228.717527 235.200874 \nz\n\" style=\"fill:#1f77b4;opacity:0.4;\"/>\n   </g>\n   <g id=\"patch_32\">\n    <path clip-path=\"url(#p9ba77e289c)\" d=\"M 234.562953 235.238438 \nL 240.408379 235.238438 \nL 240.408379 235.238438 \nL 234.562953 235.238438 \nz\n\" style=\"fill:#1f77b4;opacity:0.4;\"/>\n   </g>\n   <g id=\"patch_33\">\n    <path clip-path=\"url(#p9ba77e289c)\" d=\"M 240.408379 235.238438 \nL 246.253805 235.238438 \nL 246.253805 235.238438 \nL 240.408379 235.238438 \nz\n\" style=\"fill:#1f77b4;opacity:0.4;\"/>\n   </g>\n   <g id=\"patch_34\">\n    <path clip-path=\"url(#p9ba77e289c)\" d=\"M 246.253805 235.238438 \nL 252.099231 235.238438 \nL 252.099231 235.238438 \nL 246.253805 235.238438 \nz\n\" style=\"fill:#1f77b4;opacity:0.4;\"/>\n   </g>\n   <g id=\"patch_35\">\n    <path clip-path=\"url(#p9ba77e289c)\" d=\"M 252.099231 235.238438 \nL 257.944657 235.238438 \nL 257.944657 235.238438 \nL 252.099231 235.238438 \nz\n\" style=\"fill:#1f77b4;opacity:0.4;\"/>\n   </g>\n   <g id=\"patch_36\">\n    <path clip-path=\"url(#p9ba77e289c)\" d=\"M 257.944657 235.238438 \nL 263.790082 235.238438 \nL 263.790082 235.238438 \nL 257.944657 235.238438 \nz\n\" style=\"fill:#1f77b4;opacity:0.4;\"/>\n   </g>\n   <g id=\"patch_37\">\n    <path clip-path=\"url(#p9ba77e289c)\" d=\"M 263.790082 235.238438 \nL 269.635508 235.238438 \nL 269.635508 235.200874 \nL 263.790082 235.200874 \nz\n\" style=\"fill:#1f77b4;opacity:0.4;\"/>\n   </g>\n   <g id=\"patch_38\">\n    <path clip-path=\"url(#p9ba77e289c)\" d=\"M 269.635508 235.238438 \nL 275.480934 235.238438 \nL 275.480934 235.238438 \nL 269.635508 235.238438 \nz\n\" style=\"fill:#1f77b4;opacity:0.4;\"/>\n   </g>\n   <g id=\"patch_39\">\n    <path clip-path=\"url(#p9ba77e289c)\" d=\"M 275.480934 235.238438 \nL 281.32636 235.238438 \nL 281.32636 235.238438 \nL 275.480934 235.238438 \nz\n\" style=\"fill:#1f77b4;opacity:0.4;\"/>\n   </g>\n   <g id=\"patch_40\">\n    <path clip-path=\"url(#p9ba77e289c)\" d=\"M 281.32636 235.238438 \nL 287.171786 235.238438 \nL 287.171786 235.238438 \nL 281.32636 235.238438 \nz\n\" style=\"fill:#1f77b4;opacity:0.4;\"/>\n   </g>\n   <g id=\"patch_41\">\n    <path clip-path=\"url(#p9ba77e289c)\" d=\"M 287.171786 235.238438 \nL 293.017211 235.238438 \nL 293.017211 235.200874 \nL 287.171786 235.200874 \nz\n\" style=\"fill:#1f77b4;opacity:0.4;\"/>\n   </g>\n   <g id=\"patch_42\">\n    <path clip-path=\"url(#p9ba77e289c)\" d=\"M 293.017211 235.238438 \nL 298.862637 235.238438 \nL 298.862637 235.163311 \nL 293.017211 235.163311 \nz\n\" style=\"fill:#1f77b4;opacity:0.4;\"/>\n   </g>\n   <g id=\"patch_43\">\n    <path clip-path=\"url(#p9ba77e289c)\" d=\"M 298.862637 235.238438 \nL 304.708063 235.238438 \nL 304.708063 235.238438 \nL 298.862637 235.238438 \nz\n\" style=\"fill:#1f77b4;opacity:0.4;\"/>\n   </g>\n   <g id=\"patch_44\">\n    <path clip-path=\"url(#p9ba77e289c)\" d=\"M 304.708063 235.238438 \nL 310.553489 235.238438 \nL 310.553489 235.238438 \nL 304.708063 235.238438 \nz\n\" style=\"fill:#1f77b4;opacity:0.4;\"/>\n   </g>\n   <g id=\"patch_45\">\n    <path clip-path=\"url(#p9ba77e289c)\" d=\"M 310.553489 235.238438 \nL 316.398915 235.238438 \nL 316.398915 235.238438 \nL 310.553489 235.238438 \nz\n\" style=\"fill:#1f77b4;opacity:0.4;\"/>\n   </g>\n   <g id=\"patch_46\">\n    <path clip-path=\"url(#p9ba77e289c)\" d=\"M 316.398915 235.238438 \nL 322.24434 235.238438 \nL 322.24434 235.238438 \nL 316.398915 235.238438 \nz\n\" style=\"fill:#1f77b4;opacity:0.4;\"/>\n   </g>\n   <g id=\"patch_47\">\n    <path clip-path=\"url(#p9ba77e289c)\" d=\"M 322.24434 235.238438 \nL 328.089766 235.238438 \nL 328.089766 235.238438 \nL 322.24434 235.238438 \nz\n\" style=\"fill:#1f77b4;opacity:0.4;\"/>\n   </g>\n   <g id=\"patch_48\">\n    <path clip-path=\"url(#p9ba77e289c)\" d=\"M 328.089766 235.238438 \nL 333.935192 235.238438 \nL 333.935192 235.238438 \nL 328.089766 235.238438 \nz\n\" style=\"fill:#1f77b4;opacity:0.4;\"/>\n   </g>\n   <g id=\"patch_49\">\n    <path clip-path=\"url(#p9ba77e289c)\" d=\"M 333.935192 235.238438 \nL 339.780618 235.238438 \nL 339.780618 235.238438 \nL 333.935192 235.238438 \nz\n\" style=\"fill:#1f77b4;opacity:0.4;\"/>\n   </g>\n   <g id=\"patch_50\">\n    <path clip-path=\"url(#p9ba77e289c)\" d=\"M 339.780618 235.238438 \nL 345.626044 235.238438 \nL 345.626044 235.238438 \nL 339.780618 235.238438 \nz\n\" style=\"fill:#1f77b4;opacity:0.4;\"/>\n   </g>\n   <g id=\"patch_51\">\n    <path clip-path=\"url(#p9ba77e289c)\" d=\"M 345.626044 235.238438 \nL 351.47147 235.238438 \nL 351.47147 235.238438 \nL 345.626044 235.238438 \nz\n\" style=\"fill:#1f77b4;opacity:0.4;\"/>\n   </g>\n   <g id=\"patch_52\">\n    <path clip-path=\"url(#p9ba77e289c)\" d=\"M 351.47147 235.238438 \nL 357.316895 235.238438 \nL 357.316895 235.200874 \nL 351.47147 235.200874 \nz\n\" style=\"fill:#1f77b4;opacity:0.4;\"/>\n   </g>\n   <g id=\"matplotlib.axis_1\">\n    <g id=\"xtick_1\">\n     <g id=\"line2d_1\">\n      <defs>\n       <path d=\"M 0 0 \nL 0 3.5 \n\" id=\"m04336b7d97\" style=\"stroke:#000000;stroke-width:0.8;\"/>\n      </defs>\n      <g>\n       <use style=\"stroke:#000000;stroke-width:0.8;\" x=\"62.743552\" xlink:href=\"#m04336b7d97\" y=\"235.238438\"/>\n      </g>\n     </g>\n     <g id=\"text_1\">\n      <!-- 0.0 -->\n      <g transform=\"translate(54.791989 249.836875)scale(0.1 -0.1)\">\n       <defs>\n        <path d=\"M 31.78125 66.40625 \nQ 24.171875 66.40625 20.328125 58.90625 \nQ 16.5 51.421875 16.5 36.375 \nQ 16.5 21.390625 20.328125 13.890625 \nQ 24.171875 6.390625 31.78125 6.390625 \nQ 39.453125 6.390625 43.28125 13.890625 \nQ 47.125 21.390625 47.125 36.375 \nQ 47.125 51.421875 43.28125 58.90625 \nQ 39.453125 66.40625 31.78125 66.40625 \nz\nM 31.78125 74.21875 \nQ 44.046875 74.21875 50.515625 64.515625 \nQ 56.984375 54.828125 56.984375 36.375 \nQ 56.984375 17.96875 50.515625 8.265625 \nQ 44.046875 -1.421875 31.78125 -1.421875 \nQ 19.53125 -1.421875 13.0625 8.265625 \nQ 6.59375 17.96875 6.59375 36.375 \nQ 6.59375 54.828125 13.0625 64.515625 \nQ 19.53125 74.21875 31.78125 74.21875 \nz\n\" id=\"DejaVuSans-48\"/>\n        <path d=\"M 10.6875 12.40625 \nL 21 12.40625 \nL 21 0 \nL 10.6875 0 \nz\n\" id=\"DejaVuSans-46\"/>\n       </defs>\n       <use xlink:href=\"#DejaVuSans-48\"/>\n       <use x=\"63.623047\" xlink:href=\"#DejaVuSans-46\"/>\n       <use x=\"95.410156\" xlink:href=\"#DejaVuSans-48\"/>\n      </g>\n     </g>\n    </g>\n    <g id=\"xtick_2\">\n     <g id=\"line2d_2\">\n      <g>\n       <use style=\"stroke:#000000;stroke-width:0.8;\" x=\"107.443604\" xlink:href=\"#m04336b7d97\" y=\"235.238438\"/>\n      </g>\n     </g>\n     <g id=\"text_2\">\n      <!-- 0.2 -->\n      <g transform=\"translate(99.492042 249.836875)scale(0.1 -0.1)\">\n       <defs>\n        <path d=\"M 19.1875 8.296875 \nL 53.609375 8.296875 \nL 53.609375 0 \nL 7.328125 0 \nL 7.328125 8.296875 \nQ 12.9375 14.109375 22.625 23.890625 \nQ 32.328125 33.6875 34.8125 36.53125 \nQ 39.546875 41.84375 41.421875 45.53125 \nQ 43.3125 49.21875 43.3125 52.78125 \nQ 43.3125 58.59375 39.234375 62.25 \nQ 35.15625 65.921875 28.609375 65.921875 \nQ 23.96875 65.921875 18.8125 64.3125 \nQ 13.671875 62.703125 7.8125 59.421875 \nL 7.8125 69.390625 \nQ 13.765625 71.78125 18.9375 73 \nQ 24.125 74.21875 28.421875 74.21875 \nQ 39.75 74.21875 46.484375 68.546875 \nQ 53.21875 62.890625 53.21875 53.421875 \nQ 53.21875 48.921875 51.53125 44.890625 \nQ 49.859375 40.875 45.40625 35.40625 \nQ 44.1875 33.984375 37.640625 27.21875 \nQ 31.109375 20.453125 19.1875 8.296875 \nz\n\" id=\"DejaVuSans-50\"/>\n       </defs>\n       <use xlink:href=\"#DejaVuSans-48\"/>\n       <use x=\"63.623047\" xlink:href=\"#DejaVuSans-46\"/>\n       <use x=\"95.410156\" xlink:href=\"#DejaVuSans-50\"/>\n      </g>\n     </g>\n    </g>\n    <g id=\"xtick_3\">\n     <g id=\"line2d_3\">\n      <g>\n       <use style=\"stroke:#000000;stroke-width:0.8;\" x=\"152.143656\" xlink:href=\"#m04336b7d97\" y=\"235.238438\"/>\n      </g>\n     </g>\n     <g id=\"text_3\">\n      <!-- 0.4 -->\n      <g transform=\"translate(144.192094 249.836875)scale(0.1 -0.1)\">\n       <defs>\n        <path d=\"M 37.796875 64.3125 \nL 12.890625 25.390625 \nL 37.796875 25.390625 \nz\nM 35.203125 72.90625 \nL 47.609375 72.90625 \nL 47.609375 25.390625 \nL 58.015625 25.390625 \nL 58.015625 17.1875 \nL 47.609375 17.1875 \nL 47.609375 0 \nL 37.796875 0 \nL 37.796875 17.1875 \nL 4.890625 17.1875 \nL 4.890625 26.703125 \nz\n\" id=\"DejaVuSans-52\"/>\n       </defs>\n       <use xlink:href=\"#DejaVuSans-48\"/>\n       <use x=\"63.623047\" xlink:href=\"#DejaVuSans-46\"/>\n       <use x=\"95.410156\" xlink:href=\"#DejaVuSans-52\"/>\n      </g>\n     </g>\n    </g>\n    <g id=\"xtick_4\">\n     <g id=\"line2d_4\">\n      <g>\n       <use style=\"stroke:#000000;stroke-width:0.8;\" x=\"196.843708\" xlink:href=\"#m04336b7d97\" y=\"235.238438\"/>\n      </g>\n     </g>\n     <g id=\"text_4\">\n      <!-- 0.6 -->\n      <g transform=\"translate(188.892146 249.836875)scale(0.1 -0.1)\">\n       <defs>\n        <path d=\"M 33.015625 40.375 \nQ 26.375 40.375 22.484375 35.828125 \nQ 18.609375 31.296875 18.609375 23.390625 \nQ 18.609375 15.53125 22.484375 10.953125 \nQ 26.375 6.390625 33.015625 6.390625 \nQ 39.65625 6.390625 43.53125 10.953125 \nQ 47.40625 15.53125 47.40625 23.390625 \nQ 47.40625 31.296875 43.53125 35.828125 \nQ 39.65625 40.375 33.015625 40.375 \nz\nM 52.59375 71.296875 \nL 52.59375 62.3125 \nQ 48.875 64.0625 45.09375 64.984375 \nQ 41.3125 65.921875 37.59375 65.921875 \nQ 27.828125 65.921875 22.671875 59.328125 \nQ 17.53125 52.734375 16.796875 39.40625 \nQ 19.671875 43.65625 24.015625 45.921875 \nQ 28.375 48.1875 33.59375 48.1875 \nQ 44.578125 48.1875 50.953125 41.515625 \nQ 57.328125 34.859375 57.328125 23.390625 \nQ 57.328125 12.15625 50.6875 5.359375 \nQ 44.046875 -1.421875 33.015625 -1.421875 \nQ 20.359375 -1.421875 13.671875 8.265625 \nQ 6.984375 17.96875 6.984375 36.375 \nQ 6.984375 53.65625 15.1875 63.9375 \nQ 23.390625 74.21875 37.203125 74.21875 \nQ 40.921875 74.21875 44.703125 73.484375 \nQ 48.484375 72.75 52.59375 71.296875 \nz\n\" id=\"DejaVuSans-54\"/>\n       </defs>\n       <use xlink:href=\"#DejaVuSans-48\"/>\n       <use x=\"63.623047\" xlink:href=\"#DejaVuSans-46\"/>\n       <use x=\"95.410156\" xlink:href=\"#DejaVuSans-54\"/>\n      </g>\n     </g>\n    </g>\n    <g id=\"xtick_5\">\n     <g id=\"line2d_5\">\n      <g>\n       <use style=\"stroke:#000000;stroke-width:0.8;\" x=\"241.54376\" xlink:href=\"#m04336b7d97\" y=\"235.238438\"/>\n      </g>\n     </g>\n     <g id=\"text_5\">\n      <!-- 0.8 -->\n      <g transform=\"translate(233.592198 249.836875)scale(0.1 -0.1)\">\n       <defs>\n        <path d=\"M 31.78125 34.625 \nQ 24.75 34.625 20.71875 30.859375 \nQ 16.703125 27.09375 16.703125 20.515625 \nQ 16.703125 13.921875 20.71875 10.15625 \nQ 24.75 6.390625 31.78125 6.390625 \nQ 38.8125 6.390625 42.859375 10.171875 \nQ 46.921875 13.96875 46.921875 20.515625 \nQ 46.921875 27.09375 42.890625 30.859375 \nQ 38.875 34.625 31.78125 34.625 \nz\nM 21.921875 38.8125 \nQ 15.578125 40.375 12.03125 44.71875 \nQ 8.5 49.078125 8.5 55.328125 \nQ 8.5 64.0625 14.71875 69.140625 \nQ 20.953125 74.21875 31.78125 74.21875 \nQ 42.671875 74.21875 48.875 69.140625 \nQ 55.078125 64.0625 55.078125 55.328125 \nQ 55.078125 49.078125 51.53125 44.71875 \nQ 48 40.375 41.703125 38.8125 \nQ 48.828125 37.15625 52.796875 32.3125 \nQ 56.78125 27.484375 56.78125 20.515625 \nQ 56.78125 9.90625 50.3125 4.234375 \nQ 43.84375 -1.421875 31.78125 -1.421875 \nQ 19.734375 -1.421875 13.25 4.234375 \nQ 6.78125 9.90625 6.78125 20.515625 \nQ 6.78125 27.484375 10.78125 32.3125 \nQ 14.796875 37.15625 21.921875 38.8125 \nz\nM 18.3125 54.390625 \nQ 18.3125 48.734375 21.84375 45.5625 \nQ 25.390625 42.390625 31.78125 42.390625 \nQ 38.140625 42.390625 41.71875 45.5625 \nQ 45.3125 48.734375 45.3125 54.390625 \nQ 45.3125 60.0625 41.71875 63.234375 \nQ 38.140625 66.40625 31.78125 66.40625 \nQ 25.390625 66.40625 21.84375 63.234375 \nQ 18.3125 60.0625 18.3125 54.390625 \nz\n\" id=\"DejaVuSans-56\"/>\n       </defs>\n       <use xlink:href=\"#DejaVuSans-48\"/>\n       <use x=\"63.623047\" xlink:href=\"#DejaVuSans-46\"/>\n       <use x=\"95.410156\" xlink:href=\"#DejaVuSans-56\"/>\n      </g>\n     </g>\n    </g>\n    <g id=\"xtick_6\">\n     <g id=\"line2d_6\">\n      <g>\n       <use style=\"stroke:#000000;stroke-width:0.8;\" x=\"286.243813\" xlink:href=\"#m04336b7d97\" y=\"235.238438\"/>\n      </g>\n     </g>\n     <g id=\"text_6\">\n      <!-- 1.0 -->\n      <g transform=\"translate(278.29225 249.836875)scale(0.1 -0.1)\">\n       <defs>\n        <path d=\"M 12.40625 8.296875 \nL 28.515625 8.296875 \nL 28.515625 63.921875 \nL 10.984375 60.40625 \nL 10.984375 69.390625 \nL 28.421875 72.90625 \nL 38.28125 72.90625 \nL 38.28125 8.296875 \nL 54.390625 8.296875 \nL 54.390625 0 \nL 12.40625 0 \nz\n\" id=\"DejaVuSans-49\"/>\n       </defs>\n       <use xlink:href=\"#DejaVuSans-49\"/>\n       <use x=\"63.623047\" xlink:href=\"#DejaVuSans-46\"/>\n       <use x=\"95.410156\" xlink:href=\"#DejaVuSans-48\"/>\n      </g>\n     </g>\n    </g>\n    <g id=\"xtick_7\">\n     <g id=\"line2d_7\">\n      <g>\n       <use style=\"stroke:#000000;stroke-width:0.8;\" x=\"330.943865\" xlink:href=\"#m04336b7d97\" y=\"235.238438\"/>\n      </g>\n     </g>\n     <g id=\"text_7\">\n      <!-- 1.2 -->\n      <g transform=\"translate(322.992302 249.836875)scale(0.1 -0.1)\">\n       <use xlink:href=\"#DejaVuSans-49\"/>\n       <use x=\"63.623047\" xlink:href=\"#DejaVuSans-46\"/>\n       <use x=\"95.410156\" xlink:href=\"#DejaVuSans-50\"/>\n      </g>\n     </g>\n    </g>\n    <g id=\"xtick_8\">\n     <g id=\"line2d_8\">\n      <g>\n       <use style=\"stroke:#000000;stroke-width:0.8;\" x=\"375.643917\" xlink:href=\"#m04336b7d97\" y=\"235.238438\"/>\n      </g>\n     </g>\n     <g id=\"text_8\">\n      <!-- 1.4 -->\n      <g transform=\"translate(367.692354 249.836875)scale(0.1 -0.1)\">\n       <use xlink:href=\"#DejaVuSans-49\"/>\n       <use x=\"63.623047\" xlink:href=\"#DejaVuSans-46\"/>\n       <use x=\"95.410156\" xlink:href=\"#DejaVuSans-52\"/>\n      </g>\n     </g>\n    </g>\n    <g id=\"text_9\">\n     <!-- final_price -->\n     <g transform=\"translate(185.465625 263.515)scale(0.1 -0.1)\">\n      <defs>\n       <path d=\"M 37.109375 75.984375 \nL 37.109375 68.5 \nL 28.515625 68.5 \nQ 23.6875 68.5 21.796875 66.546875 \nQ 19.921875 64.59375 19.921875 59.515625 \nL 19.921875 54.6875 \nL 34.71875 54.6875 \nL 34.71875 47.703125 \nL 19.921875 47.703125 \nL 19.921875 0 \nL 10.890625 0 \nL 10.890625 47.703125 \nL 2.296875 47.703125 \nL 2.296875 54.6875 \nL 10.890625 54.6875 \nL 10.890625 58.5 \nQ 10.890625 67.625 15.140625 71.796875 \nQ 19.390625 75.984375 28.609375 75.984375 \nz\n\" id=\"DejaVuSans-102\"/>\n       <path d=\"M 9.421875 54.6875 \nL 18.40625 54.6875 \nL 18.40625 0 \nL 9.421875 0 \nz\nM 9.421875 75.984375 \nL 18.40625 75.984375 \nL 18.40625 64.59375 \nL 9.421875 64.59375 \nz\n\" id=\"DejaVuSans-105\"/>\n       <path d=\"M 54.890625 33.015625 \nL 54.890625 0 \nL 45.90625 0 \nL 45.90625 32.71875 \nQ 45.90625 40.484375 42.875 44.328125 \nQ 39.84375 48.1875 33.796875 48.1875 \nQ 26.515625 48.1875 22.3125 43.546875 \nQ 18.109375 38.921875 18.109375 30.90625 \nL 18.109375 0 \nL 9.078125 0 \nL 9.078125 54.6875 \nL 18.109375 54.6875 \nL 18.109375 46.1875 \nQ 21.34375 51.125 25.703125 53.5625 \nQ 30.078125 56 35.796875 56 \nQ 45.21875 56 50.046875 50.171875 \nQ 54.890625 44.34375 54.890625 33.015625 \nz\n\" id=\"DejaVuSans-110\"/>\n       <path d=\"M 34.28125 27.484375 \nQ 23.390625 27.484375 19.1875 25 \nQ 14.984375 22.515625 14.984375 16.5 \nQ 14.984375 11.71875 18.140625 8.90625 \nQ 21.296875 6.109375 26.703125 6.109375 \nQ 34.1875 6.109375 38.703125 11.40625 \nQ 43.21875 16.703125 43.21875 25.484375 \nL 43.21875 27.484375 \nz\nM 52.203125 31.203125 \nL 52.203125 0 \nL 43.21875 0 \nL 43.21875 8.296875 \nQ 40.140625 3.328125 35.546875 0.953125 \nQ 30.953125 -1.421875 24.3125 -1.421875 \nQ 15.921875 -1.421875 10.953125 3.296875 \nQ 6 8.015625 6 15.921875 \nQ 6 25.140625 12.171875 29.828125 \nQ 18.359375 34.515625 30.609375 34.515625 \nL 43.21875 34.515625 \nL 43.21875 35.40625 \nQ 43.21875 41.609375 39.140625 45 \nQ 35.0625 48.390625 27.6875 48.390625 \nQ 23 48.390625 18.546875 47.265625 \nQ 14.109375 46.140625 10.015625 43.890625 \nL 10.015625 52.203125 \nQ 14.9375 54.109375 19.578125 55.046875 \nQ 24.21875 56 28.609375 56 \nQ 40.484375 56 46.34375 49.84375 \nQ 52.203125 43.703125 52.203125 31.203125 \nz\n\" id=\"DejaVuSans-97\"/>\n       <path d=\"M 9.421875 75.984375 \nL 18.40625 75.984375 \nL 18.40625 0 \nL 9.421875 0 \nz\n\" id=\"DejaVuSans-108\"/>\n       <path d=\"M 50.984375 -16.609375 \nL 50.984375 -23.578125 \nL -0.984375 -23.578125 \nL -0.984375 -16.609375 \nz\n\" id=\"DejaVuSans-95\"/>\n       <path d=\"M 18.109375 8.203125 \nL 18.109375 -20.796875 \nL 9.078125 -20.796875 \nL 9.078125 54.6875 \nL 18.109375 54.6875 \nL 18.109375 46.390625 \nQ 20.953125 51.265625 25.265625 53.625 \nQ 29.59375 56 35.59375 56 \nQ 45.5625 56 51.78125 48.09375 \nQ 58.015625 40.1875 58.015625 27.296875 \nQ 58.015625 14.40625 51.78125 6.484375 \nQ 45.5625 -1.421875 35.59375 -1.421875 \nQ 29.59375 -1.421875 25.265625 0.953125 \nQ 20.953125 3.328125 18.109375 8.203125 \nz\nM 48.6875 27.296875 \nQ 48.6875 37.203125 44.609375 42.84375 \nQ 40.53125 48.484375 33.40625 48.484375 \nQ 26.265625 48.484375 22.1875 42.84375 \nQ 18.109375 37.203125 18.109375 27.296875 \nQ 18.109375 17.390625 22.1875 11.75 \nQ 26.265625 6.109375 33.40625 6.109375 \nQ 40.53125 6.109375 44.609375 11.75 \nQ 48.6875 17.390625 48.6875 27.296875 \nz\n\" id=\"DejaVuSans-112\"/>\n       <path d=\"M 41.109375 46.296875 \nQ 39.59375 47.171875 37.8125 47.578125 \nQ 36.03125 48 33.890625 48 \nQ 26.265625 48 22.1875 43.046875 \nQ 18.109375 38.09375 18.109375 28.8125 \nL 18.109375 0 \nL 9.078125 0 \nL 9.078125 54.6875 \nL 18.109375 54.6875 \nL 18.109375 46.1875 \nQ 20.953125 51.171875 25.484375 53.578125 \nQ 30.03125 56 36.53125 56 \nQ 37.453125 56 38.578125 55.875 \nQ 39.703125 55.765625 41.0625 55.515625 \nz\n\" id=\"DejaVuSans-114\"/>\n       <path d=\"M 48.78125 52.59375 \nL 48.78125 44.1875 \nQ 44.96875 46.296875 41.140625 47.34375 \nQ 37.3125 48.390625 33.40625 48.390625 \nQ 24.65625 48.390625 19.8125 42.84375 \nQ 14.984375 37.3125 14.984375 27.296875 \nQ 14.984375 17.28125 19.8125 11.734375 \nQ 24.65625 6.203125 33.40625 6.203125 \nQ 37.3125 6.203125 41.140625 7.25 \nQ 44.96875 8.296875 48.78125 10.40625 \nL 48.78125 2.09375 \nQ 45.015625 0.34375 40.984375 -0.53125 \nQ 36.96875 -1.421875 32.421875 -1.421875 \nQ 20.0625 -1.421875 12.78125 6.34375 \nQ 5.515625 14.109375 5.515625 27.296875 \nQ 5.515625 40.671875 12.859375 48.328125 \nQ 20.21875 56 33.015625 56 \nQ 37.15625 56 41.109375 55.140625 \nQ 45.0625 54.296875 48.78125 52.59375 \nz\n\" id=\"DejaVuSans-99\"/>\n       <path d=\"M 56.203125 29.59375 \nL 56.203125 25.203125 \nL 14.890625 25.203125 \nQ 15.484375 15.921875 20.484375 11.0625 \nQ 25.484375 6.203125 34.421875 6.203125 \nQ 39.59375 6.203125 44.453125 7.46875 \nQ 49.3125 8.734375 54.109375 11.28125 \nL 54.109375 2.78125 \nQ 49.265625 0.734375 44.1875 -0.34375 \nQ 39.109375 -1.421875 33.890625 -1.421875 \nQ 20.796875 -1.421875 13.15625 6.1875 \nQ 5.515625 13.8125 5.515625 26.8125 \nQ 5.515625 40.234375 12.765625 48.109375 \nQ 20.015625 56 32.328125 56 \nQ 43.359375 56 49.78125 48.890625 \nQ 56.203125 41.796875 56.203125 29.59375 \nz\nM 47.21875 32.234375 \nQ 47.125 39.59375 43.09375 43.984375 \nQ 39.0625 48.390625 32.421875 48.390625 \nQ 24.90625 48.390625 20.390625 44.140625 \nQ 15.875 39.890625 15.1875 32.171875 \nz\n\" id=\"DejaVuSans-101\"/>\n      </defs>\n      <use xlink:href=\"#DejaVuSans-102\"/>\n      <use x=\"35.205078\" xlink:href=\"#DejaVuSans-105\"/>\n      <use x=\"62.988281\" xlink:href=\"#DejaVuSans-110\"/>\n      <use x=\"126.367188\" xlink:href=\"#DejaVuSans-97\"/>\n      <use x=\"187.646484\" xlink:href=\"#DejaVuSans-108\"/>\n      <use x=\"215.429688\" xlink:href=\"#DejaVuSans-95\"/>\n      <use x=\"265.429688\" xlink:href=\"#DejaVuSans-112\"/>\n      <use x=\"328.90625\" xlink:href=\"#DejaVuSans-114\"/>\n      <use x=\"370.019531\" xlink:href=\"#DejaVuSans-105\"/>\n      <use x=\"397.802734\" xlink:href=\"#DejaVuSans-99\"/>\n      <use x=\"452.783203\" xlink:href=\"#DejaVuSans-101\"/>\n     </g>\n    </g>\n    <g id=\"text_10\">\n     <!-- 1e7 -->\n     <g transform=\"translate(359.703125 262.515)scale(0.1 -0.1)\">\n      <defs>\n       <path d=\"M 8.203125 72.90625 \nL 55.078125 72.90625 \nL 55.078125 68.703125 \nL 28.609375 0 \nL 18.3125 0 \nL 43.21875 64.59375 \nL 8.203125 64.59375 \nz\n\" id=\"DejaVuSans-55\"/>\n      </defs>\n      <use xlink:href=\"#DejaVuSans-49\"/>\n      <use x=\"63.623047\" xlink:href=\"#DejaVuSans-101\"/>\n      <use x=\"125.146484\" xlink:href=\"#DejaVuSans-55\"/>\n     </g>\n    </g>\n   </g>\n   <g id=\"matplotlib.axis_2\">\n    <g id=\"ytick_1\">\n     <g id=\"line2d_9\">\n      <defs>\n       <path d=\"M 0 0 \nL -3.5 0 \n\" id=\"m6eb01b1309\" style=\"stroke:#000000;stroke-width:0.8;\"/>\n      </defs>\n      <g>\n       <use style=\"stroke:#000000;stroke-width:0.8;\" x=\"43.78125\" xlink:href=\"#m6eb01b1309\" y=\"235.238438\"/>\n      </g>\n     </g>\n     <g id=\"text_11\">\n      <!-- 0.0 -->\n      <g transform=\"translate(20.878125 239.037656)scale(0.1 -0.1)\">\n       <use xlink:href=\"#DejaVuSans-48\"/>\n       <use x=\"63.623047\" xlink:href=\"#DejaVuSans-46\"/>\n       <use x=\"95.410156\" xlink:href=\"#DejaVuSans-48\"/>\n      </g>\n     </g>\n    </g>\n    <g id=\"ytick_2\">\n     <g id=\"line2d_10\">\n      <g>\n       <use style=\"stroke:#000000;stroke-width:0.8;\" x=\"43.78125\" xlink:href=\"#m6eb01b1309\" y=\"205.305687\"/>\n      </g>\n     </g>\n     <g id=\"text_12\">\n      <!-- 0.2 -->\n      <g transform=\"translate(20.878125 209.104906)scale(0.1 -0.1)\">\n       <use xlink:href=\"#DejaVuSans-48\"/>\n       <use x=\"63.623047\" xlink:href=\"#DejaVuSans-46\"/>\n       <use x=\"95.410156\" xlink:href=\"#DejaVuSans-50\"/>\n      </g>\n     </g>\n    </g>\n    <g id=\"ytick_3\">\n     <g id=\"line2d_11\">\n      <g>\n       <use style=\"stroke:#000000;stroke-width:0.8;\" x=\"43.78125\" xlink:href=\"#m6eb01b1309\" y=\"175.372937\"/>\n      </g>\n     </g>\n     <g id=\"text_13\">\n      <!-- 0.4 -->\n      <g transform=\"translate(20.878125 179.172155)scale(0.1 -0.1)\">\n       <use xlink:href=\"#DejaVuSans-48\"/>\n       <use x=\"63.623047\" xlink:href=\"#DejaVuSans-46\"/>\n       <use x=\"95.410156\" xlink:href=\"#DejaVuSans-52\"/>\n      </g>\n     </g>\n    </g>\n    <g id=\"ytick_4\">\n     <g id=\"line2d_12\">\n      <g>\n       <use style=\"stroke:#000000;stroke-width:0.8;\" x=\"43.78125\" xlink:href=\"#m6eb01b1309\" y=\"145.440186\"/>\n      </g>\n     </g>\n     <g id=\"text_14\">\n      <!-- 0.6 -->\n      <g transform=\"translate(20.878125 149.239405)scale(0.1 -0.1)\">\n       <use xlink:href=\"#DejaVuSans-48\"/>\n       <use x=\"63.623047\" xlink:href=\"#DejaVuSans-46\"/>\n       <use x=\"95.410156\" xlink:href=\"#DejaVuSans-54\"/>\n      </g>\n     </g>\n    </g>\n    <g id=\"ytick_5\">\n     <g id=\"line2d_13\">\n      <g>\n       <use style=\"stroke:#000000;stroke-width:0.8;\" x=\"43.78125\" xlink:href=\"#m6eb01b1309\" y=\"115.507436\"/>\n      </g>\n     </g>\n     <g id=\"text_15\">\n      <!-- 0.8 -->\n      <g transform=\"translate(20.878125 119.306655)scale(0.1 -0.1)\">\n       <use xlink:href=\"#DejaVuSans-48\"/>\n       <use x=\"63.623047\" xlink:href=\"#DejaVuSans-46\"/>\n       <use x=\"95.410156\" xlink:href=\"#DejaVuSans-56\"/>\n      </g>\n     </g>\n    </g>\n    <g id=\"ytick_6\">\n     <g id=\"line2d_14\">\n      <g>\n       <use style=\"stroke:#000000;stroke-width:0.8;\" x=\"43.78125\" xlink:href=\"#m6eb01b1309\" y=\"85.574686\"/>\n      </g>\n     </g>\n     <g id=\"text_16\">\n      <!-- 1.0 -->\n      <g transform=\"translate(20.878125 89.373904)scale(0.1 -0.1)\">\n       <use xlink:href=\"#DejaVuSans-49\"/>\n       <use x=\"63.623047\" xlink:href=\"#DejaVuSans-46\"/>\n       <use x=\"95.410156\" xlink:href=\"#DejaVuSans-48\"/>\n      </g>\n     </g>\n    </g>\n    <g id=\"ytick_7\">\n     <g id=\"line2d_15\">\n      <g>\n       <use style=\"stroke:#000000;stroke-width:0.8;\" x=\"43.78125\" xlink:href=\"#m6eb01b1309\" y=\"55.641935\"/>\n      </g>\n     </g>\n     <g id=\"text_17\">\n      <!-- 1.2 -->\n      <g transform=\"translate(20.878125 59.441154)scale(0.1 -0.1)\">\n       <use xlink:href=\"#DejaVuSans-49\"/>\n       <use x=\"63.623047\" xlink:href=\"#DejaVuSans-46\"/>\n       <use x=\"95.410156\" xlink:href=\"#DejaVuSans-50\"/>\n      </g>\n     </g>\n    </g>\n    <g id=\"ytick_8\">\n     <g id=\"line2d_16\">\n      <g>\n       <use style=\"stroke:#000000;stroke-width:0.8;\" x=\"43.78125\" xlink:href=\"#m6eb01b1309\" y=\"25.709185\"/>\n      </g>\n     </g>\n     <g id=\"text_18\">\n      <!-- 1.4 -->\n      <g transform=\"translate(20.878125 29.508404)scale(0.1 -0.1)\">\n       <use xlink:href=\"#DejaVuSans-49\"/>\n       <use x=\"63.623047\" xlink:href=\"#DejaVuSans-46\"/>\n       <use x=\"95.410156\" xlink:href=\"#DejaVuSans-52\"/>\n      </g>\n     </g>\n    </g>\n    <g id=\"text_19\">\n     <!-- Density -->\n     <g transform=\"translate(14.798438 145.527031)rotate(-90)scale(0.1 -0.1)\">\n      <defs>\n       <path d=\"M 19.671875 64.796875 \nL 19.671875 8.109375 \nL 31.59375 8.109375 \nQ 46.6875 8.109375 53.6875 14.9375 \nQ 60.6875 21.78125 60.6875 36.53125 \nQ 60.6875 51.171875 53.6875 57.984375 \nQ 46.6875 64.796875 31.59375 64.796875 \nz\nM 9.8125 72.90625 \nL 30.078125 72.90625 \nQ 51.265625 72.90625 61.171875 64.09375 \nQ 71.09375 55.28125 71.09375 36.53125 \nQ 71.09375 17.671875 61.125 8.828125 \nQ 51.171875 0 30.078125 0 \nL 9.8125 0 \nz\n\" id=\"DejaVuSans-68\"/>\n       <path d=\"M 44.28125 53.078125 \nL 44.28125 44.578125 \nQ 40.484375 46.53125 36.375 47.5 \nQ 32.28125 48.484375 27.875 48.484375 \nQ 21.1875 48.484375 17.84375 46.4375 \nQ 14.5 44.390625 14.5 40.28125 \nQ 14.5 37.15625 16.890625 35.375 \nQ 19.28125 33.59375 26.515625 31.984375 \nL 29.59375 31.296875 \nQ 39.15625 29.25 43.1875 25.515625 \nQ 47.21875 21.78125 47.21875 15.09375 \nQ 47.21875 7.46875 41.1875 3.015625 \nQ 35.15625 -1.421875 24.609375 -1.421875 \nQ 20.21875 -1.421875 15.453125 -0.5625 \nQ 10.6875 0.296875 5.421875 2 \nL 5.421875 11.28125 \nQ 10.40625 8.6875 15.234375 7.390625 \nQ 20.0625 6.109375 24.8125 6.109375 \nQ 31.15625 6.109375 34.5625 8.28125 \nQ 37.984375 10.453125 37.984375 14.40625 \nQ 37.984375 18.0625 35.515625 20.015625 \nQ 33.0625 21.96875 24.703125 23.78125 \nL 21.578125 24.515625 \nQ 13.234375 26.265625 9.515625 29.90625 \nQ 5.8125 33.546875 5.8125 39.890625 \nQ 5.8125 47.609375 11.28125 51.796875 \nQ 16.75 56 26.8125 56 \nQ 31.78125 56 36.171875 55.265625 \nQ 40.578125 54.546875 44.28125 53.078125 \nz\n\" id=\"DejaVuSans-115\"/>\n       <path d=\"M 18.3125 70.21875 \nL 18.3125 54.6875 \nL 36.8125 54.6875 \nL 36.8125 47.703125 \nL 18.3125 47.703125 \nL 18.3125 18.015625 \nQ 18.3125 11.328125 20.140625 9.421875 \nQ 21.96875 7.515625 27.59375 7.515625 \nL 36.8125 7.515625 \nL 36.8125 0 \nL 27.59375 0 \nQ 17.1875 0 13.234375 3.875 \nQ 9.28125 7.765625 9.28125 18.015625 \nL 9.28125 47.703125 \nL 2.6875 47.703125 \nL 2.6875 54.6875 \nL 9.28125 54.6875 \nL 9.28125 70.21875 \nz\n\" id=\"DejaVuSans-116\"/>\n       <path d=\"M 32.171875 -5.078125 \nQ 28.375 -14.84375 24.75 -17.8125 \nQ 21.140625 -20.796875 15.09375 -20.796875 \nL 7.90625 -20.796875 \nL 7.90625 -13.28125 \nL 13.1875 -13.28125 \nQ 16.890625 -13.28125 18.9375 -11.515625 \nQ 21 -9.765625 23.484375 -3.21875 \nL 25.09375 0.875 \nL 2.984375 54.6875 \nL 12.5 54.6875 \nL 29.59375 11.921875 \nL 46.6875 54.6875 \nL 56.203125 54.6875 \nz\n\" id=\"DejaVuSans-121\"/>\n      </defs>\n      <use xlink:href=\"#DejaVuSans-68\"/>\n      <use x=\"77.001953\" xlink:href=\"#DejaVuSans-101\"/>\n      <use x=\"138.525391\" xlink:href=\"#DejaVuSans-110\"/>\n      <use x=\"201.904297\" xlink:href=\"#DejaVuSans-115\"/>\n      <use x=\"254.003906\" xlink:href=\"#DejaVuSans-105\"/>\n      <use x=\"281.787109\" xlink:href=\"#DejaVuSans-116\"/>\n      <use x=\"320.996094\" xlink:href=\"#DejaVuSans-121\"/>\n     </g>\n    </g>\n    <g id=\"text_20\">\n     <!-- 1e−6 -->\n     <g transform=\"translate(43.78125 14.798438)scale(0.1 -0.1)\">\n      <defs>\n       <path d=\"M 10.59375 35.5 \nL 73.1875 35.5 \nL 73.1875 27.203125 \nL 10.59375 27.203125 \nz\n\" id=\"DejaVuSans-8722\"/>\n      </defs>\n      <use xlink:href=\"#DejaVuSans-49\"/>\n      <use x=\"63.623047\" xlink:href=\"#DejaVuSans-101\"/>\n      <use x=\"125.146484\" xlink:href=\"#DejaVuSans-8722\"/>\n      <use x=\"208.935547\" xlink:href=\"#DejaVuSans-54\"/>\n     </g>\n    </g>\n   </g>\n   <g id=\"line2d_17\">\n    <path clip-path=\"url(#p9ba77e289c)\" d=\"M 58.999432 235.233981 \nL 60.528897 235.199288 \nL 62.058363 235.017103 \nL 63.587828 234.318473 \nL 65.117294 231.953664 \nL 66.646759 224.587135 \nL 68.176225 205.568397 \nL 69.70569 168.402222 \nL 72.764621 65.880541 \nL 74.294087 35.366081 \nL 75.823552 28.152723 \nL 77.353018 36.0908 \nL 78.882483 52.530596 \nL 80.411949 75.534926 \nL 83.47088 130.687209 \nL 85.000345 154.576099 \nL 86.529811 172.160412 \nL 88.059276 182.727538 \nL 89.588742 188.237535 \nL 91.118208 192.571478 \nL 94.177139 203.502459 \nL 95.706604 208.001657 \nL 100.295001 218.135291 \nL 101.824466 221.09876 \nL 103.353932 222.988188 \nL 106.412863 225.323598 \nL 107.942328 226.408601 \nL 109.471794 227.048074 \nL 112.530725 227.395496 \nL 114.06019 228.143405 \nL 115.589656 229.162852 \nL 117.119121 230.03649 \nL 118.648587 230.587631 \nL 123.236983 231.440363 \nL 124.766449 231.996371 \nL 126.295914 232.387216 \nL 129.354845 232.579445 \nL 132.413776 233.275197 \nL 133.943242 233.451044 \nL 137.002173 233.56298 \nL 140.061104 234.042119 \nL 141.590569 234.314323 \nL 143.120035 234.465389 \nL 144.6495 234.446439 \nL 149.237897 234.066875 \nL 150.767362 234.157612 \nL 153.826293 234.525956 \nL 167.591483 234.920758 \nL 172.17988 234.837472 \nL 181.356673 235.029344 \nL 185.945069 235.139484 \nL 192.062931 235.038953 \nL 196.651328 235.197434 \nL 207.357586 235.178822 \nL 213.475448 235.140515 \nL 216.534379 235.104687 \nL 227.240638 235.23303 \nL 239.476362 235.238421 \nL 363.363068 235.237955 \nL 363.363068 235.237955 \n\" style=\"fill:none;stroke:#1f77b4;stroke-linecap:square;stroke-width:1.5;\"/>\n   </g>\n   <g id=\"patch_53\">\n    <path d=\"M 43.78125 235.238438 \nL 43.78125 17.798438 \n\" style=\"fill:none;stroke:#000000;stroke-linecap:square;stroke-linejoin:miter;stroke-width:0.8;\"/>\n   </g>\n   <g id=\"patch_54\">\n    <path d=\"M 378.58125 235.238438 \nL 378.58125 17.798438 \n\" style=\"fill:none;stroke:#000000;stroke-linecap:square;stroke-linejoin:miter;stroke-width:0.8;\"/>\n   </g>\n   <g id=\"patch_55\">\n    <path d=\"M 43.78125 235.238438 \nL 378.58125 235.238438 \n\" style=\"fill:none;stroke:#000000;stroke-linecap:square;stroke-linejoin:miter;stroke-width:0.8;\"/>\n   </g>\n   <g id=\"patch_56\">\n    <path d=\"M 43.78125 17.798438 \nL 378.58125 17.798438 \n\" style=\"fill:none;stroke:#000000;stroke-linecap:square;stroke-linejoin:miter;stroke-width:0.8;\"/>\n   </g>\n  </g>\n </g>\n <defs>\n  <clipPath id=\"p9ba77e289c\">\n   <rect height=\"217.44\" width=\"334.8\" x=\"43.78125\" y=\"17.798438\"/>\n  </clipPath>\n </defs>\n</svg>\n",
      "image/png": "[encoded data removed]"
     },
     "metadata": {
      "needs_background": "light"
     }
    }
   ],
   "source": [
    "sns.distplot(df_nogeo['final_price'])"
   ]
  },
  {
   "cell_type": "code",
   "execution_count": 21,
   "metadata": {},
   "outputs": [
    {
     "output_type": "stream",
     "name": "stdout",
     "text": [
      "Skewness : 4.224569\nKurtosis : 36.802227\n"
     ]
    }
   ],
   "source": [
    "print(\"Skewness : %f\" % df_nogeo['final_price'].skew())\n",
    "print(\"Kurtosis : %f\" % df_nogeo['final_price'].kurt())"
   ]
  },
  {
   "cell_type": "code",
   "execution_count": 26,
   "metadata": {},
   "outputs": [
    {
     "output_type": "stream",
     "name": "stdout",
     "text": [
      "Outliers: [4690000, 2775000, 3200000, 13180000, 2995000, 3500000, 3800000, 4300000, 3100000, 2750000, 2800000, 4395000, 4350000, 3000000, 3150000, 3918000, 2825000, 4238000, 3050000, 3375000, 4875000, 3080000, 3170000, 3900018, 3500000, 2999000, 3037777, 5700000, 3000000, 3895000, 3808000, 3025000, 3000000, 3000000, 4390000, 3172500, 3162500, 2800000, 2975000, 6800000, 3820000, 2800000, 4921000, 3200000, 3202998, 3525000, 3150000, 3200000, 2890000, 10500000, 5840000, 3470000, 6500000, 3299000, 4060000, 2780000, 3155000, 3750000, 2960000, 4775000, 2800000, 2888000, 4450000, 3800000, 3725000, 2850000, 7100000, 4175000, 2750000, 3010000, 3708880, 4100000, 3300000, 5672000, 3353000, 2891070, 3350000, 2770000, 2810000, 3426000, 3700000, 3175000, 3150000, 3250000, 4099000, 3150000, 3500000, 2750000, 4700000, 3275000, 4000000, 3950000, 3533900, 4200000, 4900000, 3350000, 3530000, 2805184, 3100000, 4600000, 3333000, 2785000, 3875000, 4000000, 2995000, 3783000, 3400000, 3000000, 10400000, 2975000, 3075000, 3450000, 3700000, 3625000, 2750000, 5093000, 5075000, 2875000, 3660000, 6350000, 3925000, 5300000, 3050000, 5000000, 4300000, 3100000, 3840000, 3880000, 2850000, 3300000, 3921000, 3200000, 4125000, 4420000, 3250000, 6800000, 3250000, 3300000, 3400000, 2850000, 3660000, 3100000, 3900000, 2817500, 3295000, 2850000, 2950000, 5300000, 3000000, 6950000, 2950000, 5200000, 3500000, 3620000, 2865000, 3300000, 9000000, 5600000, 3051200, 2900000, 3380000, 2888888, 4250000, 4895000, 3750000, 2860000, 2900000, 3900000, 3250000, 3875000, 3360000, 3385000, 3050000, 3250000, 5000000, 3456000, 4200000, 3750000, 5275000, 3000000, 3003000, 4450000, 5750000, 4800000, 3300000, 2850000, 3850000, 2760000, 3000000, 2800000, 3470000, 6850000, 3250000, 3025000, 3500000, 2755000, 3080000, 3650000, 4600000, 3740000, 3136000, 3200000, 3375000, 3012000, 2950000, 2925000, 10200000, 3350000, 3200000, 5000000, 3080000, 5125000, 4200000, 3910000, 2930000, 2880000, 4000000, 2750000, 2950000, 3000000, 3500000, 4750000, 3175000, 6200000, 2935000, 3850000, 3350000, 3433000, 4200000, 2975000, 4700000, 3400000, 5800000, 3000000, 5300000, 2750000, 4430000, 3175000, 4025000, 2918000, 2925000, 2880000, 3875000, 4465000, 2975000, 2800000, 3318000, 2937906, 3950000, 2950000, 2920000, 4450000, 3650000, 3400000, 6100000, 3125000, 2940000, 2901800, 4100000, 3350000, 4000000, 3013000, 2775000, 2962500, 4180000, 3850000, 2750000, 4800000, 2920000, 3000000, 5485000, 2820000, 5000000, 4850000, 3300000, 4100000, 2885000, 3280000, 4200000, 2850000, 3800000, 5700000, 3600000, 7550000, 2820000, 3000000, 3950000, 2751000, 3950000, 3325000]\n"
     ]
    }
   ],
   "source": [
    "\n",
    "def Zscore_outlier(df):\n",
    "    m = np.mean(df)\n",
    "    sd = np.std(df)\n",
    "    for i in df: \n",
    "        z = (i-m)/sd\n",
    "        if np.abs(z) > 3: \n",
    "            out.append(i)\n",
    "    print(\"Outliers:\",out)\n",
    "out=[]\n",
    "Zscore_outlier(df_nogeo['final_price'])"
   ]
  },
  {
   "cell_type": "code",
   "execution_count": 27,
   "metadata": {},
   "outputs": [
    {
     "output_type": "stream",
     "name": "stdout",
     "text": [
      "Outliers: [200000, 269900, 4690000, 219000, 215000, 13180000, 3500000, 275000, 285000, 3800000, 255000, 4300000, 4395000, 4350000, 293000, 235000, 296000, 3918000, 4238000, 240000, 3375000, 4875000, 3900018, 280000, 280000, 3500000, 5700000, 3895000, 3808000, 250000, 250000, 255000, 4390000, 297000, 220000, 6800000, 3820000, 259000, 4921000, 3525000, 10500000, 5840000, 202000, 3470000, 6500000, 250000, 4060000, 290000, 3750000, 4775000, 4450000, 3800000, 3725000, 7100000, 4175000, 295000, 109900, 3708880, 4100000, 5672000, 3353000, 3350000, 266000, 274000, 3426000, 3700000, 4099000, 200000, 165000, 3500000, 210000, 4700000, 279500, 4000000, 261000, 190000, 3950000, 262000, 3533900, 119900, 4200000, 277000, 4900000, 3350000, 294900, 3530000, 250000, 210000, 4600000, 3333000, 3875000, 262500, 4000000, 3783000, 3400000, 250000, 10400000, 265000, 294900, 280000, 3450000, 270000, 3700000, 192000, 3625000, 109000, 259000, 5093000, 5075000, 3660000, 6350000, 3925000, 5300000, 5000000, 4300000, 245000, 217000, 3840000, 3880000, 3921000, 103000, 4125000, 4420000, 6800000, 146000, 3400000, 3660000, 3900000, 295000, 275000, 5300000, 295000, 6950000, 5200000, 3500000, 3620000, 9000000, 5600000, 200000, 3380000, 185000, 200000, 118000, 4250000, 210000, 4895000, 3750000, 213000, 3900000, 3875000, 3360000, 3385000, 5000000, 117000, 3456000, 4200000, 3750000, 5275000, 4450000, 5750000, 4800000, 282000, 235000, 242000, 3850000, 3470000, 6850000, 244000, 225000, 3500000, 260000, 3650000, 4600000, 3740000, 195000, 3375000, 10200000, 3350000, 5000000, 105000, 5125000, 233000, 4200000, 233000, 290000, 3910000, 279000, 225000, 289900, 255000, 4000000, 264000, 104000, 3500000, 130000, 270000, 4750000, 285000, 290000, 114000, 297000, 6200000, 179000, 278500, 280000, 272000, 3850000, 3350000, 3433000, 205000, 230000, 271000, 4200000, 240000, 287000, 240000, 4700000, 220000, 274000, 278000, 3400000, 5800000, 5300000, 4430000, 246000, 277500, 4025000, 215000, 250000, 280000, 265000, 3875000, 4465000, 294000, 295000, 229000, 295000, 272000, 247000, 3950000, 193000, 254900, 272000, 4450000, 252000, 3650000, 285000, 3400000, 295000, 280000, 265000, 6100000, 225000, 289000, 278000, 295000, 172000, 4100000, 3350000, 215000, 4000000, 280000, 273888, 4180000, 3850000, 265000, 288000, 4800000, 235000, 255000, 297000, 290000, 290000, 5485000, 229000, 5000000, 273000, 4850000, 282000, 285000, 296000, 4100000, 265000, 4200000, 275000, 3800000, 5700000, 3600000, 7550000, 267000, 225000, 265000, 279900, 3950000, 278500, 262500, 265000, 195500, 223500, 3950000, 230000, 289900, 3325000, 110000, 237500, 279900]\n"
     ]
    }
   ],
   "source": [
    "out=[]\n",
    "def Winsorization_outliers(df):\n",
    "    q1 = np.percentile(df , 1)\n",
    "    q3 = np.percentile(df , 99)\n",
    "    for i in df:\n",
    "        if i > q3 or i < q1:\n",
    "            out.append(i)\n",
    "    print(\"Outliers:\",out)\n",
    "Winsorization_outliers(df_nogeo['final_price'])"
   ]
  },
  {
   "cell_type": "code",
   "execution_count": null,
   "metadata": {},
   "outputs": [],
   "source": []
  }
 ]
}