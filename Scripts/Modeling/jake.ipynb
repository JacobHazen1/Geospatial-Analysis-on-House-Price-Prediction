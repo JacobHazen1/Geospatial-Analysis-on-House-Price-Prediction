{
 "metadata": {
  "language_info": {
   "codemirror_mode": {
    "name": "ipython",
    "version": 3
   },
   "file_extension": ".py",
   "mimetype": "text/x-python",
   "name": "python",
   "nbconvert_exporter": "python",
   "pygments_lexer": "ipython3",
   "version": "3.8.5-final"
  },
  "orig_nbformat": 2,
  "kernelspec": {
   "name": "python3",
   "display_name": "Python 3",
   "language": "python"
  }
 },
 "nbformat": 4,
 "nbformat_minor": 2,
 "cells": [
  {
   "cell_type": "code",
   "execution_count": 6,
   "metadata": {},
   "outputs": [],
   "source": [
    "import pandas as pd \n",
    "import geopandas as gp"
   ]
  },
  {
   "cell_type": "code",
   "execution_count": 4,
   "metadata": {},
   "outputs": [],
   "source": [
    "path = r'/home/semipro321/Documents/Workspace/Geospatial-Analysis-on-House-Price-Prediction/Inputs/'"
   ]
  },
  {
   "cell_type": "code",
   "execution_count": 24,
   "metadata": {},
   "outputs": [
    {
     "output_type": "execute_result",
     "data": {
      "text/plain": [
       "Index(['_id', 'OBJECTID', 'GEO_ID', 'NAME', 'BOARD_NAME', 'SOURCE_ADDRESS',\n",
       "       'SCHOOL_TYPE_DESC', 'ADDRESS_POINT_ID', 'ADDRESS_NUMBER',\n",
       "       'LINEAR_NAME_FULL', 'ADDRESS_FULL', 'POSTAL_CODE', 'MUNICIPALITY',\n",
       "       'CITY', 'PLACE_NAME', 'LATITUDE', 'LONGITUDE', 'geometry',\n",
       "       'neighbourhood'],\n",
       "      dtype='object')"
      ]
     },
     "metadata": {},
     "execution_count": 24
    }
   ],
   "source": [
    "df_school.columns"
   ]
  },
  {
   "cell_type": "code",
   "execution_count": 25,
   "metadata": {},
   "outputs": [],
   "source": [
    "df_house = pd.read_csv(path + 'house_with_neigh.csv')\n",
    "df_school = pd.read_csv(path + 'Schools_with_neigh.csv')\n",
    "gpf_house = gp.GeoDataFrame(df_house, crs=\"EPSG:4326\", geometry=gp.points_from_xy(df_house.long,df_house.lat))\n",
    "gpf_school= gp.GeoDataFrame(df_school, crs=\"EPSG:4326\", geometry=gp.points_from_xy(df_school.LONGITUDE,df_school.LATITUDE))\n"
   ]
  },
  {
   "source": [
    "gpf_school.columns"
   ],
   "cell_type": "code",
   "metadata": {},
   "execution_count": 11,
   "outputs": [
    {
     "output_type": "execute_result",
     "data": {
      "text/plain": [
       "Index(['_id', 'OBJECTID', 'GEO_ID', 'NAME', 'BOARD_NAME', 'SOURCE_ADDRESS',\n",
       "       'SCHOOL_TYPE_DESC', 'ADDRESS_POINT_ID', 'ADDRESS_NUMBER',\n",
       "       'LINEAR_NAME_FULL', 'ADDRESS_FULL', 'POSTAL_CODE', 'MUNICIPALITY',\n",
       "       'CITY', 'PLACE_NAME', 'LATITUDE', 'LONGITUDE', 'geometry',\n",
       "       'neighbourhood'],\n",
       "      dtype='object')"
      ]
     },
     "metadata": {},
     "execution_count": 11
    }
   ]
  },
  {
   "cell_type": "code",
   "execution_count": 34,
   "metadata": {},
   "outputs": [
    {
     "output_type": "execute_result",
     "data": {
      "text/plain": [
       "             lat       long    sqft  parking  mean_district_income  \\\n",
       "0      43.753182 -79.507053     NaN        4                 29958   \n",
       "1      43.753090 -79.491536  1300.0        1                 29958   \n",
       "2      43.753090 -79.491536  1300.0        3                 29958   \n",
       "3      43.753177 -79.490821   950.0        1                 29958   \n",
       "4      43.753177 -79.490821   650.0        1                 29958   \n",
       "...          ...        ...     ...      ...                   ...   \n",
       "15229  43.695730 -79.456497     NaN        1                 34768   \n",
       "15230  43.696020 -79.461606  1750.0        2                 34768   \n",
       "15231  43.696198 -79.456758     NaN        3                 34768   \n",
       "15232  43.696241 -79.456321     NaN        1                 34768   \n",
       "15233  43.696445 -79.461848   900.0        0                 34768   \n",
       "\n",
       "       bedrooms_bg  bedrooms_ag  bathrooms  final_price  \\\n",
       "0                1            3          2       930000   \n",
       "1                0            3          3       413000   \n",
       "2                1            3          2       400000   \n",
       "3                0            2          1       343000   \n",
       "4                0            1          1       318000   \n",
       "...            ...          ...        ...          ...   \n",
       "15229            0            2          2       836500   \n",
       "15230            1            3          4      1210000   \n",
       "15231            0            2          2       910000   \n",
       "15232            0            2          2       808000   \n",
       "15233            0            2          1       625500   \n",
       "\n",
       "       type_Att/Row/Twnhouse  ...  type_Condo Apt  type_Condo Townhouse  \\\n",
       "0                          0  ...               0                     0   \n",
       "1                          0  ...               0                     1   \n",
       "2                          0  ...               0                     1   \n",
       "3                          0  ...               1                     0   \n",
       "4                          0  ...               1                     0   \n",
       "...                      ...  ...             ...                   ...   \n",
       "15229                      0  ...               0                     0   \n",
       "15230                      0  ...               0                     0   \n",
       "15231                      0  ...               0                     0   \n",
       "15232                      0  ...               0                     0   \n",
       "15233                      0  ...               0                     0   \n",
       "\n",
       "       type_Detached  type_Link  type_Plex  type_Semi-Detached  \\\n",
       "0                  1          0          0                   0   \n",
       "1                  0          0          0                   0   \n",
       "2                  0          0          0                   0   \n",
       "3                  0          0          0                   0   \n",
       "4                  0          0          0                   0   \n",
       "...              ...        ...        ...                 ...   \n",
       "15229              1          0          0                   0   \n",
       "15230              1          0          0                   0   \n",
       "15231              1          0          0                   0   \n",
       "15232              1          0          0                   0   \n",
       "15233              1          0          0                   0   \n",
       "\n",
       "       type_Store W/Apt/Offc            neighbourhood  \\\n",
       "0                          0  York University Heights   \n",
       "1                          0  York University Heights   \n",
       "2                          0  York University Heights   \n",
       "3                          0  York University Heights   \n",
       "4                          0  York University Heights   \n",
       "...                      ...                      ...   \n",
       "15229                      0     Briar Hill-Belgravia   \n",
       "15230                      0     Briar Hill-Belgravia   \n",
       "15231                      0     Briar Hill-Belgravia   \n",
       "15232                      0     Briar Hill-Belgravia   \n",
       "15233                      0     Briar Hill-Belgravia   \n",
       "\n",
       "                         geometry  \\\n",
       "0      POINT (-79.50705 43.75318)   \n",
       "1      POINT (-79.49154 43.75309)   \n",
       "2      POINT (-79.49154 43.75309)   \n",
       "3      POINT (-79.49082 43.75318)   \n",
       "4      POINT (-79.49082 43.75318)   \n",
       "...                           ...   \n",
       "15229  POINT (-79.45650 43.69573)   \n",
       "15230  POINT (-79.46161 43.69602)   \n",
       "15231  POINT (-79.45676 43.69620)   \n",
       "15232  POINT (-79.45632 43.69624)   \n",
       "15233  POINT (-79.46185 43.69644)   \n",
       "\n",
       "                                                 Nearest  \n",
       "0                              [Lamberton Public School]  \n",
       "1                             [Stilecroft Public School]  \n",
       "2                             [Stilecroft Public School]  \n",
       "3                             [Stilecroft Public School]  \n",
       "4                             [Stilecroft Public School]  \n",
       "...                                                  ...  \n",
       "15229  [Fairbank Memorial Community School - Building...  \n",
       "15230  [Fairbank Memorial Community School - Building...  \n",
       "15231  [Fairbank Memorial Community School - Building...  \n",
       "15232  [Fairbank Memorial Community School - Building...  \n",
       "15233  [Fairbank Memorial Community School - Building...  \n",
       "\n",
       "[15234 rows x 23 columns]"
      ],
      "text/html": "<div>\n<style scoped>\n    .dataframe tbody tr th:only-of-type {\n        vertical-align: middle;\n    }\n\n    .dataframe tbody tr th {\n        vertical-align: top;\n    }\n\n    .dataframe thead th {\n        text-align: right;\n    }\n</style>\n<table border=\"1\" class=\"dataframe\">\n  <thead>\n    <tr style=\"text-align: right;\">\n      <th></th>\n      <th>lat</th>\n      <th>long</th>\n      <th>sqft</th>\n      <th>parking</th>\n      <th>mean_district_income</th>\n      <th>bedrooms_bg</th>\n      <th>bedrooms_ag</th>\n      <th>bathrooms</th>\n      <th>final_price</th>\n      <th>type_Att/Row/Twnhouse</th>\n      <th>...</th>\n      <th>type_Condo Apt</th>\n      <th>type_Condo Townhouse</th>\n      <th>type_Detached</th>\n      <th>type_Link</th>\n      <th>type_Plex</th>\n      <th>type_Semi-Detached</th>\n      <th>type_Store W/Apt/Offc</th>\n      <th>neighbourhood</th>\n      <th>geometry</th>\n      <th>Nearest</th>\n    </tr>\n  </thead>\n  <tbody>\n    <tr>\n      <th>0</th>\n      <td>43.753182</td>\n      <td>-79.507053</td>\n      <td>NaN</td>\n      <td>4</td>\n      <td>29958</td>\n      <td>1</td>\n      <td>3</td>\n      <td>2</td>\n      <td>930000</td>\n      <td>0</td>\n      <td>...</td>\n      <td>0</td>\n      <td>0</td>\n      <td>1</td>\n      <td>0</td>\n      <td>0</td>\n      <td>0</td>\n      <td>0</td>\n      <td>York University Heights</td>\n      <td>POINT (-79.50705 43.75318)</td>\n      <td>[Lamberton Public School]</td>\n    </tr>\n    <tr>\n      <th>1</th>\n      <td>43.753090</td>\n      <td>-79.491536</td>\n      <td>1300.0</td>\n      <td>1</td>\n      <td>29958</td>\n      <td>0</td>\n      <td>3</td>\n      <td>3</td>\n      <td>413000</td>\n      <td>0</td>\n      <td>...</td>\n      <td>0</td>\n      <td>1</td>\n      <td>0</td>\n      <td>0</td>\n      <td>0</td>\n      <td>0</td>\n      <td>0</td>\n      <td>York University Heights</td>\n      <td>POINT (-79.49154 43.75309)</td>\n      <td>[Stilecroft Public School]</td>\n    </tr>\n    <tr>\n      <th>2</th>\n      <td>43.753090</td>\n      <td>-79.491536</td>\n      <td>1300.0</td>\n      <td>3</td>\n      <td>29958</td>\n      <td>1</td>\n      <td>3</td>\n      <td>2</td>\n      <td>400000</td>\n      <td>0</td>\n      <td>...</td>\n      <td>0</td>\n      <td>1</td>\n      <td>0</td>\n      <td>0</td>\n      <td>0</td>\n      <td>0</td>\n      <td>0</td>\n      <td>York University Heights</td>\n      <td>POINT (-79.49154 43.75309)</td>\n      <td>[Stilecroft Public School]</td>\n    </tr>\n    <tr>\n      <th>3</th>\n      <td>43.753177</td>\n      <td>-79.490821</td>\n      <td>950.0</td>\n      <td>1</td>\n      <td>29958</td>\n      <td>0</td>\n      <td>2</td>\n      <td>1</td>\n      <td>343000</td>\n      <td>0</td>\n      <td>...</td>\n      <td>1</td>\n      <td>0</td>\n      <td>0</td>\n      <td>0</td>\n      <td>0</td>\n      <td>0</td>\n      <td>0</td>\n      <td>York University Heights</td>\n      <td>POINT (-79.49082 43.75318)</td>\n      <td>[Stilecroft Public School]</td>\n    </tr>\n    <tr>\n      <th>4</th>\n      <td>43.753177</td>\n      <td>-79.490821</td>\n      <td>650.0</td>\n      <td>1</td>\n      <td>29958</td>\n      <td>0</td>\n      <td>1</td>\n      <td>1</td>\n      <td>318000</td>\n      <td>0</td>\n      <td>...</td>\n      <td>1</td>\n      <td>0</td>\n      <td>0</td>\n      <td>0</td>\n      <td>0</td>\n      <td>0</td>\n      <td>0</td>\n      <td>York University Heights</td>\n      <td>POINT (-79.49082 43.75318)</td>\n      <td>[Stilecroft Public School]</td>\n    </tr>\n    <tr>\n      <th>...</th>\n      <td>...</td>\n      <td>...</td>\n      <td>...</td>\n      <td>...</td>\n      <td>...</td>\n      <td>...</td>\n      <td>...</td>\n      <td>...</td>\n      <td>...</td>\n      <td>...</td>\n      <td>...</td>\n      <td>...</td>\n      <td>...</td>\n      <td>...</td>\n      <td>...</td>\n      <td>...</td>\n      <td>...</td>\n      <td>...</td>\n      <td>...</td>\n      <td>...</td>\n      <td>...</td>\n    </tr>\n    <tr>\n      <th>15229</th>\n      <td>43.695730</td>\n      <td>-79.456497</td>\n      <td>NaN</td>\n      <td>1</td>\n      <td>34768</td>\n      <td>0</td>\n      <td>2</td>\n      <td>2</td>\n      <td>836500</td>\n      <td>0</td>\n      <td>...</td>\n      <td>0</td>\n      <td>0</td>\n      <td>1</td>\n      <td>0</td>\n      <td>0</td>\n      <td>0</td>\n      <td>0</td>\n      <td>Briar Hill-Belgravia</td>\n      <td>POINT (-79.45650 43.69573)</td>\n      <td>[Fairbank Memorial Community School - Building...</td>\n    </tr>\n    <tr>\n      <th>15230</th>\n      <td>43.696020</td>\n      <td>-79.461606</td>\n      <td>1750.0</td>\n      <td>2</td>\n      <td>34768</td>\n      <td>1</td>\n      <td>3</td>\n      <td>4</td>\n      <td>1210000</td>\n      <td>0</td>\n      <td>...</td>\n      <td>0</td>\n      <td>0</td>\n      <td>1</td>\n      <td>0</td>\n      <td>0</td>\n      <td>0</td>\n      <td>0</td>\n      <td>Briar Hill-Belgravia</td>\n      <td>POINT (-79.46161 43.69602)</td>\n      <td>[Fairbank Memorial Community School - Building...</td>\n    </tr>\n    <tr>\n      <th>15231</th>\n      <td>43.696198</td>\n      <td>-79.456758</td>\n      <td>NaN</td>\n      <td>3</td>\n      <td>34768</td>\n      <td>0</td>\n      <td>2</td>\n      <td>2</td>\n      <td>910000</td>\n      <td>0</td>\n      <td>...</td>\n      <td>0</td>\n      <td>0</td>\n      <td>1</td>\n      <td>0</td>\n      <td>0</td>\n      <td>0</td>\n      <td>0</td>\n      <td>Briar Hill-Belgravia</td>\n      <td>POINT (-79.45676 43.69620)</td>\n      <td>[Fairbank Memorial Community School - Building...</td>\n    </tr>\n    <tr>\n      <th>15232</th>\n      <td>43.696241</td>\n      <td>-79.456321</td>\n      <td>NaN</td>\n      <td>1</td>\n      <td>34768</td>\n      <td>0</td>\n      <td>2</td>\n      <td>2</td>\n      <td>808000</td>\n      <td>0</td>\n      <td>...</td>\n      <td>0</td>\n      <td>0</td>\n      <td>1</td>\n      <td>0</td>\n      <td>0</td>\n      <td>0</td>\n      <td>0</td>\n      <td>Briar Hill-Belgravia</td>\n      <td>POINT (-79.45632 43.69624)</td>\n      <td>[Fairbank Memorial Community School - Building...</td>\n    </tr>\n    <tr>\n      <th>15233</th>\n      <td>43.696445</td>\n      <td>-79.461848</td>\n      <td>900.0</td>\n      <td>0</td>\n      <td>34768</td>\n      <td>0</td>\n      <td>2</td>\n      <td>1</td>\n      <td>625500</td>\n      <td>0</td>\n      <td>...</td>\n      <td>0</td>\n      <td>0</td>\n      <td>1</td>\n      <td>0</td>\n      <td>0</td>\n      <td>0</td>\n      <td>0</td>\n      <td>Briar Hill-Belgravia</td>\n      <td>POINT (-79.46185 43.69644)</td>\n      <td>[Fairbank Memorial Community School - Building...</td>\n    </tr>\n  </tbody>\n</table>\n<p>15234 rows × 23 columns</p>\n</div>"
     },
     "metadata": {},
     "execution_count": 34
    }
   ],
   "source": [
    "from shapely.ops import nearest_points\n",
    "pts3 = gpf_school.geometry.unary_union\n",
    "def near(point, pts=pts3):\n",
    "     # find the nearest point and return the corresponding Place value\n",
    "     nearest = gpf_school.geometry == nearest_points(point, pts)[1]\n",
    "     return gpf_school[nearest].PLACE_NAME.values[0]\n",
    "gpf_house['Nearest'] = gpf_house.apply(lambda row: near(row.geometry), axis=1)\n",
    "gpf_house"
   ]
  },
  {
   "cell_type": "code",
   "execution_count": 38,
   "metadata": {},
   "outputs": [
    {
     "output_type": "execute_result",
     "data": {
      "text/plain": [
       "lat                           0\n",
       "long                          0\n",
       "sqft                       4521\n",
       "parking                       0\n",
       "mean_district_income          0\n",
       "bedrooms_bg                   0\n",
       "bedrooms_ag                   0\n",
       "bathrooms                     0\n",
       "final_price                   0\n",
       "type_Att/Row/Twnhouse         0\n",
       "type_Co-Op Apt                0\n",
       "type_Co-Ownership Apt         0\n",
       "type_Comm Element Condo       0\n",
       "type_Condo Apt                0\n",
       "type_Condo Townhouse          0\n",
       "type_Detached                 0\n",
       "type_Link                     0\n",
       "type_Plex                     0\n",
       "type_Semi-Detached            0\n",
       "type_Store W/Apt/Offc         0\n",
       "neighbourhood                 0\n",
       "geometry                      0\n",
       "Nearest                       0\n",
       "dtype: int64"
      ]
     },
     "metadata": {},
     "execution_count": 38
    }
   ],
   "source": [
    "gpf_house.isna().sum()"
   ]
  },
  {
   "cell_type": "code",
   "execution_count": 41,
   "metadata": {},
   "outputs": [
    {
     "output_type": "execute_result",
     "data": {
      "text/plain": [
       "<bound method IndexOpsMixin.value_counts of 0                                [Lamberton Public School]\n",
       "1                               [Stilecroft Public School]\n",
       "2                               [Stilecroft Public School]\n",
       "3                               [Stilecroft Public School]\n",
       "4                               [Stilecroft Public School]\n",
       "                               ...                        \n",
       "15229    [Fairbank Memorial Community School - Building...\n",
       "15230    [Fairbank Memorial Community School - Building...\n",
       "15231    [Fairbank Memorial Community School - Building...\n",
       "15232    [Fairbank Memorial Community School - Building...\n",
       "15233    [Fairbank Memorial Community School - Building...\n",
       "Name: Nearest, Length: 15234, dtype: object>"
      ]
     },
     "metadata": {},
     "execution_count": 41
    }
   ],
   "source": [
    "gpf_house.Nearest.value_counts"
   ]
  },
  {
   "cell_type": "code",
   "execution_count": null,
   "metadata": {},
   "outputs": [],
   "source": []
  }
 ]
}