{
 "metadata": {
  "language_info": {
   "codemirror_mode": {
    "name": "ipython",
    "version": 3
   },
   "file_extension": ".py",
   "mimetype": "text/x-python",
   "name": "python",
   "nbconvert_exporter": "python",
   "pygments_lexer": "ipython3",
   "version": "3.8.5-final"
  },
  "orig_nbformat": 2,
  "kernelspec": {
   "name": "python3",
   "display_name": "Python 3",
   "language": "python"
  }
 },
 "nbformat": 4,
 "nbformat_minor": 2,
 "cells": [
  {
   "cell_type": "code",
   "execution_count": 1,
   "metadata": {},
   "outputs": [],
   "source": [
    "import pandas as pd \n",
    "import geopandas as gp\n",
    "from shapely.ops import nearest_points\n",
    "from shapely.geometry import Point\n",
    "import numpy as np\n",
    "from scipy.spatial import cKDTree"
   ]
  },
  {
   "cell_type": "code",
   "execution_count": 2,
   "metadata": {},
   "outputs": [],
   "source": [
    "path = r'/home/semipro321/Documents/Workspace/Geospatial-Analysis-on-House-Price-Prediction/Inputs/'"
   ]
  },
  {
   "cell_type": "code",
   "execution_count": 3,
   "metadata": {},
   "outputs": [],
   "source": [
    "df_house = pd.read_csv(path + 'House/house_with_neigh.csv')\n",
    "df_school = pd.read_csv(path + 'City/Schools_with_neigh.csv')\n",
    "gpf_house = gp.GeoDataFrame(df_house, crs=\"EPSG:4326\", geometry=gp.points_from_xy(df_house.long,df_house.lat))\n",
    "gpf_school= gp.GeoDataFrame(df_school, crs=\"EPSG:4326\", geometry=gp.points_from_xy(df_school.LONGITUDE,df_school.LATITUDE))\n"
   ]
  },
  {
   "source": [
    "I think this is wrong"
   ],
   "cell_type": "markdown",
   "metadata": {}
  },
  {
   "cell_type": "code",
   "execution_count": 4,
   "metadata": {
    "tags": []
   },
   "outputs": [],
   "source": [
    "# def near(df, col: [], point, pts):\n",
    "#      '''\n",
    "#      df := pass in the df you want to search\n",
    "#      col := the column you want to return (LISt)\n",
    "#      point := the geometry of left dataset\n",
    "#      pts := union of dataset\n",
    "#      '''\n",
    "#      nearest = df.geometry == nearest_points(point, pts)[1]\n",
    "#      return df[nearest][col].values[0]\n",
    "\n",
    "\n",
    "# nearestschools = gpf_house.apply(lambda row: near(gpf_school, ['_id', 'NAME'], row.geometry, gpf_school.geometry.unary_union), axis=1)"
   ]
  },
  {
   "cell_type": "code",
   "execution_count": 5,
   "metadata": {},
   "outputs": [],
   "source": [
    "def ckdnearest(gdA, gdB, distcol):\n",
    "    gdA['geometry'] = gdA.geometry.to_crs('EPSG:5234')\n",
    "    gdB['geometry'] = gdB.geometry.to_crs('EPSG:5234')\n",
    "\n",
    "    nA = np.array(list(gdA.geometry.apply(lambda x: (x.x, x.y))))\n",
    "    nB = np.array(list(gdB.geometry.apply(lambda x: (x.x, x.y))))\n",
    "    btree = cKDTree(nB)\n",
    "    dist, idx = btree.query(nA, k=1)\n",
    "    #If you want other features from B\n",
    "    #gdB_nearest = gdB.iloc[idx].drop(columns=\"geometry\").reset_index(drop=True)\n",
    "    gdf = pd.concat(\n",
    "        [\n",
    "            gdA.reset_index(drop=True),\n",
    "            #If you want other features from B\n",
    "            #gdB_nearest,\n",
    "            pd.Series(dist, name=distcol)\n",
    "        ], \n",
    "        axis=1)\n",
    "\n",
    "    return gdf"
   ]
  },
  {
   "cell_type": "code",
   "execution_count": 6,
   "metadata": {},
   "outputs": [],
   "source": [
    "# def calcdistance(origindf, destdf):\n",
    "#     origindf = origindf['geometry'].to_crs('EPSG:5234')\n",
    "#     destdf = destdf['geometry'].to_crs('EPSG:5234')\n",
    "#     return origindf.distance(destdf)\n",
    "# gpf_house['distance_nearest_school'] = calcdistance(gpf_house, mergegp)"
   ]
  },
  {
   "cell_type": "code",
   "execution_count": 7,
   "metadata": {},
   "outputs": [],
   "source": [
    "gpf_house = ckdnearest(gpf_house, gpf_school, 'dist_nearest_school' )"
   ]
  },
  {
   "cell_type": "code",
   "execution_count": 8,
   "metadata": {},
   "outputs": [
    {
     "output_type": "execute_result",
     "data": {
      "text/plain": [
       "             lat       long    sqft  parking  mean_district_income  \\\n",
       "0      43.661896 -79.385748   850.0        1                 56526   \n",
       "1      43.646982 -79.530356     NaN        6                 52787   \n",
       "2      43.708472 -79.397498   550.0        0                 57039   \n",
       "3      43.638399 -79.414448   650.0        1                 70623   \n",
       "4      43.597096 -79.509612     NaN        1                 44101   \n",
       "...          ...        ...     ...      ...                   ...   \n",
       "15229  43.648317 -79.393065   750.0        1                 70600   \n",
       "15230  43.706338 -79.262789  3250.0        2                 36232   \n",
       "15231  43.788258 -79.160342     NaN        1                 54045   \n",
       "15232  43.660846 -79.378756   550.0        0                 53583   \n",
       "15233  43.691296 -79.268417     NaN        4                 54360   \n",
       "\n",
       "       bedrooms_bg  bedrooms_ag  bathrooms  final_price  \\\n",
       "0                1            2          2       855000   \n",
       "1                0            3          2       885000   \n",
       "2                0            1          1       550000   \n",
       "3                1            1          1       665000   \n",
       "4                0            2          2       825513   \n",
       "...            ...          ...        ...          ...   \n",
       "15229            0            2          2       785000   \n",
       "15230            0            5          5      1025000   \n",
       "15231            0            3          3       681000   \n",
       "15232            0            1          1       590000   \n",
       "15233            1            2          2       530000   \n",
       "\n",
       "       type_Att/Row/Twnhouse  ...  type_Condo Apt  type_Condo Townhouse  \\\n",
       "0                          0  ...               1                     0   \n",
       "1                          0  ...               0                     0   \n",
       "2                          0  ...               1                     0   \n",
       "3                          0  ...               1                     0   \n",
       "4                          0  ...               0                     0   \n",
       "...                      ...  ...             ...                   ...   \n",
       "15229                      0  ...               1                     0   \n",
       "15230                      0  ...               0                     0   \n",
       "15231                      1  ...               0                     0   \n",
       "15232                      0  ...               1                     0   \n",
       "15233                      0  ...               0                     0   \n",
       "\n",
       "       type_Detached  type_Link  type_Plex  type_Semi-Detached  \\\n",
       "0                  0          0          0                   0   \n",
       "1                  0          0          0                   1   \n",
       "2                  0          0          0                   0   \n",
       "3                  0          0          0                   0   \n",
       "4                  1          0          0                   0   \n",
       "...              ...        ...        ...                 ...   \n",
       "15229              0          0          0                   0   \n",
       "15230              1          0          0                   0   \n",
       "15231              0          0          0                   0   \n",
       "15232              0          0          0                   0   \n",
       "15233              1          0          0                   0   \n",
       "\n",
       "       type_Store W/Apt/Offc                           geometry  \\\n",
       "0                          0  POINT (-1401264.376 14395931.334)   \n",
       "1                          0  POINT (-1390000.672 14400486.857)   \n",
       "2                          0  POINT (-1399025.711 14390988.757)   \n",
       "3                          0  POINT (-1399597.365 14399120.898)   \n",
       "4                          0  POINT (-1393047.587 14405620.198)   \n",
       "...                      ...                                ...   \n",
       "15229                      0  POINT (-1401049.699 14397588.393)   \n",
       "15230                      0  POINT (-1409950.195 14388508.316)   \n",
       "15231                      0  POINT (-1415912.440 14377320.780)   \n",
       "15232                      0  POINT (-1401857.924 14395907.377)   \n",
       "15233                      0  POINT (-1409915.951 14390294.771)   \n",
       "\n",
       "                           neighbourhood  dist_nearest_school  \n",
       "0                    Bay Street Corridor           211.820254  \n",
       "1             Islington-City Centre West           208.428213  \n",
       "2                    Mount Pleasant West           164.834991  \n",
       "3                                Niagara           817.632077  \n",
       "4                            New Toronto           256.452172  \n",
       "...                                  ...                  ...  \n",
       "15229  Waterfront Communities-The Island           259.294262  \n",
       "15230                Clairlea-Birchmount           373.825744  \n",
       "15231             Centennial Scarborough          4046.387302  \n",
       "15232              Church-Yonge Corridor           108.606713  \n",
       "15233              Birchcliffe-Cliffside           249.890406  \n",
       "\n",
       "[15234 rows x 23 columns]"
      ],
      "text/html": "<div>\n<style scoped>\n    .dataframe tbody tr th:only-of-type {\n        vertical-align: middle;\n    }\n\n    .dataframe tbody tr th {\n        vertical-align: top;\n    }\n\n    .dataframe thead th {\n        text-align: right;\n    }\n</style>\n<table border=\"1\" class=\"dataframe\">\n  <thead>\n    <tr style=\"text-align: right;\">\n      <th></th>\n      <th>lat</th>\n      <th>long</th>\n      <th>sqft</th>\n      <th>parking</th>\n      <th>mean_district_income</th>\n      <th>bedrooms_bg</th>\n      <th>bedrooms_ag</th>\n      <th>bathrooms</th>\n      <th>final_price</th>\n      <th>type_Att/Row/Twnhouse</th>\n      <th>...</th>\n      <th>type_Condo Apt</th>\n      <th>type_Condo Townhouse</th>\n      <th>type_Detached</th>\n      <th>type_Link</th>\n      <th>type_Plex</th>\n      <th>type_Semi-Detached</th>\n      <th>type_Store W/Apt/Offc</th>\n      <th>geometry</th>\n      <th>neighbourhood</th>\n      <th>dist_nearest_school</th>\n    </tr>\n  </thead>\n  <tbody>\n    <tr>\n      <th>0</th>\n      <td>43.661896</td>\n      <td>-79.385748</td>\n      <td>850.0</td>\n      <td>1</td>\n      <td>56526</td>\n      <td>1</td>\n      <td>2</td>\n      <td>2</td>\n      <td>855000</td>\n      <td>0</td>\n      <td>...</td>\n      <td>1</td>\n      <td>0</td>\n      <td>0</td>\n      <td>0</td>\n      <td>0</td>\n      <td>0</td>\n      <td>0</td>\n      <td>POINT (-1401264.376 14395931.334)</td>\n      <td>Bay Street Corridor</td>\n      <td>211.820254</td>\n    </tr>\n    <tr>\n      <th>1</th>\n      <td>43.646982</td>\n      <td>-79.530356</td>\n      <td>NaN</td>\n      <td>6</td>\n      <td>52787</td>\n      <td>0</td>\n      <td>3</td>\n      <td>2</td>\n      <td>885000</td>\n      <td>0</td>\n      <td>...</td>\n      <td>0</td>\n      <td>0</td>\n      <td>0</td>\n      <td>0</td>\n      <td>0</td>\n      <td>1</td>\n      <td>0</td>\n      <td>POINT (-1390000.672 14400486.857)</td>\n      <td>Islington-City Centre West</td>\n      <td>208.428213</td>\n    </tr>\n    <tr>\n      <th>2</th>\n      <td>43.708472</td>\n      <td>-79.397498</td>\n      <td>550.0</td>\n      <td>0</td>\n      <td>57039</td>\n      <td>0</td>\n      <td>1</td>\n      <td>1</td>\n      <td>550000</td>\n      <td>0</td>\n      <td>...</td>\n      <td>1</td>\n      <td>0</td>\n      <td>0</td>\n      <td>0</td>\n      <td>0</td>\n      <td>0</td>\n      <td>0</td>\n      <td>POINT (-1399025.711 14390988.757)</td>\n      <td>Mount Pleasant West</td>\n      <td>164.834991</td>\n    </tr>\n    <tr>\n      <th>3</th>\n      <td>43.638399</td>\n      <td>-79.414448</td>\n      <td>650.0</td>\n      <td>1</td>\n      <td>70623</td>\n      <td>1</td>\n      <td>1</td>\n      <td>1</td>\n      <td>665000</td>\n      <td>0</td>\n      <td>...</td>\n      <td>1</td>\n      <td>0</td>\n      <td>0</td>\n      <td>0</td>\n      <td>0</td>\n      <td>0</td>\n      <td>0</td>\n      <td>POINT (-1399597.365 14399120.898)</td>\n      <td>Niagara</td>\n      <td>817.632077</td>\n    </tr>\n    <tr>\n      <th>4</th>\n      <td>43.597096</td>\n      <td>-79.509612</td>\n      <td>NaN</td>\n      <td>1</td>\n      <td>44101</td>\n      <td>0</td>\n      <td>2</td>\n      <td>2</td>\n      <td>825513</td>\n      <td>0</td>\n      <td>...</td>\n      <td>0</td>\n      <td>0</td>\n      <td>1</td>\n      <td>0</td>\n      <td>0</td>\n      <td>0</td>\n      <td>0</td>\n      <td>POINT (-1393047.587 14405620.198)</td>\n      <td>New Toronto</td>\n      <td>256.452172</td>\n    </tr>\n    <tr>\n      <th>...</th>\n      <td>...</td>\n      <td>...</td>\n      <td>...</td>\n      <td>...</td>\n      <td>...</td>\n      <td>...</td>\n      <td>...</td>\n      <td>...</td>\n      <td>...</td>\n      <td>...</td>\n      <td>...</td>\n      <td>...</td>\n      <td>...</td>\n      <td>...</td>\n      <td>...</td>\n      <td>...</td>\n      <td>...</td>\n      <td>...</td>\n      <td>...</td>\n      <td>...</td>\n      <td>...</td>\n    </tr>\n    <tr>\n      <th>15229</th>\n      <td>43.648317</td>\n      <td>-79.393065</td>\n      <td>750.0</td>\n      <td>1</td>\n      <td>70600</td>\n      <td>0</td>\n      <td>2</td>\n      <td>2</td>\n      <td>785000</td>\n      <td>0</td>\n      <td>...</td>\n      <td>1</td>\n      <td>0</td>\n      <td>0</td>\n      <td>0</td>\n      <td>0</td>\n      <td>0</td>\n      <td>0</td>\n      <td>POINT (-1401049.699 14397588.393)</td>\n      <td>Waterfront Communities-The Island</td>\n      <td>259.294262</td>\n    </tr>\n    <tr>\n      <th>15230</th>\n      <td>43.706338</td>\n      <td>-79.262789</td>\n      <td>3250.0</td>\n      <td>2</td>\n      <td>36232</td>\n      <td>0</td>\n      <td>5</td>\n      <td>5</td>\n      <td>1025000</td>\n      <td>0</td>\n      <td>...</td>\n      <td>0</td>\n      <td>0</td>\n      <td>1</td>\n      <td>0</td>\n      <td>0</td>\n      <td>0</td>\n      <td>0</td>\n      <td>POINT (-1409950.195 14388508.316)</td>\n      <td>Clairlea-Birchmount</td>\n      <td>373.825744</td>\n    </tr>\n    <tr>\n      <th>15231</th>\n      <td>43.788258</td>\n      <td>-79.160342</td>\n      <td>NaN</td>\n      <td>1</td>\n      <td>54045</td>\n      <td>0</td>\n      <td>3</td>\n      <td>3</td>\n      <td>681000</td>\n      <td>1</td>\n      <td>...</td>\n      <td>0</td>\n      <td>0</td>\n      <td>0</td>\n      <td>0</td>\n      <td>0</td>\n      <td>0</td>\n      <td>0</td>\n      <td>POINT (-1415912.440 14377320.780)</td>\n      <td>Centennial Scarborough</td>\n      <td>4046.387302</td>\n    </tr>\n    <tr>\n      <th>15232</th>\n      <td>43.660846</td>\n      <td>-79.378756</td>\n      <td>550.0</td>\n      <td>0</td>\n      <td>53583</td>\n      <td>0</td>\n      <td>1</td>\n      <td>1</td>\n      <td>590000</td>\n      <td>0</td>\n      <td>...</td>\n      <td>1</td>\n      <td>0</td>\n      <td>0</td>\n      <td>0</td>\n      <td>0</td>\n      <td>0</td>\n      <td>0</td>\n      <td>POINT (-1401857.924 14395907.377)</td>\n      <td>Church-Yonge Corridor</td>\n      <td>108.606713</td>\n    </tr>\n    <tr>\n      <th>15233</th>\n      <td>43.691296</td>\n      <td>-79.268417</td>\n      <td>NaN</td>\n      <td>4</td>\n      <td>54360</td>\n      <td>1</td>\n      <td>2</td>\n      <td>2</td>\n      <td>530000</td>\n      <td>0</td>\n      <td>...</td>\n      <td>0</td>\n      <td>0</td>\n      <td>1</td>\n      <td>0</td>\n      <td>0</td>\n      <td>0</td>\n      <td>0</td>\n      <td>POINT (-1409915.951 14390294.771)</td>\n      <td>Birchcliffe-Cliffside</td>\n      <td>249.890406</td>\n    </tr>\n  </tbody>\n</table>\n<p>15234 rows × 23 columns</p>\n</div>"
     },
     "metadata": {},
     "execution_count": 8
    }
   ],
   "source": [
    "gpf_house"
   ]
  },
  {
   "cell_type": "code",
   "execution_count": 9,
   "metadata": {},
   "outputs": [],
   "source": [
    "df_ttc = pd.read_csv(path + 'Transit/Stops.csv')\n",
    "gpf_ttc = gp.GeoDataFrame(df_ttc, crs=\"EPSG:4326\", geometry=gp.points_from_xy(df_ttc.stop_lon,df_ttc.stop_lat))\n",
    "gpf_house = ckdnearest(gpf_house, gpf_ttc, 'dist_nearest_ttc')"
   ]
  },
  {
   "cell_type": "code",
   "execution_count": 10,
   "metadata": {},
   "outputs": [],
   "source": [
    "# nearestttc = gpf_house.apply(lambda row: near(gpf_ttc, ['stop_id'], row.geometry, gpf_ttc.geometry.unary_union), axis=1)\n",
    "# nearestttc = nearestttc.apply(pd.Series)\n",
    "# nearestttc.columns = ['stop_id']\n",
    "# mergegpttc = gpf_ttc.merge(nearestttc, on='stop_id', how='right')"
   ]
  },
  {
   "cell_type": "code",
   "execution_count": 11,
   "metadata": {},
   "outputs": [
    {
     "output_type": "execute_result",
     "data": {
      "text/plain": [
       "             lat       long    sqft  parking  mean_district_income  \\\n",
       "0      43.661896 -79.385748   850.0        1                 56526   \n",
       "1      43.646982 -79.530356     NaN        6                 52787   \n",
       "2      43.708472 -79.397498   550.0        0                 57039   \n",
       "3      43.638399 -79.414448   650.0        1                 70623   \n",
       "4      43.597096 -79.509612     NaN        1                 44101   \n",
       "...          ...        ...     ...      ...                   ...   \n",
       "15229  43.648317 -79.393065   750.0        1                 70600   \n",
       "15230  43.706338 -79.262789  3250.0        2                 36232   \n",
       "15231  43.788258 -79.160342     NaN        1                 54045   \n",
       "15232  43.660846 -79.378756   550.0        0                 53583   \n",
       "15233  43.691296 -79.268417     NaN        4                 54360   \n",
       "\n",
       "       bedrooms_bg  bedrooms_ag  bathrooms  final_price  \\\n",
       "0                1            2          2       855000   \n",
       "1                0            3          2       885000   \n",
       "2                0            1          1       550000   \n",
       "3                1            1          1       665000   \n",
       "4                0            2          2       825513   \n",
       "...            ...          ...        ...          ...   \n",
       "15229            0            2          2       785000   \n",
       "15230            0            5          5      1025000   \n",
       "15231            0            3          3       681000   \n",
       "15232            0            1          1       590000   \n",
       "15233            1            2          2       530000   \n",
       "\n",
       "       type_Att/Row/Twnhouse  ...  type_Condo Townhouse  type_Detached  \\\n",
       "0                          0  ...                     0              0   \n",
       "1                          0  ...                     0              0   \n",
       "2                          0  ...                     0              0   \n",
       "3                          0  ...                     0              0   \n",
       "4                          0  ...                     0              1   \n",
       "...                      ...  ...                   ...            ...   \n",
       "15229                      0  ...                     0              0   \n",
       "15230                      0  ...                     0              1   \n",
       "15231                      1  ...                     0              0   \n",
       "15232                      0  ...                     0              0   \n",
       "15233                      0  ...                     0              1   \n",
       "\n",
       "       type_Link  type_Plex  type_Semi-Detached  type_Store W/Apt/Offc  \\\n",
       "0              0          0                   0                      0   \n",
       "1              0          0                   1                      0   \n",
       "2              0          0                   0                      0   \n",
       "3              0          0                   0                      0   \n",
       "4              0          0                   0                      0   \n",
       "...          ...        ...                 ...                    ...   \n",
       "15229          0          0                   0                      0   \n",
       "15230          0          0                   0                      0   \n",
       "15231          0          0                   0                      0   \n",
       "15232          0          0                   0                      0   \n",
       "15233          0          0                   0                      0   \n",
       "\n",
       "                                geometry                      neighbourhood  \\\n",
       "0      POINT (-1401264.376 14395931.334)                Bay Street Corridor   \n",
       "1      POINT (-1390000.672 14400486.857)         Islington-City Centre West   \n",
       "2      POINT (-1399025.711 14390988.757)                Mount Pleasant West   \n",
       "3      POINT (-1399597.365 14399120.898)                            Niagara   \n",
       "4      POINT (-1393047.587 14405620.198)                        New Toronto   \n",
       "...                                  ...                                ...   \n",
       "15229  POINT (-1401049.699 14397588.393)  Waterfront Communities-The Island   \n",
       "15230  POINT (-1409950.195 14388508.316)                Clairlea-Birchmount   \n",
       "15231  POINT (-1415912.440 14377320.780)             Centennial Scarborough   \n",
       "15232  POINT (-1401857.924 14395907.377)              Church-Yonge Corridor   \n",
       "15233  POINT (-1409915.951 14390294.771)              Birchcliffe-Cliffside   \n",
       "\n",
       "       dist_nearest_school  dist_nearest_ttc  \n",
       "0               211.820254       1961.183353  \n",
       "1               208.428213       1250.003079  \n",
       "2               164.834991       4260.161880  \n",
       "3               817.632077        495.583676  \n",
       "4               256.452172       2422.597469  \n",
       "...                    ...               ...  \n",
       "15229           259.294262       1097.259214  \n",
       "15230           373.825744       1388.667688  \n",
       "15231          4046.387302       5718.565912  \n",
       "15232           108.606713       1800.128917  \n",
       "15233           249.890406       2714.019943  \n",
       "\n",
       "[15234 rows x 24 columns]"
      ],
      "text/html": "<div>\n<style scoped>\n    .dataframe tbody tr th:only-of-type {\n        vertical-align: middle;\n    }\n\n    .dataframe tbody tr th {\n        vertical-align: top;\n    }\n\n    .dataframe thead th {\n        text-align: right;\n    }\n</style>\n<table border=\"1\" class=\"dataframe\">\n  <thead>\n    <tr style=\"text-align: right;\">\n      <th></th>\n      <th>lat</th>\n      <th>long</th>\n      <th>sqft</th>\n      <th>parking</th>\n      <th>mean_district_income</th>\n      <th>bedrooms_bg</th>\n      <th>bedrooms_ag</th>\n      <th>bathrooms</th>\n      <th>final_price</th>\n      <th>type_Att/Row/Twnhouse</th>\n      <th>...</th>\n      <th>type_Condo Townhouse</th>\n      <th>type_Detached</th>\n      <th>type_Link</th>\n      <th>type_Plex</th>\n      <th>type_Semi-Detached</th>\n      <th>type_Store W/Apt/Offc</th>\n      <th>geometry</th>\n      <th>neighbourhood</th>\n      <th>dist_nearest_school</th>\n      <th>dist_nearest_ttc</th>\n    </tr>\n  </thead>\n  <tbody>\n    <tr>\n      <th>0</th>\n      <td>43.661896</td>\n      <td>-79.385748</td>\n      <td>850.0</td>\n      <td>1</td>\n      <td>56526</td>\n      <td>1</td>\n      <td>2</td>\n      <td>2</td>\n      <td>855000</td>\n      <td>0</td>\n      <td>...</td>\n      <td>0</td>\n      <td>0</td>\n      <td>0</td>\n      <td>0</td>\n      <td>0</td>\n      <td>0</td>\n      <td>POINT (-1401264.376 14395931.334)</td>\n      <td>Bay Street Corridor</td>\n      <td>211.820254</td>\n      <td>1961.183353</td>\n    </tr>\n    <tr>\n      <th>1</th>\n      <td>43.646982</td>\n      <td>-79.530356</td>\n      <td>NaN</td>\n      <td>6</td>\n      <td>52787</td>\n      <td>0</td>\n      <td>3</td>\n      <td>2</td>\n      <td>885000</td>\n      <td>0</td>\n      <td>...</td>\n      <td>0</td>\n      <td>0</td>\n      <td>0</td>\n      <td>0</td>\n      <td>1</td>\n      <td>0</td>\n      <td>POINT (-1390000.672 14400486.857)</td>\n      <td>Islington-City Centre West</td>\n      <td>208.428213</td>\n      <td>1250.003079</td>\n    </tr>\n    <tr>\n      <th>2</th>\n      <td>43.708472</td>\n      <td>-79.397498</td>\n      <td>550.0</td>\n      <td>0</td>\n      <td>57039</td>\n      <td>0</td>\n      <td>1</td>\n      <td>1</td>\n      <td>550000</td>\n      <td>0</td>\n      <td>...</td>\n      <td>0</td>\n      <td>0</td>\n      <td>0</td>\n      <td>0</td>\n      <td>0</td>\n      <td>0</td>\n      <td>POINT (-1399025.711 14390988.757)</td>\n      <td>Mount Pleasant West</td>\n      <td>164.834991</td>\n      <td>4260.161880</td>\n    </tr>\n    <tr>\n      <th>3</th>\n      <td>43.638399</td>\n      <td>-79.414448</td>\n      <td>650.0</td>\n      <td>1</td>\n      <td>70623</td>\n      <td>1</td>\n      <td>1</td>\n      <td>1</td>\n      <td>665000</td>\n      <td>0</td>\n      <td>...</td>\n      <td>0</td>\n      <td>0</td>\n      <td>0</td>\n      <td>0</td>\n      <td>0</td>\n      <td>0</td>\n      <td>POINT (-1399597.365 14399120.898)</td>\n      <td>Niagara</td>\n      <td>817.632077</td>\n      <td>495.583676</td>\n    </tr>\n    <tr>\n      <th>4</th>\n      <td>43.597096</td>\n      <td>-79.509612</td>\n      <td>NaN</td>\n      <td>1</td>\n      <td>44101</td>\n      <td>0</td>\n      <td>2</td>\n      <td>2</td>\n      <td>825513</td>\n      <td>0</td>\n      <td>...</td>\n      <td>0</td>\n      <td>1</td>\n      <td>0</td>\n      <td>0</td>\n      <td>0</td>\n      <td>0</td>\n      <td>POINT (-1393047.587 14405620.198)</td>\n      <td>New Toronto</td>\n      <td>256.452172</td>\n      <td>2422.597469</td>\n    </tr>\n    <tr>\n      <th>...</th>\n      <td>...</td>\n      <td>...</td>\n      <td>...</td>\n      <td>...</td>\n      <td>...</td>\n      <td>...</td>\n      <td>...</td>\n      <td>...</td>\n      <td>...</td>\n      <td>...</td>\n      <td>...</td>\n      <td>...</td>\n      <td>...</td>\n      <td>...</td>\n      <td>...</td>\n      <td>...</td>\n      <td>...</td>\n      <td>...</td>\n      <td>...</td>\n      <td>...</td>\n      <td>...</td>\n    </tr>\n    <tr>\n      <th>15229</th>\n      <td>43.648317</td>\n      <td>-79.393065</td>\n      <td>750.0</td>\n      <td>1</td>\n      <td>70600</td>\n      <td>0</td>\n      <td>2</td>\n      <td>2</td>\n      <td>785000</td>\n      <td>0</td>\n      <td>...</td>\n      <td>0</td>\n      <td>0</td>\n      <td>0</td>\n      <td>0</td>\n      <td>0</td>\n      <td>0</td>\n      <td>POINT (-1401049.699 14397588.393)</td>\n      <td>Waterfront Communities-The Island</td>\n      <td>259.294262</td>\n      <td>1097.259214</td>\n    </tr>\n    <tr>\n      <th>15230</th>\n      <td>43.706338</td>\n      <td>-79.262789</td>\n      <td>3250.0</td>\n      <td>2</td>\n      <td>36232</td>\n      <td>0</td>\n      <td>5</td>\n      <td>5</td>\n      <td>1025000</td>\n      <td>0</td>\n      <td>...</td>\n      <td>0</td>\n      <td>1</td>\n      <td>0</td>\n      <td>0</td>\n      <td>0</td>\n      <td>0</td>\n      <td>POINT (-1409950.195 14388508.316)</td>\n      <td>Clairlea-Birchmount</td>\n      <td>373.825744</td>\n      <td>1388.667688</td>\n    </tr>\n    <tr>\n      <th>15231</th>\n      <td>43.788258</td>\n      <td>-79.160342</td>\n      <td>NaN</td>\n      <td>1</td>\n      <td>54045</td>\n      <td>0</td>\n      <td>3</td>\n      <td>3</td>\n      <td>681000</td>\n      <td>1</td>\n      <td>...</td>\n      <td>0</td>\n      <td>0</td>\n      <td>0</td>\n      <td>0</td>\n      <td>0</td>\n      <td>0</td>\n      <td>POINT (-1415912.440 14377320.780)</td>\n      <td>Centennial Scarborough</td>\n      <td>4046.387302</td>\n      <td>5718.565912</td>\n    </tr>\n    <tr>\n      <th>15232</th>\n      <td>43.660846</td>\n      <td>-79.378756</td>\n      <td>550.0</td>\n      <td>0</td>\n      <td>53583</td>\n      <td>0</td>\n      <td>1</td>\n      <td>1</td>\n      <td>590000</td>\n      <td>0</td>\n      <td>...</td>\n      <td>0</td>\n      <td>0</td>\n      <td>0</td>\n      <td>0</td>\n      <td>0</td>\n      <td>0</td>\n      <td>POINT (-1401857.924 14395907.377)</td>\n      <td>Church-Yonge Corridor</td>\n      <td>108.606713</td>\n      <td>1800.128917</td>\n    </tr>\n    <tr>\n      <th>15233</th>\n      <td>43.691296</td>\n      <td>-79.268417</td>\n      <td>NaN</td>\n      <td>4</td>\n      <td>54360</td>\n      <td>1</td>\n      <td>2</td>\n      <td>2</td>\n      <td>530000</td>\n      <td>0</td>\n      <td>...</td>\n      <td>0</td>\n      <td>1</td>\n      <td>0</td>\n      <td>0</td>\n      <td>0</td>\n      <td>0</td>\n      <td>POINT (-1409915.951 14390294.771)</td>\n      <td>Birchcliffe-Cliffside</td>\n      <td>249.890406</td>\n      <td>2714.019943</td>\n    </tr>\n  </tbody>\n</table>\n<p>15234 rows × 24 columns</p>\n</div>"
     },
     "metadata": {},
     "execution_count": 11
    }
   ],
   "source": [
    "gpf_house"
   ]
  },
  {
   "cell_type": "code",
   "execution_count": null,
   "metadata": {},
   "outputs": [],
   "source": []
  }
 ]
}